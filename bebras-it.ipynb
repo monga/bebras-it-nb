{
 "cells": [
  {
   "cell_type": "markdown",
   "metadata": {},
   "source": [
    "# Un'analisi IRT dei quesiti del Bebras italiano\n",
    "\n",
    "L'*Item Response Theory* (IRT) è una tecnica statistica che si propone di stimare l'*abilità* dei soggetti cui viene sottoposto un test composto da una serie di domande (dette *item*). L'abilità è un tratto *latente*, cioè non osservabile direttamente: l'aver risposto correttamente a molte domande può dipendere sia da elevata abilità, che dalla \"facilità\" delle domande. La stima si basa quindi su un *modello matematico* (detto *Item Response Function*) della relazione fra abilità e probabilità di rispondere correttamente alla domanda."
   ]
  },
  {
   "cell_type": "markdown",
   "metadata": {},
   "source": [
    "Il modello usato in questa analisi è una curva *logistica*, la cui forma è regolata da tre parametri $a, b, c$.\n",
    "$$ p_i(\\theta_j) = c_i + \\frac{(1 - c_i)}{1+ e^{-b_i\\cdot(\\theta_j - a_i)}} $$\n",
    "La probabilità $p$ di successo in un *item* $i$ è funzione dell'abilità $\\theta$ del solutore $j$. I tre parametri modellano le caratteristiche dell'*item*:\n",
    "- $a$, detto *difficoltà* dell'item: determina il livello di abilità necessaria per avere il 50% di probabilità di successo;\n",
    "- $b$, detto *differenziazione*: determina quanto influiscono le variazioni di abilità sulla probabilità di successo;\n",
    "- $c$: fissa una probabilità minima di successo per qualsiasi abilità, dovuta per esempio alla possibilità di scegliere casualmente la risposta giusta ($c$ sarà 0 per un *item* a risposta completamente aperta)"
   ]
  },
  {
   "cell_type": "code",
   "execution_count": null,
   "metadata": {
    "collapsed": true
   },
   "outputs": [],
   "source": [
    "logistic <- function(theta, a=0, b=1, c=0) { \n",
    "    c + (1-c)/(1 + exp(-b*(theta-a)))\n",
    "}"
   ]
  },
  {
   "cell_type": "code",
   "execution_count": null,
   "metadata": {
    "collapsed": false
   },
   "outputs": [],
   "source": [
    "library(\"ggplot2\")\n",
    "data <- data.frame(x=seq(-5,5,.1))\n",
    "data <- transform(data, \n",
    "                  y_mean = logistic(x), \n",
    "                  y_hard = logistic(x,a=2), \n",
    "                  y_easy=logistic(x,a=-2),\n",
    "                  y_hdiscrimination=logistic(x,b=2),\n",
    "                  y_ldiscrimination=logistic(x,b=.5)\n",
    "                 );\n",
    "\n",
    "options(repr.plot.width=6, repr.plot.height=6)\n",
    "p <- ggplot(data, aes(x=x))\n",
    "p <- p + scale_x_continuous()\n",
    "p <- p + geom_hline(yintercept=0.5, linetype=\"dashed\")\n",
    "p <- p + geom_line(aes(y=y_hard), color=\"red\")\n",
    "p <- p + annotate(\"text\", x=2.1, y=.55, label=\"a == 2 ~~(plain(difficile))\", parse=TRUE, color=\"red\")\n",
    "p <- p + geom_line(aes(y=y_easy), color=\"dark green\")\n",
    "p <- p + annotate(\"text\", x=-1.9, y=.55, label=\"a == -2 ~~(plain(facile))\", parse=TRUE, color=\"dark green\")\n",
    "p <- p + geom_line(aes(y=y_mean), color=\"blue\")\n",
    "p <- p + annotate(\"text\", x=1.5, y=.8, label=\"a == 0 ~~(plain(medio))\", parse=TRUE, color=\"blue\")\n",
    "p <- p + geom_line(aes(y=y_hdiscrimination), color=\"dark cyan\")\n",
    "p <- p + annotate(\"text\", x=1, y=.9, label=\"a == 0 ~~ b == 2\", parse=TRUE, color=\"dark cyan\")\n",
    "p <- p + geom_line(aes(y=y_ldiscrimination), color=\"violet\")\n",
    "p <- p + annotate(\"text\", x=1.8, y=.7, label=\"a == 0 ~~ b == .5\", parse=TRUE, color=\"violet\")\n",
    "p <- p + labs(title=expression(paste(\"Curve logistiche per diversi valori di \", a, \" e \", b, \" (\",c==0,\")\")), \n",
    "              x=\"Abilità\", y=\"Probabilità di successo\")\n",
    "\n",
    "p\n",
    "rm(data, p)"
   ]
  },
  {
   "cell_type": "markdown",
   "metadata": {},
   "source": [
    "A ogni *item* o quiz, quindi, viene associata una specifica curva logistica (la sua *item response function*) che può essere dedotta osservando un campione di risolutori cui è stato sottoposto il test. A questo scopo i parametri relativi ai quiz del Bebras italiano 2015 sono stati stimati con un approccio bayesiano, come descritto in [C. Bellettini et al. *\"How challenging are Bebras tasks? an IRT analysis based on the performance of Italian students\", Proceedings of the 20th annual conference on innovation and technology in computer science education ITiCSE'15* (Vilnius, Lithuania, 2015)](http://dx.doi.org/10.1145/2729094.2742603). I dettagli statistici riguardo la bontà di adattamento del modello sono disponibili [qui](https://mmonga.shinyapps.io/bebrasIT2015)."
   ]
  },
  {
   "cell_type": "markdown",
   "metadata": {},
   "source": [
    "## I quesiti 2015"
   ]
  },
  {
   "cell_type": "code",
   "execution_count": null,
   "metadata": {
    "collapsed": false
   },
   "outputs": [],
   "source": [
    "library(\"rstan\"); rstan_options(auto_write = TRUE); options(mc.cores = parallel::detectCores())\n",
    "load(\"fit.RData\") # carica l'oggetto fit\n",
    "dfit <- as.data.frame(fit)\n",
    "obs <- read_rdump(\"bebras-all.data.R\")\n",
    "source(\"qnames.R\")\n",
    "\n",
    "cats <- c(\"kilo\", \"mega\", \"giga\", \"tera\", \"peta\")\n",
    "categories <- factor(cats, levels=cats, ordered = TRUE)\n",
    "rm(cats)"
   ]
  },
  {
   "cell_type": "markdown",
   "metadata": {},
   "source": [
    "`dfit` è il data frame che raccoglie l'esito della simulazione, con 3394 variabili (3168 *ability*, 75 *discrimination*, 75 *difficulty*, 75 *guessing* e la logprobability) e 2000 campioni. `obs` è la lista dei dati effettivamente osservati, cioè 47520 risposte di 3168 squadre a 75 quiz, con 5 categorie. `qnames` contiene i nomi completi dei quiz, come `'2015_Kilo_A1_HU02_Apparecchiare'`."
   ]
  },
  {
   "cell_type": "code",
   "execution_count": null,
   "metadata": {
    "collapsed": true
   },
   "outputs": [],
   "source": [
    "obs$rcats <- plyr::aaply(obs$rquiz, 1, function (e){ as.character(categories[ ((e - 1) %/% 15) + 1 ]) })"
   ]
  },
  {
   "cell_type": "code",
   "execution_count": null,
   "metadata": {
    "collapsed": false
   },
   "outputs": [],
   "source": [
    "library(\"plyr\")\n",
    "library(\"dplyr\")\n",
    "teams <- data.frame(id = obs$rtaker, category = obs$rcats) %>% distinct()\n",
    "get_par_df <- function(df, par, table) {\n",
    "    df %>% \n",
    "    dplyr::select(contains(par)) %>% \n",
    "    tidyr::gather(key = \"parameter\", value, everything()) %>%\n",
    "    dplyr::mutate(\"id\" = as.numeric(regmatches(parameter, regexpr(\"[0-9]+\",parameter)))) %>%\n",
    "    dplyr::left_join(table, by = \"id\") %>%\n",
    "    transform(category = factor(category, levels=levels(categories), ordered = TRUE))\n",
    "}"
   ]
  },
  {
   "cell_type": "code",
   "execution_count": null,
   "metadata": {
    "collapsed": false
   },
   "outputs": [],
   "source": [
    "team_ability <- get_par_df(dfit, \"ability\", teams)"
   ]
  },
  {
   "cell_type": "markdown",
   "metadata": {},
   "source": [
    "Il modello è tarato in modo che la media delle abilità di tutte le squadre partecipanti sia 0."
   ]
  },
  {
   "cell_type": "code",
   "execution_count": null,
   "metadata": {
    "collapsed": false
   },
   "outputs": [],
   "source": [
    "print(c(summary(team_ability$value), paste(\"StdDev: \", sd(team_ability$value))), quote = FALSE)"
   ]
  },
  {
   "cell_type": "code",
   "execution_count": null,
   "metadata": {
    "collapsed": false
   },
   "outputs": [],
   "source": [
    "team_ability.notes <- ddply(team_ability, .(category), summarise, note=sprintf(\"paste(mu == %s, ' ', sigma == %s)\", \n",
    "                                                                     format(mean(value), digit = 2), \n",
    "                                                                     format(sd(value), digit= 2)))"
   ]
  },
  {
   "cell_type": "code",
   "execution_count": null,
   "metadata": {
    "collapsed": false
   },
   "outputs": [],
   "source": [
    "options(repr.plot.width=10, repr.plot.height=2)\n",
    "p <- ggplot(team_ability, aes(x=value)) \n",
    "p <- p + geom_histogram(binwidth=.2) + coord_cartesian(ylim = c(0,.5))\n",
    "p <- p + aes(y=..density..)\n",
    "p <- p + facet_grid(. ~ category)\n",
    "p <- p + geom_text(data=team_ability.notes, aes(0, 0.4, label=note), size=3, parse = TRUE)\n",
    "p <- p + labs(title=\"Distribuzione dell'abilità dei partecipanti\", \n",
    "              x=\"Abilità\", y=\"Densità\")\n",
    "p"
   ]
  },
  {
   "cell_type": "code",
   "execution_count": null,
   "metadata": {
    "collapsed": false
   },
   "outputs": [],
   "source": [
    "qorder <- plyr::laply(strsplit(qnames, \"_\"), function(e){e[3]})\n",
    "quizzes <- data.frame(id = 1:length(qnames), quiz = qnames, \n",
    "                      category = factor(plyr::laply(strsplit(qnames, \"_\"), function(e){tolower(e[2])}), \n",
    "                                        levels=levels(categories), ordered = TRUE),\n",
    "                      qname = plyr::laply(strsplit(qnames, \"_\"), function(e){e[5]}),\n",
    "                      bebras_id = plyr::laply(strsplit(qnames, \"_\"), function(e){e[4]}),\n",
    "                      ord = factor(qorder, levels=rev(sort(unique(qorder))), ordered = TRUE),\n",
    "                      country = plyr::laply(strsplit(qnames, \"_\"), function(e){substr(e[4],1,2)}),\n",
    "                      block = plyr::laply(strsplit(qnames, \"_\"), function(e){substr(e[3],1,1)}))\n",
    "                      "
   ]
  },
  {
   "cell_type": "code",
   "execution_count": null,
   "metadata": {
    "collapsed": false
   },
   "outputs": [],
   "source": [
    "quiz_difficulty <- get_par_df(dfit, par = \"difficulty\", table = quizzes)                                    "
   ]
  },
  {
   "cell_type": "code",
   "execution_count": null,
   "metadata": {
    "collapsed": false
   },
   "outputs": [],
   "source": [
    "options(repr.plot.width=10, repr.plot.height=10)\n",
    "p <- ggplot(quiz_difficulty, aes(ord, value, fill=category)) \n",
    "p <- p + geom_boxplot(outlier.shape = 1, outlier.size = .5)\n",
    "p <- p + coord_flip() \n",
    "p <- p + labs(title=\"Distribuzione della difficoltà dei quiz\", \n",
    "              x=\"Quiz\", y=\"Difficoltà\")\n",
    "p\n",
    "rm(p)"
   ]
  },
  {
   "cell_type": "code",
   "execution_count": null,
   "metadata": {
    "collapsed": false
   },
   "outputs": [],
   "source": [
    "quiz_discrimination <- get_par_df(dfit, par = \"discrimination\", table = quizzes)"
   ]
  },
  {
   "cell_type": "code",
   "execution_count": null,
   "metadata": {
    "collapsed": false
   },
   "outputs": [],
   "source": [
    "options(repr.plot.width=10, repr.plot.height=10)\n",
    "p <- ggplot(quiz_discrimination, aes(ord, value, fill=category)) \n",
    "p <- p + geom_boxplot(outlier.shape = 1, outlier.size = .5)\n",
    "p <- p + coord_flip() \n",
    "p <- p + labs(title=\"Distribuzione della differenziazione dei quiz\", \n",
    "              x=\"Quiz\", y=\"Differenziazione\")\n",
    "p\n",
    "rm(p)"
   ]
  },
  {
   "cell_type": "code",
   "execution_count": null,
   "metadata": {
    "collapsed": true
   },
   "outputs": [],
   "source": [
    "quiz_guessing <- get_par_df(dfit, par = \"guessing\", table = quizzes)"
   ]
  },
  {
   "cell_type": "markdown",
   "metadata": {
    "collapsed": true
   },
   "source": [
    "##  I singoli quesiti"
   ]
  },
  {
   "cell_type": "markdown",
   "metadata": {},
   "source": [
    "###  2015_Kilo_A1_HU02_Apparecchiare\n",
    "\n",
    "![Apparecchiare](screenshot/kilo01-collage.png)"
   ]
  },
  {
   "cell_type": "code",
   "execution_count": null,
   "metadata": {
    "collapsed": false
   },
   "outputs": [],
   "source": [
    "q <- 'HU02'\n",
    "d <- quiz_difficulty %>% dplyr::filter(bebras_id == q) %>% select(value, category)\n",
    "a <- quiz_discrimination %>% dplyr::filter(bebras_id == q) %>% select(value, category)\n",
    "g <- quiz_guessing %>% dplyr::filter(bebras_id == q) %>% select(value, category)"
   ]
  },
  {
   "cell_type": "markdown",
   "metadata": {},
   "source": [
    "#### Difficoltà"
   ]
  },
  {
   "cell_type": "code",
   "execution_count": null,
   "metadata": {
    "collapsed": false
   },
   "outputs": [],
   "source": [
    "options(repr.plot.width=10, repr.plot.height=2)\n",
    "p <- ggplot(d, aes(x=value))\n",
    "p <- p + geom_histogram(binwidth=0.1*sd(d$value)) \n",
    "p <- p + aes(y=..density..)\n",
    "p <- p + facet_grid(. ~ category)\n",
    "p\n",
    "summary(d$value)"
   ]
  },
  {
   "cell_type": "markdown",
   "metadata": {},
   "source": [
    "#### Differenziazione"
   ]
  },
  {
   "cell_type": "code",
   "execution_count": null,
   "metadata": {
    "collapsed": false
   },
   "outputs": [],
   "source": [
    "options(repr.plot.width=10, repr.plot.height=2)\n",
    "p <- ggplot(a, aes(x=value))\n",
    "p <- p + geom_histogram(binwidth=0.1*sd(a$value)) \n",
    "p <- p + aes(y=..density..)\n",
    "p <- p + facet_grid(. ~ category)\n",
    "p\n",
    "summary(a$value)"
   ]
  },
  {
   "cell_type": "markdown",
   "metadata": {},
   "source": [
    "#### Guessing"
   ]
  },
  {
   "cell_type": "code",
   "execution_count": null,
   "metadata": {
    "collapsed": false
   },
   "outputs": [],
   "source": [
    "options(repr.plot.width=10, repr.plot.height=2)\n",
    "p <- ggplot(g, aes(x=value))\n",
    "p <- p + geom_histogram(binwidth=0.1*sd(g$value)) \n",
    "p <- p + aes(y=..density..)\n",
    "p <- p + facet_grid(. ~ category)\n",
    "p\n",
    "summary(g$value)"
   ]
  },
  {
   "cell_type": "markdown",
   "metadata": {},
   "source": [
    "#### Curva Item-Response"
   ]
  },
  {
   "cell_type": "code",
   "execution_count": null,
   "metadata": {
    "collapsed": false
   },
   "outputs": [],
   "source": [
    "data <- data.frame(x=seq(-5,5,.1))\n",
    "options(repr.plot.width=6, repr.plot.height=6)\n",
    "p <- ggplot(data, aes(x=x))\n",
    "p <- p + scale_x_continuous()\n",
    "p <- p + geom_hline(yintercept=0.5, linetype=\"dashed\")\n",
    "for (i in 1:length(d$value)) {\n",
    "  p <- p + geom_line(aes(y=logistic(x, a=d$value[i], b=a$value[i], c=g$value[i])))\n",
    "}\n",
    "p"
   ]
  },
  {
   "cell_type": "markdown",
   "metadata": {},
   "source": [
    "###  2015_Kilo_A2_TR03_Palloncini\n",
    "\n",
    "![Palloncini](screenshot/kilo02-palloncini.png)"
   ]
  },
  {
   "cell_type": "code",
   "execution_count": null,
   "metadata": {
    "collapsed": false
   },
   "outputs": [],
   "source": [
    "q <- 'TR03'\n",
    "d <- quiz_difficulty %>% dplyr::filter(bebras_id == q) %>% select(value, category)\n",
    "a <- quiz_discrimination %>% dplyr::filter(bebras_id == q) %>% select(value, category)\n",
    "g <- quiz_guessing %>% dplyr::filter(bebras_id == q) %>% select(value, category)"
   ]
  },
  {
   "cell_type": "markdown",
   "metadata": {},
   "source": [
    "#### Difficoltà"
   ]
  },
  {
   "cell_type": "code",
   "execution_count": null,
   "metadata": {
    "collapsed": false
   },
   "outputs": [],
   "source": [
    "options(repr.plot.width=10, repr.plot.height=2)\n",
    "p <- ggplot(d, aes(x=value))\n",
    "p <- p + geom_histogram(binwidth=0.1*sd(d$value)) \n",
    "p <- p + aes(y=..density..)\n",
    "p <- p + facet_grid(. ~ category)\n",
    "p\n",
    "summary(d$value)"
   ]
  },
  {
   "cell_type": "markdown",
   "metadata": {},
   "source": [
    "#### Differenziazione"
   ]
  },
  {
   "cell_type": "code",
   "execution_count": null,
   "metadata": {
    "collapsed": false
   },
   "outputs": [],
   "source": [
    "options(repr.plot.width=10, repr.plot.height=2)\n",
    "p <- ggplot(a, aes(x=value))\n",
    "p <- p + geom_histogram(binwidth=0.1*sd(a$value)) \n",
    "p <- p + aes(y=..density..)\n",
    "p <- p + facet_grid(. ~ category)\n",
    "p\n",
    "summary(a$value)"
   ]
  },
  {
   "cell_type": "markdown",
   "metadata": {},
   "source": [
    "#### Guessing"
   ]
  },
  {
   "cell_type": "code",
   "execution_count": null,
   "metadata": {
    "collapsed": false
   },
   "outputs": [],
   "source": [
    "options(repr.plot.width=10, repr.plot.height=2)\n",
    "p <- ggplot(g, aes(x=value))\n",
    "p <- p + geom_histogram(binwidth=0.1*sd(g$value)) \n",
    "p <- p + aes(y=..density..)\n",
    "p <- p + facet_grid(. ~ category)\n",
    "p\n",
    "summary(g$value)"
   ]
  },
  {
   "cell_type": "markdown",
   "metadata": {},
   "source": [
    "#### Curva Item-Response"
   ]
  },
  {
   "cell_type": "code",
   "execution_count": null,
   "metadata": {
    "collapsed": false
   },
   "outputs": [],
   "source": [
    "data <- data.frame(x=seq(-5,5,.1))\n",
    "options(repr.plot.width=6, repr.plot.height=6)\n",
    "p <- ggplot(data, aes(x=x))\n",
    "p <- p + scale_x_continuous()\n",
    "p <- p + geom_hline(yintercept=0.5, linetype=\"dashed\")\n",
    "for (i in 1:length(d$value)) {\n",
    "  p <- p + geom_line(aes(y=logistic(x, a=d$value[i], b=a$value[i], c=g$value[i])))\n",
    "}\n",
    "p"
   ]
  },
  {
   "cell_type": "markdown",
   "metadata": {},
   "source": [
    "###  2015_Kilo_A3_PL08_Calze\n",
    "\n",
    "![Calze](screenshot/kilo03-calze.png)"
   ]
  },
  {
   "cell_type": "code",
   "execution_count": null,
   "metadata": {
    "collapsed": false
   },
   "outputs": [],
   "source": [
    "q <- 'PL08'\n",
    "d <- quiz_difficulty %>% dplyr::filter(bebras_id == q) %>% select(value, category)\n",
    "a <- quiz_discrimination %>% dplyr::filter(bebras_id == q) %>% select(value, category)\n",
    "g <- quiz_guessing %>% dplyr::filter(bebras_id == q) %>% select(value, category)"
   ]
  },
  {
   "cell_type": "markdown",
   "metadata": {},
   "source": [
    "#### Difficoltà"
   ]
  },
  {
   "cell_type": "code",
   "execution_count": null,
   "metadata": {
    "collapsed": false
   },
   "outputs": [],
   "source": [
    "options(repr.plot.width=10, repr.plot.height=2)\n",
    "p <- ggplot(d, aes(x=value))\n",
    "p <- p + geom_histogram(binwidth=0.1*sd(d$value)) \n",
    "p <- p + aes(y=..density..)\n",
    "p <- p + facet_grid(. ~ category)\n",
    "p\n",
    "summary(d$value)"
   ]
  },
  {
   "cell_type": "markdown",
   "metadata": {},
   "source": [
    "#### Differenziazione"
   ]
  },
  {
   "cell_type": "code",
   "execution_count": null,
   "metadata": {
    "collapsed": false
   },
   "outputs": [],
   "source": [
    "options(repr.plot.width=10, repr.plot.height=2)\n",
    "p <- ggplot(a, aes(x=value))\n",
    "p <- p + geom_histogram(binwidth=0.1*sd(a$value)) \n",
    "p <- p + aes(y=..density..)\n",
    "p <- p + facet_grid(. ~ category)\n",
    "p\n",
    "summary(a$value)"
   ]
  },
  {
   "cell_type": "markdown",
   "metadata": {},
   "source": [
    "#### Guessing"
   ]
  },
  {
   "cell_type": "code",
   "execution_count": null,
   "metadata": {
    "collapsed": false
   },
   "outputs": [],
   "source": [
    "options(repr.plot.width=10, repr.plot.height=2)\n",
    "p <- ggplot(g, aes(x=value))\n",
    "p <- p + geom_histogram(binwidth=0.1*sd(g$value)) \n",
    "p <- p + aes(y=..density..)\n",
    "p <- p + facet_grid(. ~ category)\n",
    "p\n",
    "summary(g$value)"
   ]
  },
  {
   "cell_type": "markdown",
   "metadata": {},
   "source": [
    "#### Curva Item-Response"
   ]
  },
  {
   "cell_type": "code",
   "execution_count": null,
   "metadata": {
    "collapsed": false
   },
   "outputs": [],
   "source": [
    "data <- data.frame(x=seq(-5,5,.1))\n",
    "options(repr.plot.width=6, repr.plot.height=6)\n",
    "p <- ggplot(data, aes(x=x))\n",
    "p <- p + scale_x_continuous()\n",
    "p <- p + geom_hline(yintercept=0.5, linetype=\"dashed\")\n",
    "for (i in 1:length(d$value)) {\n",
    "  p <- p + geom_line(aes(y=logistic(x, a=d$value[i], b=a$value[i], c=g$value[i])))\n",
    "}\n",
    "p"
   ]
  },
  {
   "cell_type": "markdown",
   "metadata": {},
   "source": [
    "###  2015_Kilo_A4_MY01_Braccialetti\n",
    "\n",
    "![Braccialetti](screenshot/kilo04-braccialetti.png)"
   ]
  },
  {
   "cell_type": "code",
   "execution_count": null,
   "metadata": {
    "collapsed": false
   },
   "outputs": [],
   "source": [
    "q <- 'MY01'\n",
    "d <- quiz_difficulty %>% dplyr::filter(bebras_id == q) %>% select(value, category)\n",
    "a <- quiz_discrimination %>% dplyr::filter(bebras_id == q) %>% select(value, category)\n",
    "g <- quiz_guessing %>% dplyr::filter(bebras_id == q) %>% select(value, category)"
   ]
  },
  {
   "cell_type": "markdown",
   "metadata": {},
   "source": [
    "#### Difficoltà"
   ]
  },
  {
   "cell_type": "code",
   "execution_count": null,
   "metadata": {
    "collapsed": false
   },
   "outputs": [],
   "source": [
    "options(repr.plot.width=10, repr.plot.height=2)\n",
    "p <- ggplot(d, aes(x=value))\n",
    "p <- p + geom_histogram(binwidth=0.1*sd(d$value)) \n",
    "p <- p + aes(y=..density..)\n",
    "p <- p + facet_grid(. ~ category)\n",
    "p\n",
    "summary(d$value)"
   ]
  },
  {
   "cell_type": "markdown",
   "metadata": {},
   "source": [
    "#### Differenziazione"
   ]
  },
  {
   "cell_type": "code",
   "execution_count": null,
   "metadata": {
    "collapsed": false
   },
   "outputs": [],
   "source": [
    "options(repr.plot.width=10, repr.plot.height=2)\n",
    "p <- ggplot(a, aes(x=value))\n",
    "p <- p + geom_histogram(binwidth=0.1*sd(a$value)) \n",
    "p <- p + aes(y=..density..)\n",
    "p <- p + facet_grid(. ~ category)\n",
    "p\n",
    "summary(a$value)"
   ]
  },
  {
   "cell_type": "markdown",
   "metadata": {},
   "source": [
    "#### Guessing"
   ]
  },
  {
   "cell_type": "code",
   "execution_count": null,
   "metadata": {
    "collapsed": false
   },
   "outputs": [],
   "source": [
    "options(repr.plot.width=10, repr.plot.height=2)\n",
    "p <- ggplot(g, aes(x=value))\n",
    "p <- p + geom_histogram(binwidth=0.1*sd(g$value)) \n",
    "p <- p + aes(y=..density..)\n",
    "p <- p + facet_grid(. ~ category)\n",
    "p\n",
    "summary(g$value)"
   ]
  },
  {
   "cell_type": "markdown",
   "metadata": {},
   "source": [
    "#### Curva Item-Response"
   ]
  },
  {
   "cell_type": "code",
   "execution_count": null,
   "metadata": {
    "collapsed": false
   },
   "outputs": [],
   "source": [
    "data <- data.frame(x=seq(-5,5,.1))\n",
    "options(repr.plot.width=6, repr.plot.height=6)\n",
    "p <- ggplot(data, aes(x=x))\n",
    "p <- p + scale_x_continuous()\n",
    "p <- p + geom_hline(yintercept=0.5, linetype=\"dashed\")\n",
    "for (i in 1:length(d$value)) {\n",
    "  p <- p + geom_line(aes(y=logistic(x, a=d$value[i], b=a$value[i], c=g$value[i])))\n",
    "}\n",
    "p"
   ]
  },
  {
   "cell_type": "markdown",
   "metadata": {},
   "source": [
    "###  2015_Kilo_A5_SK05_Vestiti\n",
    "\n",
    "![Vestiti](screenshot/kilo05-vestiti.png)"
   ]
  },
  {
   "cell_type": "code",
   "execution_count": null,
   "metadata": {
    "collapsed": false
   },
   "outputs": [],
   "source": [
    "q <- 'SK05'\n",
    "d <- quiz_difficulty %>% dplyr::filter(bebras_id == q) %>% select(value, category)\n",
    "a <- quiz_discrimination %>% dplyr::filter(bebras_id == q) %>% select(value, category)\n",
    "g <- quiz_guessing %>% dplyr::filter(bebras_id == q) %>% select(value, category)"
   ]
  },
  {
   "cell_type": "markdown",
   "metadata": {},
   "source": [
    "#### Difficoltà"
   ]
  },
  {
   "cell_type": "code",
   "execution_count": null,
   "metadata": {
    "collapsed": false
   },
   "outputs": [],
   "source": [
    "options(repr.plot.width=10, repr.plot.height=2)\n",
    "p <- ggplot(d, aes(x=value))\n",
    "p <- p + geom_histogram(binwidth=0.1*sd(d$value)) \n",
    "p <- p + aes(y=..density..)\n",
    "p <- p + facet_grid(. ~ category)\n",
    "p\n",
    "summary(d$value)"
   ]
  },
  {
   "cell_type": "markdown",
   "metadata": {},
   "source": [
    "#### Differenziazione"
   ]
  },
  {
   "cell_type": "code",
   "execution_count": null,
   "metadata": {
    "collapsed": false
   },
   "outputs": [],
   "source": [
    "options(repr.plot.width=10, repr.plot.height=2)\n",
    "p <- ggplot(a, aes(x=value))\n",
    "p <- p + geom_histogram(binwidth=0.1*sd(a$value)) \n",
    "p <- p + aes(y=..density..)\n",
    "p <- p + facet_grid(. ~ category)\n",
    "p\n",
    "summary(a$value)"
   ]
  },
  {
   "cell_type": "markdown",
   "metadata": {},
   "source": [
    "#### Guessing"
   ]
  },
  {
   "cell_type": "code",
   "execution_count": null,
   "metadata": {
    "collapsed": false
   },
   "outputs": [],
   "source": [
    "options(repr.plot.width=10, repr.plot.height=2)\n",
    "p <- ggplot(g, aes(x=value))\n",
    "p <- p + geom_histogram(binwidth=0.1*sd(g$value)) \n",
    "p <- p + aes(y=..density..)\n",
    "p <- p + facet_grid(. ~ category)\n",
    "p\n",
    "summary(g$value)"
   ]
  },
  {
   "cell_type": "markdown",
   "metadata": {},
   "source": [
    "#### Curva Item-Response"
   ]
  },
  {
   "cell_type": "code",
   "execution_count": null,
   "metadata": {
    "collapsed": false
   },
   "outputs": [],
   "source": [
    "data <- data.frame(x=seq(-5,5,.1))\n",
    "options(repr.plot.width=6, repr.plot.height=6)\n",
    "p <- ggplot(data, aes(x=x))\n",
    "p <- p + scale_x_continuous()\n",
    "p <- p + geom_hline(yintercept=0.5, linetype=\"dashed\")\n",
    "for (i in 1:length(d$value)) {\n",
    "  p <- p + geom_line(aes(y=logistic(x, a=d$value[i], b=a$value[i], c=g$value[i])))\n",
    "}\n",
    "p"
   ]
  },
  {
   "cell_type": "markdown",
   "metadata": {},
   "source": [
    "###  2015_Kilo_B1_LT05_Morra\n",
    "\n",
    "![Morra](screenshot/kilo06-morra.png)"
   ]
  },
  {
   "cell_type": "code",
   "execution_count": null,
   "metadata": {
    "collapsed": false
   },
   "outputs": [],
   "source": [
    "q <- 'LT05'\n",
    "d <- quiz_difficulty %>% dplyr::filter(bebras_id == q) %>% select(value, category)\n",
    "a <- quiz_discrimination %>% dplyr::filter(bebras_id == q) %>% select(value, category)\n",
    "g <- quiz_guessing %>% dplyr::filter(bebras_id == q) %>% select(value, category)"
   ]
  },
  {
   "cell_type": "markdown",
   "metadata": {},
   "source": [
    "#### Difficoltà"
   ]
  },
  {
   "cell_type": "code",
   "execution_count": null,
   "metadata": {
    "collapsed": false
   },
   "outputs": [],
   "source": [
    "options(repr.plot.width=10, repr.plot.height=2)\n",
    "p <- ggplot(d, aes(x=value))\n",
    "p <- p + geom_histogram(binwidth=0.1*sd(d$value)) \n",
    "p <- p + aes(y=..density..)\n",
    "p <- p + facet_grid(. ~ category)\n",
    "p\n",
    "summary(d$value)"
   ]
  },
  {
   "cell_type": "markdown",
   "metadata": {},
   "source": [
    "#### Differenziazione"
   ]
  },
  {
   "cell_type": "code",
   "execution_count": null,
   "metadata": {
    "collapsed": false
   },
   "outputs": [],
   "source": [
    "options(repr.plot.width=10, repr.plot.height=2)\n",
    "p <- ggplot(a, aes(x=value))\n",
    "p <- p + geom_histogram(binwidth=0.1*sd(a$value)) \n",
    "p <- p + aes(y=..density..)\n",
    "p <- p + facet_grid(. ~ category)\n",
    "p\n",
    "summary(a$value)"
   ]
  },
  {
   "cell_type": "markdown",
   "metadata": {},
   "source": [
    "#### Guessing"
   ]
  },
  {
   "cell_type": "code",
   "execution_count": null,
   "metadata": {
    "collapsed": false
   },
   "outputs": [],
   "source": [
    "options(repr.plot.width=10, repr.plot.height=2)\n",
    "p <- ggplot(g, aes(x=value))\n",
    "p <- p + geom_histogram(binwidth=0.1*sd(g$value)) \n",
    "p <- p + aes(y=..density..)\n",
    "p <- p + facet_grid(. ~ category)\n",
    "p\n",
    "summary(g$value)"
   ]
  },
  {
   "cell_type": "markdown",
   "metadata": {},
   "source": [
    "#### Curva Item-Response"
   ]
  },
  {
   "cell_type": "code",
   "execution_count": null,
   "metadata": {
    "collapsed": false
   },
   "outputs": [],
   "source": [
    "data <- data.frame(x=seq(-5,5,.1))\n",
    "options(repr.plot.width=6, repr.plot.height=6)\n",
    "p <- ggplot(data, aes(x=x))\n",
    "p <- p + scale_x_continuous()\n",
    "p <- p + geom_hline(yintercept=0.5, linetype=\"dashed\")\n",
    "for (i in 1:length(d$value)) {\n",
    "  p <- p + geom_line(aes(y=logistic(x, a=d$value[i], b=a$value[i], c=g$value[i])))\n",
    "}\n",
    "p"
   ]
  },
  {
   "cell_type": "markdown",
   "metadata": {},
   "source": [
    "###  2015_Kilo_B2_JP04_Gru\n",
    "\n",
    "![Gru](screenshot/kilo07-gru.png)"
   ]
  },
  {
   "cell_type": "code",
   "execution_count": null,
   "metadata": {
    "collapsed": false
   },
   "outputs": [],
   "source": [
    "q <- 'JP04'\n",
    "d <- quiz_difficulty %>% dplyr::filter(bebras_id == q) %>% select(value, category)\n",
    "a <- quiz_discrimination %>% dplyr::filter(bebras_id == q) %>% select(value, category)\n",
    "g <- quiz_guessing %>% dplyr::filter(bebras_id == q) %>% select(value, category)"
   ]
  },
  {
   "cell_type": "markdown",
   "metadata": {},
   "source": [
    "#### Difficoltà"
   ]
  },
  {
   "cell_type": "code",
   "execution_count": null,
   "metadata": {
    "collapsed": false
   },
   "outputs": [],
   "source": [
    "options(repr.plot.width=10, repr.plot.height=2)\n",
    "p <- ggplot(d, aes(x=value))\n",
    "p <- p + geom_histogram(binwidth=0.1*sd(d$value)) \n",
    "p <- p + aes(y=..density..)\n",
    "p <- p + facet_grid(. ~ category)\n",
    "p\n",
    "summary(d$value)"
   ]
  },
  {
   "cell_type": "markdown",
   "metadata": {},
   "source": [
    "#### Differenziazione"
   ]
  },
  {
   "cell_type": "code",
   "execution_count": null,
   "metadata": {
    "collapsed": false
   },
   "outputs": [],
   "source": [
    "options(repr.plot.width=10, repr.plot.height=2)\n",
    "p <- ggplot(a, aes(x=value))\n",
    "p <- p + geom_histogram(binwidth=0.1*sd(a$value)) \n",
    "p <- p + aes(y=..density..)\n",
    "p <- p + facet_grid(. ~ category)\n",
    "p\n",
    "summary(a$value)"
   ]
  },
  {
   "cell_type": "markdown",
   "metadata": {},
   "source": [
    "#### Guessing"
   ]
  },
  {
   "cell_type": "code",
   "execution_count": null,
   "metadata": {
    "collapsed": false
   },
   "outputs": [],
   "source": [
    "options(repr.plot.width=10, repr.plot.height=2)\n",
    "p <- ggplot(g, aes(x=value))\n",
    "p <- p + geom_histogram(binwidth=0.1*sd(g$value)) \n",
    "p <- p + aes(y=..density..)\n",
    "p <- p + facet_grid(. ~ category)\n",
    "p\n",
    "summary(g$value)"
   ]
  },
  {
   "cell_type": "markdown",
   "metadata": {},
   "source": [
    "#### Curva Item-Response"
   ]
  },
  {
   "cell_type": "code",
   "execution_count": null,
   "metadata": {
    "collapsed": false
   },
   "outputs": [],
   "source": [
    "data <- data.frame(x=seq(-5,5,.1))\n",
    "options(repr.plot.width=6, repr.plot.height=6)\n",
    "p <- ggplot(data, aes(x=x))\n",
    "p <- p + scale_x_continuous()\n",
    "p <- p + geom_hline(yintercept=0.5, linetype=\"dashed\")\n",
    "for (i in 1:length(d$value)) {\n",
    "  p <- p + geom_line(aes(y=logistic(x, a=d$value[i], b=a$value[i], c=g$value[i])))\n",
    "}\n",
    "p"
   ]
  },
  {
   "cell_type": "markdown",
   "metadata": {},
   "source": [
    "###  2015_Kilo_B3_TR08_Occhiali\n",
    "\n",
    "![Occhiali](screenshot/kilo08-occhiali.png)"
   ]
  },
  {
   "cell_type": "code",
   "execution_count": null,
   "metadata": {
    "collapsed": false
   },
   "outputs": [],
   "source": [
    "q <- 'TR08'\n",
    "d <- quiz_difficulty %>% dplyr::filter(bebras_id == q) %>% select(value, category)\n",
    "a <- quiz_discrimination %>% dplyr::filter(bebras_id == q) %>% select(value, category)\n",
    "g <- quiz_guessing %>% dplyr::filter(bebras_id == q) %>% select(value, category)"
   ]
  },
  {
   "cell_type": "markdown",
   "metadata": {},
   "source": [
    "#### Difficoltà"
   ]
  },
  {
   "cell_type": "code",
   "execution_count": null,
   "metadata": {
    "collapsed": false
   },
   "outputs": [],
   "source": [
    "options(repr.plot.width=10, repr.plot.height=2)\n",
    "p <- ggplot(d, aes(x=value))\n",
    "p <- p + geom_histogram(binwidth=0.1*sd(d$value)) \n",
    "p <- p + aes(y=..density..)\n",
    "p <- p + facet_grid(. ~ category)\n",
    "p\n",
    "summary(d$value)"
   ]
  },
  {
   "cell_type": "markdown",
   "metadata": {},
   "source": [
    "#### Differenziazione"
   ]
  },
  {
   "cell_type": "code",
   "execution_count": null,
   "metadata": {
    "collapsed": false
   },
   "outputs": [],
   "source": [
    "options(repr.plot.width=10, repr.plot.height=2)\n",
    "p <- ggplot(a, aes(x=value))\n",
    "p <- p + geom_histogram(binwidth=0.1*sd(a$value)) \n",
    "p <- p + aes(y=..density..)\n",
    "p <- p + facet_grid(. ~ category)\n",
    "p\n",
    "summary(a$value)"
   ]
  },
  {
   "cell_type": "markdown",
   "metadata": {},
   "source": [
    "#### Guessing"
   ]
  },
  {
   "cell_type": "code",
   "execution_count": null,
   "metadata": {
    "collapsed": false
   },
   "outputs": [],
   "source": [
    "options(repr.plot.width=10, repr.plot.height=2)\n",
    "p <- ggplot(g, aes(x=value))\n",
    "p <- p + geom_histogram(binwidth=0.1*sd(g$value)) \n",
    "p <- p + aes(y=..density..)\n",
    "p <- p + facet_grid(. ~ category)\n",
    "p\n",
    "summary(g$value)"
   ]
  },
  {
   "cell_type": "markdown",
   "metadata": {},
   "source": [
    "#### Curva Item-Response"
   ]
  },
  {
   "cell_type": "code",
   "execution_count": null,
   "metadata": {
    "collapsed": false
   },
   "outputs": [],
   "source": [
    "data <- data.frame(x=seq(-5,5,.1))\n",
    "options(repr.plot.width=6, repr.plot.height=6)\n",
    "p <- ggplot(data, aes(x=x))\n",
    "p <- p + scale_x_continuous()\n",
    "p <- p + geom_hline(yintercept=0.5, linetype=\"dashed\")\n",
    "for (i in 1:length(d$value)) {\n",
    "  p <- p + geom_line(aes(y=logistic(x, a=d$value[i], b=a$value[i], c=g$value[i])))\n",
    "}\n",
    "p"
   ]
  },
  {
   "cell_type": "markdown",
   "metadata": {},
   "source": [
    "###  2015_Kilo_B4_AT03_Irrigazione\n",
    "\n",
    "![Irrigazione](screenshot/kilo09-irrigazione.png)"
   ]
  },
  {
   "cell_type": "code",
   "execution_count": null,
   "metadata": {
    "collapsed": false
   },
   "outputs": [],
   "source": [
    "q <- 'AT03'\n",
    "d <- quiz_difficulty %>% dplyr::filter(bebras_id == q) %>% select(value, category)\n",
    "a <- quiz_discrimination %>% dplyr::filter(bebras_id == q) %>% select(value, category)\n",
    "g <- quiz_guessing %>% dplyr::filter(bebras_id == q) %>% select(value, category)"
   ]
  },
  {
   "cell_type": "markdown",
   "metadata": {},
   "source": [
    "#### Difficoltà"
   ]
  },
  {
   "cell_type": "code",
   "execution_count": null,
   "metadata": {
    "collapsed": false
   },
   "outputs": [],
   "source": [
    "options(repr.plot.width=10, repr.plot.height=2)\n",
    "p <- ggplot(d, aes(x=value))\n",
    "p <- p + geom_histogram(binwidth=0.1*sd(d$value)) \n",
    "p <- p + aes(y=..density..)\n",
    "p <- p + facet_grid(. ~ category)\n",
    "p\n",
    "summary(d$value)"
   ]
  },
  {
   "cell_type": "markdown",
   "metadata": {},
   "source": [
    "#### Differenziazione"
   ]
  },
  {
   "cell_type": "code",
   "execution_count": null,
   "metadata": {
    "collapsed": false
   },
   "outputs": [],
   "source": [
    "options(repr.plot.width=10, repr.plot.height=2)\n",
    "p <- ggplot(a, aes(x=value))\n",
    "p <- p + geom_histogram(binwidth=0.1*sd(a$value)) \n",
    "p <- p + aes(y=..density..)\n",
    "p <- p + facet_grid(. ~ category)\n",
    "p\n",
    "summary(a$value)"
   ]
  },
  {
   "cell_type": "markdown",
   "metadata": {},
   "source": [
    "#### Guessing"
   ]
  },
  {
   "cell_type": "code",
   "execution_count": null,
   "metadata": {
    "collapsed": false
   },
   "outputs": [],
   "source": [
    "options(repr.plot.width=10, repr.plot.height=2)\n",
    "p <- ggplot(g, aes(x=value))\n",
    "p <- p + geom_histogram(binwidth=0.1*sd(g$value)) \n",
    "p <- p + aes(y=..density..)\n",
    "p <- p + facet_grid(. ~ category)\n",
    "p\n",
    "summary(g$value)"
   ]
  },
  {
   "cell_type": "markdown",
   "metadata": {},
   "source": [
    "#### Curva Item-Response"
   ]
  },
  {
   "cell_type": "code",
   "execution_count": null,
   "metadata": {
    "collapsed": false
   },
   "outputs": [],
   "source": [
    "data <- data.frame(x=seq(-5,5,.1))\n",
    "options(repr.plot.width=6, repr.plot.height=6)\n",
    "p <- ggplot(data, aes(x=x))\n",
    "p <- p + scale_x_continuous()\n",
    "p <- p + geom_hline(yintercept=0.5, linetype=\"dashed\")\n",
    "for (i in 1:length(d$value)) {\n",
    "  p <- p + geom_line(aes(y=logistic(x, a=d$value[i], b=a$value[i], c=g$value[i])))\n",
    "}\n",
    "p"
   ]
  },
  {
   "cell_type": "markdown",
   "metadata": {},
   "source": [
    "###  2015_Kilo_B5_JP01_Attrezzi\n",
    "\n",
    "![Attrezzi](screenshot/kilo10-attrezzi.png)"
   ]
  },
  {
   "cell_type": "code",
   "execution_count": null,
   "metadata": {
    "collapsed": false
   },
   "outputs": [],
   "source": [
    "q <- 'JP01'\n",
    "d <- quiz_difficulty %>% dplyr::filter(bebras_id == q) %>% select(value, category)\n",
    "a <- quiz_discrimination %>% dplyr::filter(bebras_id == q) %>% select(value, category)\n",
    "g <- quiz_guessing %>% dplyr::filter(bebras_id == q) %>% select(value, category)"
   ]
  },
  {
   "cell_type": "markdown",
   "metadata": {},
   "source": [
    "#### Difficoltà"
   ]
  },
  {
   "cell_type": "code",
   "execution_count": null,
   "metadata": {
    "collapsed": false
   },
   "outputs": [],
   "source": [
    "options(repr.plot.width=10, repr.plot.height=2)\n",
    "p <- ggplot(d, aes(x=value))\n",
    "p <- p + geom_histogram(binwidth=0.1*sd(d$value)) \n",
    "p <- p + aes(y=..density..)\n",
    "p <- p + facet_grid(. ~ category)\n",
    "p\n",
    "summary(d$value)"
   ]
  },
  {
   "cell_type": "markdown",
   "metadata": {},
   "source": [
    "#### Differenziazione"
   ]
  },
  {
   "cell_type": "code",
   "execution_count": null,
   "metadata": {
    "collapsed": false
   },
   "outputs": [],
   "source": [
    "options(repr.plot.width=10, repr.plot.height=2)\n",
    "p <- ggplot(a, aes(x=value))\n",
    "p <- p + geom_histogram(binwidth=0.1*sd(a$value)) \n",
    "p <- p + aes(y=..density..)\n",
    "p <- p + facet_grid(. ~ category)\n",
    "p\n",
    "summary(a$value)"
   ]
  },
  {
   "cell_type": "markdown",
   "metadata": {},
   "source": [
    "#### Guessing"
   ]
  },
  {
   "cell_type": "code",
   "execution_count": null,
   "metadata": {
    "collapsed": false
   },
   "outputs": [],
   "source": [
    "options(repr.plot.width=10, repr.plot.height=2)\n",
    "p <- ggplot(g, aes(x=value))\n",
    "p <- p + geom_histogram(binwidth=0.1*sd(g$value)) \n",
    "p <- p + aes(y=..density..)\n",
    "p <- p + facet_grid(. ~ category)\n",
    "p\n",
    "summary(g$value)"
   ]
  },
  {
   "cell_type": "markdown",
   "metadata": {},
   "source": [
    "#### Curva Item-Response"
   ]
  },
  {
   "cell_type": "code",
   "execution_count": null,
   "metadata": {
    "collapsed": false
   },
   "outputs": [],
   "source": [
    "data <- data.frame(x=seq(-5,5,.1))\n",
    "options(repr.plot.width=6, repr.plot.height=6)\n",
    "p <- ggplot(data, aes(x=x))\n",
    "p <- p + scale_x_continuous()\n",
    "p <- p + geom_hline(yintercept=0.5, linetype=\"dashed\")\n",
    "for (i in 1:length(d$value)) {\n",
    "  p <- p + geom_line(aes(y=logistic(x, a=d$value[i], b=a$value[i], c=g$value[i])))\n",
    "}\n",
    "p"
   ]
  },
  {
   "cell_type": "markdown",
   "metadata": {},
   "source": [
    "###  2015_Kilo_C1_CZ03_Trasporto\n",
    "\n",
    "![Trasporto](screenshot/kilo11-trasporto.png)"
   ]
  },
  {
   "cell_type": "code",
   "execution_count": null,
   "metadata": {
    "collapsed": false
   },
   "outputs": [],
   "source": [
    "q <- 'CZ03'\n",
    "d <- quiz_difficulty %>% dplyr::filter(bebras_id == q) %>% select(value, category)\n",
    "a <- quiz_discrimination %>% dplyr::filter(bebras_id == q) %>% select(value, category)\n",
    "g <- quiz_guessing %>% dplyr::filter(bebras_id == q) %>% select(value, category)"
   ]
  },
  {
   "cell_type": "markdown",
   "metadata": {},
   "source": [
    "#### Difficoltà"
   ]
  },
  {
   "cell_type": "code",
   "execution_count": null,
   "metadata": {
    "collapsed": false
   },
   "outputs": [],
   "source": [
    "options(repr.plot.width=10, repr.plot.height=2)\n",
    "p <- ggplot(d, aes(x=value))\n",
    "p <- p + geom_histogram(binwidth=0.1*sd(d$value)) \n",
    "p <- p + aes(y=..density..)\n",
    "p <- p + facet_grid(. ~ category)\n",
    "p\n",
    "summary(d$value)"
   ]
  },
  {
   "cell_type": "markdown",
   "metadata": {},
   "source": [
    "#### Differenziazione"
   ]
  },
  {
   "cell_type": "code",
   "execution_count": null,
   "metadata": {
    "collapsed": false
   },
   "outputs": [],
   "source": [
    "options(repr.plot.width=10, repr.plot.height=2)\n",
    "p <- ggplot(a, aes(x=value))\n",
    "p <- p + geom_histogram(binwidth=0.1*sd(a$value)) \n",
    "p <- p + aes(y=..density..)\n",
    "p <- p + facet_grid(. ~ category)\n",
    "p\n",
    "summary(a$value)"
   ]
  },
  {
   "cell_type": "markdown",
   "metadata": {},
   "source": [
    "#### Guessing"
   ]
  },
  {
   "cell_type": "code",
   "execution_count": null,
   "metadata": {
    "collapsed": false
   },
   "outputs": [],
   "source": [
    "options(repr.plot.width=10, repr.plot.height=2)\n",
    "p <- ggplot(g, aes(x=value))\n",
    "p <- p + geom_histogram(binwidth=0.1*sd(g$value)) \n",
    "p <- p + aes(y=..density..)\n",
    "p <- p + facet_grid(. ~ category)\n",
    "p\n",
    "summary(g$value)"
   ]
  },
  {
   "cell_type": "markdown",
   "metadata": {},
   "source": [
    "#### Curva Item-Response"
   ]
  },
  {
   "cell_type": "code",
   "execution_count": null,
   "metadata": {
    "collapsed": false
   },
   "outputs": [],
   "source": [
    "data <- data.frame(x=seq(-5,5,.1))\n",
    "options(repr.plot.width=6, repr.plot.height=6)\n",
    "p <- ggplot(data, aes(x=x))\n",
    "p <- p + scale_x_continuous()\n",
    "p <- p + geom_hline(yintercept=0.5, linetype=\"dashed\")\n",
    "for (i in 1:length(d$value)) {\n",
    "  p <- p + geom_line(aes(y=logistic(x, a=d$value[i], b=a$value[i], c=g$value[i])))\n",
    "}\n",
    "p"
   ]
  },
  {
   "cell_type": "markdown",
   "metadata": {},
   "source": [
    "###  2015_Kilo_C2_SE01_Stelle\n",
    "\n",
    "![Stelle](screenshot/kilo12-disegnare.png)"
   ]
  },
  {
   "cell_type": "code",
   "execution_count": null,
   "metadata": {
    "collapsed": false
   },
   "outputs": [],
   "source": [
    "q <- 'SE01'\n",
    "d <- quiz_difficulty %>% dplyr::filter(bebras_id == q) %>% select(value, category)\n",
    "a <- quiz_discrimination %>% dplyr::filter(bebras_id == q) %>% select(value, category)\n",
    "g <- quiz_guessing %>% dplyr::filter(bebras_id == q) %>% select(value, category)"
   ]
  },
  {
   "cell_type": "markdown",
   "metadata": {},
   "source": [
    "#### Difficoltà"
   ]
  },
  {
   "cell_type": "code",
   "execution_count": null,
   "metadata": {
    "collapsed": false
   },
   "outputs": [],
   "source": [
    "options(repr.plot.width=10, repr.plot.height=2)\n",
    "p <- ggplot(d, aes(x=value))\n",
    "p <- p + geom_histogram(binwidth=0.1*sd(d$value)) \n",
    "p <- p + aes(y=..density..)\n",
    "p <- p + facet_grid(. ~ category)\n",
    "p\n",
    "summary(d$value)"
   ]
  },
  {
   "cell_type": "markdown",
   "metadata": {},
   "source": [
    "#### Differenziazione"
   ]
  },
  {
   "cell_type": "code",
   "execution_count": null,
   "metadata": {
    "collapsed": false
   },
   "outputs": [],
   "source": [
    "options(repr.plot.width=10, repr.plot.height=2)\n",
    "p <- ggplot(a, aes(x=value))\n",
    "p <- p + geom_histogram(binwidth=0.1*sd(a$value)) \n",
    "p <- p + aes(y=..density..)\n",
    "p <- p + facet_grid(. ~ category)\n",
    "p\n",
    "summary(a$value)"
   ]
  },
  {
   "cell_type": "markdown",
   "metadata": {},
   "source": [
    "#### Guessing"
   ]
  },
  {
   "cell_type": "code",
   "execution_count": null,
   "metadata": {
    "collapsed": false
   },
   "outputs": [],
   "source": [
    "options(repr.plot.width=10, repr.plot.height=2)\n",
    "p <- ggplot(g, aes(x=value))\n",
    "p <- p + geom_histogram(binwidth=0.1*sd(g$value)) \n",
    "p <- p + aes(y=..density..)\n",
    "p <- p + facet_grid(. ~ category)\n",
    "p\n",
    "summary(g$value)"
   ]
  },
  {
   "cell_type": "markdown",
   "metadata": {},
   "source": [
    "#### Curva Item-Response"
   ]
  },
  {
   "cell_type": "code",
   "execution_count": null,
   "metadata": {
    "collapsed": false
   },
   "outputs": [],
   "source": [
    "data <- data.frame(x=seq(-5,5,.1))\n",
    "options(repr.plot.width=6, repr.plot.height=6)\n",
    "p <- ggplot(data, aes(x=x))\n",
    "p <- p + scale_x_continuous()\n",
    "p <- p + geom_hline(yintercept=0.5, linetype=\"dashed\")\n",
    "for (i in 1:length(d$value)) {\n",
    "  p <- p + geom_line(aes(y=logistic(x, a=d$value[i], b=a$value[i], c=g$value[i])))\n",
    "}\n",
    "p"
   ]
  },
  {
   "cell_type": "markdown",
   "metadata": {},
   "source": [
    "###  2015_Kilo_C3_CZ07_Drone\n",
    "\n",
    "![Drone](screenshot/kilo13-drone.png)"
   ]
  },
  {
   "cell_type": "code",
   "execution_count": null,
   "metadata": {
    "collapsed": false
   },
   "outputs": [],
   "source": [
    "q <- 'CZ07'\n",
    "d <- quiz_difficulty %>% dplyr::filter(bebras_id == q) %>% select(value, category)\n",
    "a <- quiz_discrimination %>% dplyr::filter(bebras_id == q) %>% select(value, category)\n",
    "g <- quiz_guessing %>% dplyr::filter(bebras_id == q) %>% select(value, category)"
   ]
  },
  {
   "cell_type": "markdown",
   "metadata": {},
   "source": [
    "#### Difficoltà"
   ]
  },
  {
   "cell_type": "code",
   "execution_count": null,
   "metadata": {
    "collapsed": false
   },
   "outputs": [],
   "source": [
    "options(repr.plot.width=10, repr.plot.height=2)\n",
    "p <- ggplot(d, aes(x=value))\n",
    "p <- p + geom_histogram(binwidth=0.1*sd(d$value)) \n",
    "p <- p + aes(y=..density..)\n",
    "p <- p + facet_grid(. ~ category)\n",
    "p\n",
    "summary(d$value)"
   ]
  },
  {
   "cell_type": "markdown",
   "metadata": {},
   "source": [
    "#### Differenziazione"
   ]
  },
  {
   "cell_type": "code",
   "execution_count": null,
   "metadata": {
    "collapsed": false
   },
   "outputs": [],
   "source": [
    "options(repr.plot.width=10, repr.plot.height=2)\n",
    "p <- ggplot(a, aes(x=value))\n",
    "p <- p + geom_histogram(binwidth=0.1*sd(a$value)) \n",
    "p <- p + aes(y=..density..)\n",
    "p <- p + facet_grid(. ~ category)\n",
    "p\n",
    "summary(a$value)"
   ]
  },
  {
   "cell_type": "markdown",
   "metadata": {},
   "source": [
    "#### Guessing"
   ]
  },
  {
   "cell_type": "code",
   "execution_count": null,
   "metadata": {
    "collapsed": false
   },
   "outputs": [],
   "source": [
    "options(repr.plot.width=10, repr.plot.height=2)\n",
    "p <- ggplot(g, aes(x=value))\n",
    "p <- p + geom_histogram(binwidth=0.1*sd(g$value)) \n",
    "p <- p + aes(y=..density..)\n",
    "p <- p + facet_grid(. ~ category)\n",
    "p\n",
    "summary(g$value)"
   ]
  },
  {
   "cell_type": "markdown",
   "metadata": {},
   "source": [
    "#### Curva Item-Response"
   ]
  },
  {
   "cell_type": "code",
   "execution_count": null,
   "metadata": {
    "collapsed": false
   },
   "outputs": [],
   "source": [
    "data <- data.frame(x=seq(-5,5,.1))\n",
    "options(repr.plot.width=6, repr.plot.height=6)\n",
    "p <- ggplot(data, aes(x=x))\n",
    "p <- p + scale_x_continuous()\n",
    "p <- p + geom_hline(yintercept=0.5, linetype=\"dashed\")\n",
    "for (i in 1:length(d$value)) {\n",
    "  p <- p + geom_line(aes(y=logistic(x, a=d$value[i], b=a$value[i], c=g$value[i])))\n",
    "}\n",
    "p"
   ]
  },
  {
   "cell_type": "markdown",
   "metadata": {},
   "source": [
    "###  2015_Kilo_C4_CZ01_Noccioline\n",
    "\n",
    "![Noccioline](screenshot/kilo14-noci.png)"
   ]
  },
  {
   "cell_type": "code",
   "execution_count": null,
   "metadata": {
    "collapsed": false
   },
   "outputs": [],
   "source": [
    "q <- 'CZ01'\n",
    "d <- quiz_difficulty %>% dplyr::filter(bebras_id == q) %>% select(value, category)\n",
    "a <- quiz_discrimination %>% dplyr::filter(bebras_id == q) %>% select(value, category)\n",
    "g <- quiz_guessing %>% dplyr::filter(bebras_id == q) %>% select(value, category)"
   ]
  },
  {
   "cell_type": "markdown",
   "metadata": {},
   "source": [
    "#### Difficoltà"
   ]
  },
  {
   "cell_type": "code",
   "execution_count": null,
   "metadata": {
    "collapsed": false
   },
   "outputs": [],
   "source": [
    "options(repr.plot.width=10, repr.plot.height=2)\n",
    "p <- ggplot(d, aes(x=value))\n",
    "p <- p + geom_histogram(binwidth=0.1*sd(d$value)) \n",
    "p <- p + aes(y=..density..)\n",
    "p <- p + facet_grid(. ~ category)\n",
    "p\n",
    "summary(d$value)"
   ]
  },
  {
   "cell_type": "markdown",
   "metadata": {},
   "source": [
    "#### Differenziazione"
   ]
  },
  {
   "cell_type": "code",
   "execution_count": null,
   "metadata": {
    "collapsed": false
   },
   "outputs": [],
   "source": [
    "options(repr.plot.width=10, repr.plot.height=2)\n",
    "p <- ggplot(a, aes(x=value))\n",
    "p <- p + geom_histogram(binwidth=0.1*sd(a$value)) \n",
    "p <- p + aes(y=..density..)\n",
    "p <- p + facet_grid(. ~ category)\n",
    "p\n",
    "summary(a$value)"
   ]
  },
  {
   "cell_type": "markdown",
   "metadata": {},
   "source": [
    "#### Guessing"
   ]
  },
  {
   "cell_type": "code",
   "execution_count": null,
   "metadata": {
    "collapsed": false
   },
   "outputs": [],
   "source": [
    "options(repr.plot.width=10, repr.plot.height=2)\n",
    "p <- ggplot(g, aes(x=value))\n",
    "p <- p + geom_histogram(binwidth=0.1*sd(g$value)) \n",
    "p <- p + aes(y=..density..)\n",
    "p <- p + facet_grid(. ~ category)\n",
    "p\n",
    "summary(g$value)"
   ]
  },
  {
   "cell_type": "markdown",
   "metadata": {},
   "source": [
    "#### Curva Item-Response"
   ]
  },
  {
   "cell_type": "code",
   "execution_count": null,
   "metadata": {
    "collapsed": false
   },
   "outputs": [],
   "source": [
    "data <- data.frame(x=seq(-5,5,.1))\n",
    "options(repr.plot.width=6, repr.plot.height=6)\n",
    "p <- ggplot(data, aes(x=x))\n",
    "p <- p + scale_x_continuous()\n",
    "p <- p + geom_hline(yintercept=0.5, linetype=\"dashed\")\n",
    "for (i in 1:length(d$value)) {\n",
    "  p <- p + geom_line(aes(y=logistic(x, a=d$value[i], b=a$value[i], c=g$value[i])))\n",
    "}\n",
    "p"
   ]
  },
  {
   "cell_type": "markdown",
   "metadata": {},
   "source": [
    "###  2015_Kilo_C5_AT07_Elenco\n",
    "\n",
    "![Elenco](screenshot/kilo15-elenco.png)"
   ]
  },
  {
   "cell_type": "code",
   "execution_count": null,
   "metadata": {
    "collapsed": false
   },
   "outputs": [],
   "source": [
    "q <- 'AT07'\n",
    "d <- quiz_difficulty %>% dplyr::filter(bebras_id == q) %>% select(value, category)\n",
    "a <- quiz_discrimination %>% dplyr::filter(bebras_id == q) %>% select(value, category)\n",
    "g <- quiz_guessing %>% dplyr::filter(bebras_id == q) %>% select(value, category)"
   ]
  },
  {
   "cell_type": "markdown",
   "metadata": {},
   "source": [
    "#### Difficoltà"
   ]
  },
  {
   "cell_type": "code",
   "execution_count": null,
   "metadata": {
    "collapsed": false
   },
   "outputs": [],
   "source": [
    "options(repr.plot.width=10, repr.plot.height=2)\n",
    "p <- ggplot(d, aes(x=value))\n",
    "p <- p + geom_histogram(binwidth=0.1*sd(d$value)) \n",
    "p <- p + aes(y=..density..)\n",
    "p <- p + facet_grid(. ~ category)\n",
    "p\n",
    "summary(d$value)"
   ]
  },
  {
   "cell_type": "markdown",
   "metadata": {},
   "source": [
    "#### Differenziazione"
   ]
  },
  {
   "cell_type": "code",
   "execution_count": null,
   "metadata": {
    "collapsed": false
   },
   "outputs": [],
   "source": [
    "options(repr.plot.width=10, repr.plot.height=2)\n",
    "p <- ggplot(a, aes(x=value))\n",
    "p <- p + geom_histogram(binwidth=0.1*sd(a$value)) \n",
    "p <- p + aes(y=..density..)\n",
    "p <- p + facet_grid(. ~ category)\n",
    "p\n",
    "summary(a$value)"
   ]
  },
  {
   "cell_type": "markdown",
   "metadata": {},
   "source": [
    "#### Guessing"
   ]
  },
  {
   "cell_type": "code",
   "execution_count": null,
   "metadata": {
    "collapsed": false
   },
   "outputs": [],
   "source": [
    "options(repr.plot.width=10, repr.plot.height=2)\n",
    "p <- ggplot(g, aes(x=value))\n",
    "p <- p + geom_histogram(binwidth=0.1*sd(g$value)) \n",
    "p <- p + aes(y=..density..)\n",
    "p <- p + facet_grid(. ~ category)\n",
    "p\n",
    "summary(g$value)"
   ]
  },
  {
   "cell_type": "markdown",
   "metadata": {},
   "source": [
    "#### Curva Item-Response"
   ]
  },
  {
   "cell_type": "code",
   "execution_count": null,
   "metadata": {
    "collapsed": false
   },
   "outputs": [],
   "source": [
    "data <- data.frame(x=seq(-5,5,.1))\n",
    "options(repr.plot.width=6, repr.plot.height=6)\n",
    "p <- ggplot(data, aes(x=x))\n",
    "p <- p + scale_x_continuous()\n",
    "p <- p + geom_hline(yintercept=0.5, linetype=\"dashed\")\n",
    "for (i in 1:length(d$value)) {\n",
    "  p <- p + geom_line(aes(y=logistic(x, a=d$value[i], b=a$value[i], c=g$value[i])))\n",
    "}\n",
    "p"
   ]
  },
  {
   "cell_type": "markdown",
   "metadata": {},
   "source": [
    "###  2015_Mega_D1_SK02_Tessuto\n",
    "\n",
    "![Tessuto](screenshot/mega11-tessuto.png)"
   ]
  },
  {
   "cell_type": "code",
   "execution_count": null,
   "metadata": {
    "collapsed": false
   },
   "outputs": [],
   "source": [
    "q <- 'SK02'\n",
    "d <- quiz_difficulty %>% dplyr::filter(bebras_id == q) %>% select(value, category)\n",
    "a <- quiz_discrimination %>% dplyr::filter(bebras_id == q) %>% select(value, category)\n",
    "g <- quiz_guessing %>% dplyr::filter(bebras_id == q) %>% select(value, category)"
   ]
  },
  {
   "cell_type": "markdown",
   "metadata": {},
   "source": [
    "#### Difficoltà"
   ]
  },
  {
   "cell_type": "code",
   "execution_count": null,
   "metadata": {
    "collapsed": false
   },
   "outputs": [],
   "source": [
    "options(repr.plot.width=10, repr.plot.height=2)\n",
    "p <- ggplot(d, aes(x=value))\n",
    "p <- p + geom_histogram(binwidth=0.1*sd(d$value)) \n",
    "p <- p + aes(y=..density..)\n",
    "p <- p + facet_grid(. ~ category)\n",
    "p\n",
    "summary(d$value)"
   ]
  },
  {
   "cell_type": "markdown",
   "metadata": {},
   "source": [
    "#### Differenziazione"
   ]
  },
  {
   "cell_type": "code",
   "execution_count": null,
   "metadata": {
    "collapsed": false
   },
   "outputs": [],
   "source": [
    "options(repr.plot.width=10, repr.plot.height=2)\n",
    "p <- ggplot(a, aes(x=value))\n",
    "p <- p + geom_histogram(binwidth=0.1*sd(a$value)) \n",
    "p <- p + aes(y=..density..)\n",
    "p <- p + facet_grid(. ~ category)\n",
    "p\n",
    "summary(a$value)"
   ]
  },
  {
   "cell_type": "markdown",
   "metadata": {},
   "source": [
    "#### Guessing"
   ]
  },
  {
   "cell_type": "code",
   "execution_count": null,
   "metadata": {
    "collapsed": false
   },
   "outputs": [],
   "source": [
    "options(repr.plot.width=10, repr.plot.height=2)\n",
    "p <- ggplot(g, aes(x=value))\n",
    "p <- p + geom_histogram(binwidth=0.1*sd(g$value)) \n",
    "p <- p + aes(y=..density..)\n",
    "p <- p + facet_grid(. ~ category)\n",
    "p\n",
    "summary(g$value)"
   ]
  },
  {
   "cell_type": "markdown",
   "metadata": {},
   "source": [
    "#### Curva Item-Response"
   ]
  },
  {
   "cell_type": "code",
   "execution_count": null,
   "metadata": {
    "collapsed": false
   },
   "outputs": [],
   "source": [
    "data <- data.frame(x=seq(-5,5,.1))\n",
    "options(repr.plot.width=6, repr.plot.height=6)\n",
    "p <- ggplot(data, aes(x=x))\n",
    "p <- p + scale_x_continuous()\n",
    "p <- p + geom_hline(yintercept=0.5, linetype=\"dashed\")\n",
    "for (i in 1:length(d$value)) {\n",
    "  p <- p + geom_line(aes(y=logistic(x, a=d$value[i], b=a$value[i], c=g$value[i])))\n",
    "}\n",
    "p"
   ]
  },
  {
   "cell_type": "markdown",
   "metadata": {},
   "source": [
    "###  2015_Mega_D2_IT02_Meteo\n",
    "\n",
    "![Meteo](screenshot/mega12-meteo.png)"
   ]
  },
  {
   "cell_type": "code",
   "execution_count": null,
   "metadata": {
    "collapsed": false
   },
   "outputs": [],
   "source": [
    "q <- 'IT02'\n",
    "d <- quiz_difficulty %>% dplyr::filter(bebras_id == q) %>% select(value, category)\n",
    "a <- quiz_discrimination %>% dplyr::filter(bebras_id == q) %>% select(value, category)\n",
    "g <- quiz_guessing %>% dplyr::filter(bebras_id == q) %>% select(value, category)"
   ]
  },
  {
   "cell_type": "markdown",
   "metadata": {},
   "source": [
    "#### Difficoltà"
   ]
  },
  {
   "cell_type": "code",
   "execution_count": null,
   "metadata": {
    "collapsed": false
   },
   "outputs": [],
   "source": [
    "options(repr.plot.width=10, repr.plot.height=2)\n",
    "p <- ggplot(d, aes(x=value))\n",
    "p <- p + geom_histogram(binwidth=0.1*sd(d$value)) \n",
    "p <- p + aes(y=..density..)\n",
    "p <- p + facet_grid(. ~ category)\n",
    "p\n",
    "summary(d$value)"
   ]
  },
  {
   "cell_type": "markdown",
   "metadata": {},
   "source": [
    "#### Differenziazione"
   ]
  },
  {
   "cell_type": "code",
   "execution_count": null,
   "metadata": {
    "collapsed": false
   },
   "outputs": [],
   "source": [
    "options(repr.plot.width=10, repr.plot.height=2)\n",
    "p <- ggplot(a, aes(x=value))\n",
    "p <- p + geom_histogram(binwidth=0.1*sd(a$value)) \n",
    "p <- p + aes(y=..density..)\n",
    "p <- p + facet_grid(. ~ category)\n",
    "p\n",
    "summary(a$value)"
   ]
  },
  {
   "cell_type": "markdown",
   "metadata": {},
   "source": [
    "#### Guessing"
   ]
  },
  {
   "cell_type": "code",
   "execution_count": null,
   "metadata": {
    "collapsed": false
   },
   "outputs": [],
   "source": [
    "options(repr.plot.width=10, repr.plot.height=2)\n",
    "p <- ggplot(g, aes(x=value))\n",
    "p <- p + geom_histogram(binwidth=0.1*sd(g$value)) \n",
    "p <- p + aes(y=..density..)\n",
    "p <- p + facet_grid(. ~ category)\n",
    "p\n",
    "summary(g$value)"
   ]
  },
  {
   "cell_type": "markdown",
   "metadata": {},
   "source": [
    "#### Curva Item-Response"
   ]
  },
  {
   "cell_type": "code",
   "execution_count": null,
   "metadata": {
    "collapsed": false
   },
   "outputs": [],
   "source": [
    "data <- data.frame(x=seq(-5,5,.1))\n",
    "options(repr.plot.width=6, repr.plot.height=6)\n",
    "p <- ggplot(data, aes(x=x))\n",
    "p <- p + scale_x_continuous()\n",
    "p <- p + geom_hline(yintercept=0.5, linetype=\"dashed\")\n",
    "for (i in 1:length(d$value)) {\n",
    "  p <- p + geom_line(aes(y=logistic(x, a=d$value[i], b=a$value[i], c=g$value[i])))\n",
    "}\n",
    "p"
   ]
  },
  {
   "cell_type": "markdown",
   "metadata": {},
   "source": [
    "###  2015_Mega_D3_BE04_Scoprirai\n",
    "\n",
    "![Scoprirai](screenshot/mega13-scoprirai.png)"
   ]
  },
  {
   "cell_type": "code",
   "execution_count": null,
   "metadata": {
    "collapsed": false
   },
   "outputs": [],
   "source": [
    "q <- 'BE04'\n",
    "d <- quiz_difficulty %>% dplyr::filter(bebras_id == q) %>% select(value, category)\n",
    "a <- quiz_discrimination %>% dplyr::filter(bebras_id == q) %>% select(value, category)\n",
    "g <- quiz_guessing %>% dplyr::filter(bebras_id == q) %>% select(value, category)"
   ]
  },
  {
   "cell_type": "markdown",
   "metadata": {},
   "source": [
    "#### Difficoltà"
   ]
  },
  {
   "cell_type": "code",
   "execution_count": null,
   "metadata": {
    "collapsed": false
   },
   "outputs": [],
   "source": [
    "options(repr.plot.width=10, repr.plot.height=2)\n",
    "p <- ggplot(d, aes(x=value))\n",
    "p <- p + geom_histogram(binwidth=0.1*sd(d$value)) \n",
    "p <- p + aes(y=..density..)\n",
    "p <- p + facet_grid(. ~ category)\n",
    "p\n",
    "summary(d$value)"
   ]
  },
  {
   "cell_type": "markdown",
   "metadata": {},
   "source": [
    "#### Differenziazione"
   ]
  },
  {
   "cell_type": "code",
   "execution_count": null,
   "metadata": {
    "collapsed": false
   },
   "outputs": [],
   "source": [
    "options(repr.plot.width=10, repr.plot.height=2)\n",
    "p <- ggplot(a, aes(x=value))\n",
    "p <- p + geom_histogram(binwidth=0.1*sd(a$value)) \n",
    "p <- p + aes(y=..density..)\n",
    "p <- p + facet_grid(. ~ category)\n",
    "p\n",
    "summary(a$value)"
   ]
  },
  {
   "cell_type": "markdown",
   "metadata": {},
   "source": [
    "#### Guessing"
   ]
  },
  {
   "cell_type": "code",
   "execution_count": null,
   "metadata": {
    "collapsed": false
   },
   "outputs": [],
   "source": [
    "options(repr.plot.width=10, repr.plot.height=2)\n",
    "p <- ggplot(g, aes(x=value))\n",
    "p <- p + geom_histogram(binwidth=0.1*sd(g$value)) \n",
    "p <- p + aes(y=..density..)\n",
    "p <- p + facet_grid(. ~ category)\n",
    "p\n",
    "summary(g$value)"
   ]
  },
  {
   "cell_type": "markdown",
   "metadata": {},
   "source": [
    "#### Curva Item-Response"
   ]
  },
  {
   "cell_type": "code",
   "execution_count": null,
   "metadata": {
    "collapsed": false
   },
   "outputs": [],
   "source": [
    "data <- data.frame(x=seq(-5,5,.1))\n",
    "options(repr.plot.width=6, repr.plot.height=6)\n",
    "p <- ggplot(data, aes(x=x))\n",
    "p <- p + scale_x_continuous()\n",
    "p <- p + geom_hline(yintercept=0.5, linetype=\"dashed\")\n",
    "for (i in 1:length(d$value)) {\n",
    "  p <- p + geom_line(aes(y=logistic(x, a=d$value[i], b=a$value[i], c=g$value[i])))\n",
    "}\n",
    "p"
   ]
  },
  {
   "cell_type": "markdown",
   "metadata": {},
   "source": [
    "###  2015_Mega_D4_RU07_Alchimista\n",
    "\n",
    "![Alchimista](screenshot/mega14-alchimista.png)"
   ]
  },
  {
   "cell_type": "code",
   "execution_count": null,
   "metadata": {
    "collapsed": false
   },
   "outputs": [],
   "source": [
    "q <- 'RU07'\n",
    "d <- quiz_difficulty %>% dplyr::filter(bebras_id == q) %>% select(value, category)\n",
    "a <- quiz_discrimination %>% dplyr::filter(bebras_id == q) %>% select(value, category)\n",
    "g <- quiz_guessing %>% dplyr::filter(bebras_id == q) %>% select(value, category)"
   ]
  },
  {
   "cell_type": "markdown",
   "metadata": {},
   "source": [
    "#### Difficoltà"
   ]
  },
  {
   "cell_type": "code",
   "execution_count": null,
   "metadata": {
    "collapsed": false
   },
   "outputs": [],
   "source": [
    "options(repr.plot.width=10, repr.plot.height=2)\n",
    "p <- ggplot(d, aes(x=value))\n",
    "p <- p + geom_histogram(binwidth=0.1*sd(d$value)) \n",
    "p <- p + aes(y=..density..)\n",
    "p <- p + facet_grid(. ~ category)\n",
    "p\n",
    "summary(d$value)"
   ]
  },
  {
   "cell_type": "markdown",
   "metadata": {},
   "source": [
    "#### Differenziazione"
   ]
  },
  {
   "cell_type": "code",
   "execution_count": null,
   "metadata": {
    "collapsed": false
   },
   "outputs": [],
   "source": [
    "options(repr.plot.width=10, repr.plot.height=2)\n",
    "p <- ggplot(a, aes(x=value))\n",
    "p <- p + geom_histogram(binwidth=0.1*sd(a$value)) \n",
    "p <- p + aes(y=..density..)\n",
    "p <- p + facet_grid(. ~ category)\n",
    "p\n",
    "summary(a$value)"
   ]
  },
  {
   "cell_type": "markdown",
   "metadata": {},
   "source": [
    "#### Guessing"
   ]
  },
  {
   "cell_type": "code",
   "execution_count": null,
   "metadata": {
    "collapsed": false
   },
   "outputs": [],
   "source": [
    "options(repr.plot.width=10, repr.plot.height=2)\n",
    "p <- ggplot(g, aes(x=value))\n",
    "p <- p + geom_histogram(binwidth=0.1*sd(g$value)) \n",
    "p <- p + aes(y=..density..)\n",
    "p <- p + facet_grid(. ~ category)\n",
    "p\n",
    "summary(g$value)"
   ]
  },
  {
   "cell_type": "markdown",
   "metadata": {},
   "source": [
    "#### Curva Item-Response"
   ]
  },
  {
   "cell_type": "code",
   "execution_count": null,
   "metadata": {
    "collapsed": false
   },
   "outputs": [],
   "source": [
    "data <- data.frame(x=seq(-5,5,.1))\n",
    "options(repr.plot.width=6, repr.plot.height=6)\n",
    "p <- ggplot(data, aes(x=x))\n",
    "p <- p + scale_x_continuous()\n",
    "p <- p + geom_hline(yintercept=0.5, linetype=\"dashed\")\n",
    "for (i in 1:length(d$value)) {\n",
    "  p <- p + geom_line(aes(y=logistic(x, a=d$value[i], b=a$value[i], c=g$value[i])))\n",
    "}\n",
    "p"
   ]
  },
  {
   "cell_type": "markdown",
   "metadata": {},
   "source": [
    "###  2015_Mega_D5_HU05_Acrobati\n",
    "\n",
    "![Acrobati](screenshot/mega15-acrobati.png)"
   ]
  },
  {
   "cell_type": "code",
   "execution_count": null,
   "metadata": {
    "collapsed": false
   },
   "outputs": [],
   "source": [
    "q <- 'HU05'\n",
    "d <- quiz_difficulty %>% dplyr::filter(bebras_id == q) %>% select(value, category)\n",
    "a <- quiz_discrimination %>% dplyr::filter(bebras_id == q) %>% select(value, category)\n",
    "g <- quiz_guessing %>% dplyr::filter(bebras_id == q) %>% select(value, category)"
   ]
  },
  {
   "cell_type": "markdown",
   "metadata": {},
   "source": [
    "#### Difficoltà"
   ]
  },
  {
   "cell_type": "code",
   "execution_count": null,
   "metadata": {
    "collapsed": false
   },
   "outputs": [],
   "source": [
    "options(repr.plot.width=10, repr.plot.height=2)\n",
    "p <- ggplot(d, aes(x=value))\n",
    "p <- p + geom_histogram(binwidth=0.1*sd(d$value)) \n",
    "p <- p + aes(y=..density..)\n",
    "p <- p + facet_grid(. ~ category)\n",
    "p\n",
    "summary(d$value)"
   ]
  },
  {
   "cell_type": "markdown",
   "metadata": {},
   "source": [
    "#### Differenziazione"
   ]
  },
  {
   "cell_type": "code",
   "execution_count": null,
   "metadata": {
    "collapsed": false
   },
   "outputs": [],
   "source": [
    "options(repr.plot.width=10, repr.plot.height=2)\n",
    "p <- ggplot(a, aes(x=value))\n",
    "p <- p + geom_histogram(binwidth=0.1*sd(a$value)) \n",
    "p <- p + aes(y=..density..)\n",
    "p <- p + facet_grid(. ~ category)\n",
    "p\n",
    "summary(a$value)"
   ]
  },
  {
   "cell_type": "markdown",
   "metadata": {},
   "source": [
    "#### Guessing"
   ]
  },
  {
   "cell_type": "code",
   "execution_count": null,
   "metadata": {
    "collapsed": false
   },
   "outputs": [],
   "source": [
    "options(repr.plot.width=10, repr.plot.height=2)\n",
    "p <- ggplot(g, aes(x=value))\n",
    "p <- p + geom_histogram(binwidth=0.1*sd(g$value)) \n",
    "p <- p + aes(y=..density..)\n",
    "p <- p + facet_grid(. ~ category)\n",
    "p\n",
    "summary(g$value)"
   ]
  },
  {
   "cell_type": "markdown",
   "metadata": {},
   "source": [
    "#### Curva Item-Response"
   ]
  },
  {
   "cell_type": "code",
   "execution_count": null,
   "metadata": {
    "collapsed": false
   },
   "outputs": [],
   "source": [
    "data <- data.frame(x=seq(-5,5,.1))\n",
    "options(repr.plot.width=6, repr.plot.height=6)\n",
    "p <- ggplot(data, aes(x=x))\n",
    "p <- p + scale_x_continuous()\n",
    "p <- p + geom_hline(yintercept=0.5, linetype=\"dashed\")\n",
    "for (i in 1:length(d$value)) {\n",
    "  p <- p + geom_line(aes(y=logistic(x, a=d$value[i], b=a$value[i], c=g$value[i])))\n",
    "}\n",
    "p"
   ]
  },
  {
   "cell_type": "markdown",
   "metadata": {},
   "source": [
    "###  2015_Giga_E1_SK04_Luci\n",
    "\n",
    "![Luci](screenshot/giga11-luci.png)"
   ]
  },
  {
   "cell_type": "code",
   "execution_count": null,
   "metadata": {
    "collapsed": false
   },
   "outputs": [],
   "source": [
    "q <- 'SK04'\n",
    "d <- quiz_difficulty %>% dplyr::filter(bebras_id == q) %>% select(value, category)\n",
    "a <- quiz_discrimination %>% dplyr::filter(bebras_id == q) %>% select(value, category)\n",
    "g <- quiz_guessing %>% dplyr::filter(bebras_id == q) %>% select(value, category)"
   ]
  },
  {
   "cell_type": "markdown",
   "metadata": {},
   "source": [
    "#### Difficoltà"
   ]
  },
  {
   "cell_type": "code",
   "execution_count": null,
   "metadata": {
    "collapsed": false
   },
   "outputs": [],
   "source": [
    "options(repr.plot.width=10, repr.plot.height=2)\n",
    "p <- ggplot(d, aes(x=value))\n",
    "p <- p + geom_histogram(binwidth=0.1*sd(d$value)) \n",
    "p <- p + aes(y=..density..)\n",
    "p <- p + facet_grid(. ~ category)\n",
    "p\n",
    "summary(d$value)"
   ]
  },
  {
   "cell_type": "markdown",
   "metadata": {},
   "source": [
    "#### Differenziazione"
   ]
  },
  {
   "cell_type": "code",
   "execution_count": null,
   "metadata": {
    "collapsed": false
   },
   "outputs": [],
   "source": [
    "options(repr.plot.width=10, repr.plot.height=2)\n",
    "p <- ggplot(a, aes(x=value))\n",
    "p <- p + geom_histogram(binwidth=0.1*sd(a$value)) \n",
    "p <- p + aes(y=..density..)\n",
    "p <- p + facet_grid(. ~ category)\n",
    "p\n",
    "summary(a$value)"
   ]
  },
  {
   "cell_type": "markdown",
   "metadata": {},
   "source": [
    "#### Guessing"
   ]
  },
  {
   "cell_type": "code",
   "execution_count": null,
   "metadata": {
    "collapsed": false
   },
   "outputs": [],
   "source": [
    "options(repr.plot.width=10, repr.plot.height=2)\n",
    "p <- ggplot(g, aes(x=value))\n",
    "p <- p + geom_histogram(binwidth=0.1*sd(g$value)) \n",
    "p <- p + aes(y=..density..)\n",
    "p <- p + facet_grid(. ~ category)\n",
    "p\n",
    "summary(g$value)"
   ]
  },
  {
   "cell_type": "markdown",
   "metadata": {},
   "source": [
    "#### Curva Item-Response"
   ]
  },
  {
   "cell_type": "code",
   "execution_count": null,
   "metadata": {
    "collapsed": false
   },
   "outputs": [],
   "source": [
    "data <- data.frame(x=seq(-5,5,.1))\n",
    "options(repr.plot.width=6, repr.plot.height=6)\n",
    "p <- ggplot(data, aes(x=x))\n",
    "p <- p + scale_x_continuous()\n",
    "p <- p + geom_hline(yintercept=0.5, linetype=\"dashed\")\n",
    "for (i in 1:length(d$value)) {\n",
    "  p <- p + geom_line(aes(y=logistic(x, a=d$value[i], b=a$value[i], c=g$value[i])))\n",
    "}\n",
    "p"
   ]
  },
  {
   "cell_type": "markdown",
   "metadata": {},
   "source": [
    "###  2015_Giga_E2_CH09_Labirinti\n",
    "\n",
    "![Labirinti](screenshot/giga12-labirinti.png)"
   ]
  },
  {
   "cell_type": "code",
   "execution_count": null,
   "metadata": {
    "collapsed": false
   },
   "outputs": [],
   "source": [
    "q <- 'CH09'\n",
    "d <- quiz_difficulty %>% dplyr::filter(bebras_id == q) %>% select(value, category)\n",
    "a <- quiz_discrimination %>% dplyr::filter(bebras_id == q) %>% select(value, category)\n",
    "g <- quiz_guessing %>% dplyr::filter(bebras_id == q) %>% select(value, category)"
   ]
  },
  {
   "cell_type": "markdown",
   "metadata": {},
   "source": [
    "#### Difficoltà"
   ]
  },
  {
   "cell_type": "code",
   "execution_count": null,
   "metadata": {
    "collapsed": false
   },
   "outputs": [],
   "source": [
    "options(repr.plot.width=10, repr.plot.height=2)\n",
    "p <- ggplot(d, aes(x=value))\n",
    "p <- p + geom_histogram(binwidth=0.1*sd(d$value)) \n",
    "p <- p + aes(y=..density..)\n",
    "p <- p + facet_grid(. ~ category)\n",
    "p\n",
    "summary(d$value)"
   ]
  },
  {
   "cell_type": "markdown",
   "metadata": {},
   "source": [
    "#### Differenziazione"
   ]
  },
  {
   "cell_type": "code",
   "execution_count": null,
   "metadata": {
    "collapsed": false
   },
   "outputs": [],
   "source": [
    "options(repr.plot.width=10, repr.plot.height=2)\n",
    "p <- ggplot(a, aes(x=value))\n",
    "p <- p + geom_histogram(binwidth=0.1*sd(a$value)) \n",
    "p <- p + aes(y=..density..)\n",
    "p <- p + facet_grid(. ~ category)\n",
    "p\n",
    "summary(a$value)"
   ]
  },
  {
   "cell_type": "markdown",
   "metadata": {},
   "source": [
    "#### Guessing"
   ]
  },
  {
   "cell_type": "code",
   "execution_count": null,
   "metadata": {
    "collapsed": false
   },
   "outputs": [],
   "source": [
    "options(repr.plot.width=10, repr.plot.height=2)\n",
    "p <- ggplot(g, aes(x=value))\n",
    "p <- p + geom_histogram(binwidth=0.1*sd(g$value)) \n",
    "p <- p + aes(y=..density..)\n",
    "p <- p + facet_grid(. ~ category)\n",
    "p\n",
    "summary(g$value)"
   ]
  },
  {
   "cell_type": "markdown",
   "metadata": {},
   "source": [
    "#### Curva Item-Response"
   ]
  },
  {
   "cell_type": "code",
   "execution_count": null,
   "metadata": {
    "collapsed": false
   },
   "outputs": [],
   "source": [
    "data <- data.frame(x=seq(-5,5,.1))\n",
    "options(repr.plot.width=6, repr.plot.height=6)\n",
    "p <- ggplot(data, aes(x=x))\n",
    "p <- p + scale_x_continuous()\n",
    "p <- p + geom_hline(yintercept=0.5, linetype=\"dashed\")\n",
    "for (i in 1:length(d$value)) {\n",
    "  p <- p + geom_line(aes(y=logistic(x, a=d$value[i], b=a$value[i], c=g$value[i])))\n",
    "}\n",
    "p"
   ]
  },
  {
   "cell_type": "markdown",
   "metadata": {},
   "source": [
    "###  2015_Giga_E3_HU07_Pianoforte\n",
    "\n",
    "![Pianoforte](screenshot/giga13-pianoforte.png)"
   ]
  },
  {
   "cell_type": "code",
   "execution_count": null,
   "metadata": {
    "collapsed": false
   },
   "outputs": [],
   "source": [
    "q <- 'HU07'\n",
    "d <- quiz_difficulty %>% dplyr::filter(bebras_id == q) %>% select(value, category)\n",
    "a <- quiz_discrimination %>% dplyr::filter(bebras_id == q) %>% select(value, category)\n",
    "g <- quiz_guessing %>% dplyr::filter(bebras_id == q) %>% select(value, category)"
   ]
  },
  {
   "cell_type": "markdown",
   "metadata": {},
   "source": [
    "#### Difficoltà"
   ]
  },
  {
   "cell_type": "code",
   "execution_count": null,
   "metadata": {
    "collapsed": false
   },
   "outputs": [],
   "source": [
    "options(repr.plot.width=10, repr.plot.height=2)\n",
    "p <- ggplot(d, aes(x=value))\n",
    "p <- p + geom_histogram(binwidth=0.1*sd(d$value)) \n",
    "p <- p + aes(y=..density..)\n",
    "p <- p + facet_grid(. ~ category)\n",
    "p\n",
    "summary(d$value)"
   ]
  },
  {
   "cell_type": "markdown",
   "metadata": {},
   "source": [
    "#### Differenziazione"
   ]
  },
  {
   "cell_type": "code",
   "execution_count": null,
   "metadata": {
    "collapsed": false
   },
   "outputs": [],
   "source": [
    "options(repr.plot.width=10, repr.plot.height=2)\n",
    "p <- ggplot(a, aes(x=value))\n",
    "p <- p + geom_histogram(binwidth=0.1*sd(a$value)) \n",
    "p <- p + aes(y=..density..)\n",
    "p <- p + facet_grid(. ~ category)\n",
    "p\n",
    "summary(a$value)"
   ]
  },
  {
   "cell_type": "markdown",
   "metadata": {},
   "source": [
    "#### Guessing"
   ]
  },
  {
   "cell_type": "code",
   "execution_count": null,
   "metadata": {
    "collapsed": false
   },
   "outputs": [],
   "source": [
    "options(repr.plot.width=10, repr.plot.height=2)\n",
    "p <- ggplot(g, aes(x=value))\n",
    "p <- p + geom_histogram(binwidth=0.1*sd(g$value)) \n",
    "p <- p + aes(y=..density..)\n",
    "p <- p + facet_grid(. ~ category)\n",
    "p\n",
    "summary(g$value)"
   ]
  },
  {
   "cell_type": "markdown",
   "metadata": {},
   "source": [
    "#### Curva Item-Response"
   ]
  },
  {
   "cell_type": "code",
   "execution_count": null,
   "metadata": {
    "collapsed": false
   },
   "outputs": [],
   "source": [
    "data <- data.frame(x=seq(-5,5,.1))\n",
    "options(repr.plot.width=6, repr.plot.height=6)\n",
    "p <- ggplot(data, aes(x=x))\n",
    "p <- p + scale_x_continuous()\n",
    "p <- p + geom_hline(yintercept=0.5, linetype=\"dashed\")\n",
    "for (i in 1:length(d$value)) {\n",
    "  p <- p + geom_line(aes(y=logistic(x, a=d$value[i], b=a$value[i], c=g$value[i])))\n",
    "}\n",
    "p"
   ]
  },
  {
   "cell_type": "markdown",
   "metadata": {},
   "source": [
    "###  2015_Giga_E4_CA01_Popolarita\n",
    "\n",
    "![Popolarita](screenshot/giga14-popolarita.png)"
   ]
  },
  {
   "cell_type": "code",
   "execution_count": null,
   "metadata": {
    "collapsed": false
   },
   "outputs": [],
   "source": [
    "q <- 'CA01'\n",
    "d <- quiz_difficulty %>% dplyr::filter(bebras_id == q) %>% select(value, category)\n",
    "a <- quiz_discrimination %>% dplyr::filter(bebras_id == q) %>% select(value, category)\n",
    "g <- quiz_guessing %>% dplyr::filter(bebras_id == q) %>% select(value, category)"
   ]
  },
  {
   "cell_type": "markdown",
   "metadata": {},
   "source": [
    "#### Difficoltà"
   ]
  },
  {
   "cell_type": "code",
   "execution_count": null,
   "metadata": {
    "collapsed": false
   },
   "outputs": [],
   "source": [
    "options(repr.plot.width=10, repr.plot.height=2)\n",
    "p <- ggplot(d, aes(x=value))\n",
    "p <- p + geom_histogram(binwidth=0.1*sd(d$value)) \n",
    "p <- p + aes(y=..density..)\n",
    "p <- p + facet_grid(. ~ category)\n",
    "p\n",
    "summary(d$value)"
   ]
  },
  {
   "cell_type": "markdown",
   "metadata": {},
   "source": [
    "#### Differenziazione"
   ]
  },
  {
   "cell_type": "code",
   "execution_count": null,
   "metadata": {
    "collapsed": false
   },
   "outputs": [],
   "source": [
    "options(repr.plot.width=10, repr.plot.height=2)\n",
    "p <- ggplot(a, aes(x=value))\n",
    "p <- p + geom_histogram(binwidth=0.1*sd(a$value)) \n",
    "p <- p + aes(y=..density..)\n",
    "p <- p + facet_grid(. ~ category)\n",
    "p\n",
    "summary(a$value)"
   ]
  },
  {
   "cell_type": "markdown",
   "metadata": {},
   "source": [
    "#### Guessing"
   ]
  },
  {
   "cell_type": "code",
   "execution_count": null,
   "metadata": {
    "collapsed": false
   },
   "outputs": [],
   "source": [
    "options(repr.plot.width=10, repr.plot.height=2)\n",
    "p <- ggplot(g, aes(x=value))\n",
    "p <- p + geom_histogram(binwidth=0.1*sd(g$value)) \n",
    "p <- p + aes(y=..density..)\n",
    "p <- p + facet_grid(. ~ category)\n",
    "p\n",
    "summary(g$value)"
   ]
  },
  {
   "cell_type": "markdown",
   "metadata": {},
   "source": [
    "#### Curva Item-Response"
   ]
  },
  {
   "cell_type": "code",
   "execution_count": null,
   "metadata": {
    "collapsed": false
   },
   "outputs": [],
   "source": [
    "data <- data.frame(x=seq(-5,5,.1))\n",
    "options(repr.plot.width=6, repr.plot.height=6)\n",
    "p <- ggplot(data, aes(x=x))\n",
    "p <- p + scale_x_continuous()\n",
    "p <- p + geom_hline(yintercept=0.5, linetype=\"dashed\")\n",
    "for (i in 1:length(d$value)) {\n",
    "  p <- p + geom_line(aes(y=logistic(x, a=d$value[i], b=a$value[i], c=g$value[i])))\n",
    "}\n",
    "p"
   ]
  },
  {
   "cell_type": "markdown",
   "metadata": {},
   "source": [
    "###  2015_Giga_E5_TW03_LuogoDelitto\n",
    "\n",
    "![LuogoDelitto](screenshot/giga15-delitto.png)"
   ]
  },
  {
   "cell_type": "code",
   "execution_count": null,
   "metadata": {
    "collapsed": false
   },
   "outputs": [],
   "source": [
    "q <- 'TW03'\n",
    "d <- quiz_difficulty %>% dplyr::filter(bebras_id == q) %>% select(value, category)\n",
    "a <- quiz_discrimination %>% dplyr::filter(bebras_id == q) %>% select(value, category)\n",
    "g <- quiz_guessing %>% dplyr::filter(bebras_id == q) %>% select(value, category)"
   ]
  },
  {
   "cell_type": "markdown",
   "metadata": {},
   "source": [
    "#### Difficoltà"
   ]
  },
  {
   "cell_type": "code",
   "execution_count": null,
   "metadata": {
    "collapsed": false
   },
   "outputs": [],
   "source": [
    "options(repr.plot.width=10, repr.plot.height=2)\n",
    "p <- ggplot(d, aes(x=value))\n",
    "p <- p + geom_histogram(binwidth=0.1*sd(d$value)) \n",
    "p <- p + aes(y=..density..)\n",
    "p <- p + facet_grid(. ~ category)\n",
    "p\n",
    "summary(d$value)"
   ]
  },
  {
   "cell_type": "markdown",
   "metadata": {},
   "source": [
    "#### Differenziazione"
   ]
  },
  {
   "cell_type": "code",
   "execution_count": null,
   "metadata": {
    "collapsed": false
   },
   "outputs": [],
   "source": [
    "options(repr.plot.width=10, repr.plot.height=2)\n",
    "p <- ggplot(a, aes(x=value))\n",
    "p <- p + geom_histogram(binwidth=0.1*sd(a$value)) \n",
    "p <- p + aes(y=..density..)\n",
    "p <- p + facet_grid(. ~ category)\n",
    "p\n",
    "summary(a$value)"
   ]
  },
  {
   "cell_type": "markdown",
   "metadata": {},
   "source": [
    "#### Guessing"
   ]
  },
  {
   "cell_type": "code",
   "execution_count": null,
   "metadata": {
    "collapsed": false
   },
   "outputs": [],
   "source": [
    "options(repr.plot.width=10, repr.plot.height=2)\n",
    "p <- ggplot(g, aes(x=value))\n",
    "p <- p + geom_histogram(binwidth=0.1*sd(g$value)) \n",
    "p <- p + aes(y=..density..)\n",
    "p <- p + facet_grid(. ~ category)\n",
    "p\n",
    "summary(g$value)"
   ]
  },
  {
   "cell_type": "markdown",
   "metadata": {},
   "source": [
    "#### Curva Item-Response"
   ]
  },
  {
   "cell_type": "code",
   "execution_count": null,
   "metadata": {
    "collapsed": false
   },
   "outputs": [],
   "source": [
    "data <- data.frame(x=seq(-5,5,.1))\n",
    "options(repr.plot.width=6, repr.plot.height=6)\n",
    "p <- ggplot(data, aes(x=x))\n",
    "p <- p + scale_x_continuous()\n",
    "p <- p + geom_hline(yintercept=0.5, linetype=\"dashed\")\n",
    "for (i in 1:length(d$value)) {\n",
    "  p <- p + geom_line(aes(y=logistic(x, a=d$value[i], b=a$value[i], c=g$value[i])))\n",
    "}\n",
    "p"
   ]
  },
  {
   "cell_type": "markdown",
   "metadata": {},
   "source": [
    "###  2015_Tera_F1_SK01_Robot\n",
    "\n",
    "![Robot](screenshot/tera11-robot.png)"
   ]
  },
  {
   "cell_type": "code",
   "execution_count": null,
   "metadata": {
    "collapsed": false
   },
   "outputs": [],
   "source": [
    "q <- 'SK01'\n",
    "d <- quiz_difficulty %>% dplyr::filter(bebras_id == q) %>% select(value, category)\n",
    "a <- quiz_discrimination %>% dplyr::filter(bebras_id == q) %>% select(value, category)\n",
    "g <- quiz_guessing %>% dplyr::filter(bebras_id == q) %>% select(value, category)"
   ]
  },
  {
   "cell_type": "markdown",
   "metadata": {},
   "source": [
    "#### Difficoltà"
   ]
  },
  {
   "cell_type": "code",
   "execution_count": null,
   "metadata": {
    "collapsed": false
   },
   "outputs": [],
   "source": [
    "options(repr.plot.width=10, repr.plot.height=2)\n",
    "p <- ggplot(d, aes(x=value))\n",
    "p <- p + geom_histogram(binwidth=0.1*sd(d$value)) \n",
    "p <- p + aes(y=..density..)\n",
    "p <- p + facet_grid(. ~ category)\n",
    "p\n",
    "summary(d$value)"
   ]
  },
  {
   "cell_type": "markdown",
   "metadata": {},
   "source": [
    "#### Differenziazione"
   ]
  },
  {
   "cell_type": "code",
   "execution_count": null,
   "metadata": {
    "collapsed": false
   },
   "outputs": [],
   "source": [
    "options(repr.plot.width=10, repr.plot.height=2)\n",
    "p <- ggplot(a, aes(x=value))\n",
    "p <- p + geom_histogram(binwidth=0.1*sd(a$value)) \n",
    "p <- p + aes(y=..density..)\n",
    "p <- p + facet_grid(. ~ category)\n",
    "p\n",
    "summary(a$value)"
   ]
  },
  {
   "cell_type": "markdown",
   "metadata": {},
   "source": [
    "#### Guessing"
   ]
  },
  {
   "cell_type": "code",
   "execution_count": null,
   "metadata": {
    "collapsed": false
   },
   "outputs": [],
   "source": [
    "options(repr.plot.width=10, repr.plot.height=2)\n",
    "p <- ggplot(g, aes(x=value))\n",
    "p <- p + geom_histogram(binwidth=0.1*sd(g$value)) \n",
    "p <- p + aes(y=..density..)\n",
    "p <- p + facet_grid(. ~ category)\n",
    "p\n",
    "summary(g$value)"
   ]
  },
  {
   "cell_type": "markdown",
   "metadata": {},
   "source": [
    "#### Curva Item-Response"
   ]
  },
  {
   "cell_type": "code",
   "execution_count": null,
   "metadata": {
    "collapsed": false
   },
   "outputs": [],
   "source": [
    "data <- data.frame(x=seq(-5,5,.1))\n",
    "options(repr.plot.width=6, repr.plot.height=6)\n",
    "p <- ggplot(data, aes(x=x))\n",
    "p <- p + scale_x_continuous()\n",
    "p <- p + geom_hline(yintercept=0.5, linetype=\"dashed\")\n",
    "for (i in 1:length(d$value)) {\n",
    "  p <- p + geom_line(aes(y=logistic(x, a=d$value[i], b=a$value[i], c=g$value[i])))\n",
    "}\n",
    "p"
   ]
  },
  {
   "cell_type": "markdown",
   "metadata": {},
   "source": [
    "###  2015_Tera_F2_CA02_Fuochi\n",
    "\n",
    "![Fuochi](screenshot/tera12-fuochi.png)"
   ]
  },
  {
   "cell_type": "code",
   "execution_count": null,
   "metadata": {
    "collapsed": false
   },
   "outputs": [],
   "source": [
    "q <- 'CA02'\n",
    "d <- quiz_difficulty %>% dplyr::filter(bebras_id == q) %>% select(value, category)\n",
    "a <- quiz_discrimination %>% dplyr::filter(bebras_id == q) %>% select(value, category)\n",
    "g <- quiz_guessing %>% dplyr::filter(bebras_id == q) %>% select(value, category)"
   ]
  },
  {
   "cell_type": "markdown",
   "metadata": {},
   "source": [
    "#### Difficoltà"
   ]
  },
  {
   "cell_type": "code",
   "execution_count": null,
   "metadata": {
    "collapsed": false
   },
   "outputs": [],
   "source": [
    "options(repr.plot.width=10, repr.plot.height=2)\n",
    "p <- ggplot(d, aes(x=value))\n",
    "p <- p + geom_histogram(binwidth=0.1*sd(d$value)) \n",
    "p <- p + aes(y=..density..)\n",
    "p <- p + facet_grid(. ~ category)\n",
    "p\n",
    "summary(d$value)"
   ]
  },
  {
   "cell_type": "markdown",
   "metadata": {},
   "source": [
    "#### Differenziazione"
   ]
  },
  {
   "cell_type": "code",
   "execution_count": null,
   "metadata": {
    "collapsed": false
   },
   "outputs": [],
   "source": [
    "options(repr.plot.width=10, repr.plot.height=2)\n",
    "p <- ggplot(a, aes(x=value))\n",
    "p <- p + geom_histogram(binwidth=0.1*sd(a$value)) \n",
    "p <- p + aes(y=..density..)\n",
    "p <- p + facet_grid(. ~ category)\n",
    "p\n",
    "summary(a$value)"
   ]
  },
  {
   "cell_type": "markdown",
   "metadata": {},
   "source": [
    "#### Guessing"
   ]
  },
  {
   "cell_type": "code",
   "execution_count": null,
   "metadata": {
    "collapsed": false
   },
   "outputs": [],
   "source": [
    "options(repr.plot.width=10, repr.plot.height=2)\n",
    "p <- ggplot(g, aes(x=value))\n",
    "p <- p + geom_histogram(binwidth=0.1*sd(g$value)) \n",
    "p <- p + aes(y=..density..)\n",
    "p <- p + facet_grid(. ~ category)\n",
    "p\n",
    "summary(g$value)"
   ]
  },
  {
   "cell_type": "markdown",
   "metadata": {},
   "source": [
    "#### Curva Item-Response"
   ]
  },
  {
   "cell_type": "code",
   "execution_count": null,
   "metadata": {
    "collapsed": false
   },
   "outputs": [],
   "source": [
    "data <- data.frame(x=seq(-5,5,.1))\n",
    "options(repr.plot.width=6, repr.plot.height=6)\n",
    "p <- ggplot(data, aes(x=x))\n",
    "p <- p + scale_x_continuous()\n",
    "p <- p + geom_hline(yintercept=0.5, linetype=\"dashed\")\n",
    "for (i in 1:length(d$value)) {\n",
    "  p <- p + geom_line(aes(y=logistic(x, a=d$value[i], b=a$value[i], c=g$value[i])))\n",
    "}\n",
    "p"
   ]
  },
  {
   "cell_type": "markdown",
   "metadata": {},
   "source": [
    "###  2015_Tera_F3_RU02_Ricetta\n",
    "\n",
    "![Ricetta](screenshot/tera13-ricetta.png)"
   ]
  },
  {
   "cell_type": "code",
   "execution_count": null,
   "metadata": {
    "collapsed": false
   },
   "outputs": [],
   "source": [
    "q <- 'RU02'\n",
    "d <- quiz_difficulty %>% dplyr::filter(bebras_id == q) %>% select(value, category)\n",
    "a <- quiz_discrimination %>% dplyr::filter(bebras_id == q) %>% select(value, category)\n",
    "g <- quiz_guessing %>% dplyr::filter(bebras_id == q) %>% select(value, category)"
   ]
  },
  {
   "cell_type": "markdown",
   "metadata": {},
   "source": [
    "#### Difficoltà"
   ]
  },
  {
   "cell_type": "code",
   "execution_count": null,
   "metadata": {
    "collapsed": false
   },
   "outputs": [],
   "source": [
    "options(repr.plot.width=10, repr.plot.height=2)\n",
    "p <- ggplot(d, aes(x=value))\n",
    "p <- p + geom_histogram(binwidth=0.1*sd(d$value)) \n",
    "p <- p + aes(y=..density..)\n",
    "p <- p + facet_grid(. ~ category)\n",
    "p\n",
    "summary(d$value)"
   ]
  },
  {
   "cell_type": "markdown",
   "metadata": {},
   "source": [
    "#### Differenziazione"
   ]
  },
  {
   "cell_type": "code",
   "execution_count": null,
   "metadata": {
    "collapsed": false
   },
   "outputs": [],
   "source": [
    "options(repr.plot.width=10, repr.plot.height=2)\n",
    "p <- ggplot(a, aes(x=value))\n",
    "p <- p + geom_histogram(binwidth=0.1*sd(a$value)) \n",
    "p <- p + aes(y=..density..)\n",
    "p <- p + facet_grid(. ~ category)\n",
    "p\n",
    "summary(a$value)"
   ]
  },
  {
   "cell_type": "markdown",
   "metadata": {},
   "source": [
    "#### Guessing"
   ]
  },
  {
   "cell_type": "code",
   "execution_count": null,
   "metadata": {
    "collapsed": false
   },
   "outputs": [],
   "source": [
    "options(repr.plot.width=10, repr.plot.height=2)\n",
    "p <- ggplot(g, aes(x=value))\n",
    "p <- p + geom_histogram(binwidth=0.1*sd(g$value)) \n",
    "p <- p + aes(y=..density..)\n",
    "p <- p + facet_grid(. ~ category)\n",
    "p\n",
    "summary(g$value)"
   ]
  },
  {
   "cell_type": "markdown",
   "metadata": {},
   "source": [
    "#### Curva Item-Response"
   ]
  },
  {
   "cell_type": "code",
   "execution_count": null,
   "metadata": {
    "collapsed": false
   },
   "outputs": [],
   "source": [
    "data <- data.frame(x=seq(-5,5,.1))\n",
    "options(repr.plot.width=6, repr.plot.height=6)\n",
    "p <- ggplot(data, aes(x=x))\n",
    "p <- p + scale_x_continuous()\n",
    "p <- p + geom_hline(yintercept=0.5, linetype=\"dashed\")\n",
    "for (i in 1:length(d$value)) {\n",
    "  p <- p + geom_line(aes(y=logistic(x, a=d$value[i], b=a$value[i], c=g$value[i])))\n",
    "}\n",
    "p"
   ]
  },
  {
   "cell_type": "markdown",
   "metadata": {},
   "source": [
    "###  2015_Tera_F4_AT01_Famiglia\n",
    "\n",
    "![Famiglia](screenshot/tera14-famiglia.png)"
   ]
  },
  {
   "cell_type": "code",
   "execution_count": null,
   "metadata": {
    "collapsed": false
   },
   "outputs": [],
   "source": [
    "q <- 'AT01'\n",
    "d <- quiz_difficulty %>% dplyr::filter(bebras_id == q) %>% select(value, category)\n",
    "a <- quiz_discrimination %>% dplyr::filter(bebras_id == q) %>% select(value, category)\n",
    "g <- quiz_guessing %>% dplyr::filter(bebras_id == q) %>% select(value, category)"
   ]
  },
  {
   "cell_type": "markdown",
   "metadata": {},
   "source": [
    "#### Difficoltà"
   ]
  },
  {
   "cell_type": "code",
   "execution_count": null,
   "metadata": {
    "collapsed": false
   },
   "outputs": [],
   "source": [
    "options(repr.plot.width=10, repr.plot.height=2)\n",
    "p <- ggplot(d, aes(x=value))\n",
    "p <- p + geom_histogram(binwidth=0.1*sd(d$value)) \n",
    "p <- p + aes(y=..density..)\n",
    "p <- p + facet_grid(. ~ category)\n",
    "p\n",
    "summary(d$value)"
   ]
  },
  {
   "cell_type": "markdown",
   "metadata": {},
   "source": [
    "#### Differenziazione"
   ]
  },
  {
   "cell_type": "code",
   "execution_count": null,
   "metadata": {
    "collapsed": false
   },
   "outputs": [],
   "source": [
    "options(repr.plot.width=10, repr.plot.height=2)\n",
    "p <- ggplot(a, aes(x=value))\n",
    "p <- p + geom_histogram(binwidth=0.1*sd(a$value)) \n",
    "p <- p + aes(y=..density..)\n",
    "p <- p + facet_grid(. ~ category)\n",
    "p\n",
    "summary(a$value)"
   ]
  },
  {
   "cell_type": "markdown",
   "metadata": {},
   "source": [
    "#### Guessing"
   ]
  },
  {
   "cell_type": "code",
   "execution_count": null,
   "metadata": {
    "collapsed": false
   },
   "outputs": [],
   "source": [
    "options(repr.plot.width=10, repr.plot.height=2)\n",
    "p <- ggplot(g, aes(x=value))\n",
    "p <- p + geom_histogram(binwidth=0.1*sd(g$value)) \n",
    "p <- p + aes(y=..density..)\n",
    "p <- p + facet_grid(. ~ category)\n",
    "p\n",
    "summary(g$value)"
   ]
  },
  {
   "cell_type": "markdown",
   "metadata": {},
   "source": [
    "#### Curva Item-Response"
   ]
  },
  {
   "cell_type": "code",
   "execution_count": null,
   "metadata": {
    "collapsed": false
   },
   "outputs": [],
   "source": [
    "data <- data.frame(x=seq(-5,5,.1))\n",
    "options(repr.plot.width=6, repr.plot.height=6)\n",
    "p <- ggplot(data, aes(x=x))\n",
    "p <- p + scale_x_continuous()\n",
    "p <- p + geom_hline(yintercept=0.5, linetype=\"dashed\")\n",
    "for (i in 1:length(d$value)) {\n",
    "  p <- p + geom_line(aes(y=logistic(x, a=d$value[i], b=a$value[i], c=g$value[i])))\n",
    "}\n",
    "p"
   ]
  },
  {
   "cell_type": "markdown",
   "metadata": {},
   "source": [
    "###  2015_Tera_F5_UA02_Bibite\n",
    "\n",
    "![Bibite](screenshot/tera15-bibite.png)"
   ]
  },
  {
   "cell_type": "code",
   "execution_count": null,
   "metadata": {
    "collapsed": false
   },
   "outputs": [],
   "source": [
    "q <- 'UA02'\n",
    "d <- quiz_difficulty %>% dplyr::filter(bebras_id == q) %>% select(value, category)\n",
    "a <- quiz_discrimination %>% dplyr::filter(bebras_id == q) %>% select(value, category)\n",
    "g <- quiz_guessing %>% dplyr::filter(bebras_id == q) %>% select(value, category)"
   ]
  },
  {
   "cell_type": "markdown",
   "metadata": {},
   "source": [
    "#### Difficoltà"
   ]
  },
  {
   "cell_type": "code",
   "execution_count": null,
   "metadata": {
    "collapsed": false
   },
   "outputs": [],
   "source": [
    "options(repr.plot.width=10, repr.plot.height=2)\n",
    "p <- ggplot(d, aes(x=value))\n",
    "p <- p + geom_histogram(binwidth=0.1*sd(d$value)) \n",
    "p <- p + aes(y=..density..)\n",
    "p <- p + facet_grid(. ~ category)\n",
    "p\n",
    "summary(d$value)"
   ]
  },
  {
   "cell_type": "markdown",
   "metadata": {},
   "source": [
    "#### Differenziazione"
   ]
  },
  {
   "cell_type": "code",
   "execution_count": null,
   "metadata": {
    "collapsed": false
   },
   "outputs": [],
   "source": [
    "options(repr.plot.width=10, repr.plot.height=2)\n",
    "p <- ggplot(a, aes(x=value))\n",
    "p <- p + geom_histogram(binwidth=0.1*sd(a$value)) \n",
    "p <- p + aes(y=..density..)\n",
    "p <- p + facet_grid(. ~ category)\n",
    "p\n",
    "summary(a$value)"
   ]
  },
  {
   "cell_type": "markdown",
   "metadata": {},
   "source": [
    "#### Guessing"
   ]
  },
  {
   "cell_type": "code",
   "execution_count": null,
   "metadata": {
    "collapsed": false
   },
   "outputs": [],
   "source": [
    "options(repr.plot.width=10, repr.plot.height=2)\n",
    "p <- ggplot(g, aes(x=value))\n",
    "p <- p + geom_histogram(binwidth=0.1*sd(g$value)) \n",
    "p <- p + aes(y=..density..)\n",
    "p <- p + facet_grid(. ~ category)\n",
    "p\n",
    "summary(g$value)"
   ]
  },
  {
   "cell_type": "markdown",
   "metadata": {},
   "source": [
    "#### Curva Item-Response"
   ]
  },
  {
   "cell_type": "code",
   "execution_count": null,
   "metadata": {
    "collapsed": false
   },
   "outputs": [],
   "source": [
    "data <- data.frame(x=seq(-5,5,.1))\n",
    "options(repr.plot.width=6, repr.plot.height=6)\n",
    "p <- ggplot(data, aes(x=x))\n",
    "p <- p + scale_x_continuous()\n",
    "p <- p + geom_hline(yintercept=0.5, linetype=\"dashed\")\n",
    "for (i in 1:length(d$value)) {\n",
    "  p <- p + geom_line(aes(y=logistic(x, a=d$value[i], b=a$value[i], c=g$value[i])))\n",
    "}\n",
    "p"
   ]
  },
  {
   "cell_type": "markdown",
   "metadata": {},
   "source": [
    "###  2015_Peta_G1_CH01_Calcolatrice\n",
    "\n",
    "![Calcolatrice](screenshot/peta11-calcolatrice.png)"
   ]
  },
  {
   "cell_type": "code",
   "execution_count": null,
   "metadata": {
    "collapsed": false
   },
   "outputs": [],
   "source": [
    "q <- 'CH01'\n",
    "d <- quiz_difficulty %>% dplyr::filter(bebras_id == q) %>% select(value, category)\n",
    "a <- quiz_discrimination %>% dplyr::filter(bebras_id == q) %>% select(value, category)\n",
    "g <- quiz_guessing %>% dplyr::filter(bebras_id == q) %>% select(value, category)"
   ]
  },
  {
   "cell_type": "markdown",
   "metadata": {},
   "source": [
    "#### Difficoltà"
   ]
  },
  {
   "cell_type": "code",
   "execution_count": null,
   "metadata": {
    "collapsed": false
   },
   "outputs": [],
   "source": [
    "options(repr.plot.width=10, repr.plot.height=2)\n",
    "p <- ggplot(d, aes(x=value))\n",
    "p <- p + geom_histogram(binwidth=0.1*sd(d$value)) \n",
    "p <- p + aes(y=..density..)\n",
    "p <- p + facet_grid(. ~ category)\n",
    "p\n",
    "summary(d$value)"
   ]
  },
  {
   "cell_type": "markdown",
   "metadata": {},
   "source": [
    "#### Differenziazione"
   ]
  },
  {
   "cell_type": "code",
   "execution_count": null,
   "metadata": {
    "collapsed": false
   },
   "outputs": [],
   "source": [
    "options(repr.plot.width=10, repr.plot.height=2)\n",
    "p <- ggplot(a, aes(x=value))\n",
    "p <- p + geom_histogram(binwidth=0.1*sd(a$value)) \n",
    "p <- p + aes(y=..density..)\n",
    "p <- p + facet_grid(. ~ category)\n",
    "p\n",
    "summary(a$value)"
   ]
  },
  {
   "cell_type": "markdown",
   "metadata": {},
   "source": [
    "#### Guessing"
   ]
  },
  {
   "cell_type": "code",
   "execution_count": null,
   "metadata": {
    "collapsed": false
   },
   "outputs": [],
   "source": [
    "options(repr.plot.width=10, repr.plot.height=2)\n",
    "p <- ggplot(g, aes(x=value))\n",
    "p <- p + geom_histogram(binwidth=0.1*sd(g$value)) \n",
    "p <- p + aes(y=..density..)\n",
    "p <- p + facet_grid(. ~ category)\n",
    "p\n",
    "summary(g$value)"
   ]
  },
  {
   "cell_type": "markdown",
   "metadata": {},
   "source": [
    "#### Curva Item-Response"
   ]
  },
  {
   "cell_type": "code",
   "execution_count": null,
   "metadata": {
    "collapsed": false
   },
   "outputs": [],
   "source": [
    "data <- data.frame(x=seq(-5,5,.1))\n",
    "options(repr.plot.width=6, repr.plot.height=6)\n",
    "p <- ggplot(data, aes(x=x))\n",
    "p <- p + scale_x_continuous()\n",
    "p <- p + geom_hline(yintercept=0.5, linetype=\"dashed\")\n",
    "for (i in 1:length(d$value)) {\n",
    "  p <- p + geom_line(aes(y=logistic(x, a=d$value[i], b=a$value[i], c=g$value[i])))\n",
    "}\n",
    "p"
   ]
  },
  {
   "cell_type": "markdown",
   "metadata": {},
   "source": [
    "###  2015_Peta_G2_DE05_Ciondoli\n",
    "\n",
    "![Ciondoli](screenshot/peta12-ciondoli.png)"
   ]
  },
  {
   "cell_type": "code",
   "execution_count": null,
   "metadata": {
    "collapsed": false
   },
   "outputs": [],
   "source": [
    "q <- 'DE05'\n",
    "d <- quiz_difficulty %>% dplyr::filter(bebras_id == q) %>% select(value, category)\n",
    "a <- quiz_discrimination %>% dplyr::filter(bebras_id == q) %>% select(value, category)\n",
    "g <- quiz_guessing %>% dplyr::filter(bebras_id == q) %>% select(value, category)"
   ]
  },
  {
   "cell_type": "markdown",
   "metadata": {},
   "source": [
    "#### Difficoltà"
   ]
  },
  {
   "cell_type": "code",
   "execution_count": null,
   "metadata": {
    "collapsed": false
   },
   "outputs": [],
   "source": [
    "options(repr.plot.width=10, repr.plot.height=2)\n",
    "p <- ggplot(d, aes(x=value))\n",
    "p <- p + geom_histogram(binwidth=0.1*sd(d$value)) \n",
    "p <- p + aes(y=..density..)\n",
    "p <- p + facet_grid(. ~ category)\n",
    "p\n",
    "summary(d$value)"
   ]
  },
  {
   "cell_type": "markdown",
   "metadata": {},
   "source": [
    "#### Differenziazione"
   ]
  },
  {
   "cell_type": "code",
   "execution_count": null,
   "metadata": {
    "collapsed": false
   },
   "outputs": [],
   "source": [
    "options(repr.plot.width=10, repr.plot.height=2)\n",
    "p <- ggplot(a, aes(x=value))\n",
    "p <- p + geom_histogram(binwidth=0.1*sd(a$value)) \n",
    "p <- p + aes(y=..density..)\n",
    "p <- p + facet_grid(. ~ category)\n",
    "p\n",
    "summary(a$value)"
   ]
  },
  {
   "cell_type": "markdown",
   "metadata": {},
   "source": [
    "#### Guessing"
   ]
  },
  {
   "cell_type": "code",
   "execution_count": null,
   "metadata": {
    "collapsed": false
   },
   "outputs": [],
   "source": [
    "options(repr.plot.width=10, repr.plot.height=2)\n",
    "p <- ggplot(g, aes(x=value))\n",
    "p <- p + geom_histogram(binwidth=0.1*sd(g$value)) \n",
    "p <- p + aes(y=..density..)\n",
    "p <- p + facet_grid(. ~ category)\n",
    "p\n",
    "summary(g$value)"
   ]
  },
  {
   "cell_type": "markdown",
   "metadata": {},
   "source": [
    "#### Curva Item-Response"
   ]
  },
  {
   "cell_type": "code",
   "execution_count": null,
   "metadata": {
    "collapsed": false
   },
   "outputs": [],
   "source": [
    "data <- data.frame(x=seq(-5,5,.1))\n",
    "options(repr.plot.width=6, repr.plot.height=6)\n",
    "p <- ggplot(data, aes(x=x))\n",
    "p <- p + scale_x_continuous()\n",
    "p <- p + geom_hline(yintercept=0.5, linetype=\"dashed\")\n",
    "for (i in 1:length(d$value)) {\n",
    "  p <- p + geom_line(aes(y=logistic(x, a=d$value[i], b=a$value[i], c=g$value[i])))\n",
    "}\n",
    "p"
   ]
  },
  {
   "cell_type": "markdown",
   "metadata": {},
   "source": [
    "###  2015_Peta_G3_IT05_Sassolini\n",
    "\n",
    "![Sassolini](screenshot/peta13-sassolini.png)"
   ]
  },
  {
   "cell_type": "code",
   "execution_count": null,
   "metadata": {
    "collapsed": false
   },
   "outputs": [],
   "source": [
    "q <- 'IT05'\n",
    "d <- quiz_difficulty %>% dplyr::filter(bebras_id == q) %>% select(value, category)\n",
    "a <- quiz_discrimination %>% dplyr::filter(bebras_id == q) %>% select(value, category)\n",
    "g <- quiz_guessing %>% dplyr::filter(bebras_id == q) %>% select(value, category)"
   ]
  },
  {
   "cell_type": "markdown",
   "metadata": {},
   "source": [
    "#### Difficoltà"
   ]
  },
  {
   "cell_type": "code",
   "execution_count": null,
   "metadata": {
    "collapsed": false
   },
   "outputs": [],
   "source": [
    "options(repr.plot.width=10, repr.plot.height=2)\n",
    "p <- ggplot(d, aes(x=value))\n",
    "p <- p + geom_histogram(binwidth=0.1*sd(d$value)) \n",
    "p <- p + aes(y=..density..)\n",
    "p <- p + facet_grid(. ~ category)\n",
    "p\n",
    "summary(d$value)"
   ]
  },
  {
   "cell_type": "markdown",
   "metadata": {},
   "source": [
    "#### Differenziazione"
   ]
  },
  {
   "cell_type": "code",
   "execution_count": null,
   "metadata": {
    "collapsed": false
   },
   "outputs": [],
   "source": [
    "options(repr.plot.width=10, repr.plot.height=2)\n",
    "p <- ggplot(a, aes(x=value))\n",
    "p <- p + geom_histogram(binwidth=0.1*sd(a$value)) \n",
    "p <- p + aes(y=..density..)\n",
    "p <- p + facet_grid(. ~ category)\n",
    "p\n",
    "summary(a$value)"
   ]
  },
  {
   "cell_type": "markdown",
   "metadata": {},
   "source": [
    "#### Guessing"
   ]
  },
  {
   "cell_type": "code",
   "execution_count": null,
   "metadata": {
    "collapsed": false
   },
   "outputs": [],
   "source": [
    "options(repr.plot.width=10, repr.plot.height=2)\n",
    "p <- ggplot(g, aes(x=value))\n",
    "p <- p + geom_histogram(binwidth=0.1*sd(g$value)) \n",
    "p <- p + aes(y=..density..)\n",
    "p <- p + facet_grid(. ~ category)\n",
    "p\n",
    "summary(g$value)"
   ]
  },
  {
   "cell_type": "markdown",
   "metadata": {},
   "source": [
    "#### Curva Item-Response"
   ]
  },
  {
   "cell_type": "code",
   "execution_count": null,
   "metadata": {
    "collapsed": false
   },
   "outputs": [],
   "source": [
    "data <- data.frame(x=seq(-5,5,.1))\n",
    "options(repr.plot.width=6, repr.plot.height=6)\n",
    "p <- ggplot(data, aes(x=x))\n",
    "p <- p + scale_x_continuous()\n",
    "p <- p + geom_hline(yintercept=0.5, linetype=\"dashed\")\n",
    "for (i in 1:length(d$value)) {\n",
    "  p <- p + geom_line(aes(y=logistic(x, a=d$value[i], b=a$value[i], c=g$value[i])))\n",
    "}\n",
    "p"
   ]
  },
  {
   "cell_type": "markdown",
   "metadata": {},
   "source": [
    "###  2015_Peta_G4_JP05_Agenzia\n",
    "\n",
    "![Agenzia](screenshot/peta14-agenzia.png)"
   ]
  },
  {
   "cell_type": "code",
   "execution_count": null,
   "metadata": {
    "collapsed": false
   },
   "outputs": [],
   "source": [
    "q <- 'JP05'\n",
    "d <- quiz_difficulty %>% dplyr::filter(bebras_id == q) %>% select(value, category)\n",
    "a <- quiz_discrimination %>% dplyr::filter(bebras_id == q) %>% select(value, category)\n",
    "g <- quiz_guessing %>% dplyr::filter(bebras_id == q) %>% select(value, category)"
   ]
  },
  {
   "cell_type": "markdown",
   "metadata": {},
   "source": [
    "#### Difficoltà"
   ]
  },
  {
   "cell_type": "code",
   "execution_count": null,
   "metadata": {
    "collapsed": false
   },
   "outputs": [],
   "source": [
    "options(repr.plot.width=10, repr.plot.height=2)\n",
    "p <- ggplot(d, aes(x=value))\n",
    "p <- p + geom_histogram(binwidth=0.1*sd(d$value)) \n",
    "p <- p + aes(y=..density..)\n",
    "p <- p + facet_grid(. ~ category)\n",
    "p\n",
    "summary(d$value)"
   ]
  },
  {
   "cell_type": "markdown",
   "metadata": {},
   "source": [
    "#### Differenziazione"
   ]
  },
  {
   "cell_type": "code",
   "execution_count": null,
   "metadata": {
    "collapsed": false
   },
   "outputs": [],
   "source": [
    "options(repr.plot.width=10, repr.plot.height=2)\n",
    "p <- ggplot(a, aes(x=value))\n",
    "p <- p + geom_histogram(binwidth=0.1*sd(a$value)) \n",
    "p <- p + aes(y=..density..)\n",
    "p <- p + facet_grid(. ~ category)\n",
    "p\n",
    "summary(a$value)"
   ]
  },
  {
   "cell_type": "markdown",
   "metadata": {},
   "source": [
    "#### Guessing"
   ]
  },
  {
   "cell_type": "code",
   "execution_count": null,
   "metadata": {
    "collapsed": false
   },
   "outputs": [],
   "source": [
    "options(repr.plot.width=10, repr.plot.height=2)\n",
    "p <- ggplot(g, aes(x=value))\n",
    "p <- p + geom_histogram(binwidth=0.1*sd(g$value)) \n",
    "p <- p + aes(y=..density..)\n",
    "p <- p + facet_grid(. ~ category)\n",
    "p\n",
    "summary(g$value)"
   ]
  },
  {
   "cell_type": "markdown",
   "metadata": {},
   "source": [
    "#### Curva Item-Response"
   ]
  },
  {
   "cell_type": "code",
   "execution_count": null,
   "metadata": {
    "collapsed": false
   },
   "outputs": [],
   "source": [
    "data <- data.frame(x=seq(-5,5,.1))\n",
    "options(repr.plot.width=6, repr.plot.height=6)\n",
    "p <- ggplot(data, aes(x=x))\n",
    "p <- p + scale_x_continuous()\n",
    "p <- p + geom_hline(yintercept=0.5, linetype=\"dashed\")\n",
    "for (i in 1:length(d$value)) {\n",
    "  p <- p + geom_line(aes(y=logistic(x, a=d$value[i], b=a$value[i], c=g$value[i])))\n",
    "}\n",
    "p"
   ]
  },
  {
   "cell_type": "markdown",
   "metadata": {},
   "source": [
    "###  2015_Peta_G5_CA06_Carte\n",
    "\n",
    "![Carte](screenshot/peta15-carte.png)"
   ]
  },
  {
   "cell_type": "code",
   "execution_count": null,
   "metadata": {
    "collapsed": false
   },
   "outputs": [],
   "source": [
    "q <- 'CA06'\n",
    "d <- quiz_difficulty %>% dplyr::filter(bebras_id == q) %>% select(value, category)\n",
    "a <- quiz_discrimination %>% dplyr::filter(bebras_id == q) %>% select(value, category)\n",
    "g <- quiz_guessing %>% dplyr::filter(bebras_id == q) %>% select(value, category)"
   ]
  },
  {
   "cell_type": "markdown",
   "metadata": {},
   "source": [
    "#### Difficoltà"
   ]
  },
  {
   "cell_type": "code",
   "execution_count": null,
   "metadata": {
    "collapsed": false
   },
   "outputs": [],
   "source": [
    "options(repr.plot.width=10, repr.plot.height=2)\n",
    "p <- ggplot(d, aes(x=value))\n",
    "p <- p + geom_histogram(binwidth=0.1*sd(d$value)) \n",
    "p <- p + aes(y=..density..)\n",
    "p <- p + facet_grid(. ~ category)\n",
    "p\n",
    "summary(d$value)"
   ]
  },
  {
   "cell_type": "markdown",
   "metadata": {},
   "source": [
    "#### Differenziazione"
   ]
  },
  {
   "cell_type": "code",
   "execution_count": null,
   "metadata": {
    "collapsed": false
   },
   "outputs": [],
   "source": [
    "options(repr.plot.width=10, repr.plot.height=2)\n",
    "p <- ggplot(a, aes(x=value))\n",
    "p <- p + geom_histogram(binwidth=0.1*sd(a$value)) \n",
    "p <- p + aes(y=..density..)\n",
    "p <- p + facet_grid(. ~ category)\n",
    "p\n",
    "summary(a$value)"
   ]
  },
  {
   "cell_type": "markdown",
   "metadata": {},
   "source": [
    "#### Guessing"
   ]
  },
  {
   "cell_type": "code",
   "execution_count": null,
   "metadata": {
    "collapsed": false
   },
   "outputs": [],
   "source": [
    "options(repr.plot.width=10, repr.plot.height=2)\n",
    "p <- ggplot(g, aes(x=value))\n",
    "p <- p + geom_histogram(binwidth=0.1*sd(g$value)) \n",
    "p <- p + aes(y=..density..)\n",
    "p <- p + facet_grid(. ~ category)\n",
    "p\n",
    "summary(g$value)"
   ]
  },
  {
   "cell_type": "markdown",
   "metadata": {},
   "source": [
    "#### Curva Item-Response"
   ]
  },
  {
   "cell_type": "code",
   "execution_count": null,
   "metadata": {
    "collapsed": false
   },
   "outputs": [],
   "source": [
    "data <- data.frame(x=seq(-5,5,.1))\n",
    "options(repr.plot.width=6, repr.plot.height=6)\n",
    "p <- ggplot(data, aes(x=x))\n",
    "p <- p + scale_x_continuous()\n",
    "p <- p + geom_hline(yintercept=0.5, linetype=\"dashed\")\n",
    "for (i in 1:length(d$value)) {\n",
    "  p <- p + geom_line(aes(y=logistic(x, a=d$value[i], b=a$value[i], c=g$value[i])))\n",
    "}\n",
    "p"
   ]
  },
  {
   "cell_type": "code",
   "execution_count": null,
   "metadata": {
    "collapsed": true
   },
   "outputs": [],
   "source": []
  }
 ],
 "metadata": {
  "kernelspec": {
   "display_name": "R",
   "language": "R",
   "name": "ir"
  },
  "language_info": {
   "codemirror_mode": "r",
   "file_extension": ".r",
   "mimetype": "text/x-r-source",
   "name": "R",
   "pygments_lexer": "r",
   "version": "3.2.2"
  }
 },
 "nbformat": 4,
 "nbformat_minor": 0
}
