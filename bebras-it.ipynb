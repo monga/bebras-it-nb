{
 "cells": [
  {
   "cell_type": "markdown",
   "metadata": {},
   "source": [
    "# Un'analisi IRT dei quesiti del Bebras italiano\n",
    "\n",
    "L'*Item Response Theory* (IRT) è una tecnica statistica che si propone di stimare l'*abilità* dei soggetti cui viene sottoposto un test composto da una serie di domande (dette *item*). L'abilità è un tratto *latente*, cioè non osservabile direttamente: l'aver risposto correttamente a molte domande può dipendere sia da elevata abilità, che dalla \"facilità\" delle domande. La stima si basa quindi su un *modello matematico* (detto *Item Response Function*) della relazione fra abilità e probabilità di rispondere correttamente alla domanda."
   ]
  },
  {
   "cell_type": "markdown",
   "metadata": {},
   "source": [
    "Il modello usato in questa analisi è una curva *logistica*, la cui forma è regolata da tre parametri $a, b, c$.\n",
    "$$ p_i(\\theta_j) = c_i + \\frac{(1 - c_i)}{1+ e^{-b_i\\cdot(\\theta_j - a_i)}} $$\n",
    "La probabilità $p$ di successo in un *item* $i$ è funzione dell'abilità $\\theta$ del solutore $j$. I tre parametri modellano le caratteristiche dell'*item*:\n",
    "- $a$, detto *difficoltà* dell'item: determina il livello di abilità necessaria per avere il 50% di probabilità di successo;\n",
    "- $b$, detto *differenziazione*: determina quanto influiscono le variazioni di abilità sulla probabilità di successo;\n",
    "- $c$: fissa una probabilità minima di successo per qualsiasi abilità, dovuta per esempio alla possibilità di scegliere casualmente la risposta giusta ($c$ sarà 0 per un *item* a risposta completamente aperta)"
   ]
  },
  {
   "cell_type": "code",
   "execution_count": 1,
   "metadata": {
    "collapsed": true
   },
   "outputs": [],
   "source": [
    "logistic <- function(theta, a=0, b=1, c=0) { \n",
    "    c + (1-c)/(1 + exp(-b*(theta-a)))\n",
    "}"
   ]
  },
  {
   "cell_type": "code",
   "execution_count": 2,
   "metadata": {
    "collapsed": false
   },
   "outputs": [],
   "source": [
    "library(\"ggplot2\")\n",
    "data <- data.frame(x=seq(-5,5,.1))\n",
    "data <- transform(data, \n",
    "                  y_mean = logistic(x), \n",
    "                  y_hard = logistic(x,a=2), \n",
    "                  y_easy=logistic(x,a=-2),\n",
    "                  y_hdiscrimination=logistic(x,b=2),\n",
    "                  y_ldiscrimination=logistic(x,b=.5)\n",
    "                 );\n",
    "\n",
    "options(repr.plot.width=6, repr.plot.height=6)\n",
    "p <- ggplot(data, aes(x=x))\n",
    "p <- p + scale_x_continuous()\n",
    "p <- p + geom_hline(yintercept=0.5, linetype=\"dashed\")\n",
    "p <- p + geom_line(aes(y=y_hard), color=\"red\")\n",
    "p <- p + annotate(\"text\", x=2.1, y=.55, label=\"a == 2 ~~(plain(difficile))\", parse=TRUE, color=\"red\")\n",
    "p <- p + geom_line(aes(y=y_easy), color=\"dark green\")\n",
    "p <- p + annotate(\"text\", x=-1.9, y=.55, label=\"a == -2 ~~(plain(facile))\", parse=TRUE, color=\"dark green\")\n",
    "p <- p + geom_line(aes(y=y_mean), color=\"blue\")\n",
    "p <- p + annotate(\"text\", x=1.5, y=.8, label=\"a == 0 ~~(plain(medio))\", parse=TRUE, color=\"blue\")\n",
    "p <- p + geom_line(aes(y=y_hdiscrimination), color=\"dark cyan\")\n",
    "p <- p + annotate(\"text\", x=1, y=.9, label=\"a == 0 ~~ b == 2\", parse=TRUE, color=\"dark cyan\")\n",
    "p <- p + geom_line(aes(y=y_ldiscrimination), color=\"violet\")\n",
    "p <- p + annotate(\"text\", x=1.8, y=.7, label=\"a == 0 ~~ b == .5\", parse=TRUE, color=\"violet\")\n",
    "p <- p + labs(title=expression(paste(\"Curve logistiche per diversi valori di \", a, \" e \", b, \" (\",c==0,\")\")), \n",
    "              x=\"Abilità\", y=\"Probabilità di successo\")\n",
    "\n",
    "ggsave(filename = 'img/logistic.png', plot = p, width = 6, height = 6)\n",
    "rm(data, p)"
   ]
  },
  {
   "cell_type": "markdown",
   "metadata": {},
   "source": [
    "![logistic](img/logistic.png)"
   ]
  },
  {
   "cell_type": "markdown",
   "metadata": {},
   "source": [
    "A ogni *item* o quiz, quindi, viene associata una specifica curva logistica (la sua *item response function*) che può essere dedotta osservando un campione di risolutori cui è stato sottoposto il test. A questo scopo i parametri relativi ai quiz del Bebras italiano 2015 sono stati stimati con un approccio bayesiano, come descritto in [C. Bellettini et al. *\"How challenging are Bebras tasks? an IRT analysis based on the performance of Italian students\", Proceedings of the 20th annual conference on innovation and technology in computer science education ITiCSE'15* (Vilnius, Lithuania, 2015)](http://dx.doi.org/10.1145/2729094.2742603). I dettagli statistici riguardo la bontà di adattamento del modello sono disponibili [qui](https://mmonga.shinyapps.io/bebrasIT2015)."
   ]
  },
  {
   "cell_type": "markdown",
   "metadata": {},
   "source": [
    "## I quesiti 2015"
   ]
  },
  {
   "cell_type": "code",
   "execution_count": 3,
   "metadata": {
    "collapsed": false
   },
   "outputs": [
    {
     "name": "stderr",
     "output_type": "stream",
     "text": [
      "Loading required package: Rcpp\n",
      "rstan (Version 2.8.0, packaged: 2015-09-19 14:48:38 UTC, GitRev: 05c3d0058b6a)\n",
      "For execution on a local, multicore CPU with excess RAM we recommend calling\n",
      "rstan_options(auto_write = TRUE)\n",
      "options(mc.cores = parallel::detectCores())\n"
     ]
    }
   ],
   "source": [
    "library(\"rstan\"); rstan_options(auto_write = TRUE); options(mc.cores = parallel::detectCores())\n",
    "load(\"fit.RData\") # carica l'oggetto fit\n",
    "dfit <- as.data.frame(fit)\n",
    "obs <- read_rdump(\"bebras-all.data.R\")\n",
    "source(\"qnames.R\")\n",
    "\n",
    "cats <- c(\"kilo\", \"mega\", \"giga\", \"tera\", \"peta\")\n",
    "categories <- factor(cats, levels=cats, ordered = TRUE)\n",
    "rm(cats)"
   ]
  },
  {
   "cell_type": "markdown",
   "metadata": {},
   "source": [
    "`dfit` è il data frame che raccoglie l'esito della simulazione, con 3394 variabili (3168 *ability*, 75 *discrimination*, 75 *difficulty*, 75 *guessing* e la logprobability) e 2000 campioni. `obs` è la lista dei dati effettivamente osservati, cioè 47520 risposte di 3168 squadre a 75 quiz, con 5 categorie. `qnames` contiene i nomi completi dei quiz, come `'2015_Kilo_A1_HU02_Apparecchiare'`."
   ]
  },
  {
   "cell_type": "code",
   "execution_count": 4,
   "metadata": {
    "collapsed": true
   },
   "outputs": [],
   "source": [
    "obs$rcats <- plyr::aaply(obs$rquiz, 1, function (e){ as.character(categories[ ((e - 1) %/% 15) + 1 ]) })"
   ]
  },
  {
   "cell_type": "code",
   "execution_count": 5,
   "metadata": {
    "collapsed": false
   },
   "outputs": [
    {
     "name": "stderr",
     "output_type": "stream",
     "text": [
      "\n",
      "Attaching package: ‘dplyr’\n",
      "\n",
      "The following objects are masked from ‘package:plyr’:\n",
      "\n",
      "    arrange, count, desc, failwith, id, mutate, rename, summarise,\n",
      "    summarize\n",
      "\n",
      "The following objects are masked from ‘package:stats’:\n",
      "\n",
      "    filter, lag\n",
      "\n",
      "The following objects are masked from ‘package:base’:\n",
      "\n",
      "    intersect, setdiff, setequal, union\n",
      "\n"
     ]
    }
   ],
   "source": [
    "library(\"plyr\")\n",
    "library(\"dplyr\")\n",
    "teams <- data.frame(id = obs$rtaker, category = obs$rcats) %>% distinct()\n",
    "get_par_df <- function(df, par, table) {\n",
    "    df %>% \n",
    "    dplyr::select(contains(par)) %>% \n",
    "    tidyr::gather(key = \"parameter\", value, everything()) %>%\n",
    "    dplyr::mutate(\"id\" = as.numeric(regmatches(parameter, regexpr(\"[0-9]+\",parameter)))) %>%\n",
    "    dplyr::left_join(table, by = \"id\") %>%\n",
    "    transform(category = factor(category, levels=levels(categories), ordered = TRUE))\n",
    "}"
   ]
  },
  {
   "cell_type": "code",
   "execution_count": 6,
   "metadata": {
    "collapsed": false
   },
   "outputs": [],
   "source": [
    "team_ability <- get_par_df(dfit, \"ability\", teams)"
   ]
  },
  {
   "cell_type": "markdown",
   "metadata": {},
   "source": [
    "Il modello è tarato in modo che la media delle abilità di tutte le squadre partecipanti sia 0."
   ]
  },
  {
   "cell_type": "code",
   "execution_count": 7,
   "metadata": {
    "collapsed": false
   },
   "outputs": [
    {
     "name": "stdout",
     "output_type": "stream",
     "text": [
      "                     Min.                   1st Qu.                    Median \n",
      "                   -5.616                   -0.7227                  0.002395 \n",
      "                     Mean                   3rd Qu.                      Max. \n",
      "               -3.509e-17                    0.7237                     5.662 \n",
      "                          \n",
      "StdDev:  1.07960634648982 \n"
     ]
    }
   ],
   "source": [
    "print(c(summary(team_ability$value), paste(\"StdDev: \", sd(team_ability$value))), quote = FALSE)"
   ]
  },
  {
   "cell_type": "code",
   "execution_count": 8,
   "metadata": {
    "collapsed": false
   },
   "outputs": [],
   "source": [
    "team_ability.notes <- ddply(team_ability, .(category), summarise, note=sprintf(\"paste(mu == %s, ' ', sigma == %s)\", \n",
    "                                                                     format(mean(value), digit = 2), \n",
    "                                                                     format(sd(value), digit= 2)))"
   ]
  },
  {
   "cell_type": "code",
   "execution_count": 9,
   "metadata": {
    "collapsed": false
   },
   "outputs": [],
   "source": [
    "options(repr.plot.width=10, repr.plot.height=2)\n",
    "p <- ggplot(team_ability, aes(x=value)) \n",
    "p <- p + geom_histogram(binwidth=.2) + coord_cartesian(ylim = c(0,.5))\n",
    "p <- p + aes(y=..density..)\n",
    "p <- p + facet_grid(. ~ category)\n",
    "p <- p + geom_text(data=team_ability.notes, aes(0, 0.4, label=note), size=3, parse = TRUE)\n",
    "p <- p + labs(title=\"Distribuzione dell'abilità dei partecipanti\", \n",
    "              x=\"Abilità\", y=\"Densità\")\n",
    "ggsave(filename = 'img/team_ability.png', plot = p, width = 10, height = 2)"
   ]
  },
  {
   "cell_type": "markdown",
   "metadata": {},
   "source": [
    "![team_ability](img/team_ability.png)"
   ]
  },
  {
   "cell_type": "code",
   "execution_count": 10,
   "metadata": {
    "collapsed": false
   },
   "outputs": [],
   "source": [
    "qorder <- plyr::laply(strsplit(qnames, \"_\"), function(e){e[3]})\n",
    "quizzes <- data.frame(id = 1:length(qnames), quiz = qnames, \n",
    "                      category = factor(plyr::laply(strsplit(qnames, \"_\"), function(e){tolower(e[2])}), \n",
    "                                        levels=levels(categories), ordered = TRUE),\n",
    "                      qname = plyr::laply(strsplit(qnames, \"_\"), function(e){e[5]}),\n",
    "                      bebras_id = plyr::laply(strsplit(qnames, \"_\"), function(e){e[4]}),\n",
    "                      ord = factor(qorder, levels=rev(sort(unique(qorder))), ordered = TRUE),\n",
    "                      country = plyr::laply(strsplit(qnames, \"_\"), function(e){substr(e[4],1,2)}),\n",
    "                      block = plyr::laply(strsplit(qnames, \"_\"), function(e){substr(e[3],1,1)}))\n",
    "                      "
   ]
  },
  {
   "cell_type": "code",
   "execution_count": 11,
   "metadata": {
    "collapsed": false
   },
   "outputs": [],
   "source": [
    "quiz_difficulty <- get_par_df(dfit, par = \"difficulty\", table = quizzes)                                    "
   ]
  },
  {
   "cell_type": "code",
   "execution_count": 12,
   "metadata": {
    "collapsed": false
   },
   "outputs": [],
   "source": [
    "options(repr.plot.width=10, repr.plot.height=10)\n",
    "p <- ggplot(quiz_difficulty, aes(ord, value, fill=category)) \n",
    "p <- p + geom_boxplot(outlier.shape = 1, outlier.size = .5)\n",
    "p <- p + coord_flip() \n",
    "p <- p + labs(title=\"Distribuzione della difficoltà dei quiz\", \n",
    "              x=\"Quiz\", y=\"Difficoltà\")\n",
    "ggsave(filename = 'img/quiz_difficulty.png', plot = p, width = 10, height = 10)\n",
    "rm(p)"
   ]
  },
  {
   "cell_type": "markdown",
   "metadata": {},
   "source": [
    "![quiz_difficulty](img/quiz_difficulty.png)"
   ]
  },
  {
   "cell_type": "code",
   "execution_count": 13,
   "metadata": {
    "collapsed": false
   },
   "outputs": [],
   "source": [
    "quiz_discrimination <- get_par_df(dfit, par = \"discrimination\", table = quizzes)"
   ]
  },
  {
   "cell_type": "code",
   "execution_count": 14,
   "metadata": {
    "collapsed": false
   },
   "outputs": [],
   "source": [
    "options(repr.plot.width=10, repr.plot.height=10)\n",
    "p <- ggplot(quiz_discrimination, aes(ord, value, fill=category)) \n",
    "p <- p + geom_boxplot(outlier.shape = 1, outlier.size = .5)\n",
    "p <- p + coord_flip() \n",
    "p <- p + labs(title=\"Distribuzione della differenziazione dei quiz\", \n",
    "              x=\"Quiz\", y=\"Differenziazione\")\n",
    "ggsave(filename = 'img/quiz_discrimination.png', plot = p, width = 10, height = 10)\n",
    "rm(p)"
   ]
  },
  {
   "cell_type": "markdown",
   "metadata": {},
   "source": [
    "![quiz_discrimination](img/quiz_discrimination.png)"
   ]
  },
  {
   "cell_type": "code",
   "execution_count": 15,
   "metadata": {
    "collapsed": true
   },
   "outputs": [],
   "source": [
    "quiz_guessing <- get_par_df(dfit, par = \"guessing\", table = quizzes)"
   ]
  },
  {
   "cell_type": "markdown",
   "metadata": {
    "collapsed": true
   },
   "source": [
    "##  I singoli quesiti"
   ]
  },
  {
   "cell_type": "markdown",
   "metadata": {},
   "source": [
    "###  2015_Kilo_A1_HU02_Apparecchiare\n",
    "\n",
    "![Apparecchiare](screenshot/kilo01-collage.png)"
   ]
  },
  {
   "cell_type": "code",
   "execution_count": 16,
   "metadata": {
    "collapsed": false
   },
   "outputs": [],
   "source": [
    "q <- 'HU02'\n",
    "d <- quiz_difficulty %>% dplyr::filter(bebras_id == q) %>% select(value, category)\n",
    "a <- quiz_discrimination %>% dplyr::filter(bebras_id == q) %>% select(value, category)\n",
    "g <- quiz_guessing %>% dplyr::filter(bebras_id == q) %>% select(value, category)"
   ]
  },
  {
   "cell_type": "markdown",
   "metadata": {},
   "source": [
    "#### Difficoltà"
   ]
  },
  {
   "cell_type": "code",
   "execution_count": 17,
   "metadata": {
    "collapsed": false
   },
   "outputs": [
    {
     "data": {
      "text/plain": [
       "   Min. 1st Qu.  Median    Mean 3rd Qu.    Max. \n",
       "-2.2490 -1.3620 -1.2120 -1.2310 -1.0810 -0.6368 "
      ]
     },
     "execution_count": 17,
     "metadata": {},
     "output_type": "execute_result"
    }
   ],
   "source": [
    "if (!file.exists('img/d-HU02.png')) {\n",
    "options(repr.plot.width=10, repr.plot.height=2)\n",
    "p <- ggplot(d, aes(x=value))\n",
    "p <- p + geom_histogram(binwidth=0.1*sd(d$value)) \n",
    "p <- p + aes(y=..density..)\n",
    "p <- p + facet_grid(. ~ category)\n",
    "ggsave(filename = 'img/d-HU02.png', plot = p, width = 10, height = 2)\n",
    "rm(p)\n",
    "}\n",
    "summary(d$value)"
   ]
  },
  {
   "cell_type": "markdown",
   "metadata": {},
   "source": [
    "![d-HU02](img/d-HU02.png)"
   ]
  },
  {
   "cell_type": "markdown",
   "metadata": {},
   "source": [
    "#### Differenziazione"
   ]
  },
  {
   "cell_type": "code",
   "execution_count": 18,
   "metadata": {
    "collapsed": false
   },
   "outputs": [
    {
     "data": {
      "text/plain": [
       "   Min. 1st Qu.  Median    Mean 3rd Qu.    Max. \n",
       " 0.4521  0.7814  0.8745  0.8873  0.9867  1.7020 "
      ]
     },
     "execution_count": 18,
     "metadata": {},
     "output_type": "execute_result"
    }
   ],
   "source": [
    "if (!file.exists('img/a-HU02.png')) {\n",
    "options(repr.plot.width=10, repr.plot.height=2)\n",
    "p <- ggplot(a, aes(x=value))\n",
    "p <- p + geom_histogram(binwidth=0.1*sd(a$value)) \n",
    "p <- p + aes(y=..density..)\n",
    "p <- p + facet_grid(. ~ category)\n",
    "ggsave(filename = 'img/a-HU02.png', plot = p, width = 10, height = 2)\n",
    "rm(p)\n",
    "}\n",
    "summary(a$value)"
   ]
  },
  {
   "cell_type": "markdown",
   "metadata": {},
   "source": [
    "![a-HU02](img/a-HU02.png)"
   ]
  },
  {
   "cell_type": "markdown",
   "metadata": {},
   "source": [
    "#### Guessing"
   ]
  },
  {
   "cell_type": "code",
   "execution_count": 19,
   "metadata": {
    "collapsed": false
   },
   "outputs": [
    {
     "data": {
      "text/plain": [
       "     Min.   1st Qu.    Median      Mean   3rd Qu.      Max. \n",
       "7.590e-06 2.494e-03 5.857e-03 8.415e-03 1.179e-02 5.181e-02 "
      ]
     },
     "execution_count": 19,
     "metadata": {},
     "output_type": "execute_result"
    }
   ],
   "source": [
    "if (!file.exists('img/g-HU02.png')) {\n",
    "options(repr.plot.width=10, repr.plot.height=2)\n",
    "p <- ggplot(g, aes(x=value))\n",
    "p <- p + geom_histogram(binwidth=0.1*sd(g$value)) \n",
    "p <- p + aes(y=..density..)\n",
    "p <- p + facet_grid(. ~ category)\n",
    "ggsave(filename = 'img/g-HU02.png', plot = p, width = 10, height = 2)\n",
    "rm(p)\n",
    "}\n",
    "summary(g$value)"
   ]
  },
  {
   "cell_type": "markdown",
   "metadata": {},
   "source": [
    "![g-HU02](img/g-HU02.png)"
   ]
  },
  {
   "cell_type": "markdown",
   "metadata": {},
   "source": [
    "#### Curva Item-Response"
   ]
  },
  {
   "cell_type": "code",
   "execution_count": 20,
   "metadata": {
    "collapsed": false
   },
   "outputs": [],
   "source": [
    "if (!file.exists('img/l-HU02.png')) {\n",
    "data <- data.frame(x=seq(-5,5,.1))\n",
    "options(repr.plot.width=6, repr.plot.height=6)\n",
    "p <- ggplot(data, aes(x=x))\n",
    "p <- p + scale_x_continuous()\n",
    "p <- p + geom_hline(yintercept=0.5, linetype=\"dashed\")\n",
    "p <- p + geom_vline(xintercept=0.0, linetype=\"dashed\")\n",
    "dall <- data.frame()\n",
    "for (i in 1:length(d$value)) {\n",
    " ldata <- bind_cols(data,  data.frame(a=rep(d$value[i], times=length(data$x)),\n",
    "                                      b=rep(a$value[i], times=length(data$x)),\n",
    "                                      c=rep(g$value[i], times=length(data$x)),\n",
    "                                      category=rep(d$category[i], times=length(data$x))\n",
    "                                   ))\n",
    " ldata <- mutate(ldata, y = logistic(x, a, b, c))\n",
    "  dall <- bind_rows(dall, ldata)\n",
    "}\n",
    " p <- p + geom_point(data=dall, aes(x=x, y=y)) + geom_smooth(data=dall, aes(x=x, y=y))\n",
    " p <- p + facet_grid(. ~ category)\n",
    " ggsave(filename = 'img/l-HU02.png', plot = p, width = 6, height = 6)\n",
    " rm(data, dall, ldata, p)\n",
    "}"
   ]
  },
  {
   "cell_type": "markdown",
   "metadata": {},
   "source": [
    "![l-HU02](img/l-HU02.png)"
   ]
  },
  {
   "cell_type": "markdown",
   "metadata": {},
   "source": [
    "###  2015_Kilo_A2_TR03_Palloncini\n",
    "\n",
    "![Palloncini](screenshot/kilo02-palloncini.png)"
   ]
  },
  {
   "cell_type": "code",
   "execution_count": 21,
   "metadata": {
    "collapsed": false
   },
   "outputs": [],
   "source": [
    "q <- 'TR03'\n",
    "d <- quiz_difficulty %>% dplyr::filter(bebras_id == q) %>% select(value, category)\n",
    "a <- quiz_discrimination %>% dplyr::filter(bebras_id == q) %>% select(value, category)\n",
    "g <- quiz_guessing %>% dplyr::filter(bebras_id == q) %>% select(value, category)"
   ]
  },
  {
   "cell_type": "markdown",
   "metadata": {},
   "source": [
    "#### Difficoltà"
   ]
  },
  {
   "cell_type": "code",
   "execution_count": 22,
   "metadata": {
    "collapsed": false
   },
   "outputs": [
    {
     "data": {
      "text/plain": [
       "   Min. 1st Qu.  Median    Mean 3rd Qu.    Max. \n",
       " -2.966  -1.954  -1.756  -1.782  -1.584  -1.061 "
      ]
     },
     "execution_count": 22,
     "metadata": {},
     "output_type": "execute_result"
    }
   ],
   "source": [
    "if (!file.exists('img/d-TR03.png')) {\n",
    "options(repr.plot.width=10, repr.plot.height=2)\n",
    "p <- ggplot(d, aes(x=value))\n",
    "p <- p + geom_histogram(binwidth=0.1*sd(d$value)) \n",
    "p <- p + aes(y=..density..)\n",
    "p <- p + facet_grid(. ~ category)\n",
    "ggsave(filename = 'img/d-TR03.png', plot = p, width = 10, height = 2)\n",
    "rm(p)\n",
    "}\n",
    "summary(d$value)"
   ]
  },
  {
   "cell_type": "markdown",
   "metadata": {},
   "source": [
    "![d-TR03](img/d-TR03.png)"
   ]
  },
  {
   "cell_type": "markdown",
   "metadata": {},
   "source": [
    "#### Differenziazione"
   ]
  },
  {
   "cell_type": "code",
   "execution_count": 23,
   "metadata": {
    "collapsed": false
   },
   "outputs": [
    {
     "data": {
      "text/plain": [
       "   Min. 1st Qu.  Median    Mean 3rd Qu.    Max. \n",
       " 0.4189  0.7486  0.8314  0.8436  0.9345  1.4530 "
      ]
     },
     "execution_count": 23,
     "metadata": {},
     "output_type": "execute_result"
    }
   ],
   "source": [
    "if (!file.exists('img/a-TR03.png')) {\n",
    "options(repr.plot.width=10, repr.plot.height=2)\n",
    "p <- ggplot(a, aes(x=value))\n",
    "p <- p + geom_histogram(binwidth=0.1*sd(a$value)) \n",
    "p <- p + aes(y=..density..)\n",
    "p <- p + facet_grid(. ~ category)\n",
    "ggsave(filename = 'img/a-TR03.png', plot = p, width = 10, height = 2)\n",
    "rm(p)\n",
    "}\n",
    "summary(a$value)"
   ]
  },
  {
   "cell_type": "markdown",
   "metadata": {},
   "source": [
    "![a-TR03](img/a-TR03.png)"
   ]
  },
  {
   "cell_type": "markdown",
   "metadata": {},
   "source": [
    "#### Guessing"
   ]
  },
  {
   "cell_type": "code",
   "execution_count": 24,
   "metadata": {
    "collapsed": false
   },
   "outputs": [
    {
     "data": {
      "text/plain": [
       "     Min.   1st Qu.    Median      Mean   3rd Qu.      Max. \n",
       "6.800e-07 3.649e-03 9.061e-03 1.263e-02 1.768e-02 1.037e-01 "
      ]
     },
     "execution_count": 24,
     "metadata": {},
     "output_type": "execute_result"
    }
   ],
   "source": [
    "if (!file.exists('img/g-TR03.png')) {\n",
    "options(repr.plot.width=10, repr.plot.height=2)\n",
    "p <- ggplot(g, aes(x=value))\n",
    "p <- p + geom_histogram(binwidth=0.1*sd(g$value)) \n",
    "p <- p + aes(y=..density..)\n",
    "p <- p + facet_grid(. ~ category)\n",
    "ggsave(filename = 'img/g-TR03.png', plot = p, width = 10, height = 2)\n",
    "rm(p)\n",
    "}\n",
    "summary(g$value)"
   ]
  },
  {
   "cell_type": "markdown",
   "metadata": {},
   "source": [
    "![g-TR03](img/g-TR03.png)"
   ]
  },
  {
   "cell_type": "markdown",
   "metadata": {},
   "source": [
    "#### Curva Item-Response"
   ]
  },
  {
   "cell_type": "code",
   "execution_count": 25,
   "metadata": {
    "collapsed": false
   },
   "outputs": [],
   "source": [
    "if (!file.exists('img/l-TR03.png')) {\n",
    "data <- data.frame(x=seq(-5,5,.1))\n",
    "options(repr.plot.width=6, repr.plot.height=6)\n",
    "p <- ggplot(data, aes(x=x))\n",
    "p <- p + scale_x_continuous()\n",
    "p <- p + geom_hline(yintercept=0.5, linetype=\"dashed\")\n",
    "p <- p + geom_vline(xintercept=0.0, linetype=\"dashed\")\n",
    "dall <- data.frame()\n",
    "for (i in 1:length(d$value)) {\n",
    " ldata <- bind_cols(data,  data.frame(a=rep(d$value[i], times=length(data$x)),\n",
    "                                      b=rep(a$value[i], times=length(data$x)),\n",
    "                                      c=rep(g$value[i], times=length(data$x)),\n",
    "                                      category=rep(d$category[i], times=length(data$x))\n",
    "                                   ))\n",
    " ldata <- mutate(ldata, y = logistic(x, a, b, c))\n",
    "  dall <- bind_rows(dall, ldata)\n",
    "}\n",
    " p <- p + geom_point(data=dall, aes(x=x, y=y)) + geom_smooth(data=dall, aes(x=x, y=y))\n",
    " p <- p + facet_grid(. ~ category)\n",
    " ggsave(filename = 'img/l-TR03.png', plot = p, width = 6, height = 6)\n",
    " rm(data, dall, ldata, p)\n",
    "}"
   ]
  },
  {
   "cell_type": "markdown",
   "metadata": {},
   "source": [
    "![l-TR03](img/l-TR03.png)"
   ]
  },
  {
   "cell_type": "markdown",
   "metadata": {},
   "source": [
    "###  2015_Kilo_A3_PL08_Calze\n",
    "\n",
    "![Calze](screenshot/kilo03-calze.png)"
   ]
  },
  {
   "cell_type": "code",
   "execution_count": 26,
   "metadata": {
    "collapsed": false
   },
   "outputs": [],
   "source": [
    "q <- 'PL08'\n",
    "d <- quiz_difficulty %>% dplyr::filter(bebras_id == q) %>% select(value, category)\n",
    "a <- quiz_discrimination %>% dplyr::filter(bebras_id == q) %>% select(value, category)\n",
    "g <- quiz_guessing %>% dplyr::filter(bebras_id == q) %>% select(value, category)"
   ]
  },
  {
   "cell_type": "markdown",
   "metadata": {},
   "source": [
    "#### Difficoltà"
   ]
  },
  {
   "cell_type": "code",
   "execution_count": 27,
   "metadata": {
    "collapsed": false
   },
   "outputs": [
    {
     "data": {
      "text/plain": [
       "   Min. 1st Qu.  Median    Mean 3rd Qu.    Max. \n",
       " 0.2284  0.8810  1.0420  1.0530  1.2180  2.1170 "
      ]
     },
     "execution_count": 27,
     "metadata": {},
     "output_type": "execute_result"
    }
   ],
   "source": [
    "if (!file.exists('img/d-PL08.png')) {\n",
    "options(repr.plot.width=10, repr.plot.height=2)\n",
    "p <- ggplot(d, aes(x=value))\n",
    "p <- p + geom_histogram(binwidth=0.1*sd(d$value)) \n",
    "p <- p + aes(y=..density..)\n",
    "p <- p + facet_grid(. ~ category)\n",
    "ggsave(filename = 'img/d-PL08.png', plot = p, width = 10, height = 2)\n",
    "rm(p)\n",
    "}\n",
    "summary(d$value)"
   ]
  },
  {
   "cell_type": "markdown",
   "metadata": {},
   "source": [
    "![d-PL08](img/d-PL08.png)"
   ]
  },
  {
   "cell_type": "markdown",
   "metadata": {},
   "source": [
    "#### Differenziazione"
   ]
  },
  {
   "cell_type": "code",
   "execution_count": 28,
   "metadata": {
    "collapsed": false
   },
   "outputs": [
    {
     "data": {
      "text/plain": [
       "   Min. 1st Qu.  Median    Mean 3rd Qu.    Max. \n",
       " 0.5682  1.0510  1.2800  1.3360  1.5480  3.6210 "
      ]
     },
     "execution_count": 28,
     "metadata": {},
     "output_type": "execute_result"
    }
   ],
   "source": [
    "if (!file.exists('img/a-PL08.png')) {\n",
    "options(repr.plot.width=10, repr.plot.height=2)\n",
    "p <- ggplot(a, aes(x=value))\n",
    "p <- p + geom_histogram(binwidth=0.1*sd(a$value)) \n",
    "p <- p + aes(y=..density..)\n",
    "p <- p + facet_grid(. ~ category)\n",
    "ggsave(filename = 'img/a-PL08.png', plot = p, width = 10, height = 2)\n",
    "rm(p)\n",
    "}\n",
    "summary(a$value)"
   ]
  },
  {
   "cell_type": "markdown",
   "metadata": {},
   "source": [
    "![a-PL08](img/a-PL08.png)"
   ]
  },
  {
   "cell_type": "markdown",
   "metadata": {},
   "source": [
    "#### Guessing"
   ]
  },
  {
   "cell_type": "code",
   "execution_count": 29,
   "metadata": {
    "collapsed": false
   },
   "outputs": [
    {
     "data": {
      "text/plain": [
       "    Min.  1st Qu.   Median     Mean  3rd Qu.     Max. \n",
       "0.001047 0.112900 0.162200 0.157000 0.203200 0.329000 "
      ]
     },
     "execution_count": 29,
     "metadata": {},
     "output_type": "execute_result"
    }
   ],
   "source": [
    "if (!file.exists('img/g-PL08.png')) {\n",
    "options(repr.plot.width=10, repr.plot.height=2)\n",
    "p <- ggplot(g, aes(x=value))\n",
    "p <- p + geom_histogram(binwidth=0.1*sd(g$value)) \n",
    "p <- p + aes(y=..density..)\n",
    "p <- p + facet_grid(. ~ category)\n",
    "ggsave(filename = 'img/g-PL08.png', plot = p, width = 10, height = 2)\n",
    "rm(p)\n",
    "}\n",
    "summary(g$value)"
   ]
  },
  {
   "cell_type": "markdown",
   "metadata": {},
   "source": [
    "![g-PL08](img/g-PL08.png)"
   ]
  },
  {
   "cell_type": "markdown",
   "metadata": {},
   "source": [
    "#### Curva Item-Response"
   ]
  },
  {
   "cell_type": "code",
   "execution_count": 30,
   "metadata": {
    "collapsed": false
   },
   "outputs": [],
   "source": [
    "if (!file.exists('img/l-PL08.png')) {\n",
    "data <- data.frame(x=seq(-5,5,.1))\n",
    "options(repr.plot.width=6, repr.plot.height=6)\n",
    "p <- ggplot(data, aes(x=x))\n",
    "p <- p + scale_x_continuous()\n",
    "p <- p + geom_hline(yintercept=0.5, linetype=\"dashed\")\n",
    "p <- p + geom_vline(xintercept=0.0, linetype=\"dashed\")\n",
    "dall <- data.frame()\n",
    "for (i in 1:length(d$value)) {\n",
    " ldata <- bind_cols(data,  data.frame(a=rep(d$value[i], times=length(data$x)),\n",
    "                                      b=rep(a$value[i], times=length(data$x)),\n",
    "                                      c=rep(g$value[i], times=length(data$x)),\n",
    "                                      category=rep(d$category[i], times=length(data$x))\n",
    "                                   ))\n",
    " ldata <- mutate(ldata, y = logistic(x, a, b, c))\n",
    "  dall <- bind_rows(dall, ldata)\n",
    "}\n",
    " p <- p + geom_point(data=dall, aes(x=x, y=y)) + geom_smooth(data=dall, aes(x=x, y=y))\n",
    " p <- p + facet_grid(. ~ category)\n",
    " ggsave(filename = 'img/l-PL08.png', plot = p, width = 6, height = 6)\n",
    " rm(data, dall, ldata, p)\n",
    "}"
   ]
  },
  {
   "cell_type": "markdown",
   "metadata": {},
   "source": [
    "![l-PL08](img/l-PL08.png)"
   ]
  },
  {
   "cell_type": "markdown",
   "metadata": {},
   "source": [
    "###  2015_Kilo_A4_MY01_Braccialetti\n",
    "\n",
    "![Braccialetti](screenshot/kilo04-braccialetti.png)"
   ]
  },
  {
   "cell_type": "code",
   "execution_count": 31,
   "metadata": {
    "collapsed": false
   },
   "outputs": [],
   "source": [
    "q <- 'MY01'\n",
    "d <- quiz_difficulty %>% dplyr::filter(bebras_id == q) %>% select(value, category)\n",
    "a <- quiz_discrimination %>% dplyr::filter(bebras_id == q) %>% select(value, category)\n",
    "g <- quiz_guessing %>% dplyr::filter(bebras_id == q) %>% select(value, category)"
   ]
  },
  {
   "cell_type": "markdown",
   "metadata": {},
   "source": [
    "#### Difficoltà"
   ]
  },
  {
   "cell_type": "code",
   "execution_count": 32,
   "metadata": {
    "collapsed": false
   },
   "outputs": [
    {
     "data": {
      "text/plain": [
       "   Min. 1st Qu.  Median    Mean 3rd Qu.    Max. \n",
       "-5.1240 -3.2940 -2.9000 -2.8940 -2.4880 -0.6867 "
      ]
     },
     "execution_count": 32,
     "metadata": {},
     "output_type": "execute_result"
    }
   ],
   "source": [
    "if (!file.exists('img/d-MY01.png')) {\n",
    "options(repr.plot.width=10, repr.plot.height=2)\n",
    "p <- ggplot(d, aes(x=value))\n",
    "p <- p + geom_histogram(binwidth=0.1*sd(d$value)) \n",
    "p <- p + aes(y=..density..)\n",
    "p <- p + facet_grid(. ~ category)\n",
    "ggsave(filename = 'img/d-MY01.png', plot = p, width = 10, height = 2)\n",
    "rm(p)\n",
    "}\n",
    "summary(d$value)"
   ]
  },
  {
   "cell_type": "markdown",
   "metadata": {},
   "source": [
    "![d-MY01](img/d-MY01.png)"
   ]
  },
  {
   "cell_type": "markdown",
   "metadata": {},
   "source": [
    "#### Differenziazione"
   ]
  },
  {
   "cell_type": "code",
   "execution_count": 33,
   "metadata": {
    "collapsed": false
   },
   "outputs": [
    {
     "data": {
      "text/plain": [
       "   Min. 1st Qu.  Median    Mean 3rd Qu.    Max. \n",
       " 0.5407  1.1190  1.3030  1.3450  1.5250  3.1790 "
      ]
     },
     "execution_count": 33,
     "metadata": {},
     "output_type": "execute_result"
    }
   ],
   "source": [
    "if (!file.exists('img/a-MY01.png')) {\n",
    "options(repr.plot.width=10, repr.plot.height=2)\n",
    "p <- ggplot(a, aes(x=value))\n",
    "p <- p + geom_histogram(binwidth=0.1*sd(a$value)) \n",
    "p <- p + aes(y=..density..)\n",
    "p <- p + facet_grid(. ~ category)\n",
    "ggsave(filename = 'img/a-MY01.png', plot = p, width = 10, height = 2)\n",
    "rm(p)\n",
    "}\n",
    "summary(a$value)"
   ]
  },
  {
   "cell_type": "markdown",
   "metadata": {},
   "source": [
    "![a-MY01](img/a-MY01.png)"
   ]
  },
  {
   "cell_type": "markdown",
   "metadata": {},
   "source": [
    "#### Guessing"
   ]
  },
  {
   "cell_type": "code",
   "execution_count": 34,
   "metadata": {
    "collapsed": false
   },
   "outputs": [
    {
     "data": {
      "text/plain": [
       "     Min.   1st Qu.    Median      Mean   3rd Qu.      Max. \n",
       "0.0000556 0.1503000 0.3175000 0.3452000 0.5164000 0.9300000 "
      ]
     },
     "execution_count": 34,
     "metadata": {},
     "output_type": "execute_result"
    }
   ],
   "source": [
    "if (!file.exists('img/g-MY01.png')) {\n",
    "options(repr.plot.width=10, repr.plot.height=2)\n",
    "p <- ggplot(g, aes(x=value))\n",
    "p <- p + geom_histogram(binwidth=0.1*sd(g$value)) \n",
    "p <- p + aes(y=..density..)\n",
    "p <- p + facet_grid(. ~ category)\n",
    "ggsave(filename = 'img/g-MY01.png', plot = p, width = 10, height = 2)\n",
    "rm(p)\n",
    "}\n",
    "summary(g$value)"
   ]
  },
  {
   "cell_type": "markdown",
   "metadata": {},
   "source": [
    "![g-MY01](img/g-MY01.png)"
   ]
  },
  {
   "cell_type": "markdown",
   "metadata": {},
   "source": [
    "#### Curva Item-Response"
   ]
  },
  {
   "cell_type": "code",
   "execution_count": 35,
   "metadata": {
    "collapsed": false
   },
   "outputs": [],
   "source": [
    "if (!file.exists('img/l-MY01.png')) {\n",
    "data <- data.frame(x=seq(-5,5,.1))\n",
    "options(repr.plot.width=6, repr.plot.height=6)\n",
    "p <- ggplot(data, aes(x=x))\n",
    "p <- p + scale_x_continuous()\n",
    "p <- p + geom_hline(yintercept=0.5, linetype=\"dashed\")\n",
    "p <- p + geom_vline(xintercept=0.0, linetype=\"dashed\")\n",
    "dall <- data.frame()\n",
    "for (i in 1:length(d$value)) {\n",
    " ldata <- bind_cols(data,  data.frame(a=rep(d$value[i], times=length(data$x)),\n",
    "                                      b=rep(a$value[i], times=length(data$x)),\n",
    "                                      c=rep(g$value[i], times=length(data$x)),\n",
    "                                      category=rep(d$category[i], times=length(data$x))\n",
    "                                   ))\n",
    " ldata <- mutate(ldata, y = logistic(x, a, b, c))\n",
    "  dall <- bind_rows(dall, ldata)\n",
    "}\n",
    " p <- p + geom_point(data=dall, aes(x=x, y=y)) + geom_smooth(data=dall, aes(x=x, y=y))\n",
    " p <- p + facet_grid(. ~ category)\n",
    " ggsave(filename = 'img/l-MY01.png', plot = p, width = 6, height = 6)\n",
    " rm(data, dall, ldata, p)\n",
    "}"
   ]
  },
  {
   "cell_type": "markdown",
   "metadata": {},
   "source": [
    "![l-MY01](img/l-MY01.png)"
   ]
  },
  {
   "cell_type": "markdown",
   "metadata": {},
   "source": [
    "###  2015_Kilo_A5_SK05_Vestiti\n",
    "\n",
    "![Vestiti](screenshot/kilo05-vestiti.png)"
   ]
  },
  {
   "cell_type": "code",
   "execution_count": 36,
   "metadata": {
    "collapsed": false
   },
   "outputs": [],
   "source": [
    "q <- 'SK05'\n",
    "d <- quiz_difficulty %>% dplyr::filter(bebras_id == q) %>% select(value, category)\n",
    "a <- quiz_discrimination %>% dplyr::filter(bebras_id == q) %>% select(value, category)\n",
    "g <- quiz_guessing %>% dplyr::filter(bebras_id == q) %>% select(value, category)"
   ]
  },
  {
   "cell_type": "markdown",
   "metadata": {},
   "source": [
    "#### Difficoltà"
   ]
  },
  {
   "cell_type": "code",
   "execution_count": 37,
   "metadata": {
    "collapsed": false
   },
   "outputs": [
    {
     "data": {
      "text/plain": [
       "   Min. 1st Qu.  Median    Mean 3rd Qu.    Max. \n",
       "-4.6820 -1.8990 -1.0170 -0.9968 -0.1550  3.5530 "
      ]
     },
     "execution_count": 37,
     "metadata": {},
     "output_type": "execute_result"
    }
   ],
   "source": [
    "if (!file.exists('img/d-SK05.png')) {\n",
    "options(repr.plot.width=10, repr.plot.height=2)\n",
    "p <- ggplot(d, aes(x=value))\n",
    "p <- p + geom_histogram(binwidth=0.1*sd(d$value)) \n",
    "p <- p + aes(y=..density..)\n",
    "p <- p + facet_grid(. ~ category)\n",
    "ggsave(filename = 'img/d-SK05.png', plot = p, width = 10, height = 2)\n",
    "rm(p)\n",
    "}\n",
    "summary(d$value)"
   ]
  },
  {
   "cell_type": "markdown",
   "metadata": {},
   "source": [
    "![d-SK05](img/d-SK05.png)"
   ]
  },
  {
   "cell_type": "markdown",
   "metadata": {},
   "source": [
    "#### Differenziazione"
   ]
  },
  {
   "cell_type": "code",
   "execution_count": 38,
   "metadata": {
    "collapsed": false
   },
   "outputs": [
    {
     "data": {
      "text/plain": [
       "   Min. 1st Qu.  Median    Mean 3rd Qu.    Max. \n",
       " 0.3410  0.6416  0.7580  0.7917  0.9038  2.4740 "
      ]
     },
     "execution_count": 38,
     "metadata": {},
     "output_type": "execute_result"
    }
   ],
   "source": [
    "if (!file.exists('img/a-SK05.png')) {\n",
    "options(repr.plot.width=10, repr.plot.height=2)\n",
    "p <- ggplot(a, aes(x=value))\n",
    "p <- p + geom_histogram(binwidth=0.1*sd(a$value)) \n",
    "p <- p + aes(y=..density..)\n",
    "p <- p + facet_grid(. ~ category)\n",
    "ggsave(filename = 'img/a-SK05.png', plot = p, width = 10, height = 2)\n",
    "rm(p)\n",
    "}\n",
    "summary(a$value)"
   ]
  },
  {
   "cell_type": "markdown",
   "metadata": {},
   "source": [
    "![a-SK05](img/a-SK05.png)"
   ]
  },
  {
   "cell_type": "markdown",
   "metadata": {},
   "source": [
    "#### Guessing"
   ]
  },
  {
   "cell_type": "code",
   "execution_count": 39,
   "metadata": {
    "collapsed": false
   },
   "outputs": [
    {
     "data": {
      "text/plain": [
       "     Min.   1st Qu.    Median      Mean   3rd Qu.      Max. \n",
       "0.0006019 0.3984000 0.5942000 0.5361000 0.7061000 0.8742000 "
      ]
     },
     "execution_count": 39,
     "metadata": {},
     "output_type": "execute_result"
    }
   ],
   "source": [
    "if (!file.exists('img/g-SK05.png')) {\n",
    "options(repr.plot.width=10, repr.plot.height=2)\n",
    "p <- ggplot(g, aes(x=value))\n",
    "p <- p + geom_histogram(binwidth=0.1*sd(g$value)) \n",
    "p <- p + aes(y=..density..)\n",
    "p <- p + facet_grid(. ~ category)\n",
    "ggsave(filename = 'img/g-SK05.png', plot = p, width = 10, height = 2)\n",
    "rm(p)\n",
    "}\n",
    "summary(g$value)"
   ]
  },
  {
   "cell_type": "markdown",
   "metadata": {},
   "source": [
    "![g-SK05](img/g-SK05.png)"
   ]
  },
  {
   "cell_type": "markdown",
   "metadata": {},
   "source": [
    "#### Curva Item-Response"
   ]
  },
  {
   "cell_type": "code",
   "execution_count": 40,
   "metadata": {
    "collapsed": false
   },
   "outputs": [],
   "source": [
    "if (!file.exists('img/l-SK05.png')) {\n",
    "data <- data.frame(x=seq(-5,5,.1))\n",
    "options(repr.plot.width=6, repr.plot.height=6)\n",
    "p <- ggplot(data, aes(x=x))\n",
    "p <- p + scale_x_continuous()\n",
    "p <- p + geom_hline(yintercept=0.5, linetype=\"dashed\")\n",
    "p <- p + geom_vline(xintercept=0.0, linetype=\"dashed\")\n",
    "dall <- data.frame()\n",
    "for (i in 1:length(d$value)) {\n",
    " ldata <- bind_cols(data,  data.frame(a=rep(d$value[i], times=length(data$x)),\n",
    "                                      b=rep(a$value[i], times=length(data$x)),\n",
    "                                      c=rep(g$value[i], times=length(data$x)),\n",
    "                                      category=rep(d$category[i], times=length(data$x))\n",
    "                                   ))\n",
    " ldata <- mutate(ldata, y = logistic(x, a, b, c))\n",
    "  dall <- bind_rows(dall, ldata)\n",
    "}\n",
    " p <- p + geom_point(data=dall, aes(x=x, y=y)) + geom_smooth(data=dall, aes(x=x, y=y))\n",
    " p <- p + facet_grid(. ~ category)\n",
    " ggsave(filename = 'img/l-SK05.png', plot = p, width = 6, height = 6)\n",
    " rm(data, dall, ldata, p)\n",
    "}"
   ]
  },
  {
   "cell_type": "markdown",
   "metadata": {},
   "source": [
    "![l-SK05](img/l-SK05.png)"
   ]
  },
  {
   "cell_type": "markdown",
   "metadata": {},
   "source": [
    "###  2015_Kilo_B1_LT05_Morra\n",
    "\n",
    "![Morra](screenshot/kilo06-morra.png)"
   ]
  },
  {
   "cell_type": "code",
   "execution_count": 41,
   "metadata": {
    "collapsed": false
   },
   "outputs": [],
   "source": [
    "q <- 'LT05'\n",
    "d <- quiz_difficulty %>% dplyr::filter(bebras_id == q) %>% select(value, category)\n",
    "a <- quiz_discrimination %>% dplyr::filter(bebras_id == q) %>% select(value, category)\n",
    "g <- quiz_guessing %>% dplyr::filter(bebras_id == q) %>% select(value, category)"
   ]
  },
  {
   "cell_type": "markdown",
   "metadata": {},
   "source": [
    "#### Difficoltà"
   ]
  },
  {
   "cell_type": "code",
   "execution_count": 42,
   "metadata": {
    "collapsed": false
   },
   "outputs": [
    {
     "data": {
      "text/plain": [
       "     Min.   1st Qu.    Median      Mean   3rd Qu.      Max. \n",
       "-1.640000 -0.981900 -0.362700 -0.481300  0.002391  0.571300 "
      ]
     },
     "execution_count": 42,
     "metadata": {},
     "output_type": "execute_result"
    }
   ],
   "source": [
    "if (!file.exists('img/d-LT05.png')) {\n",
    "options(repr.plot.width=10, repr.plot.height=2)\n",
    "p <- ggplot(d, aes(x=value))\n",
    "p <- p + geom_histogram(binwidth=0.1*sd(d$value)) \n",
    "p <- p + aes(y=..density..)\n",
    "p <- p + facet_grid(. ~ category)\n",
    "ggsave(filename = 'img/d-LT05.png', plot = p, width = 10, height = 2)\n",
    "rm(p)\n",
    "}\n",
    "summary(d$value)"
   ]
  },
  {
   "cell_type": "markdown",
   "metadata": {},
   "source": [
    "![d-LT05](img/d-LT05.png)"
   ]
  },
  {
   "cell_type": "markdown",
   "metadata": {},
   "source": [
    "#### Differenziazione"
   ]
  },
  {
   "cell_type": "code",
   "execution_count": 43,
   "metadata": {
    "collapsed": false
   },
   "outputs": [
    {
     "data": {
      "text/plain": [
       "   Min. 1st Qu.  Median    Mean 3rd Qu.    Max. \n",
       " 0.7661  1.2350  1.3890  1.4390  1.5890  3.2630 "
      ]
     },
     "execution_count": 43,
     "metadata": {},
     "output_type": "execute_result"
    }
   ],
   "source": [
    "if (!file.exists('img/a-LT05.png')) {\n",
    "options(repr.plot.width=10, repr.plot.height=2)\n",
    "p <- ggplot(a, aes(x=value))\n",
    "p <- p + geom_histogram(binwidth=0.1*sd(a$value)) \n",
    "p <- p + aes(y=..density..)\n",
    "p <- p + facet_grid(. ~ category)\n",
    "ggsave(filename = 'img/a-LT05.png', plot = p, width = 10, height = 2)\n",
    "rm(p)\n",
    "}\n",
    "summary(a$value)"
   ]
  },
  {
   "cell_type": "markdown",
   "metadata": {},
   "source": [
    "![a-LT05](img/a-LT05.png)"
   ]
  },
  {
   "cell_type": "markdown",
   "metadata": {},
   "source": [
    "#### Guessing"
   ]
  },
  {
   "cell_type": "code",
   "execution_count": 44,
   "metadata": {
    "collapsed": false
   },
   "outputs": [
    {
     "data": {
      "text/plain": [
       "     Min.   1st Qu.    Median      Mean   3rd Qu.      Max. \n",
       "0.0000484 0.0265400 0.0618200 0.0757100 0.1090000 0.3917000 "
      ]
     },
     "execution_count": 44,
     "metadata": {},
     "output_type": "execute_result"
    }
   ],
   "source": [
    "if (!file.exists('img/g-LT05.png')) {\n",
    "options(repr.plot.width=10, repr.plot.height=2)\n",
    "p <- ggplot(g, aes(x=value))\n",
    "p <- p + geom_histogram(binwidth=0.1*sd(g$value)) \n",
    "p <- p + aes(y=..density..)\n",
    "p <- p + facet_grid(. ~ category)\n",
    "ggsave(filename = 'img/g-LT05.png', plot = p, width = 10, height = 2)\n",
    "rm(p)\n",
    "}\n",
    "summary(g$value)"
   ]
  },
  {
   "cell_type": "markdown",
   "metadata": {},
   "source": [
    "![g-LT05](img/g-LT05.png)"
   ]
  },
  {
   "cell_type": "markdown",
   "metadata": {},
   "source": [
    "#### Curva Item-Response"
   ]
  },
  {
   "cell_type": "code",
   "execution_count": 45,
   "metadata": {
    "collapsed": false
   },
   "outputs": [],
   "source": [
    "if (!file.exists('img/l-LT05.png')) {\n",
    "data <- data.frame(x=seq(-5,5,.1))\n",
    "options(repr.plot.width=6, repr.plot.height=6)\n",
    "p <- ggplot(data, aes(x=x))\n",
    "p <- p + scale_x_continuous()\n",
    "p <- p + geom_hline(yintercept=0.5, linetype=\"dashed\")\n",
    "p <- p + geom_vline(xintercept=0.0, linetype=\"dashed\")\n",
    "dall <- data.frame()\n",
    "for (i in 1:length(d$value)) {\n",
    " ldata <- bind_cols(data,  data.frame(a=rep(d$value[i], times=length(data$x)),\n",
    "                                      b=rep(a$value[i], times=length(data$x)),\n",
    "                                      c=rep(g$value[i], times=length(data$x)),\n",
    "                                      category=rep(d$category[i], times=length(data$x))\n",
    "                                   ))\n",
    " ldata <- mutate(ldata, y = logistic(x, a, b, c))\n",
    "  dall <- bind_rows(dall, ldata)\n",
    "}\n",
    " p <- p + geom_point(data=dall, aes(x=x, y=y)) + geom_smooth(data=dall, aes(x=x, y=y))\n",
    " p <- p + facet_grid(. ~ category)\n",
    " ggsave(filename = 'img/l-LT05.png', plot = p, width = 6, height = 6)\n",
    " rm(data, dall, ldata, p)\n",
    "}"
   ]
  },
  {
   "cell_type": "markdown",
   "metadata": {},
   "source": [
    "![l-LT05](img/l-LT05.png)"
   ]
  },
  {
   "cell_type": "markdown",
   "metadata": {},
   "source": [
    "###  2015_Kilo_B2_JP04_Gru\n",
    "\n",
    "![Gru](screenshot/kilo07-gru.png)"
   ]
  },
  {
   "cell_type": "code",
   "execution_count": 46,
   "metadata": {
    "collapsed": false
   },
   "outputs": [],
   "source": [
    "q <- 'JP04'\n",
    "d <- quiz_difficulty %>% dplyr::filter(bebras_id == q) %>% select(value, category)\n",
    "a <- quiz_discrimination %>% dplyr::filter(bebras_id == q) %>% select(value, category)\n",
    "g <- quiz_guessing %>% dplyr::filter(bebras_id == q) %>% select(value, category)"
   ]
  },
  {
   "cell_type": "markdown",
   "metadata": {},
   "source": [
    "#### Difficoltà"
   ]
  },
  {
   "cell_type": "code",
   "execution_count": 47,
   "metadata": {
    "collapsed": false
   },
   "outputs": [
    {
     "data": {
      "text/plain": [
       "   Min. 1st Qu.  Median    Mean 3rd Qu.    Max. \n",
       " 0.9001  1.4020  1.7230  1.7730  2.0980  3.6400 "
      ]
     },
     "execution_count": 47,
     "metadata": {},
     "output_type": "execute_result"
    }
   ],
   "source": [
    "if (!file.exists('img/d-JP04.png')) {\n",
    "options(repr.plot.width=10, repr.plot.height=2)\n",
    "p <- ggplot(d, aes(x=value))\n",
    "p <- p + geom_histogram(binwidth=0.1*sd(d$value)) \n",
    "p <- p + aes(y=..density..)\n",
    "p <- p + facet_grid(. ~ category)\n",
    "ggsave(filename = 'img/d-JP04.png', plot = p, width = 10, height = 2)\n",
    "rm(p)\n",
    "}\n",
    "summary(d$value)"
   ]
  },
  {
   "cell_type": "markdown",
   "metadata": {},
   "source": [
    "![d-JP04](img/d-JP04.png)"
   ]
  },
  {
   "cell_type": "markdown",
   "metadata": {},
   "source": [
    "#### Differenziazione"
   ]
  },
  {
   "cell_type": "code",
   "execution_count": 48,
   "metadata": {
    "collapsed": false
   },
   "outputs": [
    {
     "data": {
      "text/plain": [
       "   Min. 1st Qu.  Median    Mean 3rd Qu.    Max. \n",
       " 0.4927  0.8696  0.9883  1.0170  1.1380  2.0580 "
      ]
     },
     "execution_count": 48,
     "metadata": {},
     "output_type": "execute_result"
    }
   ],
   "source": [
    "if (!file.exists('img/a-JP04.png')) {\n",
    "options(repr.plot.width=10, repr.plot.height=2)\n",
    "p <- ggplot(a, aes(x=value))\n",
    "p <- p + geom_histogram(binwidth=0.1*sd(a$value)) \n",
    "p <- p + aes(y=..density..)\n",
    "p <- p + facet_grid(. ~ category)\n",
    "ggsave(filename = 'img/a-JP04.png', plot = p, width = 10, height = 2)\n",
    "rm(p)\n",
    "}\n",
    "summary(a$value)"
   ]
  },
  {
   "cell_type": "markdown",
   "metadata": {},
   "source": [
    "![a-JP04](img/a-JP04.png)"
   ]
  },
  {
   "cell_type": "markdown",
   "metadata": {},
   "source": [
    "#### Guessing"
   ]
  },
  {
   "cell_type": "code",
   "execution_count": 49,
   "metadata": {
    "collapsed": false
   },
   "outputs": [
    {
     "data": {
      "text/plain": [
       "     Min.   1st Qu.    Median      Mean   3rd Qu.      Max. \n",
       "7.500e-07 2.692e-04 6.772e-04 9.962e-04 1.384e-03 1.017e-02 "
      ]
     },
     "execution_count": 49,
     "metadata": {},
     "output_type": "execute_result"
    }
   ],
   "source": [
    "if (!file.exists('img/g-JP04.png')) {\n",
    "options(repr.plot.width=10, repr.plot.height=2)\n",
    "p <- ggplot(g, aes(x=value))\n",
    "p <- p + geom_histogram(binwidth=0.1*sd(g$value)) \n",
    "p <- p + aes(y=..density..)\n",
    "p <- p + facet_grid(. ~ category)\n",
    "ggsave(filename = 'img/g-JP04.png', plot = p, width = 10, height = 2)\n",
    "rm(p)\n",
    "}\n",
    "summary(g$value)"
   ]
  },
  {
   "cell_type": "markdown",
   "metadata": {},
   "source": [
    "![g-JP04](img/g-JP04.png)"
   ]
  },
  {
   "cell_type": "markdown",
   "metadata": {},
   "source": [
    "#### Curva Item-Response"
   ]
  },
  {
   "cell_type": "code",
   "execution_count": 50,
   "metadata": {
    "collapsed": false
   },
   "outputs": [],
   "source": [
    "if (!file.exists('img/l-JP04.png')) {\n",
    "data <- data.frame(x=seq(-5,5,.1))\n",
    "options(repr.plot.width=6, repr.plot.height=6)\n",
    "p <- ggplot(data, aes(x=x))\n",
    "p <- p + scale_x_continuous()\n",
    "p <- p + geom_hline(yintercept=0.5, linetype=\"dashed\")\n",
    "p <- p + geom_vline(xintercept=0.0, linetype=\"dashed\")\n",
    "dall <- data.frame()\n",
    "for (i in 1:length(d$value)) {\n",
    " ldata <- bind_cols(data,  data.frame(a=rep(d$value[i], times=length(data$x)),\n",
    "                                      b=rep(a$value[i], times=length(data$x)),\n",
    "                                      c=rep(g$value[i], times=length(data$x)),\n",
    "                                      category=rep(d$category[i], times=length(data$x))\n",
    "                                   ))\n",
    " ldata <- mutate(ldata, y = logistic(x, a, b, c))\n",
    "  dall <- bind_rows(dall, ldata)\n",
    "}\n",
    " p <- p + geom_point(data=dall, aes(x=x, y=y)) + geom_smooth(data=dall, aes(x=x, y=y))\n",
    " p <- p + facet_grid(. ~ category)\n",
    " ggsave(filename = 'img/l-JP04.png', plot = p, width = 6, height = 6)\n",
    " rm(data, dall, ldata, p)\n",
    "}"
   ]
  },
  {
   "cell_type": "markdown",
   "metadata": {},
   "source": [
    "![l-JP04](img/l-JP04.png)"
   ]
  },
  {
   "cell_type": "markdown",
   "metadata": {},
   "source": [
    "###  2015_Kilo_B3_TR08_Occhiali\n",
    "\n",
    "![Occhiali](screenshot/kilo08-occhiali.png)"
   ]
  },
  {
   "cell_type": "code",
   "execution_count": 51,
   "metadata": {
    "collapsed": false
   },
   "outputs": [],
   "source": [
    "q <- 'TR08'\n",
    "d <- quiz_difficulty %>% dplyr::filter(bebras_id == q) %>% select(value, category)\n",
    "a <- quiz_discrimination %>% dplyr::filter(bebras_id == q) %>% select(value, category)\n",
    "g <- quiz_guessing %>% dplyr::filter(bebras_id == q) %>% select(value, category)"
   ]
  },
  {
   "cell_type": "markdown",
   "metadata": {},
   "source": [
    "#### Difficoltà"
   ]
  },
  {
   "cell_type": "code",
   "execution_count": 52,
   "metadata": {
    "collapsed": false
   },
   "outputs": [
    {
     "data": {
      "text/plain": [
       "   Min. 1st Qu.  Median    Mean 3rd Qu.    Max. \n",
       " 0.4275  1.1100  1.7270  2.0100  2.8190  5.5150 "
      ]
     },
     "execution_count": 52,
     "metadata": {},
     "output_type": "execute_result"
    }
   ],
   "source": [
    "if (!file.exists('img/d-TR08.png')) {\n",
    "options(repr.plot.width=10, repr.plot.height=2)\n",
    "p <- ggplot(d, aes(x=value))\n",
    "p <- p + geom_histogram(binwidth=0.1*sd(d$value)) \n",
    "p <- p + aes(y=..density..)\n",
    "p <- p + facet_grid(. ~ category)\n",
    "ggsave(filename = 'img/d-TR08.png', plot = p, width = 10, height = 2)\n",
    "rm(p)\n",
    "}\n",
    "summary(d$value)"
   ]
  },
  {
   "cell_type": "markdown",
   "metadata": {},
   "source": [
    "![d-TR08](img/d-TR08.png)"
   ]
  },
  {
   "cell_type": "markdown",
   "metadata": {},
   "source": [
    "#### Differenziazione"
   ]
  },
  {
   "cell_type": "code",
   "execution_count": 53,
   "metadata": {
    "collapsed": false
   },
   "outputs": [
    {
     "data": {
      "text/plain": [
       "   Min. 1st Qu.  Median    Mean 3rd Qu.    Max. \n",
       " 0.3814  0.9510  1.1370  1.1840  1.3620  3.2990 "
      ]
     },
     "execution_count": 53,
     "metadata": {},
     "output_type": "execute_result"
    }
   ],
   "source": [
    "if (!file.exists('img/a-TR08.png')) {\n",
    "options(repr.plot.width=10, repr.plot.height=2)\n",
    "p <- ggplot(a, aes(x=value))\n",
    "p <- p + geom_histogram(binwidth=0.1*sd(a$value)) \n",
    "p <- p + aes(y=..density..)\n",
    "p <- p + facet_grid(. ~ category)\n",
    "ggsave(filename = 'img/a-TR08.png', plot = p, width = 10, height = 2)\n",
    "rm(p)\n",
    "}\n",
    "summary(a$value)"
   ]
  },
  {
   "cell_type": "markdown",
   "metadata": {},
   "source": [
    "![a-TR08](img/a-TR08.png)"
   ]
  },
  {
   "cell_type": "markdown",
   "metadata": {},
   "source": [
    "#### Guessing"
   ]
  },
  {
   "cell_type": "code",
   "execution_count": 54,
   "metadata": {
    "collapsed": false
   },
   "outputs": [
    {
     "data": {
      "text/plain": [
       "    Min.  1st Qu.   Median     Mean  3rd Qu.     Max. \n",
       "0.000859 0.119700 0.168000 0.160700 0.208900 0.305500 "
      ]
     },
     "execution_count": 54,
     "metadata": {},
     "output_type": "execute_result"
    }
   ],
   "source": [
    "if (!file.exists('img/g-TR08.png')) {\n",
    "options(repr.plot.width=10, repr.plot.height=2)\n",
    "p <- ggplot(g, aes(x=value))\n",
    "p <- p + geom_histogram(binwidth=0.1*sd(g$value)) \n",
    "p <- p + aes(y=..density..)\n",
    "p <- p + facet_grid(. ~ category)\n",
    "ggsave(filename = 'img/g-TR08.png', plot = p, width = 10, height = 2)\n",
    "rm(p)\n",
    "}\n",
    "summary(g$value)"
   ]
  },
  {
   "cell_type": "markdown",
   "metadata": {},
   "source": [
    "![g-TR08](img/g-TR08.png)"
   ]
  },
  {
   "cell_type": "markdown",
   "metadata": {},
   "source": [
    "#### Curva Item-Response"
   ]
  },
  {
   "cell_type": "code",
   "execution_count": 55,
   "metadata": {
    "collapsed": false
   },
   "outputs": [],
   "source": [
    "if (!file.exists('img/l-TR08.png')) {\n",
    "data <- data.frame(x=seq(-5,5,.1))\n",
    "options(repr.plot.width=6, repr.plot.height=6)\n",
    "p <- ggplot(data, aes(x=x))\n",
    "p <- p + scale_x_continuous()\n",
    "p <- p + geom_hline(yintercept=0.5, linetype=\"dashed\")\n",
    "p <- p + geom_vline(xintercept=0.0, linetype=\"dashed\")\n",
    "dall <- data.frame()\n",
    "for (i in 1:length(d$value)) {\n",
    " ldata <- bind_cols(data,  data.frame(a=rep(d$value[i], times=length(data$x)),\n",
    "                                      b=rep(a$value[i], times=length(data$x)),\n",
    "                                      c=rep(g$value[i], times=length(data$x)),\n",
    "                                      category=rep(d$category[i], times=length(data$x))\n",
    "                                   ))\n",
    " ldata <- mutate(ldata, y = logistic(x, a, b, c))\n",
    "  dall <- bind_rows(dall, ldata)\n",
    "}\n",
    " p <- p + geom_point(data=dall, aes(x=x, y=y)) + geom_smooth(data=dall, aes(x=x, y=y))\n",
    " p <- p + facet_grid(. ~ category)\n",
    " ggsave(filename = 'img/l-TR08.png', plot = p, width = 6, height = 6)\n",
    " rm(data, dall, ldata, p)\n",
    "}"
   ]
  },
  {
   "cell_type": "markdown",
   "metadata": {},
   "source": [
    "![l-TR08](img/l-TR08.png)"
   ]
  },
  {
   "cell_type": "markdown",
   "metadata": {},
   "source": [
    "###  2015_Kilo_B4_AT03_Irrigazione\n",
    "\n",
    "![Irrigazione](screenshot/kilo09-irrigazione.png)"
   ]
  },
  {
   "cell_type": "code",
   "execution_count": 56,
   "metadata": {
    "collapsed": false
   },
   "outputs": [],
   "source": [
    "q <- 'AT03'\n",
    "d <- quiz_difficulty %>% dplyr::filter(bebras_id == q) %>% select(value, category)\n",
    "a <- quiz_discrimination %>% dplyr::filter(bebras_id == q) %>% select(value, category)\n",
    "g <- quiz_guessing %>% dplyr::filter(bebras_id == q) %>% select(value, category)"
   ]
  },
  {
   "cell_type": "markdown",
   "metadata": {},
   "source": [
    "#### Difficoltà"
   ]
  },
  {
   "cell_type": "code",
   "execution_count": 57,
   "metadata": {
    "collapsed": false
   },
   "outputs": [
    {
     "data": {
      "text/plain": [
       "   Min. 1st Qu.  Median    Mean 3rd Qu.    Max. \n",
       "-2.1860 -1.3370 -0.5249 -0.5906  0.1673  0.7063 "
      ]
     },
     "execution_count": 57,
     "metadata": {},
     "output_type": "execute_result"
    }
   ],
   "source": [
    "if (!file.exists('img/d-AT03.png')) {\n",
    "options(repr.plot.width=10, repr.plot.height=2)\n",
    "p <- ggplot(d, aes(x=value))\n",
    "p <- p + geom_histogram(binwidth=0.1*sd(d$value)) \n",
    "p <- p + aes(y=..density..)\n",
    "p <- p + facet_grid(. ~ category)\n",
    "ggsave(filename = 'img/d-AT03.png', plot = p, width = 10, height = 2)\n",
    "rm(p)\n",
    "}\n",
    "summary(d$value)"
   ]
  },
  {
   "cell_type": "markdown",
   "metadata": {},
   "source": [
    "![d-AT03](img/d-AT03.png)"
   ]
  },
  {
   "cell_type": "markdown",
   "metadata": {},
   "source": [
    "#### Differenziazione"
   ]
  },
  {
   "cell_type": "code",
   "execution_count": 58,
   "metadata": {
    "collapsed": false
   },
   "outputs": [
    {
     "data": {
      "text/plain": [
       "   Min. 1st Qu.  Median    Mean 3rd Qu.    Max. \n",
       " 0.4376  0.8180  0.9057  0.9118  1.0000  1.5300 "
      ]
     },
     "execution_count": 58,
     "metadata": {},
     "output_type": "execute_result"
    }
   ],
   "source": [
    "if (!file.exists('img/a-AT03.png')) {\n",
    "options(repr.plot.width=10, repr.plot.height=2)\n",
    "p <- ggplot(a, aes(x=value))\n",
    "p <- p + geom_histogram(binwidth=0.1*sd(a$value)) \n",
    "p <- p + aes(y=..density..)\n",
    "p <- p + facet_grid(. ~ category)\n",
    "ggsave(filename = 'img/a-AT03.png', plot = p, width = 10, height = 2)\n",
    "rm(p)\n",
    "}\n",
    "summary(a$value)"
   ]
  },
  {
   "cell_type": "markdown",
   "metadata": {},
   "source": [
    "![a-AT03](img/a-AT03.png)"
   ]
  },
  {
   "cell_type": "markdown",
   "metadata": {},
   "source": [
    "#### Guessing"
   ]
  },
  {
   "cell_type": "code",
   "execution_count": 59,
   "metadata": {
    "collapsed": false
   },
   "outputs": [
    {
     "data": {
      "text/plain": [
       "     Min.   1st Qu.    Median      Mean   3rd Qu.      Max. \n",
       "3.800e-07 1.534e-04 3.468e-04 4.908e-04 6.880e-04 4.897e-03 "
      ]
     },
     "execution_count": 59,
     "metadata": {},
     "output_type": "execute_result"
    }
   ],
   "source": [
    "if (!file.exists('img/g-AT03.png')) {\n",
    "options(repr.plot.width=10, repr.plot.height=2)\n",
    "p <- ggplot(g, aes(x=value))\n",
    "p <- p + geom_histogram(binwidth=0.1*sd(g$value)) \n",
    "p <- p + aes(y=..density..)\n",
    "p <- p + facet_grid(. ~ category)\n",
    "ggsave(filename = 'img/g-AT03.png', plot = p, width = 10, height = 2)\n",
    "rm(p)\n",
    "}\n",
    "summary(g$value)"
   ]
  },
  {
   "cell_type": "markdown",
   "metadata": {},
   "source": [
    "![g-AT03](img/g-AT03.png)"
   ]
  },
  {
   "cell_type": "markdown",
   "metadata": {},
   "source": [
    "#### Curva Item-Response"
   ]
  },
  {
   "cell_type": "code",
   "execution_count": 60,
   "metadata": {
    "collapsed": false
   },
   "outputs": [],
   "source": [
    "if (!file.exists('img/l-AT03.png')) {\n",
    "data <- data.frame(x=seq(-5,5,.1))\n",
    "options(repr.plot.width=6, repr.plot.height=6)\n",
    "p <- ggplot(data, aes(x=x))\n",
    "p <- p + scale_x_continuous()\n",
    "p <- p + geom_hline(yintercept=0.5, linetype=\"dashed\")\n",
    "p <- p + geom_vline(xintercept=0.0, linetype=\"dashed\")\n",
    "dall <- data.frame()\n",
    "for (i in 1:length(d$value)) {\n",
    " ldata <- bind_cols(data,  data.frame(a=rep(d$value[i], times=length(data$x)),\n",
    "                                      b=rep(a$value[i], times=length(data$x)),\n",
    "                                      c=rep(g$value[i], times=length(data$x)),\n",
    "                                      category=rep(d$category[i], times=length(data$x))\n",
    "                                   ))\n",
    " ldata <- mutate(ldata, y = logistic(x, a, b, c))\n",
    "  dall <- bind_rows(dall, ldata)\n",
    "}\n",
    " p <- p + geom_point(data=dall, aes(x=x, y=y)) + geom_smooth(data=dall, aes(x=x, y=y))\n",
    " p <- p + facet_grid(. ~ category)\n",
    " ggsave(filename = 'img/l-AT03.png', plot = p, width = 6, height = 6)\n",
    " rm(data, dall, ldata, p)\n",
    "}"
   ]
  },
  {
   "cell_type": "markdown",
   "metadata": {},
   "source": [
    "![l-AT03](img/l-AT03.png)"
   ]
  },
  {
   "cell_type": "markdown",
   "metadata": {},
   "source": [
    "###  2015_Kilo_B5_JP01_Attrezzi\n",
    "\n",
    "![Attrezzi](screenshot/kilo10-attrezzi.png)"
   ]
  },
  {
   "cell_type": "code",
   "execution_count": 61,
   "metadata": {
    "collapsed": false
   },
   "outputs": [],
   "source": [
    "q <- 'JP01'\n",
    "d <- quiz_difficulty %>% dplyr::filter(bebras_id == q) %>% select(value, category)\n",
    "a <- quiz_discrimination %>% dplyr::filter(bebras_id == q) %>% select(value, category)\n",
    "g <- quiz_guessing %>% dplyr::filter(bebras_id == q) %>% select(value, category)"
   ]
  },
  {
   "cell_type": "markdown",
   "metadata": {},
   "source": [
    "#### Difficoltà"
   ]
  },
  {
   "cell_type": "code",
   "execution_count": 62,
   "metadata": {
    "collapsed": false
   },
   "outputs": [
    {
     "data": {
      "text/plain": [
       "   Min. 1st Qu.  Median    Mean 3rd Qu.    Max. \n",
       "-1.9460 -0.8210 -0.4622 -0.4551 -0.1440  1.6810 "
      ]
     },
     "execution_count": 62,
     "metadata": {},
     "output_type": "execute_result"
    }
   ],
   "source": [
    "if (!file.exists('img/d-JP01.png')) {\n",
    "options(repr.plot.width=10, repr.plot.height=2)\n",
    "p <- ggplot(d, aes(x=value))\n",
    "p <- p + geom_histogram(binwidth=0.1*sd(d$value)) \n",
    "p <- p + aes(y=..density..)\n",
    "p <- p + facet_grid(. ~ category)\n",
    "ggsave(filename = 'img/d-JP01.png', plot = p, width = 10, height = 2)\n",
    "rm(p)\n",
    "}\n",
    "summary(d$value)"
   ]
  },
  {
   "cell_type": "markdown",
   "metadata": {},
   "source": [
    "![d-JP01](img/d-JP01.png)"
   ]
  },
  {
   "cell_type": "markdown",
   "metadata": {},
   "source": [
    "#### Differenziazione"
   ]
  },
  {
   "cell_type": "code",
   "execution_count": 63,
   "metadata": {
    "collapsed": false
   },
   "outputs": [
    {
     "data": {
      "text/plain": [
       "   Min. 1st Qu.  Median    Mean 3rd Qu.    Max. \n",
       " 0.4368  0.8322  0.9599  0.9841  1.1080  3.0480 "
      ]
     },
     "execution_count": 63,
     "metadata": {},
     "output_type": "execute_result"
    }
   ],
   "source": [
    "if (!file.exists('img/a-JP01.png')) {\n",
    "options(repr.plot.width=10, repr.plot.height=2)\n",
    "p <- ggplot(a, aes(x=value))\n",
    "p <- p + geom_histogram(binwidth=0.1*sd(a$value)) \n",
    "p <- p + aes(y=..density..)\n",
    "p <- p + facet_grid(. ~ category)\n",
    "ggsave(filename = 'img/a-JP01.png', plot = p, width = 10, height = 2)\n",
    "rm(p)\n",
    "}\n",
    "summary(a$value)"
   ]
  },
  {
   "cell_type": "markdown",
   "metadata": {},
   "source": [
    "![a-JP01](img/a-JP01.png)"
   ]
  },
  {
   "cell_type": "markdown",
   "metadata": {},
   "source": [
    "#### Guessing"
   ]
  },
  {
   "cell_type": "code",
   "execution_count": 64,
   "metadata": {
    "collapsed": false
   },
   "outputs": [
    {
     "data": {
      "text/plain": [
       "    Min.  1st Qu.   Median     Mean  3rd Qu.     Max. \n",
       "0.000097 0.087650 0.170900 0.182800 0.264700 0.555200 "
      ]
     },
     "execution_count": 64,
     "metadata": {},
     "output_type": "execute_result"
    }
   ],
   "source": [
    "if (!file.exists('img/g-JP01.png')) {\n",
    "options(repr.plot.width=10, repr.plot.height=2)\n",
    "p <- ggplot(g, aes(x=value))\n",
    "p <- p + geom_histogram(binwidth=0.1*sd(g$value)) \n",
    "p <- p + aes(y=..density..)\n",
    "p <- p + facet_grid(. ~ category)\n",
    "ggsave(filename = 'img/g-JP01.png', plot = p, width = 10, height = 2)\n",
    "rm(p)\n",
    "}\n",
    "summary(g$value)"
   ]
  },
  {
   "cell_type": "markdown",
   "metadata": {},
   "source": [
    "![g-JP01](img/g-JP01.png)"
   ]
  },
  {
   "cell_type": "markdown",
   "metadata": {},
   "source": [
    "#### Curva Item-Response"
   ]
  },
  {
   "cell_type": "code",
   "execution_count": 65,
   "metadata": {
    "collapsed": false
   },
   "outputs": [],
   "source": [
    "if (!file.exists('img/l-JP01.png')) {\n",
    "data <- data.frame(x=seq(-5,5,.1))\n",
    "options(repr.plot.width=6, repr.plot.height=6)\n",
    "p <- ggplot(data, aes(x=x))\n",
    "p <- p + scale_x_continuous()\n",
    "p <- p + geom_hline(yintercept=0.5, linetype=\"dashed\")\n",
    "p <- p + geom_vline(xintercept=0.0, linetype=\"dashed\")\n",
    "dall <- data.frame()\n",
    "for (i in 1:length(d$value)) {\n",
    " ldata <- bind_cols(data,  data.frame(a=rep(d$value[i], times=length(data$x)),\n",
    "                                      b=rep(a$value[i], times=length(data$x)),\n",
    "                                      c=rep(g$value[i], times=length(data$x)),\n",
    "                                      category=rep(d$category[i], times=length(data$x))\n",
    "                                   ))\n",
    " ldata <- mutate(ldata, y = logistic(x, a, b, c))\n",
    "  dall <- bind_rows(dall, ldata)\n",
    "}\n",
    " p <- p + geom_point(data=dall, aes(x=x, y=y)) + geom_smooth(data=dall, aes(x=x, y=y))\n",
    " p <- p + facet_grid(. ~ category)\n",
    " ggsave(filename = 'img/l-JP01.png', plot = p, width = 6, height = 6)\n",
    " rm(data, dall, ldata, p)\n",
    "}"
   ]
  },
  {
   "cell_type": "markdown",
   "metadata": {},
   "source": [
    "![l-JP01](img/l-JP01.png)"
   ]
  },
  {
   "cell_type": "markdown",
   "metadata": {},
   "source": [
    "###  2015_Kilo_C1_CZ03_Trasporto\n",
    "\n",
    "![Trasporto](screenshot/kilo11-trasporto.png)"
   ]
  },
  {
   "cell_type": "code",
   "execution_count": 66,
   "metadata": {
    "collapsed": false
   },
   "outputs": [],
   "source": [
    "q <- 'CZ03'\n",
    "d <- quiz_difficulty %>% dplyr::filter(bebras_id == q) %>% select(value, category)\n",
    "a <- quiz_discrimination %>% dplyr::filter(bebras_id == q) %>% select(value, category)\n",
    "g <- quiz_guessing %>% dplyr::filter(bebras_id == q) %>% select(value, category)"
   ]
  },
  {
   "cell_type": "markdown",
   "metadata": {},
   "source": [
    "#### Difficoltà"
   ]
  },
  {
   "cell_type": "code",
   "execution_count": 67,
   "metadata": {
    "collapsed": false
   },
   "outputs": [
    {
     "data": {
      "text/plain": [
       "   Min. 1st Qu.  Median    Mean 3rd Qu.    Max. \n",
       "  1.253   2.061   2.362   2.812   3.630   7.177 "
      ]
     },
     "execution_count": 67,
     "metadata": {},
     "output_type": "execute_result"
    }
   ],
   "source": [
    "if (!file.exists('img/d-CZ03.png')) {\n",
    "options(repr.plot.width=10, repr.plot.height=2)\n",
    "p <- ggplot(d, aes(x=value))\n",
    "p <- p + geom_histogram(binwidth=0.1*sd(d$value)) \n",
    "p <- p + aes(y=..density..)\n",
    "p <- p + facet_grid(. ~ category)\n",
    "ggsave(filename = 'img/d-CZ03.png', plot = p, width = 10, height = 2)\n",
    "rm(p)\n",
    "}\n",
    "summary(d$value)"
   ]
  },
  {
   "cell_type": "markdown",
   "metadata": {},
   "source": [
    "![d-CZ03](img/d-CZ03.png)"
   ]
  },
  {
   "cell_type": "markdown",
   "metadata": {},
   "source": [
    "#### Differenziazione"
   ]
  },
  {
   "cell_type": "code",
   "execution_count": 68,
   "metadata": {
    "collapsed": false
   },
   "outputs": [
    {
     "data": {
      "text/plain": [
       "   Min. 1st Qu.  Median    Mean 3rd Qu.    Max. \n",
       " 0.4206  0.8827  1.1180  1.1800  1.4390  2.8980 "
      ]
     },
     "execution_count": 68,
     "metadata": {},
     "output_type": "execute_result"
    }
   ],
   "source": [
    "if (!file.exists('img/a-CZ03.png')) {\n",
    "options(repr.plot.width=10, repr.plot.height=2)\n",
    "p <- ggplot(a, aes(x=value))\n",
    "p <- p + geom_histogram(binwidth=0.1*sd(a$value)) \n",
    "p <- p + aes(y=..density..)\n",
    "p <- p + facet_grid(. ~ category)\n",
    "ggsave(filename = 'img/a-CZ03.png', plot = p, width = 10, height = 2)\n",
    "rm(p)\n",
    "}\n",
    "summary(a$value)"
   ]
  },
  {
   "cell_type": "markdown",
   "metadata": {},
   "source": [
    "![a-CZ03](img/a-CZ03.png)"
   ]
  },
  {
   "cell_type": "markdown",
   "metadata": {},
   "source": [
    "#### Guessing"
   ]
  },
  {
   "cell_type": "code",
   "execution_count": 69,
   "metadata": {
    "collapsed": false
   },
   "outputs": [
    {
     "data": {
      "text/plain": [
       "     Min.   1st Qu.    Median      Mean   3rd Qu.      Max. \n",
       "0.0000017 0.0011950 0.0027930 0.0038340 0.0052530 0.0363800 "
      ]
     },
     "execution_count": 69,
     "metadata": {},
     "output_type": "execute_result"
    }
   ],
   "source": [
    "if (!file.exists('img/g-CZ03.png')) {\n",
    "options(repr.plot.width=10, repr.plot.height=2)\n",
    "p <- ggplot(g, aes(x=value))\n",
    "p <- p + geom_histogram(binwidth=0.1*sd(g$value)) \n",
    "p <- p + aes(y=..density..)\n",
    "p <- p + facet_grid(. ~ category)\n",
    "ggsave(filename = 'img/g-CZ03.png', plot = p, width = 10, height = 2)\n",
    "rm(p)\n",
    "}\n",
    "summary(g$value)"
   ]
  },
  {
   "cell_type": "markdown",
   "metadata": {},
   "source": [
    "![g-CZ03](img/g-CZ03.png)"
   ]
  },
  {
   "cell_type": "markdown",
   "metadata": {},
   "source": [
    "#### Curva Item-Response"
   ]
  },
  {
   "cell_type": "code",
   "execution_count": 70,
   "metadata": {
    "collapsed": false
   },
   "outputs": [],
   "source": [
    "if (!file.exists('img/l-CZ03.png')) {\n",
    "data <- data.frame(x=seq(-5,5,.1))\n",
    "options(repr.plot.width=6, repr.plot.height=6)\n",
    "p <- ggplot(data, aes(x=x))\n",
    "p <- p + scale_x_continuous()\n",
    "p <- p + geom_hline(yintercept=0.5, linetype=\"dashed\")\n",
    "p <- p + geom_vline(xintercept=0.0, linetype=\"dashed\")\n",
    "dall <- data.frame()\n",
    "for (i in 1:length(d$value)) {\n",
    " ldata <- bind_cols(data,  data.frame(a=rep(d$value[i], times=length(data$x)),\n",
    "                                      b=rep(a$value[i], times=length(data$x)),\n",
    "                                      c=rep(g$value[i], times=length(data$x)),\n",
    "                                      category=rep(d$category[i], times=length(data$x))\n",
    "                                   ))\n",
    " ldata <- mutate(ldata, y = logistic(x, a, b, c))\n",
    "  dall <- bind_rows(dall, ldata)\n",
    "}\n",
    " p <- p + geom_point(data=dall, aes(x=x, y=y)) + geom_smooth(data=dall, aes(x=x, y=y))\n",
    " p <- p + facet_grid(. ~ category)\n",
    " ggsave(filename = 'img/l-CZ03.png', plot = p, width = 6, height = 6)\n",
    " rm(data, dall, ldata, p)\n",
    "}"
   ]
  },
  {
   "cell_type": "markdown",
   "metadata": {},
   "source": [
    "![l-CZ03](img/l-CZ03.png)"
   ]
  },
  {
   "cell_type": "markdown",
   "metadata": {},
   "source": [
    "###  2015_Kilo_C2_SE01_Stelle\n",
    "\n",
    "![Stelle](screenshot/kilo12-disegnare.png)"
   ]
  },
  {
   "cell_type": "code",
   "execution_count": 71,
   "metadata": {
    "collapsed": false
   },
   "outputs": [],
   "source": [
    "q <- 'SE01'\n",
    "d <- quiz_difficulty %>% dplyr::filter(bebras_id == q) %>% select(value, category)\n",
    "a <- quiz_discrimination %>% dplyr::filter(bebras_id == q) %>% select(value, category)\n",
    "g <- quiz_guessing %>% dplyr::filter(bebras_id == q) %>% select(value, category)"
   ]
  },
  {
   "cell_type": "markdown",
   "metadata": {},
   "source": [
    "#### Difficoltà"
   ]
  },
  {
   "cell_type": "code",
   "execution_count": 72,
   "metadata": {
    "collapsed": false
   },
   "outputs": [
    {
     "data": {
      "text/plain": [
       "    Min.  1st Qu.   Median     Mean  3rd Qu.     Max. \n",
       "-2.57900 -1.11700 -0.03978 -0.10280  0.87250  2.33500 "
      ]
     },
     "execution_count": 72,
     "metadata": {},
     "output_type": "execute_result"
    }
   ],
   "source": [
    "if (!file.exists('img/d-SE01.png')) {\n",
    "options(repr.plot.width=10, repr.plot.height=2)\n",
    "p <- ggplot(d, aes(x=value))\n",
    "p <- p + geom_histogram(binwidth=0.1*sd(d$value)) \n",
    "p <- p + aes(y=..density..)\n",
    "p <- p + facet_grid(. ~ category)\n",
    "ggsave(filename = 'img/d-SE01.png', plot = p, width = 10, height = 2)\n",
    "rm(p)\n",
    "}\n",
    "summary(d$value)"
   ]
  },
  {
   "cell_type": "markdown",
   "metadata": {},
   "source": [
    "![d-SE01](img/d-SE01.png)"
   ]
  },
  {
   "cell_type": "markdown",
   "metadata": {},
   "source": [
    "#### Differenziazione"
   ]
  },
  {
   "cell_type": "code",
   "execution_count": 73,
   "metadata": {
    "collapsed": false
   },
   "outputs": [
    {
     "data": {
      "text/plain": [
       "   Min. 1st Qu.  Median    Mean 3rd Qu.    Max. \n",
       " 0.3553  0.7457  0.8738  0.8785  1.0030  1.5210 "
      ]
     },
     "execution_count": 73,
     "metadata": {},
     "output_type": "execute_result"
    }
   ],
   "source": [
    "if (!file.exists('img/a-SE01.png')) {\n",
    "options(repr.plot.width=10, repr.plot.height=2)\n",
    "p <- ggplot(a, aes(x=value))\n",
    "p <- p + geom_histogram(binwidth=0.1*sd(a$value)) \n",
    "p <- p + aes(y=..density..)\n",
    "p <- p + facet_grid(. ~ category)\n",
    "ggsave(filename = 'img/a-SE01.png', plot = p, width = 10, height = 2)\n",
    "rm(p)\n",
    "}\n",
    "summary(a$value)"
   ]
  },
  {
   "cell_type": "markdown",
   "metadata": {},
   "source": [
    "![a-SE01](img/a-SE01.png)"
   ]
  },
  {
   "cell_type": "markdown",
   "metadata": {},
   "source": [
    "#### Guessing"
   ]
  },
  {
   "cell_type": "code",
   "execution_count": 74,
   "metadata": {
    "collapsed": false
   },
   "outputs": [
    {
     "data": {
      "text/plain": [
       "     Min.   1st Qu.    Median      Mean   3rd Qu.      Max. \n",
       "2.380e-07 2.841e-04 6.958e-04 9.984e-04 1.370e-03 7.278e-03 "
      ]
     },
     "execution_count": 74,
     "metadata": {},
     "output_type": "execute_result"
    }
   ],
   "source": [
    "if (!file.exists('img/g-SE01.png')) {\n",
    "options(repr.plot.width=10, repr.plot.height=2)\n",
    "p <- ggplot(g, aes(x=value))\n",
    "p <- p + geom_histogram(binwidth=0.1*sd(g$value)) \n",
    "p <- p + aes(y=..density..)\n",
    "p <- p + facet_grid(. ~ category)\n",
    "ggsave(filename = 'img/g-SE01.png', plot = p, width = 10, height = 2)\n",
    "rm(p)\n",
    "}\n",
    "summary(g$value)"
   ]
  },
  {
   "cell_type": "markdown",
   "metadata": {},
   "source": [
    "![g-SE01](img/g-SE01.png)"
   ]
  },
  {
   "cell_type": "markdown",
   "metadata": {},
   "source": [
    "#### Curva Item-Response"
   ]
  },
  {
   "cell_type": "code",
   "execution_count": 75,
   "metadata": {
    "collapsed": false
   },
   "outputs": [],
   "source": [
    "if (!file.exists('img/l-SE01.png')) {\n",
    "data <- data.frame(x=seq(-5,5,.1))\n",
    "options(repr.plot.width=6, repr.plot.height=6)\n",
    "p <- ggplot(data, aes(x=x))\n",
    "p <- p + scale_x_continuous()\n",
    "p <- p + geom_hline(yintercept=0.5, linetype=\"dashed\")\n",
    "p <- p + geom_vline(xintercept=0.0, linetype=\"dashed\")\n",
    "dall <- data.frame()\n",
    "for (i in 1:length(d$value)) {\n",
    " ldata <- bind_cols(data,  data.frame(a=rep(d$value[i], times=length(data$x)),\n",
    "                                      b=rep(a$value[i], times=length(data$x)),\n",
    "                                      c=rep(g$value[i], times=length(data$x)),\n",
    "                                      category=rep(d$category[i], times=length(data$x))\n",
    "                                   ))\n",
    " ldata <- mutate(ldata, y = logistic(x, a, b, c))\n",
    "  dall <- bind_rows(dall, ldata)\n",
    "}\n",
    " p <- p + geom_point(data=dall, aes(x=x, y=y)) + geom_smooth(data=dall, aes(x=x, y=y))\n",
    " p <- p + facet_grid(. ~ category)\n",
    " ggsave(filename = 'img/l-SE01.png', plot = p, width = 6, height = 6)\n",
    " rm(data, dall, ldata, p)\n",
    "}"
   ]
  },
  {
   "cell_type": "markdown",
   "metadata": {},
   "source": [
    "![l-SE01](img/l-SE01.png)"
   ]
  },
  {
   "cell_type": "markdown",
   "metadata": {},
   "source": [
    "###  2015_Kilo_C3_CZ07_Drone\n",
    "\n",
    "![Drone](screenshot/kilo13-drone.png)"
   ]
  },
  {
   "cell_type": "code",
   "execution_count": 76,
   "metadata": {
    "collapsed": false
   },
   "outputs": [],
   "source": [
    "q <- 'CZ07'\n",
    "d <- quiz_difficulty %>% dplyr::filter(bebras_id == q) %>% select(value, category)\n",
    "a <- quiz_discrimination %>% dplyr::filter(bebras_id == q) %>% select(value, category)\n",
    "g <- quiz_guessing %>% dplyr::filter(bebras_id == q) %>% select(value, category)"
   ]
  },
  {
   "cell_type": "markdown",
   "metadata": {},
   "source": [
    "#### Difficoltà"
   ]
  },
  {
   "cell_type": "code",
   "execution_count": 77,
   "metadata": {
    "collapsed": false
   },
   "outputs": [
    {
     "data": {
      "text/plain": [
       "   Min. 1st Qu.  Median    Mean 3rd Qu.    Max. \n",
       " -1.320   0.715   1.149   1.470   2.473   5.743 "
      ]
     },
     "execution_count": 77,
     "metadata": {},
     "output_type": "execute_result"
    }
   ],
   "source": [
    "if (!file.exists('img/d-CZ07.png')) {\n",
    "options(repr.plot.width=10, repr.plot.height=2)\n",
    "p <- ggplot(d, aes(x=value))\n",
    "p <- p + geom_histogram(binwidth=0.1*sd(d$value)) \n",
    "p <- p + aes(y=..density..)\n",
    "p <- p + facet_grid(. ~ category)\n",
    "ggsave(filename = 'img/d-CZ07.png', plot = p, width = 10, height = 2)\n",
    "rm(p)\n",
    "}\n",
    "summary(d$value)"
   ]
  },
  {
   "cell_type": "markdown",
   "metadata": {},
   "source": [
    "![d-CZ07](img/d-CZ07.png)"
   ]
  },
  {
   "cell_type": "markdown",
   "metadata": {},
   "source": [
    "#### Differenziazione"
   ]
  },
  {
   "cell_type": "code",
   "execution_count": 78,
   "metadata": {
    "collapsed": false
   },
   "outputs": [
    {
     "data": {
      "text/plain": [
       "   Min. 1st Qu.  Median    Mean 3rd Qu.    Max. \n",
       " 0.3245  0.7209  0.8593  0.8983  1.0300  2.9090 "
      ]
     },
     "execution_count": 78,
     "metadata": {},
     "output_type": "execute_result"
    }
   ],
   "source": [
    "if (!file.exists('img/a-CZ07.png')) {\n",
    "options(repr.plot.width=10, repr.plot.height=2)\n",
    "p <- ggplot(a, aes(x=value))\n",
    "p <- p + geom_histogram(binwidth=0.1*sd(a$value)) \n",
    "p <- p + aes(y=..density..)\n",
    "p <- p + facet_grid(. ~ category)\n",
    "ggsave(filename = 'img/a-CZ07.png', plot = p, width = 10, height = 2)\n",
    "rm(p)\n",
    "}\n",
    "summary(a$value)"
   ]
  },
  {
   "cell_type": "markdown",
   "metadata": {},
   "source": [
    "![a-CZ07](img/a-CZ07.png)"
   ]
  },
  {
   "cell_type": "markdown",
   "metadata": {},
   "source": [
    "#### Guessing"
   ]
  },
  {
   "cell_type": "code",
   "execution_count": 79,
   "metadata": {
    "collapsed": false
   },
   "outputs": [
    {
     "data": {
      "text/plain": [
       "     Min.   1st Qu.    Median      Mean   3rd Qu.      Max. \n",
       "0.0000579 0.0682600 0.1282000 0.1667000 0.2311000 0.5843000 "
      ]
     },
     "execution_count": 79,
     "metadata": {},
     "output_type": "execute_result"
    }
   ],
   "source": [
    "if (!file.exists('img/g-CZ07.png')) {\n",
    "options(repr.plot.width=10, repr.plot.height=2)\n",
    "p <- ggplot(g, aes(x=value))\n",
    "p <- p + geom_histogram(binwidth=0.1*sd(g$value)) \n",
    "p <- p + aes(y=..density..)\n",
    "p <- p + facet_grid(. ~ category)\n",
    "ggsave(filename = 'img/g-CZ07.png', plot = p, width = 10, height = 2)\n",
    "rm(p)\n",
    "}\n",
    "summary(g$value)"
   ]
  },
  {
   "cell_type": "markdown",
   "metadata": {},
   "source": [
    "![g-CZ07](img/g-CZ07.png)"
   ]
  },
  {
   "cell_type": "markdown",
   "metadata": {},
   "source": [
    "#### Curva Item-Response"
   ]
  },
  {
   "cell_type": "code",
   "execution_count": 80,
   "metadata": {
    "collapsed": false
   },
   "outputs": [],
   "source": [
    "if (!file.exists('img/l-CZ07.png')) {\n",
    "data <- data.frame(x=seq(-5,5,.1))\n",
    "options(repr.plot.width=6, repr.plot.height=6)\n",
    "p <- ggplot(data, aes(x=x))\n",
    "p <- p + scale_x_continuous()\n",
    "p <- p + geom_hline(yintercept=0.5, linetype=\"dashed\")\n",
    "p <- p + geom_vline(xintercept=0.0, linetype=\"dashed\")\n",
    "dall <- data.frame()\n",
    "for (i in 1:length(d$value)) {\n",
    " ldata <- bind_cols(data,  data.frame(a=rep(d$value[i], times=length(data$x)),\n",
    "                                      b=rep(a$value[i], times=length(data$x)),\n",
    "                                      c=rep(g$value[i], times=length(data$x)),\n",
    "                                      category=rep(d$category[i], times=length(data$x))\n",
    "                                   ))\n",
    " ldata <- mutate(ldata, y = logistic(x, a, b, c))\n",
    "  dall <- bind_rows(dall, ldata)\n",
    "}\n",
    " p <- p + geom_point(data=dall, aes(x=x, y=y)) + geom_smooth(data=dall, aes(x=x, y=y))\n",
    " p <- p + facet_grid(. ~ category)\n",
    " ggsave(filename = 'img/l-CZ07.png', plot = p, width = 6, height = 6)\n",
    " rm(data, dall, ldata, p)\n",
    "}"
   ]
  },
  {
   "cell_type": "markdown",
   "metadata": {},
   "source": [
    "![l-CZ07](img/l-CZ07.png)"
   ]
  },
  {
   "cell_type": "markdown",
   "metadata": {},
   "source": [
    "###  2015_Kilo_C4_CZ01_Noccioline\n",
    "\n",
    "![Noccioline](screenshot/kilo14-noci.png)"
   ]
  },
  {
   "cell_type": "code",
   "execution_count": 81,
   "metadata": {
    "collapsed": false
   },
   "outputs": [],
   "source": [
    "q <- 'CZ01'\n",
    "d <- quiz_difficulty %>% dplyr::filter(bebras_id == q) %>% select(value, category)\n",
    "a <- quiz_discrimination %>% dplyr::filter(bebras_id == q) %>% select(value, category)\n",
    "g <- quiz_guessing %>% dplyr::filter(bebras_id == q) %>% select(value, category)"
   ]
  },
  {
   "cell_type": "markdown",
   "metadata": {},
   "source": [
    "#### Difficoltà"
   ]
  },
  {
   "cell_type": "code",
   "execution_count": 82,
   "metadata": {
    "collapsed": false
   },
   "outputs": [
    {
     "data": {
      "text/plain": [
       "   Min. 1st Qu.  Median    Mean 3rd Qu.    Max. \n",
       "-3.0230 -1.0890  0.2513  0.1648  1.3690  2.7320 "
      ]
     },
     "execution_count": 82,
     "metadata": {},
     "output_type": "execute_result"
    }
   ],
   "source": [
    "if (!file.exists('img/d-CZ01.png')) {\n",
    "options(repr.plot.width=10, repr.plot.height=2)\n",
    "p <- ggplot(d, aes(x=value))\n",
    "p <- p + geom_histogram(binwidth=0.1*sd(d$value)) \n",
    "p <- p + aes(y=..density..)\n",
    "p <- p + facet_grid(. ~ category)\n",
    "ggsave(filename = 'img/d-CZ01.png', plot = p, width = 10, height = 2)\n",
    "rm(p)\n",
    "}\n",
    "summary(d$value)"
   ]
  },
  {
   "cell_type": "markdown",
   "metadata": {},
   "source": [
    "![d-CZ01](img/d-CZ01.png)"
   ]
  },
  {
   "cell_type": "markdown",
   "metadata": {},
   "source": [
    "#### Differenziazione"
   ]
  },
  {
   "cell_type": "code",
   "execution_count": 83,
   "metadata": {
    "collapsed": false
   },
   "outputs": [
    {
     "data": {
      "text/plain": [
       "   Min. 1st Qu.  Median    Mean 3rd Qu.    Max. \n",
       " 0.2706  0.6971  0.8623  0.8613  1.0090  2.7250 "
      ]
     },
     "execution_count": 83,
     "metadata": {},
     "output_type": "execute_result"
    }
   ],
   "source": [
    "if (!file.exists('img/a-CZ01.png')) {\n",
    "options(repr.plot.width=10, repr.plot.height=2)\n",
    "p <- ggplot(a, aes(x=value))\n",
    "p <- p + geom_histogram(binwidth=0.1*sd(a$value)) \n",
    "p <- p + aes(y=..density..)\n",
    "p <- p + facet_grid(. ~ category)\n",
    "ggsave(filename = 'img/a-CZ01.png', plot = p, width = 10, height = 2)\n",
    "rm(p)\n",
    "}\n",
    "summary(a$value)"
   ]
  },
  {
   "cell_type": "markdown",
   "metadata": {},
   "source": [
    "![a-CZ01](img/a-CZ01.png)"
   ]
  },
  {
   "cell_type": "markdown",
   "metadata": {},
   "source": [
    "#### Guessing"
   ]
  },
  {
   "cell_type": "code",
   "execution_count": 84,
   "metadata": {
    "collapsed": false
   },
   "outputs": [
    {
     "data": {
      "text/plain": [
       "     Min.   1st Qu.    Median      Mean   3rd Qu.      Max. \n",
       "0.0000079 0.0134100 0.0317400 0.0431300 0.0626000 0.3718000 "
      ]
     },
     "execution_count": 84,
     "metadata": {},
     "output_type": "execute_result"
    }
   ],
   "source": [
    "if (!file.exists('img/g-CZ01.png')) {\n",
    "options(repr.plot.width=10, repr.plot.height=2)\n",
    "p <- ggplot(g, aes(x=value))\n",
    "p <- p + geom_histogram(binwidth=0.1*sd(g$value)) \n",
    "p <- p + aes(y=..density..)\n",
    "p <- p + facet_grid(. ~ category)\n",
    "ggsave(filename = 'img/g-CZ01.png', plot = p, width = 10, height = 2)\n",
    "rm(p)\n",
    "}\n",
    "summary(g$value)"
   ]
  },
  {
   "cell_type": "markdown",
   "metadata": {},
   "source": [
    "![g-CZ01](img/g-CZ01.png)"
   ]
  },
  {
   "cell_type": "markdown",
   "metadata": {},
   "source": [
    "#### Curva Item-Response"
   ]
  },
  {
   "cell_type": "code",
   "execution_count": 85,
   "metadata": {
    "collapsed": false
   },
   "outputs": [],
   "source": [
    "if (!file.exists('img/l-CZ01.png')) {\n",
    "data <- data.frame(x=seq(-5,5,.1))\n",
    "options(repr.plot.width=6, repr.plot.height=6)\n",
    "p <- ggplot(data, aes(x=x))\n",
    "p <- p + scale_x_continuous()\n",
    "p <- p + geom_hline(yintercept=0.5, linetype=\"dashed\")\n",
    "p <- p + geom_vline(xintercept=0.0, linetype=\"dashed\")\n",
    "dall <- data.frame()\n",
    "for (i in 1:length(d$value)) {\n",
    " ldata <- bind_cols(data,  data.frame(a=rep(d$value[i], times=length(data$x)),\n",
    "                                      b=rep(a$value[i], times=length(data$x)),\n",
    "                                      c=rep(g$value[i], times=length(data$x)),\n",
    "                                      category=rep(d$category[i], times=length(data$x))\n",
    "                                   ))\n",
    " ldata <- mutate(ldata, y = logistic(x, a, b, c))\n",
    "  dall <- bind_rows(dall, ldata)\n",
    "}\n",
    " p <- p + geom_point(data=dall, aes(x=x, y=y)) + geom_smooth(data=dall, aes(x=x, y=y))\n",
    " p <- p + facet_grid(. ~ category)\n",
    " ggsave(filename = 'img/l-CZ01.png', plot = p, width = 6, height = 6)\n",
    " rm(data, dall, ldata, p)\n",
    "}"
   ]
  },
  {
   "cell_type": "markdown",
   "metadata": {},
   "source": [
    "![l-CZ01](img/l-CZ01.png)"
   ]
  },
  {
   "cell_type": "markdown",
   "metadata": {},
   "source": [
    "###  2015_Kilo_C5_AT07_Elenco\n",
    "\n",
    "![Elenco](screenshot/kilo15-elenco.png)"
   ]
  },
  {
   "cell_type": "code",
   "execution_count": 86,
   "metadata": {
    "collapsed": false
   },
   "outputs": [],
   "source": [
    "q <- 'AT07'\n",
    "d <- quiz_difficulty %>% dplyr::filter(bebras_id == q) %>% select(value, category)\n",
    "a <- quiz_discrimination %>% dplyr::filter(bebras_id == q) %>% select(value, category)\n",
    "g <- quiz_guessing %>% dplyr::filter(bebras_id == q) %>% select(value, category)"
   ]
  },
  {
   "cell_type": "markdown",
   "metadata": {},
   "source": [
    "#### Difficoltà"
   ]
  },
  {
   "cell_type": "code",
   "execution_count": 87,
   "metadata": {
    "collapsed": false
   },
   "outputs": [
    {
     "data": {
      "text/plain": [
       "   Min. 1st Qu.  Median    Mean 3rd Qu.    Max. \n",
       " 0.8843  2.2040  2.6690  2.6490  3.0680  5.6560 "
      ]
     },
     "execution_count": 87,
     "metadata": {},
     "output_type": "execute_result"
    }
   ],
   "source": [
    "if (!file.exists('img/d-AT07.png')) {\n",
    "options(repr.plot.width=10, repr.plot.height=2)\n",
    "p <- ggplot(d, aes(x=value))\n",
    "p <- p + geom_histogram(binwidth=0.1*sd(d$value)) \n",
    "p <- p + aes(y=..density..)\n",
    "p <- p + facet_grid(. ~ category)\n",
    "ggsave(filename = 'img/d-AT07.png', plot = p, width = 10, height = 2)\n",
    "rm(p)\n",
    "}\n",
    "summary(d$value)"
   ]
  },
  {
   "cell_type": "markdown",
   "metadata": {},
   "source": [
    "![d-AT07](img/d-AT07.png)"
   ]
  },
  {
   "cell_type": "markdown",
   "metadata": {},
   "source": [
    "#### Differenziazione"
   ]
  },
  {
   "cell_type": "code",
   "execution_count": 88,
   "metadata": {
    "collapsed": false
   },
   "outputs": [
    {
     "data": {
      "text/plain": [
       "   Min. 1st Qu.  Median    Mean 3rd Qu.    Max. \n",
       " 0.2695  0.6380  0.8115  0.9320  1.1260  4.2390 "
      ]
     },
     "execution_count": 88,
     "metadata": {},
     "output_type": "execute_result"
    }
   ],
   "source": [
    "if (!file.exists('img/a-AT07.png')) {\n",
    "options(repr.plot.width=10, repr.plot.height=2)\n",
    "p <- ggplot(a, aes(x=value))\n",
    "p <- p + geom_histogram(binwidth=0.1*sd(a$value)) \n",
    "p <- p + aes(y=..density..)\n",
    "p <- p + facet_grid(. ~ category)\n",
    "ggsave(filename = 'img/a-AT07.png', plot = p, width = 10, height = 2)\n",
    "rm(p)\n",
    "}\n",
    "summary(a$value)"
   ]
  },
  {
   "cell_type": "markdown",
   "metadata": {},
   "source": [
    "![a-AT07](img/a-AT07.png)"
   ]
  },
  {
   "cell_type": "markdown",
   "metadata": {},
   "source": [
    "#### Guessing"
   ]
  },
  {
   "cell_type": "code",
   "execution_count": 89,
   "metadata": {
    "collapsed": false
   },
   "outputs": [
    {
     "data": {
      "text/plain": [
       "     Min.   1st Qu.    Median      Mean   3rd Qu.      Max. \n",
       "8.714e-05 3.152e-02 5.509e-02 6.133e-02 8.152e-02 2.480e-01 "
      ]
     },
     "execution_count": 89,
     "metadata": {},
     "output_type": "execute_result"
    }
   ],
   "source": [
    "if (!file.exists('img/g-AT07.png')) {\n",
    "options(repr.plot.width=10, repr.plot.height=2)\n",
    "p <- ggplot(g, aes(x=value))\n",
    "p <- p + geom_histogram(binwidth=0.1*sd(g$value)) \n",
    "p <- p + aes(y=..density..)\n",
    "p <- p + facet_grid(. ~ category)\n",
    "ggsave(filename = 'img/g-AT07.png', plot = p, width = 10, height = 2)\n",
    "rm(p)\n",
    "}\n",
    "summary(g$value)"
   ]
  },
  {
   "cell_type": "markdown",
   "metadata": {},
   "source": [
    "![g-AT07](img/g-AT07.png)"
   ]
  },
  {
   "cell_type": "markdown",
   "metadata": {},
   "source": [
    "#### Curva Item-Response"
   ]
  },
  {
   "cell_type": "code",
   "execution_count": 90,
   "metadata": {
    "collapsed": false
   },
   "outputs": [],
   "source": [
    "if (!file.exists('img/l-AT07.png')) {\n",
    "data <- data.frame(x=seq(-5,5,.1))\n",
    "options(repr.plot.width=6, repr.plot.height=6)\n",
    "p <- ggplot(data, aes(x=x))\n",
    "p <- p + scale_x_continuous()\n",
    "p <- p + geom_hline(yintercept=0.5, linetype=\"dashed\")\n",
    "p <- p + geom_vline(xintercept=0.0, linetype=\"dashed\")\n",
    "dall <- data.frame()\n",
    "for (i in 1:length(d$value)) {\n",
    " ldata <- bind_cols(data,  data.frame(a=rep(d$value[i], times=length(data$x)),\n",
    "                                      b=rep(a$value[i], times=length(data$x)),\n",
    "                                      c=rep(g$value[i], times=length(data$x)),\n",
    "                                      category=rep(d$category[i], times=length(data$x))\n",
    "                                   ))\n",
    " ldata <- mutate(ldata, y = logistic(x, a, b, c))\n",
    "  dall <- bind_rows(dall, ldata)\n",
    "}\n",
    " p <- p + geom_point(data=dall, aes(x=x, y=y)) + geom_smooth(data=dall, aes(x=x, y=y))\n",
    " p <- p + facet_grid(. ~ category)\n",
    " ggsave(filename = 'img/l-AT07.png', plot = p, width = 6, height = 6)\n",
    " rm(data, dall, ldata, p)\n",
    "}"
   ]
  },
  {
   "cell_type": "markdown",
   "metadata": {},
   "source": [
    "![l-AT07](img/l-AT07.png)"
   ]
  },
  {
   "cell_type": "markdown",
   "metadata": {},
   "source": [
    "###  2015_Mega_D1_SK02_Tessuto\n",
    "\n",
    "![Tessuto](screenshot/mega11-tessuto.png)"
   ]
  },
  {
   "cell_type": "code",
   "execution_count": 91,
   "metadata": {
    "collapsed": false
   },
   "outputs": [],
   "source": [
    "q <- 'SK02'\n",
    "d <- quiz_difficulty %>% dplyr::filter(bebras_id == q) %>% select(value, category)\n",
    "a <- quiz_discrimination %>% dplyr::filter(bebras_id == q) %>% select(value, category)\n",
    "g <- quiz_guessing %>% dplyr::filter(bebras_id == q) %>% select(value, category)"
   ]
  },
  {
   "cell_type": "markdown",
   "metadata": {},
   "source": [
    "#### Difficoltà"
   ]
  },
  {
   "cell_type": "code",
   "execution_count": 92,
   "metadata": {
    "collapsed": false
   },
   "outputs": [
    {
     "data": {
      "text/plain": [
       "   Min. 1st Qu.  Median    Mean 3rd Qu.    Max. \n",
       "-0.2290  0.2195  0.3710  0.6017  1.1360  1.7260 "
      ]
     },
     "execution_count": 92,
     "metadata": {},
     "output_type": "execute_result"
    }
   ],
   "source": [
    "if (!file.exists('img/d-SK02.png')) {\n",
    "options(repr.plot.width=10, repr.plot.height=2)\n",
    "p <- ggplot(d, aes(x=value))\n",
    "p <- p + geom_histogram(binwidth=0.1*sd(d$value)) \n",
    "p <- p + aes(y=..density..)\n",
    "p <- p + facet_grid(. ~ category)\n",
    "ggsave(filename = 'img/d-SK02.png', plot = p, width = 10, height = 2)\n",
    "rm(p)\n",
    "}\n",
    "summary(d$value)"
   ]
  },
  {
   "cell_type": "markdown",
   "metadata": {},
   "source": [
    "![d-SK02](img/d-SK02.png)"
   ]
  },
  {
   "cell_type": "markdown",
   "metadata": {},
   "source": [
    "#### Differenziazione"
   ]
  },
  {
   "cell_type": "code",
   "execution_count": 93,
   "metadata": {
    "collapsed": false
   },
   "outputs": [
    {
     "data": {
      "text/plain": [
       "   Min. 1st Qu.  Median    Mean 3rd Qu.    Max. \n",
       " 0.3243  0.8165  0.9398  1.0270  1.2490  2.2070 "
      ]
     },
     "execution_count": 93,
     "metadata": {},
     "output_type": "execute_result"
    }
   ],
   "source": [
    "if (!file.exists('img/a-SK02.png')) {\n",
    "options(repr.plot.width=10, repr.plot.height=2)\n",
    "p <- ggplot(a, aes(x=value))\n",
    "p <- p + geom_histogram(binwidth=0.1*sd(a$value)) \n",
    "p <- p + aes(y=..density..)\n",
    "p <- p + facet_grid(. ~ category)\n",
    "ggsave(filename = 'img/a-SK02.png', plot = p, width = 10, height = 2)\n",
    "rm(p)\n",
    "}\n",
    "summary(a$value)"
   ]
  },
  {
   "cell_type": "markdown",
   "metadata": {},
   "source": [
    "![a-SK02](img/a-SK02.png)"
   ]
  },
  {
   "cell_type": "markdown",
   "metadata": {},
   "source": [
    "#### Guessing"
   ]
  },
  {
   "cell_type": "code",
   "execution_count": 94,
   "metadata": {
    "collapsed": false
   },
   "outputs": [
    {
     "data": {
      "text/plain": [
       "     Min.   1st Qu.    Median      Mean   3rd Qu.      Max. \n",
       "2.700e-12 1.736e-08 4.112e-08 5.921e-08 8.252e-08 7.576e-07 "
      ]
     },
     "execution_count": 94,
     "metadata": {},
     "output_type": "execute_result"
    }
   ],
   "source": [
    "if (!file.exists('img/g-SK02.png')) {\n",
    "options(repr.plot.width=10, repr.plot.height=2)\n",
    "p <- ggplot(g, aes(x=value))\n",
    "p <- p + geom_histogram(binwidth=0.1*sd(g$value)) \n",
    "p <- p + aes(y=..density..)\n",
    "p <- p + facet_grid(. ~ category)\n",
    "ggsave(filename = 'img/g-SK02.png', plot = p, width = 10, height = 2)\n",
    "rm(p)\n",
    "}\n",
    "summary(g$value)"
   ]
  },
  {
   "cell_type": "markdown",
   "metadata": {},
   "source": [
    "![g-SK02](img/g-SK02.png)"
   ]
  },
  {
   "cell_type": "markdown",
   "metadata": {},
   "source": [
    "#### Curva Item-Response"
   ]
  },
  {
   "cell_type": "code",
   "execution_count": 95,
   "metadata": {
    "collapsed": false
   },
   "outputs": [],
   "source": [
    "if (!file.exists('img/l-SK02.png')) {\n",
    "data <- data.frame(x=seq(-5,5,.1))\n",
    "options(repr.plot.width=6, repr.plot.height=6)\n",
    "p <- ggplot(data, aes(x=x))\n",
    "p <- p + scale_x_continuous()\n",
    "p <- p + geom_hline(yintercept=0.5, linetype=\"dashed\")\n",
    "p <- p + geom_vline(xintercept=0.0, linetype=\"dashed\")\n",
    "dall <- data.frame()\n",
    "for (i in 1:length(d$value)) {\n",
    " ldata <- bind_cols(data,  data.frame(a=rep(d$value[i], times=length(data$x)),\n",
    "                                      b=rep(a$value[i], times=length(data$x)),\n",
    "                                      c=rep(g$value[i], times=length(data$x)),\n",
    "                                      category=rep(d$category[i], times=length(data$x))\n",
    "                                   ))\n",
    " ldata <- mutate(ldata, y = logistic(x, a, b, c))\n",
    "  dall <- bind_rows(dall, ldata)\n",
    "}\n",
    " p <- p + geom_point(data=dall, aes(x=x, y=y)) + geom_smooth(data=dall, aes(x=x, y=y))\n",
    " p <- p + facet_grid(. ~ category)\n",
    " ggsave(filename = 'img/l-SK02.png', plot = p, width = 6, height = 6)\n",
    " rm(data, dall, ldata, p)\n",
    "}"
   ]
  },
  {
   "cell_type": "markdown",
   "metadata": {},
   "source": [
    "![l-SK02](img/l-SK02.png)"
   ]
  },
  {
   "cell_type": "markdown",
   "metadata": {},
   "source": [
    "###  2015_Mega_D2_IT02_Meteo\n",
    "\n",
    "![Meteo](screenshot/mega12-meteo.png)"
   ]
  },
  {
   "cell_type": "code",
   "execution_count": 96,
   "metadata": {
    "collapsed": false
   },
   "outputs": [],
   "source": [
    "q <- 'IT02'\n",
    "d <- quiz_difficulty %>% dplyr::filter(bebras_id == q) %>% select(value, category)\n",
    "a <- quiz_discrimination %>% dplyr::filter(bebras_id == q) %>% select(value, category)\n",
    "g <- quiz_guessing %>% dplyr::filter(bebras_id == q) %>% select(value, category)"
   ]
  },
  {
   "cell_type": "markdown",
   "metadata": {},
   "source": [
    "#### Difficoltà"
   ]
  },
  {
   "cell_type": "code",
   "execution_count": 97,
   "metadata": {
    "collapsed": false
   },
   "outputs": [
    {
     "data": {
      "text/plain": [
       "   Min. 1st Qu.  Median    Mean 3rd Qu.    Max. \n",
       "0.05231 1.01500 1.49200 1.60000 2.17600 4.71300 "
      ]
     },
     "execution_count": 97,
     "metadata": {},
     "output_type": "execute_result"
    }
   ],
   "source": [
    "if (!file.exists('img/d-IT02.png')) {\n",
    "options(repr.plot.width=10, repr.plot.height=2)\n",
    "p <- ggplot(d, aes(x=value))\n",
    "p <- p + geom_histogram(binwidth=0.1*sd(d$value)) \n",
    "p <- p + aes(y=..density..)\n",
    "p <- p + facet_grid(. ~ category)\n",
    "ggsave(filename = 'img/d-IT02.png', plot = p, width = 10, height = 2)\n",
    "rm(p)\n",
    "}\n",
    "summary(d$value)"
   ]
  },
  {
   "cell_type": "markdown",
   "metadata": {},
   "source": [
    "![d-IT02](img/d-IT02.png)"
   ]
  },
  {
   "cell_type": "markdown",
   "metadata": {},
   "source": [
    "#### Differenziazione"
   ]
  },
  {
   "cell_type": "code",
   "execution_count": 98,
   "metadata": {
    "collapsed": false
   },
   "outputs": [
    {
     "data": {
      "text/plain": [
       "   Min. 1st Qu.  Median    Mean 3rd Qu.    Max. \n",
       " 0.3266  0.7572  0.9135  0.9522  1.1010  2.5250 "
      ]
     },
     "execution_count": 98,
     "metadata": {},
     "output_type": "execute_result"
    }
   ],
   "source": [
    "if (!file.exists('img/a-IT02.png')) {\n",
    "options(repr.plot.width=10, repr.plot.height=2)\n",
    "p <- ggplot(a, aes(x=value))\n",
    "p <- p + geom_histogram(binwidth=0.1*sd(a$value)) \n",
    "p <- p + aes(y=..density..)\n",
    "p <- p + facet_grid(. ~ category)\n",
    "ggsave(filename = 'img/a-IT02.png', plot = p, width = 10, height = 2)\n",
    "rm(p)\n",
    "}\n",
    "summary(a$value)"
   ]
  },
  {
   "cell_type": "markdown",
   "metadata": {},
   "source": [
    "![a-IT02](img/a-IT02.png)"
   ]
  },
  {
   "cell_type": "markdown",
   "metadata": {},
   "source": [
    "#### Guessing"
   ]
  },
  {
   "cell_type": "code",
   "execution_count": 99,
   "metadata": {
    "collapsed": false
   },
   "outputs": [
    {
     "data": {
      "text/plain": [
       "   Min. 1st Qu.  Median    Mean 3rd Qu.    Max. \n",
       "0.00090 0.09864 0.15270 0.14960 0.19820 0.35970 "
      ]
     },
     "execution_count": 99,
     "metadata": {},
     "output_type": "execute_result"
    }
   ],
   "source": [
    "if (!file.exists('img/g-IT02.png')) {\n",
    "options(repr.plot.width=10, repr.plot.height=2)\n",
    "p <- ggplot(g, aes(x=value))\n",
    "p <- p + geom_histogram(binwidth=0.1*sd(g$value)) \n",
    "p <- p + aes(y=..density..)\n",
    "p <- p + facet_grid(. ~ category)\n",
    "ggsave(filename = 'img/g-IT02.png', plot = p, width = 10, height = 2)\n",
    "rm(p)\n",
    "}\n",
    "summary(g$value)"
   ]
  },
  {
   "cell_type": "markdown",
   "metadata": {},
   "source": [
    "![g-IT02](img/g-IT02.png)"
   ]
  },
  {
   "cell_type": "markdown",
   "metadata": {},
   "source": [
    "#### Curva Item-Response"
   ]
  },
  {
   "cell_type": "code",
   "execution_count": 100,
   "metadata": {
    "collapsed": false
   },
   "outputs": [],
   "source": [
    "if (!file.exists('img/l-IT02.png')) {\n",
    "data <- data.frame(x=seq(-5,5,.1))\n",
    "options(repr.plot.width=6, repr.plot.height=6)\n",
    "p <- ggplot(data, aes(x=x))\n",
    "p <- p + scale_x_continuous()\n",
    "p <- p + geom_hline(yintercept=0.5, linetype=\"dashed\")\n",
    "p <- p + geom_vline(xintercept=0.0, linetype=\"dashed\")\n",
    "dall <- data.frame()\n",
    "for (i in 1:length(d$value)) {\n",
    " ldata <- bind_cols(data,  data.frame(a=rep(d$value[i], times=length(data$x)),\n",
    "                                      b=rep(a$value[i], times=length(data$x)),\n",
    "                                      c=rep(g$value[i], times=length(data$x)),\n",
    "                                      category=rep(d$category[i], times=length(data$x))\n",
    "                                   ))\n",
    " ldata <- mutate(ldata, y = logistic(x, a, b, c))\n",
    "  dall <- bind_rows(dall, ldata)\n",
    "}\n",
    " p <- p + geom_point(data=dall, aes(x=x, y=y)) + geom_smooth(data=dall, aes(x=x, y=y))\n",
    " p <- p + facet_grid(. ~ category)\n",
    " ggsave(filename = 'img/l-IT02.png', plot = p, width = 6, height = 6)\n",
    " rm(data, dall, ldata, p)\n",
    "}"
   ]
  },
  {
   "cell_type": "markdown",
   "metadata": {},
   "source": [
    "![l-IT02](img/l-IT02.png)"
   ]
  },
  {
   "cell_type": "markdown",
   "metadata": {},
   "source": [
    "###  2015_Mega_D3_BE04_Scoprirai\n",
    "\n",
    "![Scoprirai](screenshot/mega13-scoprirai.png)"
   ]
  },
  {
   "cell_type": "code",
   "execution_count": 101,
   "metadata": {
    "collapsed": false
   },
   "outputs": [],
   "source": [
    "q <- 'BE04'\n",
    "d <- quiz_difficulty %>% dplyr::filter(bebras_id == q) %>% select(value, category)\n",
    "a <- quiz_discrimination %>% dplyr::filter(bebras_id == q) %>% select(value, category)\n",
    "g <- quiz_guessing %>% dplyr::filter(bebras_id == q) %>% select(value, category)"
   ]
  },
  {
   "cell_type": "markdown",
   "metadata": {},
   "source": [
    "#### Difficoltà"
   ]
  },
  {
   "cell_type": "code",
   "execution_count": 102,
   "metadata": {
    "collapsed": false
   },
   "outputs": [
    {
     "data": {
      "text/plain": [
       "   Min. 1st Qu.  Median    Mean 3rd Qu.    Max. \n",
       "-5.0800 -2.6980 -1.7710 -1.8490 -0.9060  0.3961 "
      ]
     },
     "execution_count": 102,
     "metadata": {},
     "output_type": "execute_result"
    }
   ],
   "source": [
    "if (!file.exists('img/d-BE04.png')) {\n",
    "options(repr.plot.width=10, repr.plot.height=2)\n",
    "p <- ggplot(d, aes(x=value))\n",
    "p <- p + geom_histogram(binwidth=0.1*sd(d$value)) \n",
    "p <- p + aes(y=..density..)\n",
    "p <- p + facet_grid(. ~ category)\n",
    "ggsave(filename = 'img/d-BE04.png', plot = p, width = 10, height = 2)\n",
    "rm(p)\n",
    "}\n",
    "summary(d$value)"
   ]
  },
  {
   "cell_type": "markdown",
   "metadata": {},
   "source": [
    "![d-BE04](img/d-BE04.png)"
   ]
  },
  {
   "cell_type": "markdown",
   "metadata": {},
   "source": [
    "#### Differenziazione"
   ]
  },
  {
   "cell_type": "code",
   "execution_count": 103,
   "metadata": {
    "collapsed": false
   },
   "outputs": [
    {
     "data": {
      "text/plain": [
       "   Min. 1st Qu.  Median    Mean 3rd Qu.    Max. \n",
       "  0.520   0.972   1.144   1.213   1.391   3.491 "
      ]
     },
     "execution_count": 103,
     "metadata": {},
     "output_type": "execute_result"
    }
   ],
   "source": [
    "if (!file.exists('img/a-BE04.png')) {\n",
    "options(repr.plot.width=10, repr.plot.height=2)\n",
    "p <- ggplot(a, aes(x=value))\n",
    "p <- p + geom_histogram(binwidth=0.1*sd(a$value)) \n",
    "p <- p + aes(y=..density..)\n",
    "p <- p + facet_grid(. ~ category)\n",
    "ggsave(filename = 'img/a-BE04.png', plot = p, width = 10, height = 2)\n",
    "rm(p)\n",
    "}\n",
    "summary(a$value)"
   ]
  },
  {
   "cell_type": "markdown",
   "metadata": {},
   "source": [
    "![a-BE04](img/a-BE04.png)"
   ]
  },
  {
   "cell_type": "markdown",
   "metadata": {},
   "source": [
    "#### Guessing"
   ]
  },
  {
   "cell_type": "code",
   "execution_count": 104,
   "metadata": {
    "collapsed": false
   },
   "outputs": [
    {
     "data": {
      "text/plain": [
       "     Min.   1st Qu.    Median      Mean   3rd Qu.      Max. \n",
       "0.0000191 0.0803800 0.1719000 0.2086000 0.2996000 0.8296000 "
      ]
     },
     "execution_count": 104,
     "metadata": {},
     "output_type": "execute_result"
    }
   ],
   "source": [
    "if (!file.exists('img/g-BE04.png')) {\n",
    "options(repr.plot.width=10, repr.plot.height=2)\n",
    "p <- ggplot(g, aes(x=value))\n",
    "p <- p + geom_histogram(binwidth=0.1*sd(g$value)) \n",
    "p <- p + aes(y=..density..)\n",
    "p <- p + facet_grid(. ~ category)\n",
    "ggsave(filename = 'img/g-BE04.png', plot = p, width = 10, height = 2)\n",
    "rm(p)\n",
    "}\n",
    "summary(g$value)"
   ]
  },
  {
   "cell_type": "markdown",
   "metadata": {},
   "source": [
    "![g-BE04](img/g-BE04.png)"
   ]
  },
  {
   "cell_type": "markdown",
   "metadata": {},
   "source": [
    "#### Curva Item-Response"
   ]
  },
  {
   "cell_type": "code",
   "execution_count": 105,
   "metadata": {
    "collapsed": false
   },
   "outputs": [],
   "source": [
    "if (!file.exists('img/l-BE04.png')) {\n",
    "data <- data.frame(x=seq(-5,5,.1))\n",
    "options(repr.plot.width=6, repr.plot.height=6)\n",
    "p <- ggplot(data, aes(x=x))\n",
    "p <- p + scale_x_continuous()\n",
    "p <- p + geom_hline(yintercept=0.5, linetype=\"dashed\")\n",
    "p <- p + geom_vline(xintercept=0.0, linetype=\"dashed\")\n",
    "dall <- data.frame()\n",
    "for (i in 1:length(d$value)) {\n",
    " ldata <- bind_cols(data,  data.frame(a=rep(d$value[i], times=length(data$x)),\n",
    "                                      b=rep(a$value[i], times=length(data$x)),\n",
    "                                      c=rep(g$value[i], times=length(data$x)),\n",
    "                                      category=rep(d$category[i], times=length(data$x))\n",
    "                                   ))\n",
    " ldata <- mutate(ldata, y = logistic(x, a, b, c))\n",
    "  dall <- bind_rows(dall, ldata)\n",
    "}\n",
    " p <- p + geom_point(data=dall, aes(x=x, y=y)) + geom_smooth(data=dall, aes(x=x, y=y))\n",
    " p <- p + facet_grid(. ~ category)\n",
    " ggsave(filename = 'img/l-BE04.png', plot = p, width = 6, height = 6)\n",
    " rm(data, dall, ldata, p)\n",
    "}"
   ]
  },
  {
   "cell_type": "markdown",
   "metadata": {},
   "source": [
    "![l-BE04](img/l-BE04.png)"
   ]
  },
  {
   "cell_type": "markdown",
   "metadata": {},
   "source": [
    "###  2015_Mega_D4_RU07_Alchimista\n",
    "\n",
    "![Alchimista](screenshot/mega14-alchimista.png)"
   ]
  },
  {
   "cell_type": "code",
   "execution_count": 106,
   "metadata": {
    "collapsed": false
   },
   "outputs": [],
   "source": [
    "q <- 'RU07'\n",
    "d <- quiz_difficulty %>% dplyr::filter(bebras_id == q) %>% select(value, category)\n",
    "a <- quiz_discrimination %>% dplyr::filter(bebras_id == q) %>% select(value, category)\n",
    "g <- quiz_guessing %>% dplyr::filter(bebras_id == q) %>% select(value, category)"
   ]
  },
  {
   "cell_type": "markdown",
   "metadata": {},
   "source": [
    "#### Difficoltà"
   ]
  },
  {
   "cell_type": "code",
   "execution_count": 107,
   "metadata": {
    "collapsed": false
   },
   "outputs": [
    {
     "data": {
      "text/plain": [
       "    Min.  1st Qu.   Median     Mean  3rd Qu.     Max. \n",
       "-0.46210 -0.09697  1.24900  1.21700  2.30000  3.70400 "
      ]
     },
     "execution_count": 107,
     "metadata": {},
     "output_type": "execute_result"
    }
   ],
   "source": [
    "if (!file.exists('img/d-RU07.png')) {\n",
    "options(repr.plot.width=10, repr.plot.height=2)\n",
    "p <- ggplot(d, aes(x=value))\n",
    "p <- p + geom_histogram(binwidth=0.1*sd(d$value)) \n",
    "p <- p + aes(y=..density..)\n",
    "p <- p + facet_grid(. ~ category)\n",
    "ggsave(filename = 'img/d-RU07.png', plot = p, width = 10, height = 2)\n",
    "rm(p)\n",
    "}\n",
    "summary(d$value)"
   ]
  },
  {
   "cell_type": "markdown",
   "metadata": {},
   "source": [
    "![d-RU07](img/d-RU07.png)"
   ]
  },
  {
   "cell_type": "markdown",
   "metadata": {},
   "source": [
    "#### Differenziazione"
   ]
  },
  {
   "cell_type": "code",
   "execution_count": 108,
   "metadata": {
    "collapsed": false
   },
   "outputs": [
    {
     "data": {
      "text/plain": [
       "   Min. 1st Qu.  Median    Mean 3rd Qu.    Max. \n",
       " 0.5227  0.8705  0.9633  0.9739  1.0640  1.6460 "
      ]
     },
     "execution_count": 108,
     "metadata": {},
     "output_type": "execute_result"
    }
   ],
   "source": [
    "if (!file.exists('img/a-RU07.png')) {\n",
    "options(repr.plot.width=10, repr.plot.height=2)\n",
    "p <- ggplot(a, aes(x=value))\n",
    "p <- p + geom_histogram(binwidth=0.1*sd(a$value)) \n",
    "p <- p + aes(y=..density..)\n",
    "p <- p + facet_grid(. ~ category)\n",
    "ggsave(filename = 'img/a-RU07.png', plot = p, width = 10, height = 2)\n",
    "rm(p)\n",
    "}\n",
    "summary(a$value)"
   ]
  },
  {
   "cell_type": "markdown",
   "metadata": {},
   "source": [
    "![a-RU07](img/a-RU07.png)"
   ]
  },
  {
   "cell_type": "markdown",
   "metadata": {},
   "source": [
    "#### Guessing"
   ]
  },
  {
   "cell_type": "code",
   "execution_count": 109,
   "metadata": {
    "collapsed": false
   },
   "outputs": [
    {
     "data": {
      "text/plain": [
       "     Min.   1st Qu.    Median      Mean   3rd Qu.      Max. \n",
       "8.800e-08 2.825e-04 6.861e-04 1.003e-03 1.375e-03 8.201e-03 "
      ]
     },
     "execution_count": 109,
     "metadata": {},
     "output_type": "execute_result"
    }
   ],
   "source": [
    "if (!file.exists('img/g-RU07.png')) {\n",
    "options(repr.plot.width=10, repr.plot.height=2)\n",
    "p <- ggplot(g, aes(x=value))\n",
    "p <- p + geom_histogram(binwidth=0.1*sd(g$value)) \n",
    "p <- p + aes(y=..density..)\n",
    "p <- p + facet_grid(. ~ category)\n",
    "ggsave(filename = 'img/g-RU07.png', plot = p, width = 10, height = 2)\n",
    "rm(p)\n",
    "}\n",
    "summary(g$value)"
   ]
  },
  {
   "cell_type": "markdown",
   "metadata": {},
   "source": [
    "![g-RU07](img/g-RU07.png)"
   ]
  },
  {
   "cell_type": "markdown",
   "metadata": {},
   "source": [
    "#### Curva Item-Response"
   ]
  },
  {
   "cell_type": "code",
   "execution_count": 110,
   "metadata": {
    "collapsed": false
   },
   "outputs": [],
   "source": [
    "if (!file.exists('img/l-RU07.png')) {\n",
    "data <- data.frame(x=seq(-5,5,.1))\n",
    "options(repr.plot.width=6, repr.plot.height=6)\n",
    "p <- ggplot(data, aes(x=x))\n",
    "p <- p + scale_x_continuous()\n",
    "p <- p + geom_hline(yintercept=0.5, linetype=\"dashed\")\n",
    "p <- p + geom_vline(xintercept=0.0, linetype=\"dashed\")\n",
    "dall <- data.frame()\n",
    "for (i in 1:length(d$value)) {\n",
    " ldata <- bind_cols(data,  data.frame(a=rep(d$value[i], times=length(data$x)),\n",
    "                                      b=rep(a$value[i], times=length(data$x)),\n",
    "                                      c=rep(g$value[i], times=length(data$x)),\n",
    "                                      category=rep(d$category[i], times=length(data$x))\n",
    "                                   ))\n",
    " ldata <- mutate(ldata, y = logistic(x, a, b, c))\n",
    "  dall <- bind_rows(dall, ldata)\n",
    "}\n",
    " p <- p + geom_point(data=dall, aes(x=x, y=y)) + geom_smooth(data=dall, aes(x=x, y=y))\n",
    " p <- p + facet_grid(. ~ category)\n",
    " ggsave(filename = 'img/l-RU07.png', plot = p, width = 6, height = 6)\n",
    " rm(data, dall, ldata, p)\n",
    "}"
   ]
  },
  {
   "cell_type": "markdown",
   "metadata": {},
   "source": [
    "![l-RU07](img/l-RU07.png)"
   ]
  },
  {
   "cell_type": "markdown",
   "metadata": {},
   "source": [
    "###  2015_Mega_D5_HU05_Acrobati\n",
    "\n",
    "![Acrobati](screenshot/mega15-acrobati.png)"
   ]
  },
  {
   "cell_type": "code",
   "execution_count": 111,
   "metadata": {
    "collapsed": false
   },
   "outputs": [],
   "source": [
    "q <- 'HU05'\n",
    "d <- quiz_difficulty %>% dplyr::filter(bebras_id == q) %>% select(value, category)\n",
    "a <- quiz_discrimination %>% dplyr::filter(bebras_id == q) %>% select(value, category)\n",
    "g <- quiz_guessing %>% dplyr::filter(bebras_id == q) %>% select(value, category)"
   ]
  },
  {
   "cell_type": "markdown",
   "metadata": {},
   "source": [
    "#### Difficoltà"
   ]
  },
  {
   "cell_type": "code",
   "execution_count": 112,
   "metadata": {
    "collapsed": false
   },
   "outputs": [
    {
     "data": {
      "text/plain": [
       "   Min. 1st Qu.  Median    Mean 3rd Qu.    Max. \n",
       "-1.4760 -0.5385  0.1331  0.2426  1.0740  2.3340 "
      ]
     },
     "execution_count": 112,
     "metadata": {},
     "output_type": "execute_result"
    }
   ],
   "source": [
    "if (!file.exists('img/d-HU05.png')) {\n",
    "options(repr.plot.width=10, repr.plot.height=2)\n",
    "p <- ggplot(d, aes(x=value))\n",
    "p <- p + geom_histogram(binwidth=0.1*sd(d$value)) \n",
    "p <- p + aes(y=..density..)\n",
    "p <- p + facet_grid(. ~ category)\n",
    "ggsave(filename = 'img/d-HU05.png', plot = p, width = 10, height = 2)\n",
    "rm(p)\n",
    "}\n",
    "summary(d$value)"
   ]
  },
  {
   "cell_type": "markdown",
   "metadata": {},
   "source": [
    "![d-HU05](img/d-HU05.png)"
   ]
  },
  {
   "cell_type": "markdown",
   "metadata": {},
   "source": [
    "#### Differenziazione"
   ]
  },
  {
   "cell_type": "code",
   "execution_count": 113,
   "metadata": {
    "collapsed": false
   },
   "outputs": [
    {
     "data": {
      "text/plain": [
       "   Min. 1st Qu.  Median    Mean 3rd Qu.    Max. \n",
       " 0.4233  0.8540  0.9804  0.9897  1.1070  1.9050 "
      ]
     },
     "execution_count": 113,
     "metadata": {},
     "output_type": "execute_result"
    }
   ],
   "source": [
    "if (!file.exists('img/a-HU05.png')) {\n",
    "options(repr.plot.width=10, repr.plot.height=2)\n",
    "p <- ggplot(a, aes(x=value))\n",
    "p <- p + geom_histogram(binwidth=0.1*sd(a$value)) \n",
    "p <- p + aes(y=..density..)\n",
    "p <- p + facet_grid(. ~ category)\n",
    "ggsave(filename = 'img/a-HU05.png', plot = p, width = 10, height = 2)\n",
    "rm(p)\n",
    "}\n",
    "summary(a$value)"
   ]
  },
  {
   "cell_type": "markdown",
   "metadata": {},
   "source": [
    "![a-HU05](img/a-HU05.png)"
   ]
  },
  {
   "cell_type": "markdown",
   "metadata": {},
   "source": [
    "#### Guessing"
   ]
  },
  {
   "cell_type": "code",
   "execution_count": 114,
   "metadata": {
    "collapsed": false
   },
   "outputs": [
    {
     "data": {
      "text/plain": [
       "     Min.   1st Qu.    Median      Mean   3rd Qu.      Max. \n",
       "0.0001163 0.0484600 0.0995500 0.1109000 0.1597000 0.4335000 "
      ]
     },
     "execution_count": 114,
     "metadata": {},
     "output_type": "execute_result"
    }
   ],
   "source": [
    "if (!file.exists('img/g-HU05.png')) {\n",
    "options(repr.plot.width=10, repr.plot.height=2)\n",
    "p <- ggplot(g, aes(x=value))\n",
    "p <- p + geom_histogram(binwidth=0.1*sd(g$value)) \n",
    "p <- p + aes(y=..density..)\n",
    "p <- p + facet_grid(. ~ category)\n",
    "ggsave(filename = 'img/g-HU05.png', plot = p, width = 10, height = 2)\n",
    "rm(p)\n",
    "}\n",
    "summary(g$value)"
   ]
  },
  {
   "cell_type": "markdown",
   "metadata": {},
   "source": [
    "![g-HU05](img/g-HU05.png)"
   ]
  },
  {
   "cell_type": "markdown",
   "metadata": {},
   "source": [
    "#### Curva Item-Response"
   ]
  },
  {
   "cell_type": "code",
   "execution_count": 115,
   "metadata": {
    "collapsed": false
   },
   "outputs": [],
   "source": [
    "if (!file.exists('img/l-HU05.png')) {\n",
    "data <- data.frame(x=seq(-5,5,.1))\n",
    "options(repr.plot.width=6, repr.plot.height=6)\n",
    "p <- ggplot(data, aes(x=x))\n",
    "p <- p + scale_x_continuous()\n",
    "p <- p + geom_hline(yintercept=0.5, linetype=\"dashed\")\n",
    "p <- p + geom_vline(xintercept=0.0, linetype=\"dashed\")\n",
    "dall <- data.frame()\n",
    "for (i in 1:length(d$value)) {\n",
    " ldata <- bind_cols(data,  data.frame(a=rep(d$value[i], times=length(data$x)),\n",
    "                                      b=rep(a$value[i], times=length(data$x)),\n",
    "                                      c=rep(g$value[i], times=length(data$x)),\n",
    "                                      category=rep(d$category[i], times=length(data$x))\n",
    "                                   ))\n",
    " ldata <- mutate(ldata, y = logistic(x, a, b, c))\n",
    "  dall <- bind_rows(dall, ldata)\n",
    "}\n",
    " p <- p + geom_point(data=dall, aes(x=x, y=y)) + geom_smooth(data=dall, aes(x=x, y=y))\n",
    " p <- p + facet_grid(. ~ category)\n",
    " ggsave(filename = 'img/l-HU05.png', plot = p, width = 6, height = 6)\n",
    " rm(data, dall, ldata, p)\n",
    "}"
   ]
  },
  {
   "cell_type": "markdown",
   "metadata": {},
   "source": [
    "![l-HU05](img/l-HU05.png)"
   ]
  },
  {
   "cell_type": "markdown",
   "metadata": {},
   "source": [
    "###  2015_Giga_E1_SK04_Luci\n",
    "\n",
    "![Luci](screenshot/giga11-luci.png)"
   ]
  },
  {
   "cell_type": "code",
   "execution_count": 116,
   "metadata": {
    "collapsed": false
   },
   "outputs": [],
   "source": [
    "q <- 'SK04'\n",
    "d <- quiz_difficulty %>% dplyr::filter(bebras_id == q) %>% select(value, category)\n",
    "a <- quiz_discrimination %>% dplyr::filter(bebras_id == q) %>% select(value, category)\n",
    "g <- quiz_guessing %>% dplyr::filter(bebras_id == q) %>% select(value, category)"
   ]
  },
  {
   "cell_type": "markdown",
   "metadata": {},
   "source": [
    "#### Difficoltà"
   ]
  },
  {
   "cell_type": "code",
   "execution_count": 117,
   "metadata": {
    "collapsed": false
   },
   "outputs": [
    {
     "data": {
      "text/plain": [
       "   Min. 1st Qu.  Median    Mean 3rd Qu.    Max. \n",
       "-3.0900 -1.5150 -0.5072 -0.4768  0.7164  1.5140 "
      ]
     },
     "execution_count": 117,
     "metadata": {},
     "output_type": "execute_result"
    }
   ],
   "source": [
    "if (!file.exists('img/d-SK04.png')) {\n",
    "options(repr.plot.width=10, repr.plot.height=2)\n",
    "p <- ggplot(d, aes(x=value))\n",
    "p <- p + geom_histogram(binwidth=0.1*sd(d$value)) \n",
    "p <- p + aes(y=..density..)\n",
    "p <- p + facet_grid(. ~ category)\n",
    "ggsave(filename = 'img/d-SK04.png', plot = p, width = 10, height = 2)\n",
    "rm(p)\n",
    "}\n",
    "summary(d$value)"
   ]
  },
  {
   "cell_type": "markdown",
   "metadata": {},
   "source": [
    "![d-SK04](img/d-SK04.png)"
   ]
  },
  {
   "cell_type": "markdown",
   "metadata": {},
   "source": [
    "#### Differenziazione"
   ]
  },
  {
   "cell_type": "code",
   "execution_count": 118,
   "metadata": {
    "collapsed": false
   },
   "outputs": [
    {
     "data": {
      "text/plain": [
       "   Min. 1st Qu.  Median    Mean 3rd Qu.    Max. \n",
       " 0.2393  0.5577  0.7063  0.7951  1.0180  1.8810 "
      ]
     },
     "execution_count": 118,
     "metadata": {},
     "output_type": "execute_result"
    }
   ],
   "source": [
    "if (!file.exists('img/a-SK04.png')) {\n",
    "options(repr.plot.width=10, repr.plot.height=2)\n",
    "p <- ggplot(a, aes(x=value))\n",
    "p <- p + geom_histogram(binwidth=0.1*sd(a$value)) \n",
    "p <- p + aes(y=..density..)\n",
    "p <- p + facet_grid(. ~ category)\n",
    "ggsave(filename = 'img/a-SK04.png', plot = p, width = 10, height = 2)\n",
    "rm(p)\n",
    "}\n",
    "summary(a$value)"
   ]
  },
  {
   "cell_type": "markdown",
   "metadata": {},
   "source": [
    "![a-SK04](img/a-SK04.png)"
   ]
  },
  {
   "cell_type": "markdown",
   "metadata": {},
   "source": [
    "#### Guessing"
   ]
  },
  {
   "cell_type": "code",
   "execution_count": 119,
   "metadata": {
    "collapsed": false
   },
   "outputs": [
    {
     "data": {
      "text/plain": [
       "     Min.   1st Qu.    Median      Mean   3rd Qu.      Max. \n",
       "3.510e-09 8.540e-06 2.088e-05 3.068e-05 4.277e-05 2.795e-04 "
      ]
     },
     "execution_count": 119,
     "metadata": {},
     "output_type": "execute_result"
    }
   ],
   "source": [
    "if (!file.exists('img/g-SK04.png')) {\n",
    "options(repr.plot.width=10, repr.plot.height=2)\n",
    "p <- ggplot(g, aes(x=value))\n",
    "p <- p + geom_histogram(binwidth=0.1*sd(g$value)) \n",
    "p <- p + aes(y=..density..)\n",
    "p <- p + facet_grid(. ~ category)\n",
    "ggsave(filename = 'img/g-SK04.png', plot = p, width = 10, height = 2)\n",
    "rm(p)\n",
    "}\n",
    "summary(g$value)"
   ]
  },
  {
   "cell_type": "markdown",
   "metadata": {},
   "source": [
    "![g-SK04](img/g-SK04.png)"
   ]
  },
  {
   "cell_type": "markdown",
   "metadata": {},
   "source": [
    "#### Curva Item-Response"
   ]
  },
  {
   "cell_type": "code",
   "execution_count": 120,
   "metadata": {
    "collapsed": false
   },
   "outputs": [],
   "source": [
    "if (!file.exists('img/l-SK04.png')) {\n",
    "data <- data.frame(x=seq(-5,5,.1))\n",
    "options(repr.plot.width=6, repr.plot.height=6)\n",
    "p <- ggplot(data, aes(x=x))\n",
    "p <- p + scale_x_continuous()\n",
    "p <- p + geom_hline(yintercept=0.5, linetype=\"dashed\")\n",
    "p <- p + geom_vline(xintercept=0.0, linetype=\"dashed\")\n",
    "dall <- data.frame()\n",
    "for (i in 1:length(d$value)) {\n",
    " ldata <- bind_cols(data,  data.frame(a=rep(d$value[i], times=length(data$x)),\n",
    "                                      b=rep(a$value[i], times=length(data$x)),\n",
    "                                      c=rep(g$value[i], times=length(data$x)),\n",
    "                                      category=rep(d$category[i], times=length(data$x))\n",
    "                                   ))\n",
    " ldata <- mutate(ldata, y = logistic(x, a, b, c))\n",
    "  dall <- bind_rows(dall, ldata)\n",
    "}\n",
    " p <- p + geom_point(data=dall, aes(x=x, y=y)) + geom_smooth(data=dall, aes(x=x, y=y))\n",
    " p <- p + facet_grid(. ~ category)\n",
    " ggsave(filename = 'img/l-SK04.png', plot = p, width = 6, height = 6)\n",
    " rm(data, dall, ldata, p)\n",
    "}"
   ]
  },
  {
   "cell_type": "markdown",
   "metadata": {},
   "source": [
    "![l-SK04](img/l-SK04.png)"
   ]
  },
  {
   "cell_type": "markdown",
   "metadata": {},
   "source": [
    "###  2015_Giga_E2_CH09_Labirinti\n",
    "\n",
    "![Labirinti](screenshot/giga12-labirinti.png)"
   ]
  },
  {
   "cell_type": "code",
   "execution_count": 121,
   "metadata": {
    "collapsed": false
   },
   "outputs": [],
   "source": [
    "q <- 'CH09'\n",
    "d <- quiz_difficulty %>% dplyr::filter(bebras_id == q) %>% select(value, category)\n",
    "a <- quiz_discrimination %>% dplyr::filter(bebras_id == q) %>% select(value, category)\n",
    "g <- quiz_guessing %>% dplyr::filter(bebras_id == q) %>% select(value, category)"
   ]
  },
  {
   "cell_type": "markdown",
   "metadata": {},
   "source": [
    "#### Difficoltà"
   ]
  },
  {
   "cell_type": "code",
   "execution_count": 122,
   "metadata": {
    "collapsed": false
   },
   "outputs": [
    {
     "data": {
      "text/plain": [
       "   Min. 1st Qu.  Median    Mean 3rd Qu.    Max. \n",
       "  2.748   4.101   4.565   4.655   5.100  10.020 "
      ]
     },
     "execution_count": 122,
     "metadata": {},
     "output_type": "execute_result"
    }
   ],
   "source": [
    "if (!file.exists('img/d-CH09.png')) {\n",
    "options(repr.plot.width=10, repr.plot.height=2)\n",
    "p <- ggplot(d, aes(x=value))\n",
    "p <- p + geom_histogram(binwidth=0.1*sd(d$value)) \n",
    "p <- p + aes(y=..density..)\n",
    "p <- p + facet_grid(. ~ category)\n",
    "ggsave(filename = 'img/d-CH09.png', plot = p, width = 10, height = 2)\n",
    "rm(p)\n",
    "}\n",
    "summary(d$value)"
   ]
  },
  {
   "cell_type": "markdown",
   "metadata": {},
   "source": [
    "![d-CH09](img/d-CH09.png)"
   ]
  },
  {
   "cell_type": "markdown",
   "metadata": {},
   "source": [
    "#### Differenziazione"
   ]
  },
  {
   "cell_type": "code",
   "execution_count": 123,
   "metadata": {
    "collapsed": false
   },
   "outputs": [
    {
     "data": {
      "text/plain": [
       "   Min. 1st Qu.  Median    Mean 3rd Qu.    Max. \n",
       " 0.4738  0.9852  1.1910  1.2550  1.4530  3.7480 "
      ]
     },
     "execution_count": 123,
     "metadata": {},
     "output_type": "execute_result"
    }
   ],
   "source": [
    "if (!file.exists('img/a-CH09.png')) {\n",
    "options(repr.plot.width=10, repr.plot.height=2)\n",
    "p <- ggplot(a, aes(x=value))\n",
    "p <- p + geom_histogram(binwidth=0.1*sd(a$value)) \n",
    "p <- p + aes(y=..density..)\n",
    "p <- p + facet_grid(. ~ category)\n",
    "ggsave(filename = 'img/a-CH09.png', plot = p, width = 10, height = 2)\n",
    "rm(p)\n",
    "}\n",
    "summary(a$value)"
   ]
  },
  {
   "cell_type": "markdown",
   "metadata": {},
   "source": [
    "![a-CH09](img/a-CH09.png)"
   ]
  },
  {
   "cell_type": "markdown",
   "metadata": {},
   "source": [
    "#### Guessing"
   ]
  },
  {
   "cell_type": "code",
   "execution_count": 124,
   "metadata": {
    "collapsed": false
   },
   "outputs": [
    {
     "data": {
      "text/plain": [
       "     Min.   1st Qu.    Median      Mean   3rd Qu.      Max. \n",
       "6.270e-06 9.778e-03 1.580e-02 1.911e-02 2.674e-02 7.190e-02 "
      ]
     },
     "execution_count": 124,
     "metadata": {},
     "output_type": "execute_result"
    }
   ],
   "source": [
    "if (!file.exists('img/g-CH09.png')) {\n",
    "options(repr.plot.width=10, repr.plot.height=2)\n",
    "p <- ggplot(g, aes(x=value))\n",
    "p <- p + geom_histogram(binwidth=0.1*sd(g$value)) \n",
    "p <- p + aes(y=..density..)\n",
    "p <- p + facet_grid(. ~ category)\n",
    "ggsave(filename = 'img/g-CH09.png', plot = p, width = 10, height = 2)\n",
    "rm(p)\n",
    "}\n",
    "summary(g$value)"
   ]
  },
  {
   "cell_type": "markdown",
   "metadata": {},
   "source": [
    "![g-CH09](img/g-CH09.png)"
   ]
  },
  {
   "cell_type": "markdown",
   "metadata": {},
   "source": [
    "#### Curva Item-Response"
   ]
  },
  {
   "cell_type": "code",
   "execution_count": 125,
   "metadata": {
    "collapsed": false
   },
   "outputs": [],
   "source": [
    "if (!file.exists('img/l-CH09.png')) {\n",
    "data <- data.frame(x=seq(-5,5,.1))\n",
    "options(repr.plot.width=6, repr.plot.height=6)\n",
    "p <- ggplot(data, aes(x=x))\n",
    "p <- p + scale_x_continuous()\n",
    "p <- p + geom_hline(yintercept=0.5, linetype=\"dashed\")\n",
    "p <- p + geom_vline(xintercept=0.0, linetype=\"dashed\")\n",
    "dall <- data.frame()\n",
    "for (i in 1:length(d$value)) {\n",
    " ldata <- bind_cols(data,  data.frame(a=rep(d$value[i], times=length(data$x)),\n",
    "                                      b=rep(a$value[i], times=length(data$x)),\n",
    "                                      c=rep(g$value[i], times=length(data$x)),\n",
    "                                      category=rep(d$category[i], times=length(data$x))\n",
    "                                   ))\n",
    " ldata <- mutate(ldata, y = logistic(x, a, b, c))\n",
    "  dall <- bind_rows(dall, ldata)\n",
    "}\n",
    " p <- p + geom_point(data=dall, aes(x=x, y=y)) + geom_smooth(data=dall, aes(x=x, y=y))\n",
    " p <- p + facet_grid(. ~ category)\n",
    " ggsave(filename = 'img/l-CH09.png', plot = p, width = 6, height = 6)\n",
    " rm(data, dall, ldata, p)\n",
    "}"
   ]
  },
  {
   "cell_type": "markdown",
   "metadata": {},
   "source": [
    "![l-CH09](img/l-CH09.png)"
   ]
  },
  {
   "cell_type": "markdown",
   "metadata": {},
   "source": [
    "###  2015_Giga_E3_HU07_Pianoforte\n",
    "\n",
    "![Pianoforte](screenshot/giga13-pianoforte.png)"
   ]
  },
  {
   "cell_type": "code",
   "execution_count": 126,
   "metadata": {
    "collapsed": false
   },
   "outputs": [],
   "source": [
    "q <- 'HU07'\n",
    "d <- quiz_difficulty %>% dplyr::filter(bebras_id == q) %>% select(value, category)\n",
    "a <- quiz_discrimination %>% dplyr::filter(bebras_id == q) %>% select(value, category)\n",
    "g <- quiz_guessing %>% dplyr::filter(bebras_id == q) %>% select(value, category)"
   ]
  },
  {
   "cell_type": "markdown",
   "metadata": {},
   "source": [
    "#### Difficoltà"
   ]
  },
  {
   "cell_type": "code",
   "execution_count": 127,
   "metadata": {
    "collapsed": false
   },
   "outputs": [
    {
     "data": {
      "text/plain": [
       "   Min. 1st Qu.  Median    Mean 3rd Qu.    Max. \n",
       "-1.8660 -0.6407  0.4960  0.5624  1.5780  5.9860 "
      ]
     },
     "execution_count": 127,
     "metadata": {},
     "output_type": "execute_result"
    }
   ],
   "source": [
    "if (!file.exists('img/d-HU07.png')) {\n",
    "options(repr.plot.width=10, repr.plot.height=2)\n",
    "p <- ggplot(d, aes(x=value))\n",
    "p <- p + geom_histogram(binwidth=0.1*sd(d$value)) \n",
    "p <- p + aes(y=..density..)\n",
    "p <- p + facet_grid(. ~ category)\n",
    "ggsave(filename = 'img/d-HU07.png', plot = p, width = 10, height = 2)\n",
    "rm(p)\n",
    "}\n",
    "summary(d$value)"
   ]
  },
  {
   "cell_type": "markdown",
   "metadata": {},
   "source": [
    "![d-HU07](img/d-HU07.png)"
   ]
  },
  {
   "cell_type": "markdown",
   "metadata": {},
   "source": [
    "#### Differenziazione"
   ]
  },
  {
   "cell_type": "code",
   "execution_count": 128,
   "metadata": {
    "collapsed": false
   },
   "outputs": [
    {
     "data": {
      "text/plain": [
       "   Min. 1st Qu.  Median    Mean 3rd Qu.    Max. \n",
       " 0.2965  0.8319  0.9706  1.0040  1.1320  3.7690 "
      ]
     },
     "execution_count": 128,
     "metadata": {},
     "output_type": "execute_result"
    }
   ],
   "source": [
    "if (!file.exists('img/a-HU07.png')) {\n",
    "options(repr.plot.width=10, repr.plot.height=2)\n",
    "p <- ggplot(a, aes(x=value))\n",
    "p <- p + geom_histogram(binwidth=0.1*sd(a$value)) \n",
    "p <- p + aes(y=..density..)\n",
    "p <- p + facet_grid(. ~ category)\n",
    "ggsave(filename = 'img/a-HU07.png', plot = p, width = 10, height = 2)\n",
    "rm(p)\n",
    "}\n",
    "summary(a$value)"
   ]
  },
  {
   "cell_type": "markdown",
   "metadata": {},
   "source": [
    "![a-HU07](img/a-HU07.png)"
   ]
  },
  {
   "cell_type": "markdown",
   "metadata": {},
   "source": [
    "#### Guessing"
   ]
  },
  {
   "cell_type": "code",
   "execution_count": 129,
   "metadata": {
    "collapsed": false
   },
   "outputs": [
    {
     "data": {
      "text/plain": [
       "     Min.   1st Qu.    Median      Mean   3rd Qu.      Max. \n",
       "0.0000354 0.1563000 0.2692000 0.2583000 0.3624000 0.5332000 "
      ]
     },
     "execution_count": 129,
     "metadata": {},
     "output_type": "execute_result"
    }
   ],
   "source": [
    "if (!file.exists('img/g-HU07.png')) {\n",
    "options(repr.plot.width=10, repr.plot.height=2)\n",
    "p <- ggplot(g, aes(x=value))\n",
    "p <- p + geom_histogram(binwidth=0.1*sd(g$value)) \n",
    "p <- p + aes(y=..density..)\n",
    "p <- p + facet_grid(. ~ category)\n",
    "ggsave(filename = 'img/g-HU07.png', plot = p, width = 10, height = 2)\n",
    "rm(p)\n",
    "}\n",
    "summary(g$value)"
   ]
  },
  {
   "cell_type": "markdown",
   "metadata": {},
   "source": [
    "![g-HU07](img/g-HU07.png)"
   ]
  },
  {
   "cell_type": "markdown",
   "metadata": {},
   "source": [
    "#### Curva Item-Response"
   ]
  },
  {
   "cell_type": "code",
   "execution_count": 130,
   "metadata": {
    "collapsed": false
   },
   "outputs": [],
   "source": [
    "if (!file.exists('img/l-HU07.png')) {\n",
    "data <- data.frame(x=seq(-5,5,.1))\n",
    "options(repr.plot.width=6, repr.plot.height=6)\n",
    "p <- ggplot(data, aes(x=x))\n",
    "p <- p + scale_x_continuous()\n",
    "p <- p + geom_hline(yintercept=0.5, linetype=\"dashed\")\n",
    "p <- p + geom_vline(xintercept=0.0, linetype=\"dashed\")\n",
    "dall <- data.frame()\n",
    "for (i in 1:length(d$value)) {\n",
    " ldata <- bind_cols(data,  data.frame(a=rep(d$value[i], times=length(data$x)),\n",
    "                                      b=rep(a$value[i], times=length(data$x)),\n",
    "                                      c=rep(g$value[i], times=length(data$x)),\n",
    "                                      category=rep(d$category[i], times=length(data$x))\n",
    "                                   ))\n",
    " ldata <- mutate(ldata, y = logistic(x, a, b, c))\n",
    "  dall <- bind_rows(dall, ldata)\n",
    "}\n",
    " p <- p + geom_point(data=dall, aes(x=x, y=y)) + geom_smooth(data=dall, aes(x=x, y=y))\n",
    " p <- p + facet_grid(. ~ category)\n",
    " ggsave(filename = 'img/l-HU07.png', plot = p, width = 6, height = 6)\n",
    " rm(data, dall, ldata, p)\n",
    "}"
   ]
  },
  {
   "cell_type": "markdown",
   "metadata": {},
   "source": [
    "![l-HU07](img/l-HU07.png)"
   ]
  },
  {
   "cell_type": "markdown",
   "metadata": {},
   "source": [
    "###  2015_Giga_E4_CA01_Popolarita\n",
    "\n",
    "![Popolarita](screenshot/giga14-popolarita.png)"
   ]
  },
  {
   "cell_type": "code",
   "execution_count": 131,
   "metadata": {
    "collapsed": false
   },
   "outputs": [],
   "source": [
    "q <- 'CA01'\n",
    "d <- quiz_difficulty %>% dplyr::filter(bebras_id == q) %>% select(value, category)\n",
    "a <- quiz_discrimination %>% dplyr::filter(bebras_id == q) %>% select(value, category)\n",
    "g <- quiz_guessing %>% dplyr::filter(bebras_id == q) %>% select(value, category)"
   ]
  },
  {
   "cell_type": "markdown",
   "metadata": {},
   "source": [
    "#### Difficoltà"
   ]
  },
  {
   "cell_type": "code",
   "execution_count": 132,
   "metadata": {
    "collapsed": false
   },
   "outputs": [
    {
     "data": {
      "text/plain": [
       "    Min.  1st Qu.   Median     Mean  3rd Qu.     Max. \n",
       "-1.50800 -0.07661  0.60320  0.63250  1.42300  3.70700 "
      ]
     },
     "execution_count": 132,
     "metadata": {},
     "output_type": "execute_result"
    }
   ],
   "source": [
    "if (!file.exists('img/d-CA01.png')) {\n",
    "options(repr.plot.width=10, repr.plot.height=2)\n",
    "p <- ggplot(d, aes(x=value))\n",
    "p <- p + geom_histogram(binwidth=0.1*sd(d$value)) \n",
    "p <- p + aes(y=..density..)\n",
    "p <- p + facet_grid(. ~ category)\n",
    "ggsave(filename = 'img/d-CA01.png', plot = p, width = 10, height = 2)\n",
    "rm(p)\n",
    "}\n",
    "summary(d$value)"
   ]
  },
  {
   "cell_type": "markdown",
   "metadata": {},
   "source": [
    "![d-CA01](img/d-CA01.png)"
   ]
  },
  {
   "cell_type": "markdown",
   "metadata": {},
   "source": [
    "#### Differenziazione"
   ]
  },
  {
   "cell_type": "code",
   "execution_count": 133,
   "metadata": {
    "collapsed": false
   },
   "outputs": [
    {
     "data": {
      "text/plain": [
       "   Min. 1st Qu.  Median    Mean 3rd Qu.    Max. \n",
       " 0.2804  0.6069  0.7040  0.7336  0.8299  1.7770 "
      ]
     },
     "execution_count": 133,
     "metadata": {},
     "output_type": "execute_result"
    }
   ],
   "source": [
    "if (!file.exists('img/a-CA01.png')) {\n",
    "options(repr.plot.width=10, repr.plot.height=2)\n",
    "p <- ggplot(a, aes(x=value))\n",
    "p <- p + geom_histogram(binwidth=0.1*sd(a$value)) \n",
    "p <- p + aes(y=..density..)\n",
    "p <- p + facet_grid(. ~ category)\n",
    "ggsave(filename = 'img/a-CA01.png', plot = p, width = 10, height = 2)\n",
    "rm(p)\n",
    "}\n",
    "summary(a$value)"
   ]
  },
  {
   "cell_type": "markdown",
   "metadata": {},
   "source": [
    "![a-CA01](img/a-CA01.png)"
   ]
  },
  {
   "cell_type": "markdown",
   "metadata": {},
   "source": [
    "#### Guessing"
   ]
  },
  {
   "cell_type": "code",
   "execution_count": 134,
   "metadata": {
    "collapsed": false
   },
   "outputs": [
    {
     "data": {
      "text/plain": [
       "     Min.   1st Qu.    Median      Mean   3rd Qu.      Max. \n",
       "0.0000002 0.0014160 0.0914100 0.1194000 0.2160000 0.5220000 "
      ]
     },
     "execution_count": 134,
     "metadata": {},
     "output_type": "execute_result"
    }
   ],
   "source": [
    "if (!file.exists('img/g-CA01.png')) {\n",
    "options(repr.plot.width=10, repr.plot.height=2)\n",
    "p <- ggplot(g, aes(x=value))\n",
    "p <- p + geom_histogram(binwidth=0.1*sd(g$value)) \n",
    "p <- p + aes(y=..density..)\n",
    "p <- p + facet_grid(. ~ category)\n",
    "ggsave(filename = 'img/g-CA01.png', plot = p, width = 10, height = 2)\n",
    "rm(p)\n",
    "}\n",
    "summary(g$value)"
   ]
  },
  {
   "cell_type": "markdown",
   "metadata": {},
   "source": [
    "![g-CA01](img/g-CA01.png)"
   ]
  },
  {
   "cell_type": "markdown",
   "metadata": {},
   "source": [
    "#### Curva Item-Response"
   ]
  },
  {
   "cell_type": "code",
   "execution_count": 135,
   "metadata": {
    "collapsed": false
   },
   "outputs": [],
   "source": [
    "if (!file.exists('img/l-CA01.png')) {\n",
    "data <- data.frame(x=seq(-5,5,.1))\n",
    "options(repr.plot.width=6, repr.plot.height=6)\n",
    "p <- ggplot(data, aes(x=x))\n",
    "p <- p + scale_x_continuous()\n",
    "p <- p + geom_hline(yintercept=0.5, linetype=\"dashed\")\n",
    "p <- p + geom_vline(xintercept=0.0, linetype=\"dashed\")\n",
    "dall <- data.frame()\n",
    "for (i in 1:length(d$value)) {\n",
    " ldata <- bind_cols(data,  data.frame(a=rep(d$value[i], times=length(data$x)),\n",
    "                                      b=rep(a$value[i], times=length(data$x)),\n",
    "                                      c=rep(g$value[i], times=length(data$x)),\n",
    "                                      category=rep(d$category[i], times=length(data$x))\n",
    "                                   ))\n",
    " ldata <- mutate(ldata, y = logistic(x, a, b, c))\n",
    "  dall <- bind_rows(dall, ldata)\n",
    "}\n",
    " p <- p + geom_point(data=dall, aes(x=x, y=y)) + geom_smooth(data=dall, aes(x=x, y=y))\n",
    " p <- p + facet_grid(. ~ category)\n",
    " ggsave(filename = 'img/l-CA01.png', plot = p, width = 6, height = 6)\n",
    " rm(data, dall, ldata, p)\n",
    "}"
   ]
  },
  {
   "cell_type": "markdown",
   "metadata": {},
   "source": [
    "![l-CA01](img/l-CA01.png)"
   ]
  },
  {
   "cell_type": "markdown",
   "metadata": {},
   "source": [
    "###  2015_Giga_E5_TW03_LuogoDelitto\n",
    "\n",
    "![LuogoDelitto](screenshot/giga15-delitto.png)"
   ]
  },
  {
   "cell_type": "code",
   "execution_count": 136,
   "metadata": {
    "collapsed": false
   },
   "outputs": [],
   "source": [
    "q <- 'TW03'\n",
    "d <- quiz_difficulty %>% dplyr::filter(bebras_id == q) %>% select(value, category)\n",
    "a <- quiz_discrimination %>% dplyr::filter(bebras_id == q) %>% select(value, category)\n",
    "g <- quiz_guessing %>% dplyr::filter(bebras_id == q) %>% select(value, category)"
   ]
  },
  {
   "cell_type": "markdown",
   "metadata": {},
   "source": [
    "#### Difficoltà"
   ]
  },
  {
   "cell_type": "code",
   "execution_count": 137,
   "metadata": {
    "collapsed": false
   },
   "outputs": [
    {
     "data": {
      "text/plain": [
       "   Min. 1st Qu.  Median    Mean 3rd Qu.    Max. \n",
       "-2.1400 -0.6627  0.1412  0.0726  0.8392  1.7720 "
      ]
     },
     "execution_count": 137,
     "metadata": {},
     "output_type": "execute_result"
    }
   ],
   "source": [
    "if (!file.exists('img/d-TW03.png')) {\n",
    "options(repr.plot.width=10, repr.plot.height=2)\n",
    "p <- ggplot(d, aes(x=value))\n",
    "p <- p + geom_histogram(binwidth=0.1*sd(d$value)) \n",
    "p <- p + aes(y=..density..)\n",
    "p <- p + facet_grid(. ~ category)\n",
    "ggsave(filename = 'img/d-TW03.png', plot = p, width = 10, height = 2)\n",
    "rm(p)\n",
    "}\n",
    "summary(d$value)"
   ]
  },
  {
   "cell_type": "markdown",
   "metadata": {},
   "source": [
    "![d-TW03](img/d-TW03.png)"
   ]
  },
  {
   "cell_type": "markdown",
   "metadata": {},
   "source": [
    "#### Differenziazione"
   ]
  },
  {
   "cell_type": "code",
   "execution_count": 138,
   "metadata": {
    "collapsed": false
   },
   "outputs": [
    {
     "data": {
      "text/plain": [
       "   Min. 1st Qu.  Median    Mean 3rd Qu.    Max. \n",
       " 0.5974  1.0820  1.2210  1.2420  1.3760  3.0760 "
      ]
     },
     "execution_count": 138,
     "metadata": {},
     "output_type": "execute_result"
    }
   ],
   "source": [
    "if (!file.exists('img/a-TW03.png')) {\n",
    "options(repr.plot.width=10, repr.plot.height=2)\n",
    "p <- ggplot(a, aes(x=value))\n",
    "p <- p + geom_histogram(binwidth=0.1*sd(a$value)) \n",
    "p <- p + aes(y=..density..)\n",
    "p <- p + facet_grid(. ~ category)\n",
    "ggsave(filename = 'img/a-TW03.png', plot = p, width = 10, height = 2)\n",
    "rm(p)\n",
    "}\n",
    "summary(a$value)"
   ]
  },
  {
   "cell_type": "markdown",
   "metadata": {},
   "source": [
    "![a-TW03](img/a-TW03.png)"
   ]
  },
  {
   "cell_type": "markdown",
   "metadata": {},
   "source": [
    "#### Guessing"
   ]
  },
  {
   "cell_type": "code",
   "execution_count": 139,
   "metadata": {
    "collapsed": false
   },
   "outputs": [
    {
     "data": {
      "text/plain": [
       "     Min.   1st Qu.    Median      Mean   3rd Qu.      Max. \n",
       "0.0000011 0.0012930 0.0409600 0.0938000 0.1389000 0.5983000 "
      ]
     },
     "execution_count": 139,
     "metadata": {},
     "output_type": "execute_result"
    }
   ],
   "source": [
    "if (!file.exists('img/g-TW03.png')) {\n",
    "options(repr.plot.width=10, repr.plot.height=2)\n",
    "p <- ggplot(g, aes(x=value))\n",
    "p <- p + geom_histogram(binwidth=0.1*sd(g$value)) \n",
    "p <- p + aes(y=..density..)\n",
    "p <- p + facet_grid(. ~ category)\n",
    "ggsave(filename = 'img/g-TW03.png', plot = p, width = 10, height = 2)\n",
    "rm(p)\n",
    "}\n",
    "summary(g$value)"
   ]
  },
  {
   "cell_type": "markdown",
   "metadata": {},
   "source": [
    "![g-TW03](img/g-TW03.png)"
   ]
  },
  {
   "cell_type": "markdown",
   "metadata": {},
   "source": [
    "#### Curva Item-Response"
   ]
  },
  {
   "cell_type": "code",
   "execution_count": 140,
   "metadata": {
    "collapsed": false
   },
   "outputs": [],
   "source": [
    "if (!file.exists('img/l-TW03.png')) {\n",
    "data <- data.frame(x=seq(-5,5,.1))\n",
    "options(repr.plot.width=6, repr.plot.height=6)\n",
    "p <- ggplot(data, aes(x=x))\n",
    "p <- p + scale_x_continuous()\n",
    "p <- p + geom_hline(yintercept=0.5, linetype=\"dashed\")\n",
    "p <- p + geom_vline(xintercept=0.0, linetype=\"dashed\")\n",
    "dall <- data.frame()\n",
    "for (i in 1:length(d$value)) {\n",
    " ldata <- bind_cols(data,  data.frame(a=rep(d$value[i], times=length(data$x)),\n",
    "                                      b=rep(a$value[i], times=length(data$x)),\n",
    "                                      c=rep(g$value[i], times=length(data$x)),\n",
    "                                      category=rep(d$category[i], times=length(data$x))\n",
    "                                   ))\n",
    " ldata <- mutate(ldata, y = logistic(x, a, b, c))\n",
    "  dall <- bind_rows(dall, ldata)\n",
    "}\n",
    " p <- p + geom_point(data=dall, aes(x=x, y=y)) + geom_smooth(data=dall, aes(x=x, y=y))\n",
    " p <- p + facet_grid(. ~ category)\n",
    " ggsave(filename = 'img/l-TW03.png', plot = p, width = 6, height = 6)\n",
    " rm(data, dall, ldata, p)\n",
    "}"
   ]
  },
  {
   "cell_type": "markdown",
   "metadata": {},
   "source": [
    "![l-TW03](img/l-TW03.png)"
   ]
  },
  {
   "cell_type": "markdown",
   "metadata": {},
   "source": [
    "###  2015_Tera_F1_SK01_Robot\n",
    "\n",
    "![Robot](screenshot/tera11-robot.png)"
   ]
  },
  {
   "cell_type": "code",
   "execution_count": 141,
   "metadata": {
    "collapsed": false
   },
   "outputs": [],
   "source": [
    "q <- 'SK01'\n",
    "d <- quiz_difficulty %>% dplyr::filter(bebras_id == q) %>% select(value, category)\n",
    "a <- quiz_discrimination %>% dplyr::filter(bebras_id == q) %>% select(value, category)\n",
    "g <- quiz_guessing %>% dplyr::filter(bebras_id == q) %>% select(value, category)"
   ]
  },
  {
   "cell_type": "markdown",
   "metadata": {},
   "source": [
    "#### Difficoltà"
   ]
  },
  {
   "cell_type": "code",
   "execution_count": 142,
   "metadata": {
    "collapsed": false
   },
   "outputs": [
    {
     "data": {
      "text/plain": [
       "   Min. 1st Qu.  Median    Mean 3rd Qu.    Max. \n",
       "  1.569   2.277   2.720   2.750   3.139   5.122 "
      ]
     },
     "execution_count": 142,
     "metadata": {},
     "output_type": "execute_result"
    }
   ],
   "source": [
    "if (!file.exists('img/d-SK01.png')) {\n",
    "options(repr.plot.width=10, repr.plot.height=2)\n",
    "p <- ggplot(d, aes(x=value))\n",
    "p <- p + geom_histogram(binwidth=0.1*sd(d$value)) \n",
    "p <- p + aes(y=..density..)\n",
    "p <- p + facet_grid(. ~ category)\n",
    "ggsave(filename = 'img/d-SK01.png', plot = p, width = 10, height = 2)\n",
    "rm(p)\n",
    "}\n",
    "summary(d$value)"
   ]
  },
  {
   "cell_type": "markdown",
   "metadata": {},
   "source": [
    "![d-SK01](img/d-SK01.png)"
   ]
  },
  {
   "cell_type": "markdown",
   "metadata": {},
   "source": [
    "#### Differenziazione"
   ]
  },
  {
   "cell_type": "code",
   "execution_count": 143,
   "metadata": {
    "collapsed": false
   },
   "outputs": [
    {
     "data": {
      "text/plain": [
       "   Min. 1st Qu.  Median    Mean 3rd Qu.    Max. \n",
       " 0.5047  0.8603  1.0980  1.2440  1.5890  3.3540 "
      ]
     },
     "execution_count": 143,
     "metadata": {},
     "output_type": "execute_result"
    }
   ],
   "source": [
    "if (!file.exists('img/a-SK01.png')) {\n",
    "options(repr.plot.width=10, repr.plot.height=2)\n",
    "p <- ggplot(a, aes(x=value))\n",
    "p <- p + geom_histogram(binwidth=0.1*sd(a$value)) \n",
    "p <- p + aes(y=..density..)\n",
    "p <- p + facet_grid(. ~ category)\n",
    "ggsave(filename = 'img/a-SK01.png', plot = p, width = 10, height = 2)\n",
    "rm(p)\n",
    "}\n",
    "summary(a$value)"
   ]
  },
  {
   "cell_type": "markdown",
   "metadata": {},
   "source": [
    "![a-SK01](img/a-SK01.png)"
   ]
  },
  {
   "cell_type": "markdown",
   "metadata": {},
   "source": [
    "#### Guessing"
   ]
  },
  {
   "cell_type": "code",
   "execution_count": 144,
   "metadata": {
    "collapsed": false
   },
   "outputs": [
    {
     "data": {
      "text/plain": [
       "     Min.   1st Qu.    Median      Mean   3rd Qu.      Max. \n",
       "1.400e-08 2.748e-04 6.376e-04 9.102e-04 1.256e-03 8.257e-03 "
      ]
     },
     "execution_count": 144,
     "metadata": {},
     "output_type": "execute_result"
    }
   ],
   "source": [
    "if (!file.exists('img/g-SK01.png')) {\n",
    "options(repr.plot.width=10, repr.plot.height=2)\n",
    "p <- ggplot(g, aes(x=value))\n",
    "p <- p + geom_histogram(binwidth=0.1*sd(g$value)) \n",
    "p <- p + aes(y=..density..)\n",
    "p <- p + facet_grid(. ~ category)\n",
    "ggsave(filename = 'img/g-SK01.png', plot = p, width = 10, height = 2)\n",
    "rm(p)\n",
    "}\n",
    "summary(g$value)"
   ]
  },
  {
   "cell_type": "markdown",
   "metadata": {},
   "source": [
    "![g-SK01](img/g-SK01.png)"
   ]
  },
  {
   "cell_type": "markdown",
   "metadata": {},
   "source": [
    "#### Curva Item-Response"
   ]
  },
  {
   "cell_type": "code",
   "execution_count": 145,
   "metadata": {
    "collapsed": false
   },
   "outputs": [],
   "source": [
    "if (!file.exists('img/l-SK01.png')) {\n",
    "data <- data.frame(x=seq(-5,5,.1))\n",
    "options(repr.plot.width=6, repr.plot.height=6)\n",
    "p <- ggplot(data, aes(x=x))\n",
    "p <- p + scale_x_continuous()\n",
    "p <- p + geom_hline(yintercept=0.5, linetype=\"dashed\")\n",
    "p <- p + geom_vline(xintercept=0.0, linetype=\"dashed\")\n",
    "dall <- data.frame()\n",
    "for (i in 1:length(d$value)) {\n",
    " ldata <- bind_cols(data,  data.frame(a=rep(d$value[i], times=length(data$x)),\n",
    "                                      b=rep(a$value[i], times=length(data$x)),\n",
    "                                      c=rep(g$value[i], times=length(data$x)),\n",
    "                                      category=rep(d$category[i], times=length(data$x))\n",
    "                                   ))\n",
    " ldata <- mutate(ldata, y = logistic(x, a, b, c))\n",
    "  dall <- bind_rows(dall, ldata)\n",
    "}\n",
    " p <- p + geom_point(data=dall, aes(x=x, y=y)) + geom_smooth(data=dall, aes(x=x, y=y))\n",
    " p <- p + facet_grid(. ~ category)\n",
    " ggsave(filename = 'img/l-SK01.png', plot = p, width = 6, height = 6)\n",
    " rm(data, dall, ldata, p)\n",
    "}"
   ]
  },
  {
   "cell_type": "markdown",
   "metadata": {},
   "source": [
    "![l-SK01](img/l-SK01.png)"
   ]
  },
  {
   "cell_type": "markdown",
   "metadata": {},
   "source": [
    "###  2015_Tera_F2_CA02_Fuochi\n",
    "\n",
    "![Fuochi](screenshot/tera12-fuochi.png)"
   ]
  },
  {
   "cell_type": "code",
   "execution_count": 146,
   "metadata": {
    "collapsed": false
   },
   "outputs": [],
   "source": [
    "q <- 'CA02'\n",
    "d <- quiz_difficulty %>% dplyr::filter(bebras_id == q) %>% select(value, category)\n",
    "a <- quiz_discrimination %>% dplyr::filter(bebras_id == q) %>% select(value, category)\n",
    "g <- quiz_guessing %>% dplyr::filter(bebras_id == q) %>% select(value, category)"
   ]
  },
  {
   "cell_type": "markdown",
   "metadata": {},
   "source": [
    "#### Difficoltà"
   ]
  },
  {
   "cell_type": "code",
   "execution_count": 147,
   "metadata": {
    "collapsed": false
   },
   "outputs": [
    {
     "data": {
      "text/plain": [
       "   Min. 1st Qu.  Median    Mean 3rd Qu.    Max. \n",
       "-1.8990 -1.0760 -0.2238 -0.3330  0.4257  0.7899 "
      ]
     },
     "execution_count": 147,
     "metadata": {},
     "output_type": "execute_result"
    }
   ],
   "source": [
    "if (!file.exists('img/d-CA02.png')) {\n",
    "options(repr.plot.width=10, repr.plot.height=2)\n",
    "p <- ggplot(d, aes(x=value))\n",
    "p <- p + geom_histogram(binwidth=0.1*sd(d$value)) \n",
    "p <- p + aes(y=..density..)\n",
    "p <- p + facet_grid(. ~ category)\n",
    "ggsave(filename = 'img/d-CA02.png', plot = p, width = 10, height = 2)\n",
    "rm(p)\n",
    "}\n",
    "summary(d$value)"
   ]
  },
  {
   "cell_type": "markdown",
   "metadata": {},
   "source": [
    "![d-CA02](img/d-CA02.png)"
   ]
  },
  {
   "cell_type": "markdown",
   "metadata": {},
   "source": [
    "#### Differenziazione"
   ]
  },
  {
   "cell_type": "code",
   "execution_count": 148,
   "metadata": {
    "collapsed": false
   },
   "outputs": [
    {
     "data": {
      "text/plain": [
       "   Min. 1st Qu.  Median    Mean 3rd Qu.    Max. \n",
       " 0.4284  0.7883  0.9261  0.9300  1.0600  1.5740 "
      ]
     },
     "execution_count": 148,
     "metadata": {},
     "output_type": "execute_result"
    }
   ],
   "source": [
    "if (!file.exists('img/a-CA02.png')) {\n",
    "options(repr.plot.width=10, repr.plot.height=2)\n",
    "p <- ggplot(a, aes(x=value))\n",
    "p <- p + geom_histogram(binwidth=0.1*sd(a$value)) \n",
    "p <- p + aes(y=..density..)\n",
    "p <- p + facet_grid(. ~ category)\n",
    "ggsave(filename = 'img/a-CA02.png', plot = p, width = 10, height = 2)\n",
    "rm(p)\n",
    "}\n",
    "summary(a$value)"
   ]
  },
  {
   "cell_type": "markdown",
   "metadata": {},
   "source": [
    "![a-CA02](img/a-CA02.png)"
   ]
  },
  {
   "cell_type": "markdown",
   "metadata": {},
   "source": [
    "#### Guessing"
   ]
  },
  {
   "cell_type": "code",
   "execution_count": 149,
   "metadata": {
    "collapsed": false
   },
   "outputs": [
    {
     "data": {
      "text/plain": [
       "     Min.   1st Qu.    Median      Mean   3rd Qu.      Max. \n",
       "3.010e-07 2.898e-04 6.922e-04 1.003e-03 1.396e-03 9.126e-03 "
      ]
     },
     "execution_count": 149,
     "metadata": {},
     "output_type": "execute_result"
    }
   ],
   "source": [
    "if (!file.exists('img/g-CA02.png')) {\n",
    "options(repr.plot.width=10, repr.plot.height=2)\n",
    "p <- ggplot(g, aes(x=value))\n",
    "p <- p + geom_histogram(binwidth=0.1*sd(g$value)) \n",
    "p <- p + aes(y=..density..)\n",
    "p <- p + facet_grid(. ~ category)\n",
    "ggsave(filename = 'img/g-CA02.png', plot = p, width = 10, height = 2)\n",
    "rm(p)\n",
    "}\n",
    "summary(g$value)"
   ]
  },
  {
   "cell_type": "markdown",
   "metadata": {},
   "source": [
    "![g-CA02](img/g-CA02.png)"
   ]
  },
  {
   "cell_type": "markdown",
   "metadata": {},
   "source": [
    "#### Curva Item-Response"
   ]
  },
  {
   "cell_type": "code",
   "execution_count": 150,
   "metadata": {
    "collapsed": false
   },
   "outputs": [],
   "source": [
    "if (!file.exists('img/l-CA02.png')) {\n",
    "data <- data.frame(x=seq(-5,5,.1))\n",
    "options(repr.plot.width=6, repr.plot.height=6)\n",
    "p <- ggplot(data, aes(x=x))\n",
    "p <- p + scale_x_continuous()\n",
    "p <- p + geom_hline(yintercept=0.5, linetype=\"dashed\")\n",
    "p <- p + geom_vline(xintercept=0.0, linetype=\"dashed\")\n",
    "dall <- data.frame()\n",
    "for (i in 1:length(d$value)) {\n",
    " ldata <- bind_cols(data,  data.frame(a=rep(d$value[i], times=length(data$x)),\n",
    "                                      b=rep(a$value[i], times=length(data$x)),\n",
    "                                      c=rep(g$value[i], times=length(data$x)),\n",
    "                                      category=rep(d$category[i], times=length(data$x))\n",
    "                                   ))\n",
    " ldata <- mutate(ldata, y = logistic(x, a, b, c))\n",
    "  dall <- bind_rows(dall, ldata)\n",
    "}\n",
    " p <- p + geom_point(data=dall, aes(x=x, y=y)) + geom_smooth(data=dall, aes(x=x, y=y))\n",
    " p <- p + facet_grid(. ~ category)\n",
    " ggsave(filename = 'img/l-CA02.png', plot = p, width = 6, height = 6)\n",
    " rm(data, dall, ldata, p)\n",
    "}"
   ]
  },
  {
   "cell_type": "markdown",
   "metadata": {},
   "source": [
    "![l-CA02](img/l-CA02.png)"
   ]
  },
  {
   "cell_type": "markdown",
   "metadata": {},
   "source": [
    "###  2015_Tera_F3_RU02_Ricetta\n",
    "\n",
    "![Ricetta](screenshot/tera13-ricetta.png)"
   ]
  },
  {
   "cell_type": "code",
   "execution_count": 151,
   "metadata": {
    "collapsed": false
   },
   "outputs": [],
   "source": [
    "q <- 'RU02'\n",
    "d <- quiz_difficulty %>% dplyr::filter(bebras_id == q) %>% select(value, category)\n",
    "a <- quiz_discrimination %>% dplyr::filter(bebras_id == q) %>% select(value, category)\n",
    "g <- quiz_guessing %>% dplyr::filter(bebras_id == q) %>% select(value, category)"
   ]
  },
  {
   "cell_type": "markdown",
   "metadata": {},
   "source": [
    "#### Difficoltà"
   ]
  },
  {
   "cell_type": "code",
   "execution_count": 152,
   "metadata": {
    "collapsed": false
   },
   "outputs": [
    {
     "data": {
      "text/plain": [
       "   Min. 1st Qu.  Median    Mean 3rd Qu.    Max. \n",
       "-0.4501 -0.1561  0.5263  0.5564  1.2690  1.8370 "
      ]
     },
     "execution_count": 152,
     "metadata": {},
     "output_type": "execute_result"
    }
   ],
   "source": [
    "if (!file.exists('img/d-RU02.png')) {\n",
    "options(repr.plot.width=10, repr.plot.height=2)\n",
    "p <- ggplot(d, aes(x=value))\n",
    "p <- p + geom_histogram(binwidth=0.1*sd(d$value)) \n",
    "p <- p + aes(y=..density..)\n",
    "p <- p + facet_grid(. ~ category)\n",
    "ggsave(filename = 'img/d-RU02.png', plot = p, width = 10, height = 2)\n",
    "rm(p)\n",
    "}\n",
    "summary(d$value)"
   ]
  },
  {
   "cell_type": "markdown",
   "metadata": {},
   "source": [
    "![d-RU02](img/d-RU02.png)"
   ]
  },
  {
   "cell_type": "markdown",
   "metadata": {},
   "source": [
    "#### Differenziazione"
   ]
  },
  {
   "cell_type": "code",
   "execution_count": 153,
   "metadata": {
    "collapsed": false
   },
   "outputs": [
    {
     "data": {
      "text/plain": [
       "   Min. 1st Qu.  Median    Mean 3rd Qu.    Max. \n",
       "  0.703   1.106   1.206   1.214   1.318   1.847 "
      ]
     },
     "execution_count": 153,
     "metadata": {},
     "output_type": "execute_result"
    }
   ],
   "source": [
    "if (!file.exists('img/a-RU02.png')) {\n",
    "options(repr.plot.width=10, repr.plot.height=2)\n",
    "p <- ggplot(a, aes(x=value))\n",
    "p <- p + geom_histogram(binwidth=0.1*sd(a$value)) \n",
    "p <- p + aes(y=..density..)\n",
    "p <- p + facet_grid(. ~ category)\n",
    "ggsave(filename = 'img/a-RU02.png', plot = p, width = 10, height = 2)\n",
    "rm(p)\n",
    "}\n",
    "summary(a$value)"
   ]
  },
  {
   "cell_type": "markdown",
   "metadata": {},
   "source": [
    "![a-RU02](img/a-RU02.png)"
   ]
  },
  {
   "cell_type": "markdown",
   "metadata": {},
   "source": [
    "#### Guessing"
   ]
  },
  {
   "cell_type": "code",
   "execution_count": 154,
   "metadata": {
    "collapsed": false
   },
   "outputs": [
    {
     "data": {
      "text/plain": [
       "     Min.   1st Qu.    Median      Mean   3rd Qu.      Max. \n",
       "5.650e-07 2.878e-04 6.958e-04 9.830e-04 1.367e-03 8.861e-03 "
      ]
     },
     "execution_count": 154,
     "metadata": {},
     "output_type": "execute_result"
    }
   ],
   "source": [
    "if (!file.exists('img/g-RU02.png')) {\n",
    "options(repr.plot.width=10, repr.plot.height=2)\n",
    "p <- ggplot(g, aes(x=value))\n",
    "p <- p + geom_histogram(binwidth=0.1*sd(g$value)) \n",
    "p <- p + aes(y=..density..)\n",
    "p <- p + facet_grid(. ~ category)\n",
    "ggsave(filename = 'img/g-RU02.png', plot = p, width = 10, height = 2)\n",
    "rm(p)\n",
    "}\n",
    "summary(g$value)"
   ]
  },
  {
   "cell_type": "markdown",
   "metadata": {},
   "source": [
    "![g-RU02](img/g-RU02.png)"
   ]
  },
  {
   "cell_type": "markdown",
   "metadata": {},
   "source": [
    "#### Curva Item-Response"
   ]
  },
  {
   "cell_type": "code",
   "execution_count": 155,
   "metadata": {
    "collapsed": false
   },
   "outputs": [],
   "source": [
    "if (!file.exists('img/l-RU02.png')) {\n",
    "data <- data.frame(x=seq(-5,5,.1))\n",
    "options(repr.plot.width=6, repr.plot.height=6)\n",
    "p <- ggplot(data, aes(x=x))\n",
    "p <- p + scale_x_continuous()\n",
    "p <- p + geom_hline(yintercept=0.5, linetype=\"dashed\")\n",
    "p <- p + geom_vline(xintercept=0.0, linetype=\"dashed\")\n",
    "dall <- data.frame()\n",
    "for (i in 1:length(d$value)) {\n",
    " ldata <- bind_cols(data,  data.frame(a=rep(d$value[i], times=length(data$x)),\n",
    "                                      b=rep(a$value[i], times=length(data$x)),\n",
    "                                      c=rep(g$value[i], times=length(data$x)),\n",
    "                                      category=rep(d$category[i], times=length(data$x))\n",
    "                                   ))\n",
    " ldata <- mutate(ldata, y = logistic(x, a, b, c))\n",
    "  dall <- bind_rows(dall, ldata)\n",
    "}\n",
    " p <- p + geom_point(data=dall, aes(x=x, y=y)) + geom_smooth(data=dall, aes(x=x, y=y))\n",
    " p <- p + facet_grid(. ~ category)\n",
    " ggsave(filename = 'img/l-RU02.png', plot = p, width = 6, height = 6)\n",
    " rm(data, dall, ldata, p)\n",
    "}"
   ]
  },
  {
   "cell_type": "markdown",
   "metadata": {},
   "source": [
    "![l-RU02](img/l-RU02.png)"
   ]
  },
  {
   "cell_type": "markdown",
   "metadata": {},
   "source": [
    "###  2015_Tera_F4_AT01_Famiglia\n",
    "\n",
    "![Famiglia](screenshot/tera14-famiglia.png)"
   ]
  },
  {
   "cell_type": "code",
   "execution_count": 156,
   "metadata": {
    "collapsed": false
   },
   "outputs": [],
   "source": [
    "q <- 'AT01'\n",
    "d <- quiz_difficulty %>% dplyr::filter(bebras_id == q) %>% select(value, category)\n",
    "a <- quiz_discrimination %>% dplyr::filter(bebras_id == q) %>% select(value, category)\n",
    "g <- quiz_guessing %>% dplyr::filter(bebras_id == q) %>% select(value, category)"
   ]
  },
  {
   "cell_type": "markdown",
   "metadata": {},
   "source": [
    "#### Difficoltà"
   ]
  },
  {
   "cell_type": "code",
   "execution_count": 157,
   "metadata": {
    "collapsed": false
   },
   "outputs": [
    {
     "data": {
      "text/plain": [
       "   Min. 1st Qu.  Median    Mean 3rd Qu.    Max. \n",
       " 0.4512  0.7680  1.5790  1.8200  2.8420  4.2940 "
      ]
     },
     "execution_count": 157,
     "metadata": {},
     "output_type": "execute_result"
    }
   ],
   "source": [
    "if (!file.exists('img/d-AT01.png')) {\n",
    "options(repr.plot.width=10, repr.plot.height=2)\n",
    "p <- ggplot(d, aes(x=value))\n",
    "p <- p + geom_histogram(binwidth=0.1*sd(d$value)) \n",
    "p <- p + aes(y=..density..)\n",
    "p <- p + facet_grid(. ~ category)\n",
    "ggsave(filename = 'img/d-AT01.png', plot = p, width = 10, height = 2)\n",
    "rm(p)\n",
    "}\n",
    "summary(d$value)"
   ]
  },
  {
   "cell_type": "markdown",
   "metadata": {},
   "source": [
    "![d-AT01](img/d-AT01.png)"
   ]
  },
  {
   "cell_type": "markdown",
   "metadata": {},
   "source": [
    "#### Differenziazione"
   ]
  },
  {
   "cell_type": "code",
   "execution_count": 158,
   "metadata": {
    "collapsed": false
   },
   "outputs": [
    {
     "data": {
      "text/plain": [
       "   Min. 1st Qu.  Median    Mean 3rd Qu.    Max. \n",
       " 0.6245  1.0540  1.1690  1.1770  1.2930  1.8470 "
      ]
     },
     "execution_count": 158,
     "metadata": {},
     "output_type": "execute_result"
    }
   ],
   "source": [
    "if (!file.exists('img/a-AT01.png')) {\n",
    "options(repr.plot.width=10, repr.plot.height=2)\n",
    "p <- ggplot(a, aes(x=value))\n",
    "p <- p + geom_histogram(binwidth=0.1*sd(a$value)) \n",
    "p <- p + aes(y=..density..)\n",
    "p <- p + facet_grid(. ~ category)\n",
    "ggsave(filename = 'img/a-AT01.png', plot = p, width = 10, height = 2)\n",
    "rm(p)\n",
    "}\n",
    "summary(a$value)"
   ]
  },
  {
   "cell_type": "markdown",
   "metadata": {},
   "source": [
    "![a-AT01](img/a-AT01.png)"
   ]
  },
  {
   "cell_type": "markdown",
   "metadata": {},
   "source": [
    "#### Guessing"
   ]
  },
  {
   "cell_type": "code",
   "execution_count": 159,
   "metadata": {
    "collapsed": false
   },
   "outputs": [
    {
     "data": {
      "text/plain": [
       "     Min.   1st Qu.    Median      Mean   3rd Qu.      Max. \n",
       "4.210e-06 1.766e-03 4.073e-03 5.770e-03 7.945e-03 4.221e-02 "
      ]
     },
     "execution_count": 159,
     "metadata": {},
     "output_type": "execute_result"
    }
   ],
   "source": [
    "if (!file.exists('img/g-AT01.png')) {\n",
    "options(repr.plot.width=10, repr.plot.height=2)\n",
    "p <- ggplot(g, aes(x=value))\n",
    "p <- p + geom_histogram(binwidth=0.1*sd(g$value)) \n",
    "p <- p + aes(y=..density..)\n",
    "p <- p + facet_grid(. ~ category)\n",
    "ggsave(filename = 'img/g-AT01.png', plot = p, width = 10, height = 2)\n",
    "rm(p)\n",
    "}\n",
    "summary(g$value)"
   ]
  },
  {
   "cell_type": "markdown",
   "metadata": {},
   "source": [
    "![g-AT01](img/g-AT01.png)"
   ]
  },
  {
   "cell_type": "markdown",
   "metadata": {},
   "source": [
    "#### Curva Item-Response"
   ]
  },
  {
   "cell_type": "code",
   "execution_count": 160,
   "metadata": {
    "collapsed": false
   },
   "outputs": [],
   "source": [
    "if (!file.exists('img/l-AT01.png')) {\n",
    "data <- data.frame(x=seq(-5,5,.1))\n",
    "options(repr.plot.width=6, repr.plot.height=6)\n",
    "p <- ggplot(data, aes(x=x))\n",
    "p <- p + scale_x_continuous()\n",
    "p <- p + geom_hline(yintercept=0.5, linetype=\"dashed\")\n",
    "p <- p + geom_vline(xintercept=0.0, linetype=\"dashed\")\n",
    "dall <- data.frame()\n",
    "for (i in 1:length(d$value)) {\n",
    " ldata <- bind_cols(data,  data.frame(a=rep(d$value[i], times=length(data$x)),\n",
    "                                      b=rep(a$value[i], times=length(data$x)),\n",
    "                                      c=rep(g$value[i], times=length(data$x)),\n",
    "                                      category=rep(d$category[i], times=length(data$x))\n",
    "                                   ))\n",
    " ldata <- mutate(ldata, y = logistic(x, a, b, c))\n",
    "  dall <- bind_rows(dall, ldata)\n",
    "}\n",
    " p <- p + geom_point(data=dall, aes(x=x, y=y)) + geom_smooth(data=dall, aes(x=x, y=y))\n",
    " p <- p + facet_grid(. ~ category)\n",
    " ggsave(filename = 'img/l-AT01.png', plot = p, width = 6, height = 6)\n",
    " rm(data, dall, ldata, p)\n",
    "}"
   ]
  },
  {
   "cell_type": "markdown",
   "metadata": {},
   "source": [
    "![l-AT01](img/l-AT01.png)"
   ]
  },
  {
   "cell_type": "markdown",
   "metadata": {},
   "source": [
    "###  2015_Tera_F5_UA02_Bibite\n",
    "\n",
    "![Bibite](screenshot/tera15-bibite.png)"
   ]
  },
  {
   "cell_type": "code",
   "execution_count": 161,
   "metadata": {
    "collapsed": false
   },
   "outputs": [],
   "source": [
    "q <- 'UA02'\n",
    "d <- quiz_difficulty %>% dplyr::filter(bebras_id == q) %>% select(value, category)\n",
    "a <- quiz_discrimination %>% dplyr::filter(bebras_id == q) %>% select(value, category)\n",
    "g <- quiz_guessing %>% dplyr::filter(bebras_id == q) %>% select(value, category)"
   ]
  },
  {
   "cell_type": "markdown",
   "metadata": {},
   "source": [
    "#### Difficoltà"
   ]
  },
  {
   "cell_type": "code",
   "execution_count": 162,
   "metadata": {
    "collapsed": false
   },
   "outputs": [
    {
     "data": {
      "text/plain": [
       "   Min. 1st Qu.  Median    Mean 3rd Qu.    Max. \n",
       " 0.6784  1.0460  1.9670  2.3230  3.5580  5.8330 "
      ]
     },
     "execution_count": 162,
     "metadata": {},
     "output_type": "execute_result"
    }
   ],
   "source": [
    "if (!file.exists('img/d-UA02.png')) {\n",
    "options(repr.plot.width=10, repr.plot.height=2)\n",
    "p <- ggplot(d, aes(x=value))\n",
    "p <- p + geom_histogram(binwidth=0.1*sd(d$value)) \n",
    "p <- p + aes(y=..density..)\n",
    "p <- p + facet_grid(. ~ category)\n",
    "ggsave(filename = 'img/d-UA02.png', plot = p, width = 10, height = 2)\n",
    "rm(p)\n",
    "}\n",
    "summary(d$value)"
   ]
  },
  {
   "cell_type": "markdown",
   "metadata": {},
   "source": [
    "![d-UA02](img/d-UA02.png)"
   ]
  },
  {
   "cell_type": "markdown",
   "metadata": {},
   "source": [
    "#### Differenziazione"
   ]
  },
  {
   "cell_type": "code",
   "execution_count": 163,
   "metadata": {
    "collapsed": false
   },
   "outputs": [
    {
     "data": {
      "text/plain": [
       "   Min. 1st Qu.  Median    Mean 3rd Qu.    Max. \n",
       " 0.4395  0.7309  0.9325  0.9509  1.1620  1.6370 "
      ]
     },
     "execution_count": 163,
     "metadata": {},
     "output_type": "execute_result"
    }
   ],
   "source": [
    "if (!file.exists('img/a-UA02.png')) {\n",
    "options(repr.plot.width=10, repr.plot.height=2)\n",
    "p <- ggplot(a, aes(x=value))\n",
    "p <- p + geom_histogram(binwidth=0.1*sd(a$value)) \n",
    "p <- p + aes(y=..density..)\n",
    "p <- p + facet_grid(. ~ category)\n",
    "ggsave(filename = 'img/a-UA02.png', plot = p, width = 10, height = 2)\n",
    "rm(p)\n",
    "}\n",
    "summary(a$value)"
   ]
  },
  {
   "cell_type": "markdown",
   "metadata": {},
   "source": [
    "![a-UA02](img/a-UA02.png)"
   ]
  },
  {
   "cell_type": "markdown",
   "metadata": {},
   "source": [
    "#### Guessing"
   ]
  },
  {
   "cell_type": "code",
   "execution_count": 164,
   "metadata": {
    "collapsed": false
   },
   "outputs": [
    {
     "data": {
      "text/plain": [
       "     Min.   1st Qu.    Median      Mean   3rd Qu.      Max. \n",
       "1.145e-08 4.484e-06 1.047e-05 1.521e-05 2.119e-05 1.025e-04 "
      ]
     },
     "execution_count": 164,
     "metadata": {},
     "output_type": "execute_result"
    }
   ],
   "source": [
    "if (!file.exists('img/g-UA02.png')) {\n",
    "options(repr.plot.width=10, repr.plot.height=2)\n",
    "p <- ggplot(g, aes(x=value))\n",
    "p <- p + geom_histogram(binwidth=0.1*sd(g$value)) \n",
    "p <- p + aes(y=..density..)\n",
    "p <- p + facet_grid(. ~ category)\n",
    "ggsave(filename = 'img/g-UA02.png', plot = p, width = 10, height = 2)\n",
    "rm(p)\n",
    "}\n",
    "summary(g$value)"
   ]
  },
  {
   "cell_type": "markdown",
   "metadata": {},
   "source": [
    "![g-UA02](img/g-UA02.png)"
   ]
  },
  {
   "cell_type": "markdown",
   "metadata": {},
   "source": [
    "#### Curva Item-Response"
   ]
  },
  {
   "cell_type": "code",
   "execution_count": 165,
   "metadata": {
    "collapsed": false
   },
   "outputs": [],
   "source": [
    "if (!file.exists('img/l-UA02.png')) {\n",
    "data <- data.frame(x=seq(-5,5,.1))\n",
    "options(repr.plot.width=6, repr.plot.height=6)\n",
    "p <- ggplot(data, aes(x=x))\n",
    "p <- p + scale_x_continuous()\n",
    "p <- p + geom_hline(yintercept=0.5, linetype=\"dashed\")\n",
    "p <- p + geom_vline(xintercept=0.0, linetype=\"dashed\")\n",
    "dall <- data.frame()\n",
    "for (i in 1:length(d$value)) {\n",
    " ldata <- bind_cols(data,  data.frame(a=rep(d$value[i], times=length(data$x)),\n",
    "                                      b=rep(a$value[i], times=length(data$x)),\n",
    "                                      c=rep(g$value[i], times=length(data$x)),\n",
    "                                      category=rep(d$category[i], times=length(data$x))\n",
    "                                   ))\n",
    " ldata <- mutate(ldata, y = logistic(x, a, b, c))\n",
    "  dall <- bind_rows(dall, ldata)\n",
    "}\n",
    " p <- p + geom_point(data=dall, aes(x=x, y=y)) + geom_smooth(data=dall, aes(x=x, y=y))\n",
    " p <- p + facet_grid(. ~ category)\n",
    " ggsave(filename = 'img/l-UA02.png', plot = p, width = 6, height = 6)\n",
    " rm(data, dall, ldata, p)\n",
    "}"
   ]
  },
  {
   "cell_type": "markdown",
   "metadata": {},
   "source": [
    "![l-UA02](img/l-UA02.png)"
   ]
  },
  {
   "cell_type": "markdown",
   "metadata": {},
   "source": [
    "###  2015_Peta_G1_CH01_Calcolatrice\n",
    "\n",
    "![Calcolatrice](screenshot/peta11-calcolatrice.png)"
   ]
  },
  {
   "cell_type": "code",
   "execution_count": 166,
   "metadata": {
    "collapsed": false
   },
   "outputs": [],
   "source": [
    "q <- 'CH01'\n",
    "d <- quiz_difficulty %>% dplyr::filter(bebras_id == q) %>% select(value, category)\n",
    "a <- quiz_discrimination %>% dplyr::filter(bebras_id == q) %>% select(value, category)\n",
    "g <- quiz_guessing %>% dplyr::filter(bebras_id == q) %>% select(value, category)"
   ]
  },
  {
   "cell_type": "markdown",
   "metadata": {},
   "source": [
    "#### Difficoltà"
   ]
  },
  {
   "cell_type": "code",
   "execution_count": 167,
   "metadata": {
    "collapsed": false
   },
   "outputs": [
    {
     "data": {
      "text/plain": [
       "   Min. 1st Qu.  Median    Mean 3rd Qu.    Max. \n",
       "  2.340   2.968   3.270   3.323   3.604   5.764 "
      ]
     },
     "execution_count": 167,
     "metadata": {},
     "output_type": "execute_result"
    }
   ],
   "source": [
    "if (!file.exists('img/d-CH01.png')) {\n",
    "options(repr.plot.width=10, repr.plot.height=2)\n",
    "p <- ggplot(d, aes(x=value))\n",
    "p <- p + geom_histogram(binwidth=0.1*sd(d$value)) \n",
    "p <- p + aes(y=..density..)\n",
    "p <- p + facet_grid(. ~ category)\n",
    "ggsave(filename = 'img/d-CH01.png', plot = p, width = 10, height = 2)\n",
    "rm(p)\n",
    "}\n",
    "summary(d$value)"
   ]
  },
  {
   "cell_type": "markdown",
   "metadata": {},
   "source": [
    "![d-CH01](img/d-CH01.png)"
   ]
  },
  {
   "cell_type": "markdown",
   "metadata": {},
   "source": [
    "#### Differenziazione"
   ]
  },
  {
   "cell_type": "code",
   "execution_count": 168,
   "metadata": {
    "collapsed": false
   },
   "outputs": [
    {
     "data": {
      "text/plain": [
       "   Min. 1st Qu.  Median    Mean 3rd Qu.    Max. \n",
       " 0.4351  0.7378  0.8328  0.8384  0.9294  1.4150 "
      ]
     },
     "execution_count": 168,
     "metadata": {},
     "output_type": "execute_result"
    }
   ],
   "source": [
    "if (!file.exists('img/a-CH01.png')) {\n",
    "options(repr.plot.width=10, repr.plot.height=2)\n",
    "p <- ggplot(a, aes(x=value))\n",
    "p <- p + geom_histogram(binwidth=0.1*sd(a$value)) \n",
    "p <- p + aes(y=..density..)\n",
    "p <- p + facet_grid(. ~ category)\n",
    "ggsave(filename = 'img/a-CH01.png', plot = p, width = 10, height = 2)\n",
    "rm(p)\n",
    "}\n",
    "summary(a$value)"
   ]
  },
  {
   "cell_type": "markdown",
   "metadata": {},
   "source": [
    "![a-CH01](img/a-CH01.png)"
   ]
  },
  {
   "cell_type": "markdown",
   "metadata": {},
   "source": [
    "#### Guessing"
   ]
  },
  {
   "cell_type": "code",
   "execution_count": 169,
   "metadata": {
    "collapsed": false
   },
   "outputs": [
    {
     "data": {
      "text/plain": [
       "     Min.   1st Qu.    Median      Mean   3rd Qu.      Max. \n",
       "3.710e-07 2.614e-04 6.525e-04 9.904e-04 1.412e-03 7.196e-03 "
      ]
     },
     "execution_count": 169,
     "metadata": {},
     "output_type": "execute_result"
    }
   ],
   "source": [
    "if (!file.exists('img/g-CH01.png')) {\n",
    "options(repr.plot.width=10, repr.plot.height=2)\n",
    "p <- ggplot(g, aes(x=value))\n",
    "p <- p + geom_histogram(binwidth=0.1*sd(g$value)) \n",
    "p <- p + aes(y=..density..)\n",
    "p <- p + facet_grid(. ~ category)\n",
    "ggsave(filename = 'img/g-CH01.png', plot = p, width = 10, height = 2)\n",
    "rm(p)\n",
    "}\n",
    "summary(g$value)"
   ]
  },
  {
   "cell_type": "markdown",
   "metadata": {},
   "source": [
    "![g-CH01](img/g-CH01.png)"
   ]
  },
  {
   "cell_type": "markdown",
   "metadata": {},
   "source": [
    "#### Curva Item-Response"
   ]
  },
  {
   "cell_type": "code",
   "execution_count": 170,
   "metadata": {
    "collapsed": false
   },
   "outputs": [],
   "source": [
    "if (!file.exists('img/l-CH01.png')) {\n",
    "data <- data.frame(x=seq(-5,5,.1))\n",
    "options(repr.plot.width=6, repr.plot.height=6)\n",
    "p <- ggplot(data, aes(x=x))\n",
    "p <- p + scale_x_continuous()\n",
    "p <- p + geom_hline(yintercept=0.5, linetype=\"dashed\")\n",
    "p <- p + geom_vline(xintercept=0.0, linetype=\"dashed\")\n",
    "dall <- data.frame()\n",
    "for (i in 1:length(d$value)) {\n",
    " ldata <- bind_cols(data,  data.frame(a=rep(d$value[i], times=length(data$x)),\n",
    "                                      b=rep(a$value[i], times=length(data$x)),\n",
    "                                      c=rep(g$value[i], times=length(data$x)),\n",
    "                                      category=rep(d$category[i], times=length(data$x))\n",
    "                                   ))\n",
    " ldata <- mutate(ldata, y = logistic(x, a, b, c))\n",
    "  dall <- bind_rows(dall, ldata)\n",
    "}\n",
    " p <- p + geom_point(data=dall, aes(x=x, y=y)) + geom_smooth(data=dall, aes(x=x, y=y))\n",
    " p <- p + facet_grid(. ~ category)\n",
    " ggsave(filename = 'img/l-CH01.png', plot = p, width = 6, height = 6)\n",
    " rm(data, dall, ldata, p)\n",
    "}"
   ]
  },
  {
   "cell_type": "markdown",
   "metadata": {},
   "source": [
    "![l-CH01](img/l-CH01.png)"
   ]
  },
  {
   "cell_type": "markdown",
   "metadata": {},
   "source": [
    "###  2015_Peta_G2_DE05_Ciondoli\n",
    "\n",
    "![Ciondoli](screenshot/peta12-ciondoli.png)"
   ]
  },
  {
   "cell_type": "code",
   "execution_count": 171,
   "metadata": {
    "collapsed": false
   },
   "outputs": [],
   "source": [
    "q <- 'DE05'\n",
    "d <- quiz_difficulty %>% dplyr::filter(bebras_id == q) %>% select(value, category)\n",
    "a <- quiz_discrimination %>% dplyr::filter(bebras_id == q) %>% select(value, category)\n",
    "g <- quiz_guessing %>% dplyr::filter(bebras_id == q) %>% select(value, category)"
   ]
  },
  {
   "cell_type": "markdown",
   "metadata": {},
   "source": [
    "#### Difficoltà"
   ]
  },
  {
   "cell_type": "code",
   "execution_count": 172,
   "metadata": {
    "collapsed": false
   },
   "outputs": [
    {
     "data": {
      "text/plain": [
       "   Min. 1st Qu.  Median    Mean 3rd Qu.    Max. \n",
       "  1.121   1.518   1.618   1.623   1.719   2.451 "
      ]
     },
     "execution_count": 172,
     "metadata": {},
     "output_type": "execute_result"
    }
   ],
   "source": [
    "if (!file.exists('img/d-DE05.png')) {\n",
    "options(repr.plot.width=10, repr.plot.height=2)\n",
    "p <- ggplot(d, aes(x=value))\n",
    "p <- p + geom_histogram(binwidth=0.1*sd(d$value)) \n",
    "p <- p + aes(y=..density..)\n",
    "p <- p + facet_grid(. ~ category)\n",
    "ggsave(filename = 'img/d-DE05.png', plot = p, width = 10, height = 2)\n",
    "rm(p)\n",
    "}\n",
    "summary(d$value)"
   ]
  },
  {
   "cell_type": "markdown",
   "metadata": {},
   "source": [
    "![d-DE05](img/d-DE05.png)"
   ]
  },
  {
   "cell_type": "markdown",
   "metadata": {},
   "source": [
    "#### Differenziazione"
   ]
  },
  {
   "cell_type": "code",
   "execution_count": 173,
   "metadata": {
    "collapsed": false
   },
   "outputs": [
    {
     "data": {
      "text/plain": [
       "   Min. 1st Qu.  Median    Mean 3rd Qu.    Max. \n",
       "  1.110   1.659   1.826   1.855   2.024   2.964 "
      ]
     },
     "execution_count": 173,
     "metadata": {},
     "output_type": "execute_result"
    }
   ],
   "source": [
    "if (!file.exists('img/a-DE05.png')) {\n",
    "options(repr.plot.width=10, repr.plot.height=2)\n",
    "p <- ggplot(a, aes(x=value))\n",
    "p <- p + geom_histogram(binwidth=0.1*sd(a$value)) \n",
    "p <- p + aes(y=..density..)\n",
    "p <- p + facet_grid(. ~ category)\n",
    "ggsave(filename = 'img/a-DE05.png', plot = p, width = 10, height = 2)\n",
    "rm(p)\n",
    "}\n",
    "summary(a$value)"
   ]
  },
  {
   "cell_type": "markdown",
   "metadata": {},
   "source": [
    "![a-DE05](img/a-DE05.png)"
   ]
  },
  {
   "cell_type": "markdown",
   "metadata": {},
   "source": [
    "#### Guessing"
   ]
  },
  {
   "cell_type": "code",
   "execution_count": 174,
   "metadata": {
    "collapsed": false
   },
   "outputs": [
    {
     "data": {
      "text/plain": [
       "     Min.   1st Qu.    Median      Mean   3rd Qu.      Max. \n",
       "1.039e-06 2.509e-04 6.267e-04 9.057e-04 1.273e-03 6.737e-03 "
      ]
     },
     "execution_count": 174,
     "metadata": {},
     "output_type": "execute_result"
    }
   ],
   "source": [
    "if (!file.exists('img/g-DE05.png')) {\n",
    "options(repr.plot.width=10, repr.plot.height=2)\n",
    "p <- ggplot(g, aes(x=value))\n",
    "p <- p + geom_histogram(binwidth=0.1*sd(g$value)) \n",
    "p <- p + aes(y=..density..)\n",
    "p <- p + facet_grid(. ~ category)\n",
    "ggsave(filename = 'img/g-DE05.png', plot = p, width = 10, height = 2)\n",
    "rm(p)\n",
    "}\n",
    "summary(g$value)"
   ]
  },
  {
   "cell_type": "markdown",
   "metadata": {},
   "source": [
    "![g-DE05](img/g-DE05.png)"
   ]
  },
  {
   "cell_type": "markdown",
   "metadata": {},
   "source": [
    "#### Curva Item-Response"
   ]
  },
  {
   "cell_type": "code",
   "execution_count": 175,
   "metadata": {
    "collapsed": false
   },
   "outputs": [],
   "source": [
    "if (!file.exists('img/l-DE05.png')) {\n",
    "data <- data.frame(x=seq(-5,5,.1))\n",
    "options(repr.plot.width=6, repr.plot.height=6)\n",
    "p <- ggplot(data, aes(x=x))\n",
    "p <- p + scale_x_continuous()\n",
    "p <- p + geom_hline(yintercept=0.5, linetype=\"dashed\")\n",
    "p <- p + geom_vline(xintercept=0.0, linetype=\"dashed\")\n",
    "dall <- data.frame()\n",
    "for (i in 1:length(d$value)) {\n",
    " ldata <- bind_cols(data,  data.frame(a=rep(d$value[i], times=length(data$x)),\n",
    "                                      b=rep(a$value[i], times=length(data$x)),\n",
    "                                      c=rep(g$value[i], times=length(data$x)),\n",
    "                                      category=rep(d$category[i], times=length(data$x))\n",
    "                                   ))\n",
    " ldata <- mutate(ldata, y = logistic(x, a, b, c))\n",
    "  dall <- bind_rows(dall, ldata)\n",
    "}\n",
    " p <- p + geom_point(data=dall, aes(x=x, y=y)) + geom_smooth(data=dall, aes(x=x, y=y))\n",
    " p <- p + facet_grid(. ~ category)\n",
    " ggsave(filename = 'img/l-DE05.png', plot = p, width = 6, height = 6)\n",
    " rm(data, dall, ldata, p)\n",
    "}"
   ]
  },
  {
   "cell_type": "markdown",
   "metadata": {},
   "source": [
    "![l-DE05](img/l-DE05.png)"
   ]
  },
  {
   "cell_type": "markdown",
   "metadata": {},
   "source": [
    "###  2015_Peta_G3_IT05_Sassolini\n",
    "\n",
    "![Sassolini](screenshot/peta13-sassolini.png)"
   ]
  },
  {
   "cell_type": "code",
   "execution_count": 176,
   "metadata": {
    "collapsed": false
   },
   "outputs": [],
   "source": [
    "q <- 'IT05'\n",
    "d <- quiz_difficulty %>% dplyr::filter(bebras_id == q) %>% select(value, category)\n",
    "a <- quiz_discrimination %>% dplyr::filter(bebras_id == q) %>% select(value, category)\n",
    "g <- quiz_guessing %>% dplyr::filter(bebras_id == q) %>% select(value, category)"
   ]
  },
  {
   "cell_type": "markdown",
   "metadata": {},
   "source": [
    "#### Difficoltà"
   ]
  },
  {
   "cell_type": "code",
   "execution_count": 177,
   "metadata": {
    "collapsed": false
   },
   "outputs": [
    {
     "data": {
      "text/plain": [
       "   Min. 1st Qu.  Median    Mean 3rd Qu.    Max. \n",
       " 0.6506  0.9262  1.0010  1.0090  1.0870  1.4470 "
      ]
     },
     "execution_count": 177,
     "metadata": {},
     "output_type": "execute_result"
    }
   ],
   "source": [
    "if (!file.exists('img/d-IT05.png')) {\n",
    "options(repr.plot.width=10, repr.plot.height=2)\n",
    "p <- ggplot(d, aes(x=value))\n",
    "p <- p + geom_histogram(binwidth=0.1*sd(d$value)) \n",
    "p <- p + aes(y=..density..)\n",
    "p <- p + facet_grid(. ~ category)\n",
    "ggsave(filename = 'img/d-IT05.png', plot = p, width = 10, height = 2)\n",
    "rm(p)\n",
    "}\n",
    "summary(d$value)"
   ]
  },
  {
   "cell_type": "markdown",
   "metadata": {},
   "source": [
    "![d-IT05](img/d-IT05.png)"
   ]
  },
  {
   "cell_type": "markdown",
   "metadata": {},
   "source": [
    "#### Differenziazione"
   ]
  },
  {
   "cell_type": "code",
   "execution_count": 178,
   "metadata": {
    "collapsed": false
   },
   "outputs": [
    {
     "data": {
      "text/plain": [
       "   Min. 1st Qu.  Median    Mean 3rd Qu.    Max. \n",
       " 0.8461  1.2690  1.3840  1.3930  1.5020  2.2380 "
      ]
     },
     "execution_count": 178,
     "metadata": {},
     "output_type": "execute_result"
    }
   ],
   "source": [
    "if (!file.exists('img/a-IT05.png')) {\n",
    "options(repr.plot.width=10, repr.plot.height=2)\n",
    "p <- ggplot(a, aes(x=value))\n",
    "p <- p + geom_histogram(binwidth=0.1*sd(a$value)) \n",
    "p <- p + aes(y=..density..)\n",
    "p <- p + facet_grid(. ~ category)\n",
    "ggsave(filename = 'img/a-IT05.png', plot = p, width = 10, height = 2)\n",
    "rm(p)\n",
    "}\n",
    "summary(a$value)"
   ]
  },
  {
   "cell_type": "markdown",
   "metadata": {},
   "source": [
    "![a-IT05](img/a-IT05.png)"
   ]
  },
  {
   "cell_type": "markdown",
   "metadata": {},
   "source": [
    "#### Guessing"
   ]
  },
  {
   "cell_type": "code",
   "execution_count": 179,
   "metadata": {
    "collapsed": false
   },
   "outputs": [
    {
     "data": {
      "text/plain": [
       "     Min.   1st Qu.    Median      Mean   3rd Qu.      Max. \n",
       "8.620e-07 2.708e-04 6.790e-04 1.011e-03 1.412e-03 8.334e-03 "
      ]
     },
     "execution_count": 179,
     "metadata": {},
     "output_type": "execute_result"
    }
   ],
   "source": [
    "if (!file.exists('img/g-IT05.png')) {\n",
    "options(repr.plot.width=10, repr.plot.height=2)\n",
    "p <- ggplot(g, aes(x=value))\n",
    "p <- p + geom_histogram(binwidth=0.1*sd(g$value)) \n",
    "p <- p + aes(y=..density..)\n",
    "p <- p + facet_grid(. ~ category)\n",
    "ggsave(filename = 'img/g-IT05.png', plot = p, width = 10, height = 2)\n",
    "rm(p)\n",
    "}\n",
    "summary(g$value)"
   ]
  },
  {
   "cell_type": "markdown",
   "metadata": {},
   "source": [
    "![g-IT05](img/g-IT05.png)"
   ]
  },
  {
   "cell_type": "markdown",
   "metadata": {},
   "source": [
    "#### Curva Item-Response"
   ]
  },
  {
   "cell_type": "code",
   "execution_count": 180,
   "metadata": {
    "collapsed": false
   },
   "outputs": [],
   "source": [
    "if (!file.exists('img/l-IT05.png')) {\n",
    "data <- data.frame(x=seq(-5,5,.1))\n",
    "options(repr.plot.width=6, repr.plot.height=6)\n",
    "p <- ggplot(data, aes(x=x))\n",
    "p <- p + scale_x_continuous()\n",
    "p <- p + geom_hline(yintercept=0.5, linetype=\"dashed\")\n",
    "p <- p + geom_vline(xintercept=0.0, linetype=\"dashed\")\n",
    "dall <- data.frame()\n",
    "for (i in 1:length(d$value)) {\n",
    " ldata <- bind_cols(data,  data.frame(a=rep(d$value[i], times=length(data$x)),\n",
    "                                      b=rep(a$value[i], times=length(data$x)),\n",
    "                                      c=rep(g$value[i], times=length(data$x)),\n",
    "                                      category=rep(d$category[i], times=length(data$x))\n",
    "                                   ))\n",
    " ldata <- mutate(ldata, y = logistic(x, a, b, c))\n",
    "  dall <- bind_rows(dall, ldata)\n",
    "}\n",
    " p <- p + geom_point(data=dall, aes(x=x, y=y)) + geom_smooth(data=dall, aes(x=x, y=y))\n",
    " p <- p + facet_grid(. ~ category)\n",
    " ggsave(filename = 'img/l-IT05.png', plot = p, width = 6, height = 6)\n",
    " rm(data, dall, ldata, p)\n",
    "}"
   ]
  },
  {
   "cell_type": "markdown",
   "metadata": {},
   "source": [
    "![l-IT05](img/l-IT05.png)"
   ]
  },
  {
   "cell_type": "markdown",
   "metadata": {},
   "source": [
    "###  2015_Peta_G4_JP05_Agenzia\n",
    "\n",
    "![Agenzia](screenshot/peta14-agenzia.png)"
   ]
  },
  {
   "cell_type": "code",
   "execution_count": 181,
   "metadata": {
    "collapsed": false
   },
   "outputs": [],
   "source": [
    "q <- 'JP05'\n",
    "d <- quiz_difficulty %>% dplyr::filter(bebras_id == q) %>% select(value, category)\n",
    "a <- quiz_discrimination %>% dplyr::filter(bebras_id == q) %>% select(value, category)\n",
    "g <- quiz_guessing %>% dplyr::filter(bebras_id == q) %>% select(value, category)"
   ]
  },
  {
   "cell_type": "markdown",
   "metadata": {},
   "source": [
    "#### Difficoltà"
   ]
  },
  {
   "cell_type": "code",
   "execution_count": 182,
   "metadata": {
    "collapsed": false
   },
   "outputs": [
    {
     "data": {
      "text/plain": [
       "   Min. 1st Qu.  Median    Mean 3rd Qu.    Max. \n",
       " 0.9773  1.3300  1.4390  1.4470  1.5510  2.1360 "
      ]
     },
     "execution_count": 182,
     "metadata": {},
     "output_type": "execute_result"
    }
   ],
   "source": [
    "if (!file.exists('img/d-JP05.png')) {\n",
    "options(repr.plot.width=10, repr.plot.height=2)\n",
    "p <- ggplot(d, aes(x=value))\n",
    "p <- p + geom_histogram(binwidth=0.1*sd(d$value)) \n",
    "p <- p + aes(y=..density..)\n",
    "p <- p + facet_grid(. ~ category)\n",
    "ggsave(filename = 'img/d-JP05.png', plot = p, width = 10, height = 2)\n",
    "rm(p)\n",
    "}\n",
    "summary(d$value)"
   ]
  },
  {
   "cell_type": "markdown",
   "metadata": {},
   "source": [
    "![d-JP05](img/d-JP05.png)"
   ]
  },
  {
   "cell_type": "markdown",
   "metadata": {},
   "source": [
    "#### Differenziazione"
   ]
  },
  {
   "cell_type": "code",
   "execution_count": 183,
   "metadata": {
    "collapsed": false
   },
   "outputs": [
    {
     "data": {
      "text/plain": [
       "   Min. 1st Qu.  Median    Mean 3rd Qu.    Max. \n",
       " 0.6681  1.1360  1.2960  1.3460  1.5120  2.9980 "
      ]
     },
     "execution_count": 183,
     "metadata": {},
     "output_type": "execute_result"
    }
   ],
   "source": [
    "if (!file.exists('img/a-JP05.png')) {\n",
    "options(repr.plot.width=10, repr.plot.height=2)\n",
    "p <- ggplot(a, aes(x=value))\n",
    "p <- p + geom_histogram(binwidth=0.1*sd(a$value)) \n",
    "p <- p + aes(y=..density..)\n",
    "p <- p + facet_grid(. ~ category)\n",
    "ggsave(filename = 'img/a-JP05.png', plot = p, width = 10, height = 2)\n",
    "rm(p)\n",
    "}\n",
    "summary(a$value)"
   ]
  },
  {
   "cell_type": "markdown",
   "metadata": {},
   "source": [
    "![a-JP05](img/a-JP05.png)"
   ]
  },
  {
   "cell_type": "markdown",
   "metadata": {},
   "source": [
    "#### Guessing"
   ]
  },
  {
   "cell_type": "code",
   "execution_count": 184,
   "metadata": {
    "collapsed": false
   },
   "outputs": [
    {
     "data": {
      "text/plain": [
       "     Min.   1st Qu.    Median      Mean   3rd Qu.      Max. \n",
       "8.238e-05 3.792e-02 6.229e-02 6.329e-02 8.757e-02 1.561e-01 "
      ]
     },
     "execution_count": 184,
     "metadata": {},
     "output_type": "execute_result"
    }
   ],
   "source": [
    "if (!file.exists('img/g-JP05.png')) {\n",
    "options(repr.plot.width=10, repr.plot.height=2)\n",
    "p <- ggplot(g, aes(x=value))\n",
    "p <- p + geom_histogram(binwidth=0.1*sd(g$value)) \n",
    "p <- p + aes(y=..density..)\n",
    "p <- p + facet_grid(. ~ category)\n",
    "ggsave(filename = 'img/g-JP05.png', plot = p, width = 10, height = 2)\n",
    "rm(p)\n",
    "}\n",
    "summary(g$value)"
   ]
  },
  {
   "cell_type": "markdown",
   "metadata": {},
   "source": [
    "![g-JP05](img/g-JP05.png)"
   ]
  },
  {
   "cell_type": "markdown",
   "metadata": {},
   "source": [
    "#### Curva Item-Response"
   ]
  },
  {
   "cell_type": "code",
   "execution_count": 185,
   "metadata": {
    "collapsed": false
   },
   "outputs": [],
   "source": [
    "if (!file.exists('img/l-JP05.png')) {\n",
    "data <- data.frame(x=seq(-5,5,.1))\n",
    "options(repr.plot.width=6, repr.plot.height=6)\n",
    "p <- ggplot(data, aes(x=x))\n",
    "p <- p + scale_x_continuous()\n",
    "p <- p + geom_hline(yintercept=0.5, linetype=\"dashed\")\n",
    "p <- p + geom_vline(xintercept=0.0, linetype=\"dashed\")\n",
    "dall <- data.frame()\n",
    "for (i in 1:length(d$value)) {\n",
    " ldata <- bind_cols(data,  data.frame(a=rep(d$value[i], times=length(data$x)),\n",
    "                                      b=rep(a$value[i], times=length(data$x)),\n",
    "                                      c=rep(g$value[i], times=length(data$x)),\n",
    "                                      category=rep(d$category[i], times=length(data$x))\n",
    "                                   ))\n",
    " ldata <- mutate(ldata, y = logistic(x, a, b, c))\n",
    "  dall <- bind_rows(dall, ldata)\n",
    "}\n",
    " p <- p + geom_point(data=dall, aes(x=x, y=y)) + geom_smooth(data=dall, aes(x=x, y=y))\n",
    " p <- p + facet_grid(. ~ category)\n",
    " ggsave(filename = 'img/l-JP05.png', plot = p, width = 6, height = 6)\n",
    " rm(data, dall, ldata, p)\n",
    "}"
   ]
  },
  {
   "cell_type": "markdown",
   "metadata": {},
   "source": [
    "![l-JP05](img/l-JP05.png)"
   ]
  },
  {
   "cell_type": "markdown",
   "metadata": {},
   "source": [
    "###  2015_Peta_G5_CA06_Carte\n",
    "\n",
    "![Carte](screenshot/peta15-carte.png)"
   ]
  },
  {
   "cell_type": "code",
   "execution_count": 186,
   "metadata": {
    "collapsed": false
   },
   "outputs": [],
   "source": [
    "q <- 'CA06'\n",
    "d <- quiz_difficulty %>% dplyr::filter(bebras_id == q) %>% select(value, category)\n",
    "a <- quiz_discrimination %>% dplyr::filter(bebras_id == q) %>% select(value, category)\n",
    "g <- quiz_guessing %>% dplyr::filter(bebras_id == q) %>% select(value, category)"
   ]
  },
  {
   "cell_type": "markdown",
   "metadata": {},
   "source": [
    "#### Difficoltà"
   ]
  },
  {
   "cell_type": "code",
   "execution_count": 187,
   "metadata": {
    "collapsed": false
   },
   "outputs": [
    {
     "data": {
      "text/plain": [
       "   Min. 1st Qu.  Median    Mean 3rd Qu.    Max. \n",
       "  2.316   3.007   3.281   3.321   3.588   5.462 "
      ]
     },
     "execution_count": 187,
     "metadata": {},
     "output_type": "execute_result"
    }
   ],
   "source": [
    "if (!file.exists('img/d-CA06.png')) {\n",
    "options(repr.plot.width=10, repr.plot.height=2)\n",
    "p <- ggplot(d, aes(x=value))\n",
    "p <- p + geom_histogram(binwidth=0.1*sd(d$value)) \n",
    "p <- p + aes(y=..density..)\n",
    "p <- p + facet_grid(. ~ category)\n",
    "ggsave(filename = 'img/d-CA06.png', plot = p, width = 10, height = 2)\n",
    "rm(p)\n",
    "}\n",
    "summary(d$value)"
   ]
  },
  {
   "cell_type": "markdown",
   "metadata": {},
   "source": [
    "![d-CA06](img/d-CA06.png)"
   ]
  },
  {
   "cell_type": "markdown",
   "metadata": {},
   "source": [
    "#### Differenziazione"
   ]
  },
  {
   "cell_type": "code",
   "execution_count": 188,
   "metadata": {
    "collapsed": false
   },
   "outputs": [
    {
     "data": {
      "text/plain": [
       "   Min. 1st Qu.  Median    Mean 3rd Qu.    Max. \n",
       " 0.6244  1.0120  1.1370  1.1520  1.2720  1.9580 "
      ]
     },
     "execution_count": 188,
     "metadata": {},
     "output_type": "execute_result"
    }
   ],
   "source": [
    "if (!file.exists('img/a-CA06.png')) {\n",
    "options(repr.plot.width=10, repr.plot.height=2)\n",
    "p <- ggplot(a, aes(x=value))\n",
    "p <- p + geom_histogram(binwidth=0.1*sd(a$value)) \n",
    "p <- p + aes(y=..density..)\n",
    "p <- p + facet_grid(. ~ category)\n",
    "ggsave(filename = 'img/a-CA06.png', plot = p, width = 10, height = 2)\n",
    "rm(p)\n",
    "}\n",
    "summary(a$value)"
   ]
  },
  {
   "cell_type": "markdown",
   "metadata": {},
   "source": [
    "![a-CA06](img/a-CA06.png)"
   ]
  },
  {
   "cell_type": "markdown",
   "metadata": {},
   "source": [
    "#### Guessing"
   ]
  },
  {
   "cell_type": "code",
   "execution_count": 189,
   "metadata": {
    "collapsed": false
   },
   "outputs": [
    {
     "data": {
      "text/plain": [
       "     Min.   1st Qu.    Median      Mean   3rd Qu.      Max. \n",
       "1.373e-06 2.634e-04 6.356e-04 9.165e-04 1.301e-03 6.417e-03 "
      ]
     },
     "execution_count": 189,
     "metadata": {},
     "output_type": "execute_result"
    }
   ],
   "source": [
    "if (!file.exists('img/g-CA06.png')) {\n",
    "options(repr.plot.width=10, repr.plot.height=2)\n",
    "p <- ggplot(g, aes(x=value))\n",
    "p <- p + geom_histogram(binwidth=0.1*sd(g$value)) \n",
    "p <- p + aes(y=..density..)\n",
    "p <- p + facet_grid(. ~ category)\n",
    "ggsave(filename = 'img/g-CA06.png', plot = p, width = 10, height = 2)\n",
    "rm(p)\n",
    "}\n",
    "summary(g$value)"
   ]
  },
  {
   "cell_type": "markdown",
   "metadata": {},
   "source": [
    "![g-CA06](img/g-CA06.png)"
   ]
  },
  {
   "cell_type": "markdown",
   "metadata": {},
   "source": [
    "#### Curva Item-Response"
   ]
  },
  {
   "cell_type": "code",
   "execution_count": 190,
   "metadata": {
    "collapsed": false
   },
   "outputs": [],
   "source": [
    "if (!file.exists('img/l-CA06.png')) {\n",
    "data <- data.frame(x=seq(-5,5,.1))\n",
    "options(repr.plot.width=6, repr.plot.height=6)\n",
    "p <- ggplot(data, aes(x=x))\n",
    "p <- p + scale_x_continuous()\n",
    "p <- p + geom_hline(yintercept=0.5, linetype=\"dashed\")\n",
    "p <- p + geom_vline(xintercept=0.0, linetype=\"dashed\")\n",
    "dall <- data.frame()\n",
    "for (i in 1:length(d$value)) {\n",
    " ldata <- bind_cols(data,  data.frame(a=rep(d$value[i], times=length(data$x)),\n",
    "                                      b=rep(a$value[i], times=length(data$x)),\n",
    "                                      c=rep(g$value[i], times=length(data$x)),\n",
    "                                      category=rep(d$category[i], times=length(data$x))\n",
    "                                   ))\n",
    " ldata <- mutate(ldata, y = logistic(x, a, b, c))\n",
    "  dall <- bind_rows(dall, ldata)\n",
    "}\n",
    " p <- p + geom_point(data=dall, aes(x=x, y=y)) + geom_smooth(data=dall, aes(x=x, y=y))\n",
    " p <- p + facet_grid(. ~ category)\n",
    " ggsave(filename = 'img/l-CA06.png', plot = p, width = 6, height = 6)\n",
    " rm(data, dall, ldata, p)\n",
    "}"
   ]
  },
  {
   "cell_type": "markdown",
   "metadata": {},
   "source": [
    "![l-CA06](img/l-CA06.png)"
   ]
  },
  {
   "cell_type": "code",
   "execution_count": null,
   "metadata": {
    "collapsed": true
   },
   "outputs": [],
   "source": []
  }
 ],
 "metadata": {
  "kernelspec": {
   "display_name": "R",
   "language": "R",
   "name": "ir"
  },
  "language_info": {
   "codemirror_mode": "r",
   "file_extension": ".r",
   "mimetype": "text/x-r-source",
   "name": "R",
   "pygments_lexer": "r",
   "version": "3.2.2"
  }
 },
 "nbformat": 4,
 "nbformat_minor": 0
}
