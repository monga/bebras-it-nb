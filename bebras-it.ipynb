{
 "cells": [
  {
   "cell_type": "markdown",
   "metadata": {},
   "source": [
    "# Un'analisi IRT dei quesiti del Bebras italiano\n",
    "\n",
    "L'*Item Response Theory* (IRT) è una tecnica statistica che si propone di stimare l'*abilità* dei soggetti cui viene sottoposto un test composto da una serie di domande (dette *item*). L'abilità è un tratto *latente*, cioè non osservabile direttamente: l'aver risposto correttamente a molte domande può dipendere sia da elevata abilità, che dalla \"facilità\" delle domande. La stima si basa quindi su un *modello matematico* (detto *Item Response Function*) della relazione fra abilità e probabilità di rispondere correttamente alla domanda."
   ]
  },
  {
   "cell_type": "markdown",
   "metadata": {},
   "source": [
    "Il modello usato in questa analisi è una curva *logistica*, la cui forma è regolata da tre parametri $a, b, c$.\n",
    "$$ p_i(\\theta_j) = c_i + \\frac{(1 - c_i)}{1+ e^{-b_i\\cdot(\\theta_j - a_i)}} $$\n",
    "La probabilità $p$ di successo in un *item* $i$ è funzione dell'abilità $\\theta$ del solutore $j$. I tre parametri modellano le caratteristiche dell'*item*:\n",
    "- $a$, detto *difficoltà* dell'item: determina il livello di abilità necessaria per avere il 50% di probabilità di successo;\n",
    "- $b$, detto *differenziazione*: determina quanto influiscono le variazioni di abilità sulla probabilità di successo;\n",
    "- $c$: fissa una probabilità minima di successo per qualsiasi abilità, dovuta per esempio alla possibilità di scegliere casualmente la risposta giusta ($c$ sarà 0 per un *item* a risposta completamente aperta)"
   ]
  },
  {
   "cell_type": "code",
   "execution_count": 1,
   "metadata": {
    "collapsed": true
   },
   "outputs": [],
   "source": [
    "logistic <- function(theta, a=0, b=1, c=0) { \n",
    "    c + (1-c)/(1 + exp(-b*(theta-a)))\n",
    "}"
   ]
  },
  {
   "cell_type": "code",
   "execution_count": 3,
   "metadata": {
    "collapsed": false
   },
   "outputs": [],
   "source": [
    "library(\"ggplot2\")\n",
    "data <- data.frame(x=seq(-5,5,.1))\n",
    "data <- transform(data, \n",
    "                  y_mean = logistic(x), \n",
    "                  y_hard = logistic(x,a=2), \n",
    "                  y_easy=logistic(x,a=-2),\n",
    "                  y_hdiscrimination=logistic(x,b=2),\n",
    "                  y_ldiscrimination=logistic(x,b=.5)\n",
    "                 );\n",
    "\n",
    "options(repr.plot.width=6, repr.plot.height=6)\n",
    "p <- ggplot(data, aes(x=x))\n",
    "p <- p + scale_x_continuous()\n",
    "p <- p + geom_hline(yintercept=0.5, linetype=\"dashed\")\n",
    "p <- p + geom_line(aes(y=y_hard), color=\"red\")\n",
    "p <- p + annotate(\"text\", x=2.1, y=.55, label=\"a == 2 ~~(plain(difficile))\", parse=TRUE, color=\"red\")\n",
    "p <- p + geom_line(aes(y=y_easy), color=\"dark green\")\n",
    "p <- p + annotate(\"text\", x=-1.9, y=.55, label=\"a == -2 ~~(plain(facile))\", parse=TRUE, color=\"dark green\")\n",
    "p <- p + geom_line(aes(y=y_mean), color=\"blue\")\n",
    "p <- p + annotate(\"text\", x=1.5, y=.8, label=\"a == 0 ~~(plain(medio))\", parse=TRUE, color=\"blue\")\n",
    "p <- p + geom_line(aes(y=y_hdiscrimination), color=\"dark cyan\")\n",
    "p <- p + annotate(\"text\", x=1, y=.9, label=\"a == 0 ~~ b == 2\", parse=TRUE, color=\"dark cyan\")\n",
    "p <- p + geom_line(aes(y=y_ldiscrimination), color=\"violet\")\n",
    "p <- p + annotate(\"text\", x=1.8, y=.7, label=\"a == 0 ~~ b == .5\", parse=TRUE, color=\"violet\")\n",
    "p <- p + labs(title=expression(paste(\"Curve logistiche per diversi valori di \", a, \" e \", b, \" (\",c==0,\")\")), \n",
    "              x=\"Abilità\", y=\"Probabilità di successo\")\n",
    "\n",
    "ggsave(filename = \"logistic.png\", plot = p, width = 6, height = 6)\n",
    "rm(data, p)"
   ]
  },
  {
   "cell_type": "markdown",
   "metadata": {},
   "source": [
    "![logistic](logistic.png)"
   ]
  },
  {
   "cell_type": "markdown",
   "metadata": {},
   "source": [
    "A ogni *item* o quiz, quindi, viene associata una specifica curva logistica (la sua *item response function*) che può essere dedotta osservando un campione di risolutori cui è stato sottoposto il test. A questo scopo i parametri relativi ai quiz del Bebras italiano 2015 sono stati stimati con un approccio bayesiano, come descritto in [C. Bellettini et al. *\"How challenging are Bebras tasks? an IRT analysis based on the performance of Italian students\", Proceedings of the 20th annual conference on innovation and technology in computer science education ITiCSE'15* (Vilnius, Lithuania, 2015)](http://dx.doi.org/10.1145/2729094.2742603). I dettagli statistici riguardo la bontà di adattamento del modello sono disponibili [qui](https://mmonga.shinyapps.io/bebrasIT2015)."
   ]
  },
  {
   "cell_type": "markdown",
   "metadata": {},
   "source": [
    "## I quesiti 2015"
   ]
  },
  {
   "cell_type": "code",
   "execution_count": 4,
   "metadata": {
    "collapsed": false
   },
   "outputs": [
    {
     "name": "stderr",
     "output_type": "stream",
     "text": [
      "Loading required package: Rcpp\n",
      "rstan (Version 2.8.0, packaged: 2015-09-19 14:48:38 UTC, GitRev: 05c3d0058b6a)\n",
      "For execution on a local, multicore CPU with excess RAM we recommend calling\n",
      "rstan_options(auto_write = TRUE)\n",
      "options(mc.cores = parallel::detectCores())\n"
     ]
    }
   ],
   "source": [
    "library(\"rstan\"); rstan_options(auto_write = TRUE); options(mc.cores = parallel::detectCores())\n",
    "load(\"fit.RData\") # carica l'oggetto fit\n",
    "dfit <- as.data.frame(fit)\n",
    "obs <- read_rdump(\"bebras-all.data.R\")\n",
    "source(\"qnames.R\")\n",
    "\n",
    "cats <- c(\"kilo\", \"mega\", \"giga\", \"tera\", \"peta\")\n",
    "categories <- factor(cats, levels=cats, ordered = TRUE)\n",
    "rm(cats)"
   ]
  },
  {
   "cell_type": "markdown",
   "metadata": {},
   "source": [
    "`dfit` è il data frame che raccoglie l'esito della simulazione, con 3394 variabili (3168 *ability*, 75 *discrimination*, 75 *difficulty*, 75 *guessing* e la logprobability) e 2000 campioni. `obs` è la lista dei dati effettivamente osservati, cioè 47520 risposte di 3168 squadre a 75 quiz, con 5 categorie. `qnames` contiene i nomi completi dei quiz, come `'2015_Kilo_A1_HU02_Apparecchiare'`."
   ]
  },
  {
   "cell_type": "code",
   "execution_count": 5,
   "metadata": {
    "collapsed": true
   },
   "outputs": [],
   "source": [
    "obs$rcats <- plyr::aaply(obs$rquiz, 1, function (e){ as.character(categories[ ((e - 1) %/% 15) + 1 ]) })"
   ]
  },
  {
   "cell_type": "code",
   "execution_count": 6,
   "metadata": {
    "collapsed": false
   },
   "outputs": [
    {
     "name": "stderr",
     "output_type": "stream",
     "text": [
      "\n",
      "Attaching package: ‘dplyr’\n",
      "\n",
      "The following objects are masked from ‘package:plyr’:\n",
      "\n",
      "    arrange, count, desc, failwith, id, mutate, rename, summarise,\n",
      "    summarize\n",
      "\n",
      "The following objects are masked from ‘package:stats’:\n",
      "\n",
      "    filter, lag\n",
      "\n",
      "The following objects are masked from ‘package:base’:\n",
      "\n",
      "    intersect, setdiff, setequal, union\n",
      "\n"
     ]
    }
   ],
   "source": [
    "library(\"plyr\")\n",
    "library(\"dplyr\")\n",
    "teams <- data.frame(id = obs$rtaker, category = obs$rcats) %>% distinct()\n",
    "get_par_df <- function(df, par, table) {\n",
    "    df %>% \n",
    "    dplyr::select(contains(par)) %>% \n",
    "    tidyr::gather(key = \"parameter\", value, everything()) %>%\n",
    "    dplyr::mutate(\"id\" = as.numeric(regmatches(parameter, regexpr(\"[0-9]+\",parameter)))) %>%\n",
    "    dplyr::left_join(table, by = \"id\") %>%\n",
    "    transform(category = factor(category, levels=levels(categories), ordered = TRUE))\n",
    "}"
   ]
  },
  {
   "cell_type": "code",
   "execution_count": 7,
   "metadata": {
    "collapsed": false
   },
   "outputs": [],
   "source": [
    "team_ability <- get_par_df(dfit, \"ability\", teams)"
   ]
  },
  {
   "cell_type": "markdown",
   "metadata": {},
   "source": [
    "Il modello è tarato in modo che la media delle abilità di tutte le squadre partecipanti sia 0."
   ]
  },
  {
   "cell_type": "code",
   "execution_count": 8,
   "metadata": {
    "collapsed": false
   },
   "outputs": [
    {
     "name": "stdout",
     "output_type": "stream",
     "text": [
      "                     Min.                   1st Qu.                    Median \n",
      "                   -5.616                   -0.7227                  0.002395 \n",
      "                     Mean                   3rd Qu.                      Max. \n",
      "               -3.509e-17                    0.7237                     5.662 \n",
      "                          \n",
      "StdDev:  1.07960634648982 \n"
     ]
    }
   ],
   "source": [
    "print(c(summary(team_ability$value), paste(\"StdDev: \", sd(team_ability$value))), quote = FALSE)"
   ]
  },
  {
   "cell_type": "code",
   "execution_count": 9,
   "metadata": {
    "collapsed": false
   },
   "outputs": [],
   "source": [
    "team_ability.notes <- ddply(team_ability, .(category), summarise, note=sprintf(\"paste(mu == %s, ' ', sigma == %s)\", \n",
    "                                                                     format(mean(value), digit = 2), \n",
    "                                                                     format(sd(value), digit= 2)))"
   ]
  },
  {
   "cell_type": "code",
   "execution_count": 10,
   "metadata": {
    "collapsed": false
   },
   "outputs": [],
   "source": [
    "options(repr.plot.width=10, repr.plot.height=2)\n",
    "p <- ggplot(team_ability, aes(x=value)) \n",
    "p <- p + geom_histogram(binwidth=.2) + coord_cartesian(ylim = c(0,.5))\n",
    "p <- p + aes(y=..density..)\n",
    "p <- p + facet_grid(. ~ category)\n",
    "p <- p + geom_text(data=team_ability.notes, aes(0, 0.4, label=note), size=3, parse = TRUE)\n",
    "p <- p + labs(title=\"Distribuzione dell'abilità dei partecipanti\", \n",
    "              x=\"Abilità\", y=\"Densità\")\n",
    "ggsave(filename = \"team_ability.png\", plot = p, width = 10, height = 2)"
   ]
  },
  {
   "cell_type": "markdown",
   "metadata": {},
   "source": [
    "![team_ability](team_ability.png)"
   ]
  },
  {
   "cell_type": "code",
   "execution_count": 11,
   "metadata": {
    "collapsed": false
   },
   "outputs": [],
   "source": [
    "qorder <- plyr::laply(strsplit(qnames, \"_\"), function(e){e[3]})\n",
    "quizzes <- data.frame(id = 1:length(qnames), quiz = qnames, \n",
    "                      category = factor(plyr::laply(strsplit(qnames, \"_\"), function(e){tolower(e[2])}), \n",
    "                                        levels=levels(categories), ordered = TRUE),\n",
    "                      qname = plyr::laply(strsplit(qnames, \"_\"), function(e){e[5]}),\n",
    "                      bebras_id = plyr::laply(strsplit(qnames, \"_\"), function(e){e[4]}),\n",
    "                      ord = factor(qorder, levels=rev(sort(unique(qorder))), ordered = TRUE),\n",
    "                      country = plyr::laply(strsplit(qnames, \"_\"), function(e){substr(e[4],1,2)}),\n",
    "                      block = plyr::laply(strsplit(qnames, \"_\"), function(e){substr(e[3],1,1)}))\n",
    "                      "
   ]
  },
  {
   "cell_type": "code",
   "execution_count": 12,
   "metadata": {
    "collapsed": false
   },
   "outputs": [],
   "source": [
    "quiz_difficulty <- get_par_df(dfit, par = \"difficulty\", table = quizzes)                                    "
   ]
  },
  {
   "cell_type": "code",
   "execution_count": 13,
   "metadata": {
    "collapsed": false
   },
   "outputs": [],
   "source": [
    "options(repr.plot.width=10, repr.plot.height=10)\n",
    "p <- ggplot(quiz_difficulty, aes(ord, value, fill=category)) \n",
    "p <- p + geom_boxplot(outlier.shape = 1, outlier.size = .5)\n",
    "p <- p + coord_flip() \n",
    "p <- p + labs(title=\"Distribuzione della difficoltà dei quiz\", \n",
    "              x=\"Quiz\", y=\"Difficoltà\")\n",
    "ggsave(filename = \"quiz_difficulty.png\", plot = p, width = 10, height = 10)\n",
    "rm(p)"
   ]
  },
  {
   "cell_type": "markdown",
   "metadata": {},
   "source": [
    "![quiz_difficulty](quiz_difficulty.png)"
   ]
  },
  {
   "cell_type": "code",
   "execution_count": 14,
   "metadata": {
    "collapsed": false
   },
   "outputs": [],
   "source": [
    "quiz_discrimination <- get_par_df(dfit, par = \"discrimination\", table = quizzes)"
   ]
  },
  {
   "cell_type": "code",
   "execution_count": 15,
   "metadata": {
    "collapsed": false
   },
   "outputs": [],
   "source": [
    "options(repr.plot.width=10, repr.plot.height=10)\n",
    "p <- ggplot(quiz_discrimination, aes(ord, value, fill=category)) \n",
    "p <- p + geom_boxplot(outlier.shape = 1, outlier.size = .5)\n",
    "p <- p + coord_flip() \n",
    "p <- p + labs(title=\"Distribuzione della differenziazione dei quiz\", \n",
    "              x=\"Quiz\", y=\"Differenziazione\")\n",
    "ggsave(filename = \"quiz_discrimination.png\", plot = p, width = 10, height = 10)\n",
    "rm(p)"
   ]
  },
  {
   "cell_type": "markdown",
   "metadata": {},
   "source": [
    "![quiz_discrimination](quiz_discrimination.png)"
   ]
  },
  {
   "cell_type": "code",
   "execution_count": 16,
   "metadata": {
    "collapsed": true
   },
   "outputs": [],
   "source": [
    "quiz_guessing <- get_par_df(dfit, par = \"guessing\", table = quizzes)"
   ]
  },
  {
   "cell_type": "markdown",
   "metadata": {
    "collapsed": true
   },
   "source": [
    "##  I singoli quesiti"
   ]
  },
  {
   "cell_type": "markdown",
   "metadata": {},
   "source": [
    "###  2015_Kilo_A1_HU02_Apparecchiare\n",
    "\n",
    "![Apparecchiare](screenshot/kilo01-collage.png)"
   ]
  },
  {
   "cell_type": "code",
   "execution_count": null,
   "metadata": {
    "collapsed": false
   },
   "outputs": [],
   "source": [
    "q <- 'HU02'\n",
    "d <- quiz_difficulty %>% dplyr::filter(bebras_id == q) %>% select(value, category)\n",
    "a <- quiz_discrimination %>% dplyr::filter(bebras_id == q) %>% select(value, category)\n",
    "g <- quiz_guessing %>% dplyr::filter(bebras_id == q) %>% select(value, category)"
   ]
  },
  {
   "cell_type": "markdown",
   "metadata": {},
   "source": [
    "#### Difficoltà"
   ]
  },
  {
   "cell_type": "code",
   "execution_count": null,
   "metadata": {
    "collapsed": false
   },
   "outputs": [],
   "source": [
    "options(repr.plot.width=10, repr.plot.height=2)\n",
    "p <- ggplot(d, aes(x=value))\n",
    "p <- p + geom_histogram(binwidth=0.1*sd(d$value)) \n",
    "p <- p + aes(y=..density..)\n",
    "p <- p + facet_grid(. ~ category)\n",
    "ggsave(filename = 'd-HU02.png', plot = p, width = 10, height = 2)\n",
    "summary(d$value)"
   ]
  },
  {
   "cell_type": "markdown",
   "metadata": {},
   "source": [
    "![d-HU02](d-HU02.png)"
   ]
  },
  {
   "cell_type": "markdown",
   "metadata": {},
   "source": [
    "#### Differenziazione"
   ]
  },
  {
   "cell_type": "code",
   "execution_count": null,
   "metadata": {
    "collapsed": false
   },
   "outputs": [],
   "source": [
    "options(repr.plot.width=10, repr.plot.height=2)\n",
    "p <- ggplot(a, aes(x=value))\n",
    "p <- p + geom_histogram(binwidth=0.1*sd(a$value)) \n",
    "p <- p + aes(y=..density..)\n",
    "p <- p + facet_grid(. ~ category)\n",
    "ggsave(filename = 'a-HU02.png', plot = p, width = 10, height = 2)\n",
    "summary(a$value)"
   ]
  },
  {
   "cell_type": "markdown",
   "metadata": {},
   "source": [
    "![a-HU02](a-HU02.png)"
   ]
  },
  {
   "cell_type": "markdown",
   "metadata": {},
   "source": [
    "#### Guessing"
   ]
  },
  {
   "cell_type": "code",
   "execution_count": null,
   "metadata": {
    "collapsed": false
   },
   "outputs": [],
   "source": [
    "options(repr.plot.width=10, repr.plot.height=2)\n",
    "p <- ggplot(g, aes(x=value))\n",
    "p <- p + geom_histogram(binwidth=0.1*sd(g$value)) \n",
    "p <- p + aes(y=..density..)\n",
    "p <- p + facet_grid(. ~ category)\n",
    "ggsave(filename = 'g-HU02.png', plot = p, width = 10, height = 2)\n",
    "summary(g$value)"
   ]
  },
  {
   "cell_type": "markdown",
   "metadata": {},
   "source": [
    "![g-HU02](g-HU02.png)"
   ]
  },
  {
   "cell_type": "markdown",
   "metadata": {},
   "source": [
    "#### Curva Item-Response"
   ]
  },
 {
   "cell_type": "code",
   "execution_count": null,
   "metadata": {
    "collapsed": false
   },
   "outputs": [],
   "source": [
    "data <- data.frame(x=seq(-5,5,.1))\n",
    "options(repr.plot.width=6, repr.plot.height=6)\n",
    "p <- ggplot(data, aes(x=x))\n",
    "p <- p + scale_x_continuous()\n",
    "p <- p + geom_hline(yintercept=0.5, linetype=\"dashed\")\n",
    "for (i in 1:length(d$value)) {\n",
    "  p <- p + geom_line(aes(y=logistic(x, a=d$value[i], b=a$value[i], c=g$value[i])))\n",
    "}\n",
    "p"
    "ggsave(filename = 'l-HU02.png', plot = p, width = 6, height = 6)\n",
   ]
  },
  {
   "cell_type": "markdown",
   "metadata": {},
   "source": [
    "![l-HU02](l-HU02.png)"
   ]
  },


  {
   "cell_type": "markdown",
   "metadata": {},
   "source": [
    "###  2015_Kilo_A2_TR03_Palloncini\n",
    "\n",
    "![Palloncini](screenshot/kilo02-palloncini.png)"
   ]
  },
  {
   "cell_type": "code",
   "execution_count": null,
   "metadata": {
    "collapsed": false
   },
   "outputs": [],
   "source": [
    "q <- 'TR03'\n",
    "d <- quiz_difficulty %>% dplyr::filter(bebras_id == q) %>% select(value, category)\n",
    "a <- quiz_discrimination %>% dplyr::filter(bebras_id == q) %>% select(value, category)\n",
    "g <- quiz_guessing %>% dplyr::filter(bebras_id == q) %>% select(value, category)"
   ]
  },
  {
   "cell_type": "markdown",
   "metadata": {},
   "source": [
    "#### Difficoltà"
   ]
  },
  {
   "cell_type": "code",
   "execution_count": null,
   "metadata": {
    "collapsed": false
   },
   "outputs": [],
   "source": [
    "options(repr.plot.width=10, repr.plot.height=2)\n",
    "p <- ggplot(d, aes(x=value))\n",
    "p <- p + geom_histogram(binwidth=0.1*sd(d$value)) \n",
    "p <- p + aes(y=..density..)\n",
    "p <- p + facet_grid(. ~ category)\n",
    "ggsave(filename = 'd-TR03.png', plot = p, width = 10, height = 2)\n",
    "summary(d$value)"
   ]
  },
  {
   "cell_type": "markdown",
   "metadata": {},
   "source": [
    "![d-TR03](d-TR03.png)"
   ]
  },
  {
   "cell_type": "markdown",
   "metadata": {},
   "source": [
    "#### Differenziazione"
   ]
  },
  {
   "cell_type": "code",
   "execution_count": null,
   "metadata": {
    "collapsed": false
   },
   "outputs": [],
   "source": [
    "options(repr.plot.width=10, repr.plot.height=2)\n",
    "p <- ggplot(a, aes(x=value))\n",
    "p <- p + geom_histogram(binwidth=0.1*sd(a$value)) \n",
    "p <- p + aes(y=..density..)\n",
    "p <- p + facet_grid(. ~ category)\n",
    "ggsave(filename = 'a-TR03.png', plot = p, width = 10, height = 2)\n",
    "summary(a$value)"
   ]
  },
  {
   "cell_type": "markdown",
   "metadata": {},
   "source": [
    "![a-TR03](a-TR03.png)"
   ]
  },
  {
   "cell_type": "markdown",
   "metadata": {},
   "source": [
    "#### Guessing"
   ]
  },
  {
   "cell_type": "code",
   "execution_count": null,
   "metadata": {
    "collapsed": false
   },
   "outputs": [],
   "source": [
    "options(repr.plot.width=10, repr.plot.height=2)\n",
    "p <- ggplot(g, aes(x=value))\n",
    "p <- p + geom_histogram(binwidth=0.1*sd(g$value)) \n",
    "p <- p + aes(y=..density..)\n",
    "p <- p + facet_grid(. ~ category)\n",
    "ggsave(filename = 'g-TR03.png', plot = p, width = 10, height = 2)\n",
    "summary(g$value)"
   ]
  },
  {
   "cell_type": "markdown",
   "metadata": {},
   "source": [
    "![g-TR03](g-TR03.png)"
   ]
  },
  {
   "cell_type": "markdown",
   "metadata": {},
   "source": [
    "#### Curva Item-Response"
   ]
  },
 {
   "cell_type": "code",
   "execution_count": null,
   "metadata": {
    "collapsed": false
   },
   "outputs": [],
   "source": [
    "data <- data.frame(x=seq(-5,5,.1))\n",
    "options(repr.plot.width=6, repr.plot.height=6)\n",
    "p <- ggplot(data, aes(x=x))\n",
    "p <- p + scale_x_continuous()\n",
    "p <- p + geom_hline(yintercept=0.5, linetype=\"dashed\")\n",
    "for (i in 1:length(d$value)) {\n",
    "  p <- p + geom_line(aes(y=logistic(x, a=d$value[i], b=a$value[i], c=g$value[i])))\n",
    "}\n",
    "p"
    "ggsave(filename = 'l-TR03.png', plot = p, width = 6, height = 6)\n",
   ]
  },
  {
   "cell_type": "markdown",
   "metadata": {},
   "source": [
    "![l-TR03](l-TR03.png)"
   ]
  },


  {
   "cell_type": "markdown",
   "metadata": {},
   "source": [
    "###  2015_Kilo_A3_PL08_Calze\n",
    "\n",
    "![Calze](screenshot/kilo03-calze.png)"
   ]
  },
  {
   "cell_type": "code",
   "execution_count": null,
   "metadata": {
    "collapsed": false
   },
   "outputs": [],
   "source": [
    "q <- 'PL08'\n",
    "d <- quiz_difficulty %>% dplyr::filter(bebras_id == q) %>% select(value, category)\n",
    "a <- quiz_discrimination %>% dplyr::filter(bebras_id == q) %>% select(value, category)\n",
    "g <- quiz_guessing %>% dplyr::filter(bebras_id == q) %>% select(value, category)"
   ]
  },
  {
   "cell_type": "markdown",
   "metadata": {},
   "source": [
    "#### Difficoltà"
   ]
  },
  {
   "cell_type": "code",
   "execution_count": null,
   "metadata": {
    "collapsed": false
   },
   "outputs": [],
   "source": [
    "options(repr.plot.width=10, repr.plot.height=2)\n",
    "p <- ggplot(d, aes(x=value))\n",
    "p <- p + geom_histogram(binwidth=0.1*sd(d$value)) \n",
    "p <- p + aes(y=..density..)\n",
    "p <- p + facet_grid(. ~ category)\n",
    "ggsave(filename = 'd-PL08.png', plot = p, width = 10, height = 2)\n",
    "summary(d$value)"
   ]
  },
  {
   "cell_type": "markdown",
   "metadata": {},
   "source": [
    "![d-PL08](d-PL08.png)"
   ]
  },
  {
   "cell_type": "markdown",
   "metadata": {},
   "source": [
    "#### Differenziazione"
   ]
  },
  {
   "cell_type": "code",
   "execution_count": null,
   "metadata": {
    "collapsed": false
   },
   "outputs": [],
   "source": [
    "options(repr.plot.width=10, repr.plot.height=2)\n",
    "p <- ggplot(a, aes(x=value))\n",
    "p <- p + geom_histogram(binwidth=0.1*sd(a$value)) \n",
    "p <- p + aes(y=..density..)\n",
    "p <- p + facet_grid(. ~ category)\n",
    "ggsave(filename = 'a-PL08.png', plot = p, width = 10, height = 2)\n",
    "summary(a$value)"
   ]
  },
  {
   "cell_type": "markdown",
   "metadata": {},
   "source": [
    "![a-PL08](a-PL08.png)"
   ]
  },
  {
   "cell_type": "markdown",
   "metadata": {},
   "source": [
    "#### Guessing"
   ]
  },
  {
   "cell_type": "code",
   "execution_count": null,
   "metadata": {
    "collapsed": false
   },
   "outputs": [],
   "source": [
    "options(repr.plot.width=10, repr.plot.height=2)\n",
    "p <- ggplot(g, aes(x=value))\n",
    "p <- p + geom_histogram(binwidth=0.1*sd(g$value)) \n",
    "p <- p + aes(y=..density..)\n",
    "p <- p + facet_grid(. ~ category)\n",
    "ggsave(filename = 'g-PL08.png', plot = p, width = 10, height = 2)\n",
    "summary(g$value)"
   ]
  },
  {
   "cell_type": "markdown",
   "metadata": {},
   "source": [
    "![g-PL08](g-PL08.png)"
   ]
  },
  {
   "cell_type": "markdown",
   "metadata": {},
   "source": [
    "#### Curva Item-Response"
   ]
  },
 {
   "cell_type": "code",
   "execution_count": null,
   "metadata": {
    "collapsed": false
   },
   "outputs": [],
   "source": [
    "data <- data.frame(x=seq(-5,5,.1))\n",
    "options(repr.plot.width=6, repr.plot.height=6)\n",
    "p <- ggplot(data, aes(x=x))\n",
    "p <- p + scale_x_continuous()\n",
    "p <- p + geom_hline(yintercept=0.5, linetype=\"dashed\")\n",
    "for (i in 1:length(d$value)) {\n",
    "  p <- p + geom_line(aes(y=logistic(x, a=d$value[i], b=a$value[i], c=g$value[i])))\n",
    "}\n",
    "p"
    "ggsave(filename = 'l-PL08.png', plot = p, width = 6, height = 6)\n",
   ]
  },
  {
   "cell_type": "markdown",
   "metadata": {},
   "source": [
    "![l-PL08](l-PL08.png)"
   ]
  },


  {
   "cell_type": "markdown",
   "metadata": {},
   "source": [
    "###  2015_Kilo_A4_MY01_Braccialetti\n",
    "\n",
    "![Braccialetti](screenshot/kilo04-braccialetti.png)"
   ]
  },
  {
   "cell_type": "code",
   "execution_count": null,
   "metadata": {
    "collapsed": false
   },
   "outputs": [],
   "source": [
    "q <- 'MY01'\n",
    "d <- quiz_difficulty %>% dplyr::filter(bebras_id == q) %>% select(value, category)\n",
    "a <- quiz_discrimination %>% dplyr::filter(bebras_id == q) %>% select(value, category)\n",
    "g <- quiz_guessing %>% dplyr::filter(bebras_id == q) %>% select(value, category)"
   ]
  },
  {
   "cell_type": "markdown",
   "metadata": {},
   "source": [
    "#### Difficoltà"
   ]
  },
  {
   "cell_type": "code",
   "execution_count": null,
   "metadata": {
    "collapsed": false
   },
   "outputs": [],
   "source": [
    "options(repr.plot.width=10, repr.plot.height=2)\n",
    "p <- ggplot(d, aes(x=value))\n",
    "p <- p + geom_histogram(binwidth=0.1*sd(d$value)) \n",
    "p <- p + aes(y=..density..)\n",
    "p <- p + facet_grid(. ~ category)\n",
    "ggsave(filename = 'd-MY01.png', plot = p, width = 10, height = 2)\n",
    "summary(d$value)"
   ]
  },
  {
   "cell_type": "markdown",
   "metadata": {},
   "source": [
    "![d-MY01](d-MY01.png)"
   ]
  },
  {
   "cell_type": "markdown",
   "metadata": {},
   "source": [
    "#### Differenziazione"
   ]
  },
  {
   "cell_type": "code",
   "execution_count": null,
   "metadata": {
    "collapsed": false
   },
   "outputs": [],
   "source": [
    "options(repr.plot.width=10, repr.plot.height=2)\n",
    "p <- ggplot(a, aes(x=value))\n",
    "p <- p + geom_histogram(binwidth=0.1*sd(a$value)) \n",
    "p <- p + aes(y=..density..)\n",
    "p <- p + facet_grid(. ~ category)\n",
    "ggsave(filename = 'a-MY01.png', plot = p, width = 10, height = 2)\n",
    "summary(a$value)"
   ]
  },
  {
   "cell_type": "markdown",
   "metadata": {},
   "source": [
    "![a-MY01](a-MY01.png)"
   ]
  },
  {
   "cell_type": "markdown",
   "metadata": {},
   "source": [
    "#### Guessing"
   ]
  },
  {
   "cell_type": "code",
   "execution_count": null,
   "metadata": {
    "collapsed": false
   },
   "outputs": [],
   "source": [
    "options(repr.plot.width=10, repr.plot.height=2)\n",
    "p <- ggplot(g, aes(x=value))\n",
    "p <- p + geom_histogram(binwidth=0.1*sd(g$value)) \n",
    "p <- p + aes(y=..density..)\n",
    "p <- p + facet_grid(. ~ category)\n",
    "ggsave(filename = 'g-MY01.png', plot = p, width = 10, height = 2)\n",
    "summary(g$value)"
   ]
  },
  {
   "cell_type": "markdown",
   "metadata": {},
   "source": [
    "![g-MY01](g-MY01.png)"
   ]
  },
  {
   "cell_type": "markdown",
   "metadata": {},
   "source": [
    "#### Curva Item-Response"
   ]
  },
 {
   "cell_type": "code",
   "execution_count": null,
   "metadata": {
    "collapsed": false
   },
   "outputs": [],
   "source": [
    "data <- data.frame(x=seq(-5,5,.1))\n",
    "options(repr.plot.width=6, repr.plot.height=6)\n",
    "p <- ggplot(data, aes(x=x))\n",
    "p <- p + scale_x_continuous()\n",
    "p <- p + geom_hline(yintercept=0.5, linetype=\"dashed\")\n",
    "for (i in 1:length(d$value)) {\n",
    "  p <- p + geom_line(aes(y=logistic(x, a=d$value[i], b=a$value[i], c=g$value[i])))\n",
    "}\n",
    "p"
    "ggsave(filename = 'l-MY01.png', plot = p, width = 6, height = 6)\n",
   ]
  },
  {
   "cell_type": "markdown",
   "metadata": {},
   "source": [
    "![l-MY01](l-MY01.png)"
   ]
  },


  {
   "cell_type": "markdown",
   "metadata": {},
   "source": [
    "###  2015_Kilo_A5_SK05_Vestiti\n",
    "\n",
    "![Vestiti](screenshot/kilo05-vestiti.png)"
   ]
  },
  {
   "cell_type": "code",
   "execution_count": null,
   "metadata": {
    "collapsed": false
   },
   "outputs": [],
   "source": [
    "q <- 'SK05'\n",
    "d <- quiz_difficulty %>% dplyr::filter(bebras_id == q) %>% select(value, category)\n",
    "a <- quiz_discrimination %>% dplyr::filter(bebras_id == q) %>% select(value, category)\n",
    "g <- quiz_guessing %>% dplyr::filter(bebras_id == q) %>% select(value, category)"
   ]
  },
  {
   "cell_type": "markdown",
   "metadata": {},
   "source": [
    "#### Difficoltà"
   ]
  },
  {
   "cell_type": "code",
   "execution_count": null,
   "metadata": {
    "collapsed": false
   },
   "outputs": [],
   "source": [
    "options(repr.plot.width=10, repr.plot.height=2)\n",
    "p <- ggplot(d, aes(x=value))\n",
    "p <- p + geom_histogram(binwidth=0.1*sd(d$value)) \n",
    "p <- p + aes(y=..density..)\n",
    "p <- p + facet_grid(. ~ category)\n",
    "ggsave(filename = 'd-SK05.png', plot = p, width = 10, height = 2)\n",
    "summary(d$value)"
   ]
  },
  {
   "cell_type": "markdown",
   "metadata": {},
   "source": [
    "![d-SK05](d-SK05.png)"
   ]
  },
  {
   "cell_type": "markdown",
   "metadata": {},
   "source": [
    "#### Differenziazione"
   ]
  },
  {
   "cell_type": "code",
   "execution_count": null,
   "metadata": {
    "collapsed": false
   },
   "outputs": [],
   "source": [
    "options(repr.plot.width=10, repr.plot.height=2)\n",
    "p <- ggplot(a, aes(x=value))\n",
    "p <- p + geom_histogram(binwidth=0.1*sd(a$value)) \n",
    "p <- p + aes(y=..density..)\n",
    "p <- p + facet_grid(. ~ category)\n",
    "ggsave(filename = 'a-SK05.png', plot = p, width = 10, height = 2)\n",
    "summary(a$value)"
   ]
  },
  {
   "cell_type": "markdown",
   "metadata": {},
   "source": [
    "![a-SK05](a-SK05.png)"
   ]
  },
  {
   "cell_type": "markdown",
   "metadata": {},
   "source": [
    "#### Guessing"
   ]
  },
  {
   "cell_type": "code",
   "execution_count": null,
   "metadata": {
    "collapsed": false
   },
   "outputs": [],
   "source": [
    "options(repr.plot.width=10, repr.plot.height=2)\n",
    "p <- ggplot(g, aes(x=value))\n",
    "p <- p + geom_histogram(binwidth=0.1*sd(g$value)) \n",
    "p <- p + aes(y=..density..)\n",
    "p <- p + facet_grid(. ~ category)\n",
    "ggsave(filename = 'g-SK05.png', plot = p, width = 10, height = 2)\n",
    "summary(g$value)"
   ]
  },
  {
   "cell_type": "markdown",
   "metadata": {},
   "source": [
    "![g-SK05](g-SK05.png)"
   ]
  },
  {
   "cell_type": "markdown",
   "metadata": {},
   "source": [
    "#### Curva Item-Response"
   ]
  },
 {
   "cell_type": "code",
   "execution_count": null,
   "metadata": {
    "collapsed": false
   },
   "outputs": [],
   "source": [
    "data <- data.frame(x=seq(-5,5,.1))\n",
    "options(repr.plot.width=6, repr.plot.height=6)\n",
    "p <- ggplot(data, aes(x=x))\n",
    "p <- p + scale_x_continuous()\n",
    "p <- p + geom_hline(yintercept=0.5, linetype=\"dashed\")\n",
    "for (i in 1:length(d$value)) {\n",
    "  p <- p + geom_line(aes(y=logistic(x, a=d$value[i], b=a$value[i], c=g$value[i])))\n",
    "}\n",
    "p"
    "ggsave(filename = 'l-SK05.png', plot = p, width = 6, height = 6)\n",
   ]
  },
  {
   "cell_type": "markdown",
   "metadata": {},
   "source": [
    "![l-SK05](l-SK05.png)"
   ]
  },


  {
   "cell_type": "markdown",
   "metadata": {},
   "source": [
    "###  2015_Kilo_B1_LT05_Morra\n",
    "\n",
    "![Morra](screenshot/kilo06-morra.png)"
   ]
  },
  {
   "cell_type": "code",
   "execution_count": null,
   "metadata": {
    "collapsed": false
   },
   "outputs": [],
   "source": [
    "q <- 'LT05'\n",
    "d <- quiz_difficulty %>% dplyr::filter(bebras_id == q) %>% select(value, category)\n",
    "a <- quiz_discrimination %>% dplyr::filter(bebras_id == q) %>% select(value, category)\n",
    "g <- quiz_guessing %>% dplyr::filter(bebras_id == q) %>% select(value, category)"
   ]
  },
  {
   "cell_type": "markdown",
   "metadata": {},
   "source": [
    "#### Difficoltà"
   ]
  },
  {
   "cell_type": "code",
   "execution_count": null,
   "metadata": {
    "collapsed": false
   },
   "outputs": [],
   "source": [
    "options(repr.plot.width=10, repr.plot.height=2)\n",
    "p <- ggplot(d, aes(x=value))\n",
    "p <- p + geom_histogram(binwidth=0.1*sd(d$value)) \n",
    "p <- p + aes(y=..density..)\n",
    "p <- p + facet_grid(. ~ category)\n",
    "ggsave(filename = 'd-LT05.png', plot = p, width = 10, height = 2)\n",
    "summary(d$value)"
   ]
  },
  {
   "cell_type": "markdown",
   "metadata": {},
   "source": [
    "![d-LT05](d-LT05.png)"
   ]
  },
  {
   "cell_type": "markdown",
   "metadata": {},
   "source": [
    "#### Differenziazione"
   ]
  },
  {
   "cell_type": "code",
   "execution_count": null,
   "metadata": {
    "collapsed": false
   },
   "outputs": [],
   "source": [
    "options(repr.plot.width=10, repr.plot.height=2)\n",
    "p <- ggplot(a, aes(x=value))\n",
    "p <- p + geom_histogram(binwidth=0.1*sd(a$value)) \n",
    "p <- p + aes(y=..density..)\n",
    "p <- p + facet_grid(. ~ category)\n",
    "ggsave(filename = 'a-LT05.png', plot = p, width = 10, height = 2)\n",
    "summary(a$value)"
   ]
  },
  {
   "cell_type": "markdown",
   "metadata": {},
   "source": [
    "![a-LT05](a-LT05.png)"
   ]
  },
  {
   "cell_type": "markdown",
   "metadata": {},
   "source": [
    "#### Guessing"
   ]
  },
  {
   "cell_type": "code",
   "execution_count": null,
   "metadata": {
    "collapsed": false
   },
   "outputs": [],
   "source": [
    "options(repr.plot.width=10, repr.plot.height=2)\n",
    "p <- ggplot(g, aes(x=value))\n",
    "p <- p + geom_histogram(binwidth=0.1*sd(g$value)) \n",
    "p <- p + aes(y=..density..)\n",
    "p <- p + facet_grid(. ~ category)\n",
    "ggsave(filename = 'g-LT05.png', plot = p, width = 10, height = 2)\n",
    "summary(g$value)"
   ]
  },
  {
   "cell_type": "markdown",
   "metadata": {},
   "source": [
    "![g-LT05](g-LT05.png)"
   ]
  },
  {
   "cell_type": "markdown",
   "metadata": {},
   "source": [
    "#### Curva Item-Response"
   ]
  },
 {
   "cell_type": "code",
   "execution_count": null,
   "metadata": {
    "collapsed": false
   },
   "outputs": [],
   "source": [
    "data <- data.frame(x=seq(-5,5,.1))\n",
    "options(repr.plot.width=6, repr.plot.height=6)\n",
    "p <- ggplot(data, aes(x=x))\n",
    "p <- p + scale_x_continuous()\n",
    "p <- p + geom_hline(yintercept=0.5, linetype=\"dashed\")\n",
    "for (i in 1:length(d$value)) {\n",
    "  p <- p + geom_line(aes(y=logistic(x, a=d$value[i], b=a$value[i], c=g$value[i])))\n",
    "}\n",
    "p"
    "ggsave(filename = 'l-LT05.png', plot = p, width = 6, height = 6)\n",
   ]
  },
  {
   "cell_type": "markdown",
   "metadata": {},
   "source": [
    "![l-LT05](l-LT05.png)"
   ]
  },


  {
   "cell_type": "markdown",
   "metadata": {},
   "source": [
    "###  2015_Kilo_B2_JP04_Gru\n",
    "\n",
    "![Gru](screenshot/kilo07-gru.png)"
   ]
  },
  {
   "cell_type": "code",
   "execution_count": null,
   "metadata": {
    "collapsed": false
   },
   "outputs": [],
   "source": [
    "q <- 'JP04'\n",
    "d <- quiz_difficulty %>% dplyr::filter(bebras_id == q) %>% select(value, category)\n",
    "a <- quiz_discrimination %>% dplyr::filter(bebras_id == q) %>% select(value, category)\n",
    "g <- quiz_guessing %>% dplyr::filter(bebras_id == q) %>% select(value, category)"
   ]
  },
  {
   "cell_type": "markdown",
   "metadata": {},
   "source": [
    "#### Difficoltà"
   ]
  },
  {
   "cell_type": "code",
   "execution_count": null,
   "metadata": {
    "collapsed": false
   },
   "outputs": [],
   "source": [
    "options(repr.plot.width=10, repr.plot.height=2)\n",
    "p <- ggplot(d, aes(x=value))\n",
    "p <- p + geom_histogram(binwidth=0.1*sd(d$value)) \n",
    "p <- p + aes(y=..density..)\n",
    "p <- p + facet_grid(. ~ category)\n",
    "ggsave(filename = 'd-JP04.png', plot = p, width = 10, height = 2)\n",
    "summary(d$value)"
   ]
  },
  {
   "cell_type": "markdown",
   "metadata": {},
   "source": [
    "![d-JP04](d-JP04.png)"
   ]
  },
  {
   "cell_type": "markdown",
   "metadata": {},
   "source": [
    "#### Differenziazione"
   ]
  },
  {
   "cell_type": "code",
   "execution_count": null,
   "metadata": {
    "collapsed": false
   },
   "outputs": [],
   "source": [
    "options(repr.plot.width=10, repr.plot.height=2)\n",
    "p <- ggplot(a, aes(x=value))\n",
    "p <- p + geom_histogram(binwidth=0.1*sd(a$value)) \n",
    "p <- p + aes(y=..density..)\n",
    "p <- p + facet_grid(. ~ category)\n",
    "ggsave(filename = 'a-JP04.png', plot = p, width = 10, height = 2)\n",
    "summary(a$value)"
   ]
  },
  {
   "cell_type": "markdown",
   "metadata": {},
   "source": [
    "![a-JP04](a-JP04.png)"
   ]
  },
  {
   "cell_type": "markdown",
   "metadata": {},
   "source": [
    "#### Guessing"
   ]
  },
  {
   "cell_type": "code",
   "execution_count": null,
   "metadata": {
    "collapsed": false
   },
   "outputs": [],
   "source": [
    "options(repr.plot.width=10, repr.plot.height=2)\n",
    "p <- ggplot(g, aes(x=value))\n",
    "p <- p + geom_histogram(binwidth=0.1*sd(g$value)) \n",
    "p <- p + aes(y=..density..)\n",
    "p <- p + facet_grid(. ~ category)\n",
    "ggsave(filename = 'g-JP04.png', plot = p, width = 10, height = 2)\n",
    "summary(g$value)"
   ]
  },
  {
   "cell_type": "markdown",
   "metadata": {},
   "source": [
    "![g-JP04](g-JP04.png)"
   ]
  },
  {
   "cell_type": "markdown",
   "metadata": {},
   "source": [
    "#### Curva Item-Response"
   ]
  },
 {
   "cell_type": "code",
   "execution_count": null,
   "metadata": {
    "collapsed": false
   },
   "outputs": [],
   "source": [
    "data <- data.frame(x=seq(-5,5,.1))\n",
    "options(repr.plot.width=6, repr.plot.height=6)\n",
    "p <- ggplot(data, aes(x=x))\n",
    "p <- p + scale_x_continuous()\n",
    "p <- p + geom_hline(yintercept=0.5, linetype=\"dashed\")\n",
    "for (i in 1:length(d$value)) {\n",
    "  p <- p + geom_line(aes(y=logistic(x, a=d$value[i], b=a$value[i], c=g$value[i])))\n",
    "}\n",
    "p"
    "ggsave(filename = 'l-JP04.png', plot = p, width = 6, height = 6)\n",
   ]
  },
  {
   "cell_type": "markdown",
   "metadata": {},
   "source": [
    "![l-JP04](l-JP04.png)"
   ]
  },


  {
   "cell_type": "markdown",
   "metadata": {},
   "source": [
    "###  2015_Kilo_B3_TR08_Occhiali\n",
    "\n",
    "![Occhiali](screenshot/kilo08-occhiali.png)"
   ]
  },
  {
   "cell_type": "code",
   "execution_count": null,
   "metadata": {
    "collapsed": false
   },
   "outputs": [],
   "source": [
    "q <- 'TR08'\n",
    "d <- quiz_difficulty %>% dplyr::filter(bebras_id == q) %>% select(value, category)\n",
    "a <- quiz_discrimination %>% dplyr::filter(bebras_id == q) %>% select(value, category)\n",
    "g <- quiz_guessing %>% dplyr::filter(bebras_id == q) %>% select(value, category)"
   ]
  },
  {
   "cell_type": "markdown",
   "metadata": {},
   "source": [
    "#### Difficoltà"
   ]
  },
  {
   "cell_type": "code",
   "execution_count": null,
   "metadata": {
    "collapsed": false
   },
   "outputs": [],
   "source": [
    "options(repr.plot.width=10, repr.plot.height=2)\n",
    "p <- ggplot(d, aes(x=value))\n",
    "p <- p + geom_histogram(binwidth=0.1*sd(d$value)) \n",
    "p <- p + aes(y=..density..)\n",
    "p <- p + facet_grid(. ~ category)\n",
    "ggsave(filename = 'd-TR08.png', plot = p, width = 10, height = 2)\n",
    "summary(d$value)"
   ]
  },
  {
   "cell_type": "markdown",
   "metadata": {},
   "source": [
    "![d-TR08](d-TR08.png)"
   ]
  },
  {
   "cell_type": "markdown",
   "metadata": {},
   "source": [
    "#### Differenziazione"
   ]
  },
  {
   "cell_type": "code",
   "execution_count": null,
   "metadata": {
    "collapsed": false
   },
   "outputs": [],
   "source": [
    "options(repr.plot.width=10, repr.plot.height=2)\n",
    "p <- ggplot(a, aes(x=value))\n",
    "p <- p + geom_histogram(binwidth=0.1*sd(a$value)) \n",
    "p <- p + aes(y=..density..)\n",
    "p <- p + facet_grid(. ~ category)\n",
    "ggsave(filename = 'a-TR08.png', plot = p, width = 10, height = 2)\n",
    "summary(a$value)"
   ]
  },
  {
   "cell_type": "markdown",
   "metadata": {},
   "source": [
    "![a-TR08](a-TR08.png)"
   ]
  },
  {
   "cell_type": "markdown",
   "metadata": {},
   "source": [
    "#### Guessing"
   ]
  },
  {
   "cell_type": "code",
   "execution_count": null,
   "metadata": {
    "collapsed": false
   },
   "outputs": [],
   "source": [
    "options(repr.plot.width=10, repr.plot.height=2)\n",
    "p <- ggplot(g, aes(x=value))\n",
    "p <- p + geom_histogram(binwidth=0.1*sd(g$value)) \n",
    "p <- p + aes(y=..density..)\n",
    "p <- p + facet_grid(. ~ category)\n",
    "ggsave(filename = 'g-TR08.png', plot = p, width = 10, height = 2)\n",
    "summary(g$value)"
   ]
  },
  {
   "cell_type": "markdown",
   "metadata": {},
   "source": [
    "![g-TR08](g-TR08.png)"
   ]
  },
  {
   "cell_type": "markdown",
   "metadata": {},
   "source": [
    "#### Curva Item-Response"
   ]
  },
 {
   "cell_type": "code",
   "execution_count": null,
   "metadata": {
    "collapsed": false
   },
   "outputs": [],
   "source": [
    "data <- data.frame(x=seq(-5,5,.1))\n",
    "options(repr.plot.width=6, repr.plot.height=6)\n",
    "p <- ggplot(data, aes(x=x))\n",
    "p <- p + scale_x_continuous()\n",
    "p <- p + geom_hline(yintercept=0.5, linetype=\"dashed\")\n",
    "for (i in 1:length(d$value)) {\n",
    "  p <- p + geom_line(aes(y=logistic(x, a=d$value[i], b=a$value[i], c=g$value[i])))\n",
    "}\n",
    "p"
    "ggsave(filename = 'l-TR08.png', plot = p, width = 6, height = 6)\n",
   ]
  },
  {
   "cell_type": "markdown",
   "metadata": {},
   "source": [
    "![l-TR08](l-TR08.png)"
   ]
  },


  {
   "cell_type": "markdown",
   "metadata": {},
   "source": [
    "###  2015_Kilo_B4_AT03_Irrigazione\n",
    "\n",
    "![Irrigazione](screenshot/kilo09-irrigazione.png)"
   ]
  },
  {
   "cell_type": "code",
   "execution_count": null,
   "metadata": {
    "collapsed": false
   },
   "outputs": [],
   "source": [
    "q <- 'AT03'\n",
    "d <- quiz_difficulty %>% dplyr::filter(bebras_id == q) %>% select(value, category)\n",
    "a <- quiz_discrimination %>% dplyr::filter(bebras_id == q) %>% select(value, category)\n",
    "g <- quiz_guessing %>% dplyr::filter(bebras_id == q) %>% select(value, category)"
   ]
  },
  {
   "cell_type": "markdown",
   "metadata": {},
   "source": [
    "#### Difficoltà"
   ]
  },
  {
   "cell_type": "code",
   "execution_count": null,
   "metadata": {
    "collapsed": false
   },
   "outputs": [],
   "source": [
    "options(repr.plot.width=10, repr.plot.height=2)\n",
    "p <- ggplot(d, aes(x=value))\n",
    "p <- p + geom_histogram(binwidth=0.1*sd(d$value)) \n",
    "p <- p + aes(y=..density..)\n",
    "p <- p + facet_grid(. ~ category)\n",
    "ggsave(filename = 'd-AT03.png', plot = p, width = 10, height = 2)\n",
    "summary(d$value)"
   ]
  },
  {
   "cell_type": "markdown",
   "metadata": {},
   "source": [
    "![d-AT03](d-AT03.png)"
   ]
  },
  {
   "cell_type": "markdown",
   "metadata": {},
   "source": [
    "#### Differenziazione"
   ]
  },
  {
   "cell_type": "code",
   "execution_count": null,
   "metadata": {
    "collapsed": false
   },
   "outputs": [],
   "source": [
    "options(repr.plot.width=10, repr.plot.height=2)\n",
    "p <- ggplot(a, aes(x=value))\n",
    "p <- p + geom_histogram(binwidth=0.1*sd(a$value)) \n",
    "p <- p + aes(y=..density..)\n",
    "p <- p + facet_grid(. ~ category)\n",
    "ggsave(filename = 'a-AT03.png', plot = p, width = 10, height = 2)\n",
    "summary(a$value)"
   ]
  },
  {
   "cell_type": "markdown",
   "metadata": {},
   "source": [
    "![a-AT03](a-AT03.png)"
   ]
  },
  {
   "cell_type": "markdown",
   "metadata": {},
   "source": [
    "#### Guessing"
   ]
  },
  {
   "cell_type": "code",
   "execution_count": null,
   "metadata": {
    "collapsed": false
   },
   "outputs": [],
   "source": [
    "options(repr.plot.width=10, repr.plot.height=2)\n",
    "p <- ggplot(g, aes(x=value))\n",
    "p <- p + geom_histogram(binwidth=0.1*sd(g$value)) \n",
    "p <- p + aes(y=..density..)\n",
    "p <- p + facet_grid(. ~ category)\n",
    "ggsave(filename = 'g-AT03.png', plot = p, width = 10, height = 2)\n",
    "summary(g$value)"
   ]
  },
  {
   "cell_type": "markdown",
   "metadata": {},
   "source": [
    "![g-AT03](g-AT03.png)"
   ]
  },
  {
   "cell_type": "markdown",
   "metadata": {},
   "source": [
    "#### Curva Item-Response"
   ]
  },
 {
   "cell_type": "code",
   "execution_count": null,
   "metadata": {
    "collapsed": false
   },
   "outputs": [],
   "source": [
    "data <- data.frame(x=seq(-5,5,.1))\n",
    "options(repr.plot.width=6, repr.plot.height=6)\n",
    "p <- ggplot(data, aes(x=x))\n",
    "p <- p + scale_x_continuous()\n",
    "p <- p + geom_hline(yintercept=0.5, linetype=\"dashed\")\n",
    "for (i in 1:length(d$value)) {\n",
    "  p <- p + geom_line(aes(y=logistic(x, a=d$value[i], b=a$value[i], c=g$value[i])))\n",
    "}\n",
    "p"
    "ggsave(filename = 'l-AT03.png', plot = p, width = 6, height = 6)\n",
   ]
  },
  {
   "cell_type": "markdown",
   "metadata": {},
   "source": [
    "![l-AT03](l-AT03.png)"
   ]
  },


  {
   "cell_type": "markdown",
   "metadata": {},
   "source": [
    "###  2015_Kilo_B5_JP01_Attrezzi\n",
    "\n",
    "![Attrezzi](screenshot/kilo10-attrezzi.png)"
   ]
  },
  {
   "cell_type": "code",
   "execution_count": null,
   "metadata": {
    "collapsed": false
   },
   "outputs": [],
   "source": [
    "q <- 'JP01'\n",
    "d <- quiz_difficulty %>% dplyr::filter(bebras_id == q) %>% select(value, category)\n",
    "a <- quiz_discrimination %>% dplyr::filter(bebras_id == q) %>% select(value, category)\n",
    "g <- quiz_guessing %>% dplyr::filter(bebras_id == q) %>% select(value, category)"
   ]
  },
  {
   "cell_type": "markdown",
   "metadata": {},
   "source": [
    "#### Difficoltà"
   ]
  },
  {
   "cell_type": "code",
   "execution_count": null,
   "metadata": {
    "collapsed": false
   },
   "outputs": [],
   "source": [
    "options(repr.plot.width=10, repr.plot.height=2)\n",
    "p <- ggplot(d, aes(x=value))\n",
    "p <- p + geom_histogram(binwidth=0.1*sd(d$value)) \n",
    "p <- p + aes(y=..density..)\n",
    "p <- p + facet_grid(. ~ category)\n",
    "ggsave(filename = 'd-JP01.png', plot = p, width = 10, height = 2)\n",
    "summary(d$value)"
   ]
  },
  {
   "cell_type": "markdown",
   "metadata": {},
   "source": [
    "![d-JP01](d-JP01.png)"
   ]
  },
  {
   "cell_type": "markdown",
   "metadata": {},
   "source": [
    "#### Differenziazione"
   ]
  },
  {
   "cell_type": "code",
   "execution_count": null,
   "metadata": {
    "collapsed": false
   },
   "outputs": [],
   "source": [
    "options(repr.plot.width=10, repr.plot.height=2)\n",
    "p <- ggplot(a, aes(x=value))\n",
    "p <- p + geom_histogram(binwidth=0.1*sd(a$value)) \n",
    "p <- p + aes(y=..density..)\n",
    "p <- p + facet_grid(. ~ category)\n",
    "ggsave(filename = 'a-JP01.png', plot = p, width = 10, height = 2)\n",
    "summary(a$value)"
   ]
  },
  {
   "cell_type": "markdown",
   "metadata": {},
   "source": [
    "![a-JP01](a-JP01.png)"
   ]
  },
  {
   "cell_type": "markdown",
   "metadata": {},
   "source": [
    "#### Guessing"
   ]
  },
  {
   "cell_type": "code",
   "execution_count": null,
   "metadata": {
    "collapsed": false
   },
   "outputs": [],
   "source": [
    "options(repr.plot.width=10, repr.plot.height=2)\n",
    "p <- ggplot(g, aes(x=value))\n",
    "p <- p + geom_histogram(binwidth=0.1*sd(g$value)) \n",
    "p <- p + aes(y=..density..)\n",
    "p <- p + facet_grid(. ~ category)\n",
    "ggsave(filename = 'g-JP01.png', plot = p, width = 10, height = 2)\n",
    "summary(g$value)"
   ]
  },
  {
   "cell_type": "markdown",
   "metadata": {},
   "source": [
    "![g-JP01](g-JP01.png)"
   ]
  },
  {
   "cell_type": "markdown",
   "metadata": {},
   "source": [
    "#### Curva Item-Response"
   ]
  },
 {
   "cell_type": "code",
   "execution_count": null,
   "metadata": {
    "collapsed": false
   },
   "outputs": [],
   "source": [
    "data <- data.frame(x=seq(-5,5,.1))\n",
    "options(repr.plot.width=6, repr.plot.height=6)\n",
    "p <- ggplot(data, aes(x=x))\n",
    "p <- p + scale_x_continuous()\n",
    "p <- p + geom_hline(yintercept=0.5, linetype=\"dashed\")\n",
    "for (i in 1:length(d$value)) {\n",
    "  p <- p + geom_line(aes(y=logistic(x, a=d$value[i], b=a$value[i], c=g$value[i])))\n",
    "}\n",
    "p"
    "ggsave(filename = 'l-JP01.png', plot = p, width = 6, height = 6)\n",
   ]
  },
  {
   "cell_type": "markdown",
   "metadata": {},
   "source": [
    "![l-JP01](l-JP01.png)"
   ]
  },


  {
   "cell_type": "markdown",
   "metadata": {},
   "source": [
    "###  2015_Kilo_C1_CZ03_Trasporto\n",
    "\n",
    "![Trasporto](screenshot/kilo11-trasporto.png)"
   ]
  },
  {
   "cell_type": "code",
   "execution_count": null,
   "metadata": {
    "collapsed": false
   },
   "outputs": [],
   "source": [
    "q <- 'CZ03'\n",
    "d <- quiz_difficulty %>% dplyr::filter(bebras_id == q) %>% select(value, category)\n",
    "a <- quiz_discrimination %>% dplyr::filter(bebras_id == q) %>% select(value, category)\n",
    "g <- quiz_guessing %>% dplyr::filter(bebras_id == q) %>% select(value, category)"
   ]
  },
  {
   "cell_type": "markdown",
   "metadata": {},
   "source": [
    "#### Difficoltà"
   ]
  },
  {
   "cell_type": "code",
   "execution_count": null,
   "metadata": {
    "collapsed": false
   },
   "outputs": [],
   "source": [
    "options(repr.plot.width=10, repr.plot.height=2)\n",
    "p <- ggplot(d, aes(x=value))\n",
    "p <- p + geom_histogram(binwidth=0.1*sd(d$value)) \n",
    "p <- p + aes(y=..density..)\n",
    "p <- p + facet_grid(. ~ category)\n",
    "ggsave(filename = 'd-CZ03.png', plot = p, width = 10, height = 2)\n",
    "summary(d$value)"
   ]
  },
  {
   "cell_type": "markdown",
   "metadata": {},
   "source": [
    "![d-CZ03](d-CZ03.png)"
   ]
  },
  {
   "cell_type": "markdown",
   "metadata": {},
   "source": [
    "#### Differenziazione"
   ]
  },
  {
   "cell_type": "code",
   "execution_count": null,
   "metadata": {
    "collapsed": false
   },
   "outputs": [],
   "source": [
    "options(repr.plot.width=10, repr.plot.height=2)\n",
    "p <- ggplot(a, aes(x=value))\n",
    "p <- p + geom_histogram(binwidth=0.1*sd(a$value)) \n",
    "p <- p + aes(y=..density..)\n",
    "p <- p + facet_grid(. ~ category)\n",
    "ggsave(filename = 'a-CZ03.png', plot = p, width = 10, height = 2)\n",
    "summary(a$value)"
   ]
  },
  {
   "cell_type": "markdown",
   "metadata": {},
   "source": [
    "![a-CZ03](a-CZ03.png)"
   ]
  },
  {
   "cell_type": "markdown",
   "metadata": {},
   "source": [
    "#### Guessing"
   ]
  },
  {
   "cell_type": "code",
   "execution_count": null,
   "metadata": {
    "collapsed": false
   },
   "outputs": [],
   "source": [
    "options(repr.plot.width=10, repr.plot.height=2)\n",
    "p <- ggplot(g, aes(x=value))\n",
    "p <- p + geom_histogram(binwidth=0.1*sd(g$value)) \n",
    "p <- p + aes(y=..density..)\n",
    "p <- p + facet_grid(. ~ category)\n",
    "ggsave(filename = 'g-CZ03.png', plot = p, width = 10, height = 2)\n",
    "summary(g$value)"
   ]
  },
  {
   "cell_type": "markdown",
   "metadata": {},
   "source": [
    "![g-CZ03](g-CZ03.png)"
   ]
  },
  {
   "cell_type": "markdown",
   "metadata": {},
   "source": [
    "#### Curva Item-Response"
   ]
  },
 {
   "cell_type": "code",
   "execution_count": null,
   "metadata": {
    "collapsed": false
   },
   "outputs": [],
   "source": [
    "data <- data.frame(x=seq(-5,5,.1))\n",
    "options(repr.plot.width=6, repr.plot.height=6)\n",
    "p <- ggplot(data, aes(x=x))\n",
    "p <- p + scale_x_continuous()\n",
    "p <- p + geom_hline(yintercept=0.5, linetype=\"dashed\")\n",
    "for (i in 1:length(d$value)) {\n",
    "  p <- p + geom_line(aes(y=logistic(x, a=d$value[i], b=a$value[i], c=g$value[i])))\n",
    "}\n",
    "p"
    "ggsave(filename = 'l-CZ03.png', plot = p, width = 6, height = 6)\n",
   ]
  },
  {
   "cell_type": "markdown",
   "metadata": {},
   "source": [
    "![l-CZ03](l-CZ03.png)"
   ]
  },


  {
   "cell_type": "markdown",
   "metadata": {},
   "source": [
    "###  2015_Kilo_C2_SE01_Stelle\n",
    "\n",
    "![Stelle](screenshot/kilo12-disegnare.png)"
   ]
  },
  {
   "cell_type": "code",
   "execution_count": null,
   "metadata": {
    "collapsed": false
   },
   "outputs": [],
   "source": [
    "q <- 'SE01'\n",
    "d <- quiz_difficulty %>% dplyr::filter(bebras_id == q) %>% select(value, category)\n",
    "a <- quiz_discrimination %>% dplyr::filter(bebras_id == q) %>% select(value, category)\n",
    "g <- quiz_guessing %>% dplyr::filter(bebras_id == q) %>% select(value, category)"
   ]
  },
  {
   "cell_type": "markdown",
   "metadata": {},
   "source": [
    "#### Difficoltà"
   ]
  },
  {
   "cell_type": "code",
   "execution_count": null,
   "metadata": {
    "collapsed": false
   },
   "outputs": [],
   "source": [
    "options(repr.plot.width=10, repr.plot.height=2)\n",
    "p <- ggplot(d, aes(x=value))\n",
    "p <- p + geom_histogram(binwidth=0.1*sd(d$value)) \n",
    "p <- p + aes(y=..density..)\n",
    "p <- p + facet_grid(. ~ category)\n",
    "ggsave(filename = 'd-SE01.png', plot = p, width = 10, height = 2)\n",
    "summary(d$value)"
   ]
  },
  {
   "cell_type": "markdown",
   "metadata": {},
   "source": [
    "![d-SE01](d-SE01.png)"
   ]
  },
  {
   "cell_type": "markdown",
   "metadata": {},
   "source": [
    "#### Differenziazione"
   ]
  },
  {
   "cell_type": "code",
   "execution_count": null,
   "metadata": {
    "collapsed": false
   },
   "outputs": [],
   "source": [
    "options(repr.plot.width=10, repr.plot.height=2)\n",
    "p <- ggplot(a, aes(x=value))\n",
    "p <- p + geom_histogram(binwidth=0.1*sd(a$value)) \n",
    "p <- p + aes(y=..density..)\n",
    "p <- p + facet_grid(. ~ category)\n",
    "ggsave(filename = 'a-SE01.png', plot = p, width = 10, height = 2)\n",
    "summary(a$value)"
   ]
  },
  {
   "cell_type": "markdown",
   "metadata": {},
   "source": [
    "![a-SE01](a-SE01.png)"
   ]
  },
  {
   "cell_type": "markdown",
   "metadata": {},
   "source": [
    "#### Guessing"
   ]
  },
  {
   "cell_type": "code",
   "execution_count": null,
   "metadata": {
    "collapsed": false
   },
   "outputs": [],
   "source": [
    "options(repr.plot.width=10, repr.plot.height=2)\n",
    "p <- ggplot(g, aes(x=value))\n",
    "p <- p + geom_histogram(binwidth=0.1*sd(g$value)) \n",
    "p <- p + aes(y=..density..)\n",
    "p <- p + facet_grid(. ~ category)\n",
    "ggsave(filename = 'g-SE01.png', plot = p, width = 10, height = 2)\n",
    "summary(g$value)"
   ]
  },
  {
   "cell_type": "markdown",
   "metadata": {},
   "source": [
    "![g-SE01](g-SE01.png)"
   ]
  },
  {
   "cell_type": "markdown",
   "metadata": {},
   "source": [
    "#### Curva Item-Response"
   ]
  },
 {
   "cell_type": "code",
   "execution_count": null,
   "metadata": {
    "collapsed": false
   },
   "outputs": [],
   "source": [
    "data <- data.frame(x=seq(-5,5,.1))\n",
    "options(repr.plot.width=6, repr.plot.height=6)\n",
    "p <- ggplot(data, aes(x=x))\n",
    "p <- p + scale_x_continuous()\n",
    "p <- p + geom_hline(yintercept=0.5, linetype=\"dashed\")\n",
    "for (i in 1:length(d$value)) {\n",
    "  p <- p + geom_line(aes(y=logistic(x, a=d$value[i], b=a$value[i], c=g$value[i])))\n",
    "}\n",
    "p"
    "ggsave(filename = 'l-SE01.png', plot = p, width = 6, height = 6)\n",
   ]
  },
  {
   "cell_type": "markdown",
   "metadata": {},
   "source": [
    "![l-SE01](l-SE01.png)"
   ]
  },


  {
   "cell_type": "markdown",
   "metadata": {},
   "source": [
    "###  2015_Kilo_C3_CZ07_Drone\n",
    "\n",
    "![Drone](screenshot/kilo13-drone.png)"
   ]
  },
  {
   "cell_type": "code",
   "execution_count": null,
   "metadata": {
    "collapsed": false
   },
   "outputs": [],
   "source": [
    "q <- 'CZ07'\n",
    "d <- quiz_difficulty %>% dplyr::filter(bebras_id == q) %>% select(value, category)\n",
    "a <- quiz_discrimination %>% dplyr::filter(bebras_id == q) %>% select(value, category)\n",
    "g <- quiz_guessing %>% dplyr::filter(bebras_id == q) %>% select(value, category)"
   ]
  },
  {
   "cell_type": "markdown",
   "metadata": {},
   "source": [
    "#### Difficoltà"
   ]
  },
  {
   "cell_type": "code",
   "execution_count": null,
   "metadata": {
    "collapsed": false
   },
   "outputs": [],
   "source": [
    "options(repr.plot.width=10, repr.plot.height=2)\n",
    "p <- ggplot(d, aes(x=value))\n",
    "p <- p + geom_histogram(binwidth=0.1*sd(d$value)) \n",
    "p <- p + aes(y=..density..)\n",
    "p <- p + facet_grid(. ~ category)\n",
    "ggsave(filename = 'd-CZ07.png', plot = p, width = 10, height = 2)\n",
    "summary(d$value)"
   ]
  },
  {
   "cell_type": "markdown",
   "metadata": {},
   "source": [
    "![d-CZ07](d-CZ07.png)"
   ]
  },
  {
   "cell_type": "markdown",
   "metadata": {},
   "source": [
    "#### Differenziazione"
   ]
  },
  {
   "cell_type": "code",
   "execution_count": null,
   "metadata": {
    "collapsed": false
   },
   "outputs": [],
   "source": [
    "options(repr.plot.width=10, repr.plot.height=2)\n",
    "p <- ggplot(a, aes(x=value))\n",
    "p <- p + geom_histogram(binwidth=0.1*sd(a$value)) \n",
    "p <- p + aes(y=..density..)\n",
    "p <- p + facet_grid(. ~ category)\n",
    "ggsave(filename = 'a-CZ07.png', plot = p, width = 10, height = 2)\n",
    "summary(a$value)"
   ]
  },
  {
   "cell_type": "markdown",
   "metadata": {},
   "source": [
    "![a-CZ07](a-CZ07.png)"
   ]
  },
  {
   "cell_type": "markdown",
   "metadata": {},
   "source": [
    "#### Guessing"
   ]
  },
  {
   "cell_type": "code",
   "execution_count": null,
   "metadata": {
    "collapsed": false
   },
   "outputs": [],
   "source": [
    "options(repr.plot.width=10, repr.plot.height=2)\n",
    "p <- ggplot(g, aes(x=value))\n",
    "p <- p + geom_histogram(binwidth=0.1*sd(g$value)) \n",
    "p <- p + aes(y=..density..)\n",
    "p <- p + facet_grid(. ~ category)\n",
    "ggsave(filename = 'g-CZ07.png', plot = p, width = 10, height = 2)\n",
    "summary(g$value)"
   ]
  },
  {
   "cell_type": "markdown",
   "metadata": {},
   "source": [
    "![g-CZ07](g-CZ07.png)"
   ]
  },
  {
   "cell_type": "markdown",
   "metadata": {},
   "source": [
    "#### Curva Item-Response"
   ]
  },
 {
   "cell_type": "code",
   "execution_count": null,
   "metadata": {
    "collapsed": false
   },
   "outputs": [],
   "source": [
    "data <- data.frame(x=seq(-5,5,.1))\n",
    "options(repr.plot.width=6, repr.plot.height=6)\n",
    "p <- ggplot(data, aes(x=x))\n",
    "p <- p + scale_x_continuous()\n",
    "p <- p + geom_hline(yintercept=0.5, linetype=\"dashed\")\n",
    "for (i in 1:length(d$value)) {\n",
    "  p <- p + geom_line(aes(y=logistic(x, a=d$value[i], b=a$value[i], c=g$value[i])))\n",
    "}\n",
    "p"
    "ggsave(filename = 'l-CZ07.png', plot = p, width = 6, height = 6)\n",
   ]
  },
  {
   "cell_type": "markdown",
   "metadata": {},
   "source": [
    "![l-CZ07](l-CZ07.png)"
   ]
  },


  {
   "cell_type": "markdown",
   "metadata": {},
   "source": [
    "###  2015_Kilo_C4_CZ01_Noccioline\n",
    "\n",
    "![Noccioline](screenshot/kilo14-noci.png)"
   ]
  },
  {
   "cell_type": "code",
   "execution_count": null,
   "metadata": {
    "collapsed": false
   },
   "outputs": [],
   "source": [
    "q <- 'CZ01'\n",
    "d <- quiz_difficulty %>% dplyr::filter(bebras_id == q) %>% select(value, category)\n",
    "a <- quiz_discrimination %>% dplyr::filter(bebras_id == q) %>% select(value, category)\n",
    "g <- quiz_guessing %>% dplyr::filter(bebras_id == q) %>% select(value, category)"
   ]
  },
  {
   "cell_type": "markdown",
   "metadata": {},
   "source": [
    "#### Difficoltà"
   ]
  },
  {
   "cell_type": "code",
   "execution_count": null,
   "metadata": {
    "collapsed": false
   },
   "outputs": [],
   "source": [
    "options(repr.plot.width=10, repr.plot.height=2)\n",
    "p <- ggplot(d, aes(x=value))\n",
    "p <- p + geom_histogram(binwidth=0.1*sd(d$value)) \n",
    "p <- p + aes(y=..density..)\n",
    "p <- p + facet_grid(. ~ category)\n",
    "ggsave(filename = 'd-CZ01.png', plot = p, width = 10, height = 2)\n",
    "summary(d$value)"
   ]
  },
  {
   "cell_type": "markdown",
   "metadata": {},
   "source": [
    "![d-CZ01](d-CZ01.png)"
   ]
  },
  {
   "cell_type": "markdown",
   "metadata": {},
   "source": [
    "#### Differenziazione"
   ]
  },
  {
   "cell_type": "code",
   "execution_count": null,
   "metadata": {
    "collapsed": false
   },
   "outputs": [],
   "source": [
    "options(repr.plot.width=10, repr.plot.height=2)\n",
    "p <- ggplot(a, aes(x=value))\n",
    "p <- p + geom_histogram(binwidth=0.1*sd(a$value)) \n",
    "p <- p + aes(y=..density..)\n",
    "p <- p + facet_grid(. ~ category)\n",
    "ggsave(filename = 'a-CZ01.png', plot = p, width = 10, height = 2)\n",
    "summary(a$value)"
   ]
  },
  {
   "cell_type": "markdown",
   "metadata": {},
   "source": [
    "![a-CZ01](a-CZ01.png)"
   ]
  },
  {
   "cell_type": "markdown",
   "metadata": {},
   "source": [
    "#### Guessing"
   ]
  },
  {
   "cell_type": "code",
   "execution_count": null,
   "metadata": {
    "collapsed": false
   },
   "outputs": [],
   "source": [
    "options(repr.plot.width=10, repr.plot.height=2)\n",
    "p <- ggplot(g, aes(x=value))\n",
    "p <- p + geom_histogram(binwidth=0.1*sd(g$value)) \n",
    "p <- p + aes(y=..density..)\n",
    "p <- p + facet_grid(. ~ category)\n",
    "ggsave(filename = 'g-CZ01.png', plot = p, width = 10, height = 2)\n",
    "summary(g$value)"
   ]
  },
  {
   "cell_type": "markdown",
   "metadata": {},
   "source": [
    "![g-CZ01](g-CZ01.png)"
   ]
  },
  {
   "cell_type": "markdown",
   "metadata": {},
   "source": [
    "#### Curva Item-Response"
   ]
  },
 {
   "cell_type": "code",
   "execution_count": null,
   "metadata": {
    "collapsed": false
   },
   "outputs": [],
   "source": [
    "data <- data.frame(x=seq(-5,5,.1))\n",
    "options(repr.plot.width=6, repr.plot.height=6)\n",
    "p <- ggplot(data, aes(x=x))\n",
    "p <- p + scale_x_continuous()\n",
    "p <- p + geom_hline(yintercept=0.5, linetype=\"dashed\")\n",
    "for (i in 1:length(d$value)) {\n",
    "  p <- p + geom_line(aes(y=logistic(x, a=d$value[i], b=a$value[i], c=g$value[i])))\n",
    "}\n",
    "p"
    "ggsave(filename = 'l-CZ01.png', plot = p, width = 6, height = 6)\n",
   ]
  },
  {
   "cell_type": "markdown",
   "metadata": {},
   "source": [
    "![l-CZ01](l-CZ01.png)"
   ]
  },


  {
   "cell_type": "markdown",
   "metadata": {},
   "source": [
    "###  2015_Kilo_C5_AT07_Elenco\n",
    "\n",
    "![Elenco](screenshot/kilo15-elenco.png)"
   ]
  },
  {
   "cell_type": "code",
   "execution_count": null,
   "metadata": {
    "collapsed": false
   },
   "outputs": [],
   "source": [
    "q <- 'AT07'\n",
    "d <- quiz_difficulty %>% dplyr::filter(bebras_id == q) %>% select(value, category)\n",
    "a <- quiz_discrimination %>% dplyr::filter(bebras_id == q) %>% select(value, category)\n",
    "g <- quiz_guessing %>% dplyr::filter(bebras_id == q) %>% select(value, category)"
   ]
  },
  {
   "cell_type": "markdown",
   "metadata": {},
   "source": [
    "#### Difficoltà"
   ]
  },
  {
   "cell_type": "code",
   "execution_count": null,
   "metadata": {
    "collapsed": false
   },
   "outputs": [],
   "source": [
    "options(repr.plot.width=10, repr.plot.height=2)\n",
    "p <- ggplot(d, aes(x=value))\n",
    "p <- p + geom_histogram(binwidth=0.1*sd(d$value)) \n",
    "p <- p + aes(y=..density..)\n",
    "p <- p + facet_grid(. ~ category)\n",
    "ggsave(filename = 'd-AT07.png', plot = p, width = 10, height = 2)\n",
    "summary(d$value)"
   ]
  },
  {
   "cell_type": "markdown",
   "metadata": {},
   "source": [
    "![d-AT07](d-AT07.png)"
   ]
  },
  {
   "cell_type": "markdown",
   "metadata": {},
   "source": [
    "#### Differenziazione"
   ]
  },
  {
   "cell_type": "code",
   "execution_count": null,
   "metadata": {
    "collapsed": false
   },
   "outputs": [],
   "source": [
    "options(repr.plot.width=10, repr.plot.height=2)\n",
    "p <- ggplot(a, aes(x=value))\n",
    "p <- p + geom_histogram(binwidth=0.1*sd(a$value)) \n",
    "p <- p + aes(y=..density..)\n",
    "p <- p + facet_grid(. ~ category)\n",
    "ggsave(filename = 'a-AT07.png', plot = p, width = 10, height = 2)\n",
    "summary(a$value)"
   ]
  },
  {
   "cell_type": "markdown",
   "metadata": {},
   "source": [
    "![a-AT07](a-AT07.png)"
   ]
  },
  {
   "cell_type": "markdown",
   "metadata": {},
   "source": [
    "#### Guessing"
   ]
  },
  {
   "cell_type": "code",
   "execution_count": null,
   "metadata": {
    "collapsed": false
   },
   "outputs": [],
   "source": [
    "options(repr.plot.width=10, repr.plot.height=2)\n",
    "p <- ggplot(g, aes(x=value))\n",
    "p <- p + geom_histogram(binwidth=0.1*sd(g$value)) \n",
    "p <- p + aes(y=..density..)\n",
    "p <- p + facet_grid(. ~ category)\n",
    "ggsave(filename = 'g-AT07.png', plot = p, width = 10, height = 2)\n",
    "summary(g$value)"
   ]
  },
  {
   "cell_type": "markdown",
   "metadata": {},
   "source": [
    "![g-AT07](g-AT07.png)"
   ]
  },
  {
   "cell_type": "markdown",
   "metadata": {},
   "source": [
    "#### Curva Item-Response"
   ]
  },
 {
   "cell_type": "code",
   "execution_count": null,
   "metadata": {
    "collapsed": false
   },
   "outputs": [],
   "source": [
    "data <- data.frame(x=seq(-5,5,.1))\n",
    "options(repr.plot.width=6, repr.plot.height=6)\n",
    "p <- ggplot(data, aes(x=x))\n",
    "p <- p + scale_x_continuous()\n",
    "p <- p + geom_hline(yintercept=0.5, linetype=\"dashed\")\n",
    "for (i in 1:length(d$value)) {\n",
    "  p <- p + geom_line(aes(y=logistic(x, a=d$value[i], b=a$value[i], c=g$value[i])))\n",
    "}\n",
    "p"
    "ggsave(filename = 'l-AT07.png', plot = p, width = 6, height = 6)\n",
   ]
  },
  {
   "cell_type": "markdown",
   "metadata": {},
   "source": [
    "![l-AT07](l-AT07.png)"
   ]
  },


  {
   "cell_type": "markdown",
   "metadata": {},
   "source": [
    "###  2015_Mega_D1_SK02_Tessuto\n",
    "\n",
    "![Tessuto](screenshot/mega11-tessuto.png)"
   ]
  },
  {
   "cell_type": "code",
   "execution_count": null,
   "metadata": {
    "collapsed": false
   },
   "outputs": [],
   "source": [
    "q <- 'SK02'\n",
    "d <- quiz_difficulty %>% dplyr::filter(bebras_id == q) %>% select(value, category)\n",
    "a <- quiz_discrimination %>% dplyr::filter(bebras_id == q) %>% select(value, category)\n",
    "g <- quiz_guessing %>% dplyr::filter(bebras_id == q) %>% select(value, category)"
   ]
  },
  {
   "cell_type": "markdown",
   "metadata": {},
   "source": [
    "#### Difficoltà"
   ]
  },
  {
   "cell_type": "code",
   "execution_count": null,
   "metadata": {
    "collapsed": false
   },
   "outputs": [],
   "source": [
    "options(repr.plot.width=10, repr.plot.height=2)\n",
    "p <- ggplot(d, aes(x=value))\n",
    "p <- p + geom_histogram(binwidth=0.1*sd(d$value)) \n",
    "p <- p + aes(y=..density..)\n",
    "p <- p + facet_grid(. ~ category)\n",
    "ggsave(filename = 'd-SK02.png', plot = p, width = 10, height = 2)\n",
    "summary(d$value)"
   ]
  },
  {
   "cell_type": "markdown",
   "metadata": {},
   "source": [
    "![d-SK02](d-SK02.png)"
   ]
  },
  {
   "cell_type": "markdown",
   "metadata": {},
   "source": [
    "#### Differenziazione"
   ]
  },
  {
   "cell_type": "code",
   "execution_count": null,
   "metadata": {
    "collapsed": false
   },
   "outputs": [],
   "source": [
    "options(repr.plot.width=10, repr.plot.height=2)\n",
    "p <- ggplot(a, aes(x=value))\n",
    "p <- p + geom_histogram(binwidth=0.1*sd(a$value)) \n",
    "p <- p + aes(y=..density..)\n",
    "p <- p + facet_grid(. ~ category)\n",
    "ggsave(filename = 'a-SK02.png', plot = p, width = 10, height = 2)\n",
    "summary(a$value)"
   ]
  },
  {
   "cell_type": "markdown",
   "metadata": {},
   "source": [
    "![a-SK02](a-SK02.png)"
   ]
  },
  {
   "cell_type": "markdown",
   "metadata": {},
   "source": [
    "#### Guessing"
   ]
  },
  {
   "cell_type": "code",
   "execution_count": null,
   "metadata": {
    "collapsed": false
   },
   "outputs": [],
   "source": [
    "options(repr.plot.width=10, repr.plot.height=2)\n",
    "p <- ggplot(g, aes(x=value))\n",
    "p <- p + geom_histogram(binwidth=0.1*sd(g$value)) \n",
    "p <- p + aes(y=..density..)\n",
    "p <- p + facet_grid(. ~ category)\n",
    "ggsave(filename = 'g-SK02.png', plot = p, width = 10, height = 2)\n",
    "summary(g$value)"
   ]
  },
  {
   "cell_type": "markdown",
   "metadata": {},
   "source": [
    "![g-SK02](g-SK02.png)"
   ]
  },
  {
   "cell_type": "markdown",
   "metadata": {},
   "source": [
    "#### Curva Item-Response"
   ]
  },
 {
   "cell_type": "code",
   "execution_count": null,
   "metadata": {
    "collapsed": false
   },
   "outputs": [],
   "source": [
    "data <- data.frame(x=seq(-5,5,.1))\n",
    "options(repr.plot.width=6, repr.plot.height=6)\n",
    "p <- ggplot(data, aes(x=x))\n",
    "p <- p + scale_x_continuous()\n",
    "p <- p + geom_hline(yintercept=0.5, linetype=\"dashed\")\n",
    "for (i in 1:length(d$value)) {\n",
    "  p <- p + geom_line(aes(y=logistic(x, a=d$value[i], b=a$value[i], c=g$value[i])))\n",
    "}\n",
    "p"
    "ggsave(filename = 'l-SK02.png', plot = p, width = 6, height = 6)\n",
   ]
  },
  {
   "cell_type": "markdown",
   "metadata": {},
   "source": [
    "![l-SK02](l-SK02.png)"
   ]
  },


  {
   "cell_type": "markdown",
   "metadata": {},
   "source": [
    "###  2015_Mega_D2_IT02_Meteo\n",
    "\n",
    "![Meteo](screenshot/mega12-meteo.png)"
   ]
  },
  {
   "cell_type": "code",
   "execution_count": null,
   "metadata": {
    "collapsed": false
   },
   "outputs": [],
   "source": [
    "q <- 'IT02'\n",
    "d <- quiz_difficulty %>% dplyr::filter(bebras_id == q) %>% select(value, category)\n",
    "a <- quiz_discrimination %>% dplyr::filter(bebras_id == q) %>% select(value, category)\n",
    "g <- quiz_guessing %>% dplyr::filter(bebras_id == q) %>% select(value, category)"
   ]
  },
  {
   "cell_type": "markdown",
   "metadata": {},
   "source": [
    "#### Difficoltà"
   ]
  },
  {
   "cell_type": "code",
   "execution_count": null,
   "metadata": {
    "collapsed": false
   },
   "outputs": [],
   "source": [
    "options(repr.plot.width=10, repr.plot.height=2)\n",
    "p <- ggplot(d, aes(x=value))\n",
    "p <- p + geom_histogram(binwidth=0.1*sd(d$value)) \n",
    "p <- p + aes(y=..density..)\n",
    "p <- p + facet_grid(. ~ category)\n",
    "ggsave(filename = 'd-IT02.png', plot = p, width = 10, height = 2)\n",
    "summary(d$value)"
   ]
  },
  {
   "cell_type": "markdown",
   "metadata": {},
   "source": [
    "![d-IT02](d-IT02.png)"
   ]
  },
  {
   "cell_type": "markdown",
   "metadata": {},
   "source": [
    "#### Differenziazione"
   ]
  },
  {
   "cell_type": "code",
   "execution_count": null,
   "metadata": {
    "collapsed": false
   },
   "outputs": [],
   "source": [
    "options(repr.plot.width=10, repr.plot.height=2)\n",
    "p <- ggplot(a, aes(x=value))\n",
    "p <- p + geom_histogram(binwidth=0.1*sd(a$value)) \n",
    "p <- p + aes(y=..density..)\n",
    "p <- p + facet_grid(. ~ category)\n",
    "ggsave(filename = 'a-IT02.png', plot = p, width = 10, height = 2)\n",
    "summary(a$value)"
   ]
  },
  {
   "cell_type": "markdown",
   "metadata": {},
   "source": [
    "![a-IT02](a-IT02.png)"
   ]
  },
  {
   "cell_type": "markdown",
   "metadata": {},
   "source": [
    "#### Guessing"
   ]
  },
  {
   "cell_type": "code",
   "execution_count": null,
   "metadata": {
    "collapsed": false
   },
   "outputs": [],
   "source": [
    "options(repr.plot.width=10, repr.plot.height=2)\n",
    "p <- ggplot(g, aes(x=value))\n",
    "p <- p + geom_histogram(binwidth=0.1*sd(g$value)) \n",
    "p <- p + aes(y=..density..)\n",
    "p <- p + facet_grid(. ~ category)\n",
    "ggsave(filename = 'g-IT02.png', plot = p, width = 10, height = 2)\n",
    "summary(g$value)"
   ]
  },
  {
   "cell_type": "markdown",
   "metadata": {},
   "source": [
    "![g-IT02](g-IT02.png)"
   ]
  },
  {
   "cell_type": "markdown",
   "metadata": {},
   "source": [
    "#### Curva Item-Response"
   ]
  },
 {
   "cell_type": "code",
   "execution_count": null,
   "metadata": {
    "collapsed": false
   },
   "outputs": [],
   "source": [
    "data <- data.frame(x=seq(-5,5,.1))\n",
    "options(repr.plot.width=6, repr.plot.height=6)\n",
    "p <- ggplot(data, aes(x=x))\n",
    "p <- p + scale_x_continuous()\n",
    "p <- p + geom_hline(yintercept=0.5, linetype=\"dashed\")\n",
    "for (i in 1:length(d$value)) {\n",
    "  p <- p + geom_line(aes(y=logistic(x, a=d$value[i], b=a$value[i], c=g$value[i])))\n",
    "}\n",
    "p"
    "ggsave(filename = 'l-IT02.png', plot = p, width = 6, height = 6)\n",
   ]
  },
  {
   "cell_type": "markdown",
   "metadata": {},
   "source": [
    "![l-IT02](l-IT02.png)"
   ]
  },


  {
   "cell_type": "markdown",
   "metadata": {},
   "source": [
    "###  2015_Mega_D3_BE04_Scoprirai\n",
    "\n",
    "![Scoprirai](screenshot/mega13-scoprirai.png)"
   ]
  },
  {
   "cell_type": "code",
   "execution_count": null,
   "metadata": {
    "collapsed": false
   },
   "outputs": [],
   "source": [
    "q <- 'BE04'\n",
    "d <- quiz_difficulty %>% dplyr::filter(bebras_id == q) %>% select(value, category)\n",
    "a <- quiz_discrimination %>% dplyr::filter(bebras_id == q) %>% select(value, category)\n",
    "g <- quiz_guessing %>% dplyr::filter(bebras_id == q) %>% select(value, category)"
   ]
  },
  {
   "cell_type": "markdown",
   "metadata": {},
   "source": [
    "#### Difficoltà"
   ]
  },
  {
   "cell_type": "code",
   "execution_count": null,
   "metadata": {
    "collapsed": false
   },
   "outputs": [],
   "source": [
    "options(repr.plot.width=10, repr.plot.height=2)\n",
    "p <- ggplot(d, aes(x=value))\n",
    "p <- p + geom_histogram(binwidth=0.1*sd(d$value)) \n",
    "p <- p + aes(y=..density..)\n",
    "p <- p + facet_grid(. ~ category)\n",
    "ggsave(filename = 'd-BE04.png', plot = p, width = 10, height = 2)\n",
    "summary(d$value)"
   ]
  },
  {
   "cell_type": "markdown",
   "metadata": {},
   "source": [
    "![d-BE04](d-BE04.png)"
   ]
  },
  {
   "cell_type": "markdown",
   "metadata": {},
   "source": [
    "#### Differenziazione"
   ]
  },
  {
   "cell_type": "code",
   "execution_count": null,
   "metadata": {
    "collapsed": false
   },
   "outputs": [],
   "source": [
    "options(repr.plot.width=10, repr.plot.height=2)\n",
    "p <- ggplot(a, aes(x=value))\n",
    "p <- p + geom_histogram(binwidth=0.1*sd(a$value)) \n",
    "p <- p + aes(y=..density..)\n",
    "p <- p + facet_grid(. ~ category)\n",
    "ggsave(filename = 'a-BE04.png', plot = p, width = 10, height = 2)\n",
    "summary(a$value)"
   ]
  },
  {
   "cell_type": "markdown",
   "metadata": {},
   "source": [
    "![a-BE04](a-BE04.png)"
   ]
  },
  {
   "cell_type": "markdown",
   "metadata": {},
   "source": [
    "#### Guessing"
   ]
  },
  {
   "cell_type": "code",
   "execution_count": null,
   "metadata": {
    "collapsed": false
   },
   "outputs": [],
   "source": [
    "options(repr.plot.width=10, repr.plot.height=2)\n",
    "p <- ggplot(g, aes(x=value))\n",
    "p <- p + geom_histogram(binwidth=0.1*sd(g$value)) \n",
    "p <- p + aes(y=..density..)\n",
    "p <- p + facet_grid(. ~ category)\n",
    "ggsave(filename = 'g-BE04.png', plot = p, width = 10, height = 2)\n",
    "summary(g$value)"
   ]
  },
  {
   "cell_type": "markdown",
   "metadata": {},
   "source": [
    "![g-BE04](g-BE04.png)"
   ]
  },
  {
   "cell_type": "markdown",
   "metadata": {},
   "source": [
    "#### Curva Item-Response"
   ]
  },
 {
   "cell_type": "code",
   "execution_count": null,
   "metadata": {
    "collapsed": false
   },
   "outputs": [],
   "source": [
    "data <- data.frame(x=seq(-5,5,.1))\n",
    "options(repr.plot.width=6, repr.plot.height=6)\n",
    "p <- ggplot(data, aes(x=x))\n",
    "p <- p + scale_x_continuous()\n",
    "p <- p + geom_hline(yintercept=0.5, linetype=\"dashed\")\n",
    "for (i in 1:length(d$value)) {\n",
    "  p <- p + geom_line(aes(y=logistic(x, a=d$value[i], b=a$value[i], c=g$value[i])))\n",
    "}\n",
    "p"
    "ggsave(filename = 'l-BE04.png', plot = p, width = 6, height = 6)\n",
   ]
  },
  {
   "cell_type": "markdown",
   "metadata": {},
   "source": [
    "![l-BE04](l-BE04.png)"
   ]
  },


  {
   "cell_type": "markdown",
   "metadata": {},
   "source": [
    "###  2015_Mega_D4_RU07_Alchimista\n",
    "\n",
    "![Alchimista](screenshot/mega14-alchimista.png)"
   ]
  },
  {
   "cell_type": "code",
   "execution_count": null,
   "metadata": {
    "collapsed": false
   },
   "outputs": [],
   "source": [
    "q <- 'RU07'\n",
    "d <- quiz_difficulty %>% dplyr::filter(bebras_id == q) %>% select(value, category)\n",
    "a <- quiz_discrimination %>% dplyr::filter(bebras_id == q) %>% select(value, category)\n",
    "g <- quiz_guessing %>% dplyr::filter(bebras_id == q) %>% select(value, category)"
   ]
  },
  {
   "cell_type": "markdown",
   "metadata": {},
   "source": [
    "#### Difficoltà"
   ]
  },
  {
   "cell_type": "code",
   "execution_count": null,
   "metadata": {
    "collapsed": false
   },
   "outputs": [],
   "source": [
    "options(repr.plot.width=10, repr.plot.height=2)\n",
    "p <- ggplot(d, aes(x=value))\n",
    "p <- p + geom_histogram(binwidth=0.1*sd(d$value)) \n",
    "p <- p + aes(y=..density..)\n",
    "p <- p + facet_grid(. ~ category)\n",
    "ggsave(filename = 'd-RU07.png', plot = p, width = 10, height = 2)\n",
    "summary(d$value)"
   ]
  },
  {
   "cell_type": "markdown",
   "metadata": {},
   "source": [
    "![d-RU07](d-RU07.png)"
   ]
  },
  {
   "cell_type": "markdown",
   "metadata": {},
   "source": [
    "#### Differenziazione"
   ]
  },
  {
   "cell_type": "code",
   "execution_count": null,
   "metadata": {
    "collapsed": false
   },
   "outputs": [],
   "source": [
    "options(repr.plot.width=10, repr.plot.height=2)\n",
    "p <- ggplot(a, aes(x=value))\n",
    "p <- p + geom_histogram(binwidth=0.1*sd(a$value)) \n",
    "p <- p + aes(y=..density..)\n",
    "p <- p + facet_grid(. ~ category)\n",
    "ggsave(filename = 'a-RU07.png', plot = p, width = 10, height = 2)\n",
    "summary(a$value)"
   ]
  },
  {
   "cell_type": "markdown",
   "metadata": {},
   "source": [
    "![a-RU07](a-RU07.png)"
   ]
  },
  {
   "cell_type": "markdown",
   "metadata": {},
   "source": [
    "#### Guessing"
   ]
  },
  {
   "cell_type": "code",
   "execution_count": null,
   "metadata": {
    "collapsed": false
   },
   "outputs": [],
   "source": [
    "options(repr.plot.width=10, repr.plot.height=2)\n",
    "p <- ggplot(g, aes(x=value))\n",
    "p <- p + geom_histogram(binwidth=0.1*sd(g$value)) \n",
    "p <- p + aes(y=..density..)\n",
    "p <- p + facet_grid(. ~ category)\n",
    "ggsave(filename = 'g-RU07.png', plot = p, width = 10, height = 2)\n",
    "summary(g$value)"
   ]
  },
  {
   "cell_type": "markdown",
   "metadata": {},
   "source": [
    "![g-RU07](g-RU07.png)"
   ]
  },
  {
   "cell_type": "markdown",
   "metadata": {},
   "source": [
    "#### Curva Item-Response"
   ]
  },
 {
   "cell_type": "code",
   "execution_count": null,
   "metadata": {
    "collapsed": false
   },
   "outputs": [],
   "source": [
    "data <- data.frame(x=seq(-5,5,.1))\n",
    "options(repr.plot.width=6, repr.plot.height=6)\n",
    "p <- ggplot(data, aes(x=x))\n",
    "p <- p + scale_x_continuous()\n",
    "p <- p + geom_hline(yintercept=0.5, linetype=\"dashed\")\n",
    "for (i in 1:length(d$value)) {\n",
    "  p <- p + geom_line(aes(y=logistic(x, a=d$value[i], b=a$value[i], c=g$value[i])))\n",
    "}\n",
    "p"
    "ggsave(filename = 'l-RU07.png', plot = p, width = 6, height = 6)\n",
   ]
  },
  {
   "cell_type": "markdown",
   "metadata": {},
   "source": [
    "![l-RU07](l-RU07.png)"
   ]
  },


  {
   "cell_type": "markdown",
   "metadata": {},
   "source": [
    "###  2015_Mega_D5_HU05_Acrobati\n",
    "\n",
    "![Acrobati](screenshot/mega15-acrobati.png)"
   ]
  },
  {
   "cell_type": "code",
   "execution_count": null,
   "metadata": {
    "collapsed": false
   },
   "outputs": [],
   "source": [
    "q <- 'HU05'\n",
    "d <- quiz_difficulty %>% dplyr::filter(bebras_id == q) %>% select(value, category)\n",
    "a <- quiz_discrimination %>% dplyr::filter(bebras_id == q) %>% select(value, category)\n",
    "g <- quiz_guessing %>% dplyr::filter(bebras_id == q) %>% select(value, category)"
   ]
  },
  {
   "cell_type": "markdown",
   "metadata": {},
   "source": [
    "#### Difficoltà"
   ]
  },
  {
   "cell_type": "code",
   "execution_count": null,
   "metadata": {
    "collapsed": false
   },
   "outputs": [],
   "source": [
    "options(repr.plot.width=10, repr.plot.height=2)\n",
    "p <- ggplot(d, aes(x=value))\n",
    "p <- p + geom_histogram(binwidth=0.1*sd(d$value)) \n",
    "p <- p + aes(y=..density..)\n",
    "p <- p + facet_grid(. ~ category)\n",
    "ggsave(filename = 'd-HU05.png', plot = p, width = 10, height = 2)\n",
    "summary(d$value)"
   ]
  },
  {
   "cell_type": "markdown",
   "metadata": {},
   "source": [
    "![d-HU05](d-HU05.png)"
   ]
  },
  {
   "cell_type": "markdown",
   "metadata": {},
   "source": [
    "#### Differenziazione"
   ]
  },
  {
   "cell_type": "code",
   "execution_count": null,
   "metadata": {
    "collapsed": false
   },
   "outputs": [],
   "source": [
    "options(repr.plot.width=10, repr.plot.height=2)\n",
    "p <- ggplot(a, aes(x=value))\n",
    "p <- p + geom_histogram(binwidth=0.1*sd(a$value)) \n",
    "p <- p + aes(y=..density..)\n",
    "p <- p + facet_grid(. ~ category)\n",
    "ggsave(filename = 'a-HU05.png', plot = p, width = 10, height = 2)\n",
    "summary(a$value)"
   ]
  },
  {
   "cell_type": "markdown",
   "metadata": {},
   "source": [
    "![a-HU05](a-HU05.png)"
   ]
  },
  {
   "cell_type": "markdown",
   "metadata": {},
   "source": [
    "#### Guessing"
   ]
  },
  {
   "cell_type": "code",
   "execution_count": null,
   "metadata": {
    "collapsed": false
   },
   "outputs": [],
   "source": [
    "options(repr.plot.width=10, repr.plot.height=2)\n",
    "p <- ggplot(g, aes(x=value))\n",
    "p <- p + geom_histogram(binwidth=0.1*sd(g$value)) \n",
    "p <- p + aes(y=..density..)\n",
    "p <- p + facet_grid(. ~ category)\n",
    "ggsave(filename = 'g-HU05.png', plot = p, width = 10, height = 2)\n",
    "summary(g$value)"
   ]
  },
  {
   "cell_type": "markdown",
   "metadata": {},
   "source": [
    "![g-HU05](g-HU05.png)"
   ]
  },
  {
   "cell_type": "markdown",
   "metadata": {},
   "source": [
    "#### Curva Item-Response"
   ]
  },
 {
   "cell_type": "code",
   "execution_count": null,
   "metadata": {
    "collapsed": false
   },
   "outputs": [],
   "source": [
    "data <- data.frame(x=seq(-5,5,.1))\n",
    "options(repr.plot.width=6, repr.plot.height=6)\n",
    "p <- ggplot(data, aes(x=x))\n",
    "p <- p + scale_x_continuous()\n",
    "p <- p + geom_hline(yintercept=0.5, linetype=\"dashed\")\n",
    "for (i in 1:length(d$value)) {\n",
    "  p <- p + geom_line(aes(y=logistic(x, a=d$value[i], b=a$value[i], c=g$value[i])))\n",
    "}\n",
    "p"
    "ggsave(filename = 'l-HU05.png', plot = p, width = 6, height = 6)\n",
   ]
  },
  {
   "cell_type": "markdown",
   "metadata": {},
   "source": [
    "![l-HU05](l-HU05.png)"
   ]
  },


  {
   "cell_type": "markdown",
   "metadata": {},
   "source": [
    "###  2015_Giga_E1_SK04_Luci\n",
    "\n",
    "![Luci](screenshot/giga11-luci.png)"
   ]
  },
  {
   "cell_type": "code",
   "execution_count": null,
   "metadata": {
    "collapsed": false
   },
   "outputs": [],
   "source": [
    "q <- 'SK04'\n",
    "d <- quiz_difficulty %>% dplyr::filter(bebras_id == q) %>% select(value, category)\n",
    "a <- quiz_discrimination %>% dplyr::filter(bebras_id == q) %>% select(value, category)\n",
    "g <- quiz_guessing %>% dplyr::filter(bebras_id == q) %>% select(value, category)"
   ]
  },
  {
   "cell_type": "markdown",
   "metadata": {},
   "source": [
    "#### Difficoltà"
   ]
  },
  {
   "cell_type": "code",
   "execution_count": null,
   "metadata": {
    "collapsed": false
   },
   "outputs": [],
   "source": [
    "options(repr.plot.width=10, repr.plot.height=2)\n",
    "p <- ggplot(d, aes(x=value))\n",
    "p <- p + geom_histogram(binwidth=0.1*sd(d$value)) \n",
    "p <- p + aes(y=..density..)\n",
    "p <- p + facet_grid(. ~ category)\n",
    "ggsave(filename = 'd-SK04.png', plot = p, width = 10, height = 2)\n",
    "summary(d$value)"
   ]
  },
  {
   "cell_type": "markdown",
   "metadata": {},
   "source": [
    "![d-SK04](d-SK04.png)"
   ]
  },
  {
   "cell_type": "markdown",
   "metadata": {},
   "source": [
    "#### Differenziazione"
   ]
  },
  {
   "cell_type": "code",
   "execution_count": null,
   "metadata": {
    "collapsed": false
   },
   "outputs": [],
   "source": [
    "options(repr.plot.width=10, repr.plot.height=2)\n",
    "p <- ggplot(a, aes(x=value))\n",
    "p <- p + geom_histogram(binwidth=0.1*sd(a$value)) \n",
    "p <- p + aes(y=..density..)\n",
    "p <- p + facet_grid(. ~ category)\n",
    "ggsave(filename = 'a-SK04.png', plot = p, width = 10, height = 2)\n",
    "summary(a$value)"
   ]
  },
  {
   "cell_type": "markdown",
   "metadata": {},
   "source": [
    "![a-SK04](a-SK04.png)"
   ]
  },
  {
   "cell_type": "markdown",
   "metadata": {},
   "source": [
    "#### Guessing"
   ]
  },
  {
   "cell_type": "code",
   "execution_count": null,
   "metadata": {
    "collapsed": false
   },
   "outputs": [],
   "source": [
    "options(repr.plot.width=10, repr.plot.height=2)\n",
    "p <- ggplot(g, aes(x=value))\n",
    "p <- p + geom_histogram(binwidth=0.1*sd(g$value)) \n",
    "p <- p + aes(y=..density..)\n",
    "p <- p + facet_grid(. ~ category)\n",
    "ggsave(filename = 'g-SK04.png', plot = p, width = 10, height = 2)\n",
    "summary(g$value)"
   ]
  },
  {
   "cell_type": "markdown",
   "metadata": {},
   "source": [
    "![g-SK04](g-SK04.png)"
   ]
  },
  {
   "cell_type": "markdown",
   "metadata": {},
   "source": [
    "#### Curva Item-Response"
   ]
  },
 {
   "cell_type": "code",
   "execution_count": null,
   "metadata": {
    "collapsed": false
   },
   "outputs": [],
   "source": [
    "data <- data.frame(x=seq(-5,5,.1))\n",
    "options(repr.plot.width=6, repr.plot.height=6)\n",
    "p <- ggplot(data, aes(x=x))\n",
    "p <- p + scale_x_continuous()\n",
    "p <- p + geom_hline(yintercept=0.5, linetype=\"dashed\")\n",
    "for (i in 1:length(d$value)) {\n",
    "  p <- p + geom_line(aes(y=logistic(x, a=d$value[i], b=a$value[i], c=g$value[i])))\n",
    "}\n",
    "p"
    "ggsave(filename = 'l-SK04.png', plot = p, width = 6, height = 6)\n",
   ]
  },
  {
   "cell_type": "markdown",
   "metadata": {},
   "source": [
    "![l-SK04](l-SK04.png)"
   ]
  },


  {
   "cell_type": "markdown",
   "metadata": {},
   "source": [
    "###  2015_Giga_E2_CH09_Labirinti\n",
    "\n",
    "![Labirinti](screenshot/giga12-labirinti.png)"
   ]
  },
  {
   "cell_type": "code",
   "execution_count": null,
   "metadata": {
    "collapsed": false
   },
   "outputs": [],
   "source": [
    "q <- 'CH09'\n",
    "d <- quiz_difficulty %>% dplyr::filter(bebras_id == q) %>% select(value, category)\n",
    "a <- quiz_discrimination %>% dplyr::filter(bebras_id == q) %>% select(value, category)\n",
    "g <- quiz_guessing %>% dplyr::filter(bebras_id == q) %>% select(value, category)"
   ]
  },
  {
   "cell_type": "markdown",
   "metadata": {},
   "source": [
    "#### Difficoltà"
   ]
  },
  {
   "cell_type": "code",
   "execution_count": null,
   "metadata": {
    "collapsed": false
   },
   "outputs": [],
   "source": [
    "options(repr.plot.width=10, repr.plot.height=2)\n",
    "p <- ggplot(d, aes(x=value))\n",
    "p <- p + geom_histogram(binwidth=0.1*sd(d$value)) \n",
    "p <- p + aes(y=..density..)\n",
    "p <- p + facet_grid(. ~ category)\n",
    "ggsave(filename = 'd-CH09.png', plot = p, width = 10, height = 2)\n",
    "summary(d$value)"
   ]
  },
  {
   "cell_type": "markdown",
   "metadata": {},
   "source": [
    "![d-CH09](d-CH09.png)"
   ]
  },
  {
   "cell_type": "markdown",
   "metadata": {},
   "source": [
    "#### Differenziazione"
   ]
  },
  {
   "cell_type": "code",
   "execution_count": null,
   "metadata": {
    "collapsed": false
   },
   "outputs": [],
   "source": [
    "options(repr.plot.width=10, repr.plot.height=2)\n",
    "p <- ggplot(a, aes(x=value))\n",
    "p <- p + geom_histogram(binwidth=0.1*sd(a$value)) \n",
    "p <- p + aes(y=..density..)\n",
    "p <- p + facet_grid(. ~ category)\n",
    "ggsave(filename = 'a-CH09.png', plot = p, width = 10, height = 2)\n",
    "summary(a$value)"
   ]
  },
  {
   "cell_type": "markdown",
   "metadata": {},
   "source": [
    "![a-CH09](a-CH09.png)"
   ]
  },
  {
   "cell_type": "markdown",
   "metadata": {},
   "source": [
    "#### Guessing"
   ]
  },
  {
   "cell_type": "code",
   "execution_count": null,
   "metadata": {
    "collapsed": false
   },
   "outputs": [],
   "source": [
    "options(repr.plot.width=10, repr.plot.height=2)\n",
    "p <- ggplot(g, aes(x=value))\n",
    "p <- p + geom_histogram(binwidth=0.1*sd(g$value)) \n",
    "p <- p + aes(y=..density..)\n",
    "p <- p + facet_grid(. ~ category)\n",
    "ggsave(filename = 'g-CH09.png', plot = p, width = 10, height = 2)\n",
    "summary(g$value)"
   ]
  },
  {
   "cell_type": "markdown",
   "metadata": {},
   "source": [
    "![g-CH09](g-CH09.png)"
   ]
  },
  {
   "cell_type": "markdown",
   "metadata": {},
   "source": [
    "#### Curva Item-Response"
   ]
  },
 {
   "cell_type": "code",
   "execution_count": null,
   "metadata": {
    "collapsed": false
   },
   "outputs": [],
   "source": [
    "data <- data.frame(x=seq(-5,5,.1))\n",
    "options(repr.plot.width=6, repr.plot.height=6)\n",
    "p <- ggplot(data, aes(x=x))\n",
    "p <- p + scale_x_continuous()\n",
    "p <- p + geom_hline(yintercept=0.5, linetype=\"dashed\")\n",
    "for (i in 1:length(d$value)) {\n",
    "  p <- p + geom_line(aes(y=logistic(x, a=d$value[i], b=a$value[i], c=g$value[i])))\n",
    "}\n",
    "p"
    "ggsave(filename = 'l-CH09.png', plot = p, width = 6, height = 6)\n",
   ]
  },
  {
   "cell_type": "markdown",
   "metadata": {},
   "source": [
    "![l-CH09](l-CH09.png)"
   ]
  },


  {
   "cell_type": "markdown",
   "metadata": {},
   "source": [
    "###  2015_Giga_E3_HU07_Pianoforte\n",
    "\n",
    "![Pianoforte](screenshot/giga13-pianoforte.png)"
   ]
  },
  {
   "cell_type": "code",
   "execution_count": null,
   "metadata": {
    "collapsed": false
   },
   "outputs": [],
   "source": [
    "q <- 'HU07'\n",
    "d <- quiz_difficulty %>% dplyr::filter(bebras_id == q) %>% select(value, category)\n",
    "a <- quiz_discrimination %>% dplyr::filter(bebras_id == q) %>% select(value, category)\n",
    "g <- quiz_guessing %>% dplyr::filter(bebras_id == q) %>% select(value, category)"
   ]
  },
  {
   "cell_type": "markdown",
   "metadata": {},
   "source": [
    "#### Difficoltà"
   ]
  },
  {
   "cell_type": "code",
   "execution_count": null,
   "metadata": {
    "collapsed": false
   },
   "outputs": [],
   "source": [
    "options(repr.plot.width=10, repr.plot.height=2)\n",
    "p <- ggplot(d, aes(x=value))\n",
    "p <- p + geom_histogram(binwidth=0.1*sd(d$value)) \n",
    "p <- p + aes(y=..density..)\n",
    "p <- p + facet_grid(. ~ category)\n",
    "ggsave(filename = 'd-HU07.png', plot = p, width = 10, height = 2)\n",
    "summary(d$value)"
   ]
  },
  {
   "cell_type": "markdown",
   "metadata": {},
   "source": [
    "![d-HU07](d-HU07.png)"
   ]
  },
  {
   "cell_type": "markdown",
   "metadata": {},
   "source": [
    "#### Differenziazione"
   ]
  },
  {
   "cell_type": "code",
   "execution_count": null,
   "metadata": {
    "collapsed": false
   },
   "outputs": [],
   "source": [
    "options(repr.plot.width=10, repr.plot.height=2)\n",
    "p <- ggplot(a, aes(x=value))\n",
    "p <- p + geom_histogram(binwidth=0.1*sd(a$value)) \n",
    "p <- p + aes(y=..density..)\n",
    "p <- p + facet_grid(. ~ category)\n",
    "ggsave(filename = 'a-HU07.png', plot = p, width = 10, height = 2)\n",
    "summary(a$value)"
   ]
  },
  {
   "cell_type": "markdown",
   "metadata": {},
   "source": [
    "![a-HU07](a-HU07.png)"
   ]
  },
  {
   "cell_type": "markdown",
   "metadata": {},
   "source": [
    "#### Guessing"
   ]
  },
  {
   "cell_type": "code",
   "execution_count": null,
   "metadata": {
    "collapsed": false
   },
   "outputs": [],
   "source": [
    "options(repr.plot.width=10, repr.plot.height=2)\n",
    "p <- ggplot(g, aes(x=value))\n",
    "p <- p + geom_histogram(binwidth=0.1*sd(g$value)) \n",
    "p <- p + aes(y=..density..)\n",
    "p <- p + facet_grid(. ~ category)\n",
    "ggsave(filename = 'g-HU07.png', plot = p, width = 10, height = 2)\n",
    "summary(g$value)"
   ]
  },
  {
   "cell_type": "markdown",
   "metadata": {},
   "source": [
    "![g-HU07](g-HU07.png)"
   ]
  },
  {
   "cell_type": "markdown",
   "metadata": {},
   "source": [
    "#### Curva Item-Response"
   ]
  },
 {
   "cell_type": "code",
   "execution_count": null,
   "metadata": {
    "collapsed": false
   },
   "outputs": [],
   "source": [
    "data <- data.frame(x=seq(-5,5,.1))\n",
    "options(repr.plot.width=6, repr.plot.height=6)\n",
    "p <- ggplot(data, aes(x=x))\n",
    "p <- p + scale_x_continuous()\n",
    "p <- p + geom_hline(yintercept=0.5, linetype=\"dashed\")\n",
    "for (i in 1:length(d$value)) {\n",
    "  p <- p + geom_line(aes(y=logistic(x, a=d$value[i], b=a$value[i], c=g$value[i])))\n",
    "}\n",
    "p"
    "ggsave(filename = 'l-HU07.png', plot = p, width = 6, height = 6)\n",
   ]
  },
  {
   "cell_type": "markdown",
   "metadata": {},
   "source": [
    "![l-HU07](l-HU07.png)"
   ]
  },


  {
   "cell_type": "markdown",
   "metadata": {},
   "source": [
    "###  2015_Giga_E4_CA01_Popolarita\n",
    "\n",
    "![Popolarita](screenshot/giga14-popolarita.png)"
   ]
  },
  {
   "cell_type": "code",
   "execution_count": null,
   "metadata": {
    "collapsed": false
   },
   "outputs": [],
   "source": [
    "q <- 'CA01'\n",
    "d <- quiz_difficulty %>% dplyr::filter(bebras_id == q) %>% select(value, category)\n",
    "a <- quiz_discrimination %>% dplyr::filter(bebras_id == q) %>% select(value, category)\n",
    "g <- quiz_guessing %>% dplyr::filter(bebras_id == q) %>% select(value, category)"
   ]
  },
  {
   "cell_type": "markdown",
   "metadata": {},
   "source": [
    "#### Difficoltà"
   ]
  },
  {
   "cell_type": "code",
   "execution_count": null,
   "metadata": {
    "collapsed": false
   },
   "outputs": [],
   "source": [
    "options(repr.plot.width=10, repr.plot.height=2)\n",
    "p <- ggplot(d, aes(x=value))\n",
    "p <- p + geom_histogram(binwidth=0.1*sd(d$value)) \n",
    "p <- p + aes(y=..density..)\n",
    "p <- p + facet_grid(. ~ category)\n",
    "ggsave(filename = 'd-CA01.png', plot = p, width = 10, height = 2)\n",
    "summary(d$value)"
   ]
  },
  {
   "cell_type": "markdown",
   "metadata": {},
   "source": [
    "![d-CA01](d-CA01.png)"
   ]
  },
  {
   "cell_type": "markdown",
   "metadata": {},
   "source": [
    "#### Differenziazione"
   ]
  },
  {
   "cell_type": "code",
   "execution_count": null,
   "metadata": {
    "collapsed": false
   },
   "outputs": [],
   "source": [
    "options(repr.plot.width=10, repr.plot.height=2)\n",
    "p <- ggplot(a, aes(x=value))\n",
    "p <- p + geom_histogram(binwidth=0.1*sd(a$value)) \n",
    "p <- p + aes(y=..density..)\n",
    "p <- p + facet_grid(. ~ category)\n",
    "ggsave(filename = 'a-CA01.png', plot = p, width = 10, height = 2)\n",
    "summary(a$value)"
   ]
  },
  {
   "cell_type": "markdown",
   "metadata": {},
   "source": [
    "![a-CA01](a-CA01.png)"
   ]
  },
  {
   "cell_type": "markdown",
   "metadata": {},
   "source": [
    "#### Guessing"
   ]
  },
  {
   "cell_type": "code",
   "execution_count": null,
   "metadata": {
    "collapsed": false
   },
   "outputs": [],
   "source": [
    "options(repr.plot.width=10, repr.plot.height=2)\n",
    "p <- ggplot(g, aes(x=value))\n",
    "p <- p + geom_histogram(binwidth=0.1*sd(g$value)) \n",
    "p <- p + aes(y=..density..)\n",
    "p <- p + facet_grid(. ~ category)\n",
    "ggsave(filename = 'g-CA01.png', plot = p, width = 10, height = 2)\n",
    "summary(g$value)"
   ]
  },
  {
   "cell_type": "markdown",
   "metadata": {},
   "source": [
    "![g-CA01](g-CA01.png)"
   ]
  },
  {
   "cell_type": "markdown",
   "metadata": {},
   "source": [
    "#### Curva Item-Response"
   ]
  },
 {
   "cell_type": "code",
   "execution_count": null,
   "metadata": {
    "collapsed": false
   },
   "outputs": [],
   "source": [
    "data <- data.frame(x=seq(-5,5,.1))\n",
    "options(repr.plot.width=6, repr.plot.height=6)\n",
    "p <- ggplot(data, aes(x=x))\n",
    "p <- p + scale_x_continuous()\n",
    "p <- p + geom_hline(yintercept=0.5, linetype=\"dashed\")\n",
    "for (i in 1:length(d$value)) {\n",
    "  p <- p + geom_line(aes(y=logistic(x, a=d$value[i], b=a$value[i], c=g$value[i])))\n",
    "}\n",
    "p"
    "ggsave(filename = 'l-CA01.png', plot = p, width = 6, height = 6)\n",
   ]
  },
  {
   "cell_type": "markdown",
   "metadata": {},
   "source": [
    "![l-CA01](l-CA01.png)"
   ]
  },


  {
   "cell_type": "markdown",
   "metadata": {},
   "source": [
    "###  2015_Giga_E5_TW03_LuogoDelitto\n",
    "\n",
    "![LuogoDelitto](screenshot/giga15-delitto.png)"
   ]
  },
  {
   "cell_type": "code",
   "execution_count": null,
   "metadata": {
    "collapsed": false
   },
   "outputs": [],
   "source": [
    "q <- 'TW03'\n",
    "d <- quiz_difficulty %>% dplyr::filter(bebras_id == q) %>% select(value, category)\n",
    "a <- quiz_discrimination %>% dplyr::filter(bebras_id == q) %>% select(value, category)\n",
    "g <- quiz_guessing %>% dplyr::filter(bebras_id == q) %>% select(value, category)"
   ]
  },
  {
   "cell_type": "markdown",
   "metadata": {},
   "source": [
    "#### Difficoltà"
   ]
  },
  {
   "cell_type": "code",
   "execution_count": null,
   "metadata": {
    "collapsed": false
   },
   "outputs": [],
   "source": [
    "options(repr.plot.width=10, repr.plot.height=2)\n",
    "p <- ggplot(d, aes(x=value))\n",
    "p <- p + geom_histogram(binwidth=0.1*sd(d$value)) \n",
    "p <- p + aes(y=..density..)\n",
    "p <- p + facet_grid(. ~ category)\n",
    "ggsave(filename = 'd-TW03.png', plot = p, width = 10, height = 2)\n",
    "summary(d$value)"
   ]
  },
  {
   "cell_type": "markdown",
   "metadata": {},
   "source": [
    "![d-TW03](d-TW03.png)"
   ]
  },
  {
   "cell_type": "markdown",
   "metadata": {},
   "source": [
    "#### Differenziazione"
   ]
  },
  {
   "cell_type": "code",
   "execution_count": null,
   "metadata": {
    "collapsed": false
   },
   "outputs": [],
   "source": [
    "options(repr.plot.width=10, repr.plot.height=2)\n",
    "p <- ggplot(a, aes(x=value))\n",
    "p <- p + geom_histogram(binwidth=0.1*sd(a$value)) \n",
    "p <- p + aes(y=..density..)\n",
    "p <- p + facet_grid(. ~ category)\n",
    "ggsave(filename = 'a-TW03.png', plot = p, width = 10, height = 2)\n",
    "summary(a$value)"
   ]
  },
  {
   "cell_type": "markdown",
   "metadata": {},
   "source": [
    "![a-TW03](a-TW03.png)"
   ]
  },
  {
   "cell_type": "markdown",
   "metadata": {},
   "source": [
    "#### Guessing"
   ]
  },
  {
   "cell_type": "code",
   "execution_count": null,
   "metadata": {
    "collapsed": false
   },
   "outputs": [],
   "source": [
    "options(repr.plot.width=10, repr.plot.height=2)\n",
    "p <- ggplot(g, aes(x=value))\n",
    "p <- p + geom_histogram(binwidth=0.1*sd(g$value)) \n",
    "p <- p + aes(y=..density..)\n",
    "p <- p + facet_grid(. ~ category)\n",
    "ggsave(filename = 'g-TW03.png', plot = p, width = 10, height = 2)\n",
    "summary(g$value)"
   ]
  },
  {
   "cell_type": "markdown",
   "metadata": {},
   "source": [
    "![g-TW03](g-TW03.png)"
   ]
  },
  {
   "cell_type": "markdown",
   "metadata": {},
   "source": [
    "#### Curva Item-Response"
   ]
  },
 {
   "cell_type": "code",
   "execution_count": null,
   "metadata": {
    "collapsed": false
   },
   "outputs": [],
   "source": [
    "data <- data.frame(x=seq(-5,5,.1))\n",
    "options(repr.plot.width=6, repr.plot.height=6)\n",
    "p <- ggplot(data, aes(x=x))\n",
    "p <- p + scale_x_continuous()\n",
    "p <- p + geom_hline(yintercept=0.5, linetype=\"dashed\")\n",
    "for (i in 1:length(d$value)) {\n",
    "  p <- p + geom_line(aes(y=logistic(x, a=d$value[i], b=a$value[i], c=g$value[i])))\n",
    "}\n",
    "p"
    "ggsave(filename = 'l-TW03.png', plot = p, width = 6, height = 6)\n",
   ]
  },
  {
   "cell_type": "markdown",
   "metadata": {},
   "source": [
    "![l-TW03](l-TW03.png)"
   ]
  },


  {
   "cell_type": "markdown",
   "metadata": {},
   "source": [
    "###  2015_Tera_F1_SK01_Robot\n",
    "\n",
    "![Robot](screenshot/tera11-robot.png)"
   ]
  },
  {
   "cell_type": "code",
   "execution_count": null,
   "metadata": {
    "collapsed": false
   },
   "outputs": [],
   "source": [
    "q <- 'SK01'\n",
    "d <- quiz_difficulty %>% dplyr::filter(bebras_id == q) %>% select(value, category)\n",
    "a <- quiz_discrimination %>% dplyr::filter(bebras_id == q) %>% select(value, category)\n",
    "g <- quiz_guessing %>% dplyr::filter(bebras_id == q) %>% select(value, category)"
   ]
  },
  {
   "cell_type": "markdown",
   "metadata": {},
   "source": [
    "#### Difficoltà"
   ]
  },
  {
   "cell_type": "code",
   "execution_count": null,
   "metadata": {
    "collapsed": false
   },
   "outputs": [],
   "source": [
    "options(repr.plot.width=10, repr.plot.height=2)\n",
    "p <- ggplot(d, aes(x=value))\n",
    "p <- p + geom_histogram(binwidth=0.1*sd(d$value)) \n",
    "p <- p + aes(y=..density..)\n",
    "p <- p + facet_grid(. ~ category)\n",
    "ggsave(filename = 'd-SK01.png', plot = p, width = 10, height = 2)\n",
    "summary(d$value)"
   ]
  },
  {
   "cell_type": "markdown",
   "metadata": {},
   "source": [
    "![d-SK01](d-SK01.png)"
   ]
  },
  {
   "cell_type": "markdown",
   "metadata": {},
   "source": [
    "#### Differenziazione"
   ]
  },
  {
   "cell_type": "code",
   "execution_count": null,
   "metadata": {
    "collapsed": false
   },
   "outputs": [],
   "source": [
    "options(repr.plot.width=10, repr.plot.height=2)\n",
    "p <- ggplot(a, aes(x=value))\n",
    "p <- p + geom_histogram(binwidth=0.1*sd(a$value)) \n",
    "p <- p + aes(y=..density..)\n",
    "p <- p + facet_grid(. ~ category)\n",
    "ggsave(filename = 'a-SK01.png', plot = p, width = 10, height = 2)\n",
    "summary(a$value)"
   ]
  },
  {
   "cell_type": "markdown",
   "metadata": {},
   "source": [
    "![a-SK01](a-SK01.png)"
   ]
  },
  {
   "cell_type": "markdown",
   "metadata": {},
   "source": [
    "#### Guessing"
   ]
  },
  {
   "cell_type": "code",
   "execution_count": null,
   "metadata": {
    "collapsed": false
   },
   "outputs": [],
   "source": [
    "options(repr.plot.width=10, repr.plot.height=2)\n",
    "p <- ggplot(g, aes(x=value))\n",
    "p <- p + geom_histogram(binwidth=0.1*sd(g$value)) \n",
    "p <- p + aes(y=..density..)\n",
    "p <- p + facet_grid(. ~ category)\n",
    "ggsave(filename = 'g-SK01.png', plot = p, width = 10, height = 2)\n",
    "summary(g$value)"
   ]
  },
  {
   "cell_type": "markdown",
   "metadata": {},
   "source": [
    "![g-SK01](g-SK01.png)"
   ]
  },
  {
   "cell_type": "markdown",
   "metadata": {},
   "source": [
    "#### Curva Item-Response"
   ]
  },
 {
   "cell_type": "code",
   "execution_count": null,
   "metadata": {
    "collapsed": false
   },
   "outputs": [],
   "source": [
    "data <- data.frame(x=seq(-5,5,.1))\n",
    "options(repr.plot.width=6, repr.plot.height=6)\n",
    "p <- ggplot(data, aes(x=x))\n",
    "p <- p + scale_x_continuous()\n",
    "p <- p + geom_hline(yintercept=0.5, linetype=\"dashed\")\n",
    "for (i in 1:length(d$value)) {\n",
    "  p <- p + geom_line(aes(y=logistic(x, a=d$value[i], b=a$value[i], c=g$value[i])))\n",
    "}\n",
    "p"
    "ggsave(filename = 'l-SK01.png', plot = p, width = 6, height = 6)\n",
   ]
  },
  {
   "cell_type": "markdown",
   "metadata": {},
   "source": [
    "![l-SK01](l-SK01.png)"
   ]
  },


  {
   "cell_type": "markdown",
   "metadata": {},
   "source": [
    "###  2015_Tera_F2_CA02_Fuochi\n",
    "\n",
    "![Fuochi](screenshot/tera12-fuochi.png)"
   ]
  },
  {
   "cell_type": "code",
   "execution_count": null,
   "metadata": {
    "collapsed": false
   },
   "outputs": [],
   "source": [
    "q <- 'CA02'\n",
    "d <- quiz_difficulty %>% dplyr::filter(bebras_id == q) %>% select(value, category)\n",
    "a <- quiz_discrimination %>% dplyr::filter(bebras_id == q) %>% select(value, category)\n",
    "g <- quiz_guessing %>% dplyr::filter(bebras_id == q) %>% select(value, category)"
   ]
  },
  {
   "cell_type": "markdown",
   "metadata": {},
   "source": [
    "#### Difficoltà"
   ]
  },
  {
   "cell_type": "code",
   "execution_count": null,
   "metadata": {
    "collapsed": false
   },
   "outputs": [],
   "source": [
    "options(repr.plot.width=10, repr.plot.height=2)\n",
    "p <- ggplot(d, aes(x=value))\n",
    "p <- p + geom_histogram(binwidth=0.1*sd(d$value)) \n",
    "p <- p + aes(y=..density..)\n",
    "p <- p + facet_grid(. ~ category)\n",
    "ggsave(filename = 'd-CA02.png', plot = p, width = 10, height = 2)\n",
    "summary(d$value)"
   ]
  },
  {
   "cell_type": "markdown",
   "metadata": {},
   "source": [
    "![d-CA02](d-CA02.png)"
   ]
  },
  {
   "cell_type": "markdown",
   "metadata": {},
   "source": [
    "#### Differenziazione"
   ]
  },
  {
   "cell_type": "code",
   "execution_count": null,
   "metadata": {
    "collapsed": false
   },
   "outputs": [],
   "source": [
    "options(repr.plot.width=10, repr.plot.height=2)\n",
    "p <- ggplot(a, aes(x=value))\n",
    "p <- p + geom_histogram(binwidth=0.1*sd(a$value)) \n",
    "p <- p + aes(y=..density..)\n",
    "p <- p + facet_grid(. ~ category)\n",
    "ggsave(filename = 'a-CA02.png', plot = p, width = 10, height = 2)\n",
    "summary(a$value)"
   ]
  },
  {
   "cell_type": "markdown",
   "metadata": {},
   "source": [
    "![a-CA02](a-CA02.png)"
   ]
  },
  {
   "cell_type": "markdown",
   "metadata": {},
   "source": [
    "#### Guessing"
   ]
  },
  {
   "cell_type": "code",
   "execution_count": null,
   "metadata": {
    "collapsed": false
   },
   "outputs": [],
   "source": [
    "options(repr.plot.width=10, repr.plot.height=2)\n",
    "p <- ggplot(g, aes(x=value))\n",
    "p <- p + geom_histogram(binwidth=0.1*sd(g$value)) \n",
    "p <- p + aes(y=..density..)\n",
    "p <- p + facet_grid(. ~ category)\n",
    "ggsave(filename = 'g-CA02.png', plot = p, width = 10, height = 2)\n",
    "summary(g$value)"
   ]
  },
  {
   "cell_type": "markdown",
   "metadata": {},
   "source": [
    "![g-CA02](g-CA02.png)"
   ]
  },
  {
   "cell_type": "markdown",
   "metadata": {},
   "source": [
    "#### Curva Item-Response"
   ]
  },
 {
   "cell_type": "code",
   "execution_count": null,
   "metadata": {
    "collapsed": false
   },
   "outputs": [],
   "source": [
    "data <- data.frame(x=seq(-5,5,.1))\n",
    "options(repr.plot.width=6, repr.plot.height=6)\n",
    "p <- ggplot(data, aes(x=x))\n",
    "p <- p + scale_x_continuous()\n",
    "p <- p + geom_hline(yintercept=0.5, linetype=\"dashed\")\n",
    "for (i in 1:length(d$value)) {\n",
    "  p <- p + geom_line(aes(y=logistic(x, a=d$value[i], b=a$value[i], c=g$value[i])))\n",
    "}\n",
    "p"
    "ggsave(filename = 'l-CA02.png', plot = p, width = 6, height = 6)\n",
   ]
  },
  {
   "cell_type": "markdown",
   "metadata": {},
   "source": [
    "![l-CA02](l-CA02.png)"
   ]
  },


  {
   "cell_type": "markdown",
   "metadata": {},
   "source": [
    "###  2015_Tera_F3_RU02_Ricetta\n",
    "\n",
    "![Ricetta](screenshot/tera13-ricetta.png)"
   ]
  },
  {
   "cell_type": "code",
   "execution_count": null,
   "metadata": {
    "collapsed": false
   },
   "outputs": [],
   "source": [
    "q <- 'RU02'\n",
    "d <- quiz_difficulty %>% dplyr::filter(bebras_id == q) %>% select(value, category)\n",
    "a <- quiz_discrimination %>% dplyr::filter(bebras_id == q) %>% select(value, category)\n",
    "g <- quiz_guessing %>% dplyr::filter(bebras_id == q) %>% select(value, category)"
   ]
  },
  {
   "cell_type": "markdown",
   "metadata": {},
   "source": [
    "#### Difficoltà"
   ]
  },
  {
   "cell_type": "code",
   "execution_count": null,
   "metadata": {
    "collapsed": false
   },
   "outputs": [],
   "source": [
    "options(repr.plot.width=10, repr.plot.height=2)\n",
    "p <- ggplot(d, aes(x=value))\n",
    "p <- p + geom_histogram(binwidth=0.1*sd(d$value)) \n",
    "p <- p + aes(y=..density..)\n",
    "p <- p + facet_grid(. ~ category)\n",
    "ggsave(filename = 'd-RU02.png', plot = p, width = 10, height = 2)\n",
    "summary(d$value)"
   ]
  },
  {
   "cell_type": "markdown",
   "metadata": {},
   "source": [
    "![d-RU02](d-RU02.png)"
   ]
  },
  {
   "cell_type": "markdown",
   "metadata": {},
   "source": [
    "#### Differenziazione"
   ]
  },
  {
   "cell_type": "code",
   "execution_count": null,
   "metadata": {
    "collapsed": false
   },
   "outputs": [],
   "source": [
    "options(repr.plot.width=10, repr.plot.height=2)\n",
    "p <- ggplot(a, aes(x=value))\n",
    "p <- p + geom_histogram(binwidth=0.1*sd(a$value)) \n",
    "p <- p + aes(y=..density..)\n",
    "p <- p + facet_grid(. ~ category)\n",
    "ggsave(filename = 'a-RU02.png', plot = p, width = 10, height = 2)\n",
    "summary(a$value)"
   ]
  },
  {
   "cell_type": "markdown",
   "metadata": {},
   "source": [
    "![a-RU02](a-RU02.png)"
   ]
  },
  {
   "cell_type": "markdown",
   "metadata": {},
   "source": [
    "#### Guessing"
   ]
  },
  {
   "cell_type": "code",
   "execution_count": null,
   "metadata": {
    "collapsed": false
   },
   "outputs": [],
   "source": [
    "options(repr.plot.width=10, repr.plot.height=2)\n",
    "p <- ggplot(g, aes(x=value))\n",
    "p <- p + geom_histogram(binwidth=0.1*sd(g$value)) \n",
    "p <- p + aes(y=..density..)\n",
    "p <- p + facet_grid(. ~ category)\n",
    "ggsave(filename = 'g-RU02.png', plot = p, width = 10, height = 2)\n",
    "summary(g$value)"
   ]
  },
  {
   "cell_type": "markdown",
   "metadata": {},
   "source": [
    "![g-RU02](g-RU02.png)"
   ]
  },
  {
   "cell_type": "markdown",
   "metadata": {},
   "source": [
    "#### Curva Item-Response"
   ]
  },
 {
   "cell_type": "code",
   "execution_count": null,
   "metadata": {
    "collapsed": false
   },
   "outputs": [],
   "source": [
    "data <- data.frame(x=seq(-5,5,.1))\n",
    "options(repr.plot.width=6, repr.plot.height=6)\n",
    "p <- ggplot(data, aes(x=x))\n",
    "p <- p + scale_x_continuous()\n",
    "p <- p + geom_hline(yintercept=0.5, linetype=\"dashed\")\n",
    "for (i in 1:length(d$value)) {\n",
    "  p <- p + geom_line(aes(y=logistic(x, a=d$value[i], b=a$value[i], c=g$value[i])))\n",
    "}\n",
    "p"
    "ggsave(filename = 'l-RU02.png', plot = p, width = 6, height = 6)\n",
   ]
  },
  {
   "cell_type": "markdown",
   "metadata": {},
   "source": [
    "![l-RU02](l-RU02.png)"
   ]
  },


  {
   "cell_type": "markdown",
   "metadata": {},
   "source": [
    "###  2015_Tera_F4_AT01_Famiglia\n",
    "\n",
    "![Famiglia](screenshot/tera14-famiglia.png)"
   ]
  },
  {
   "cell_type": "code",
   "execution_count": null,
   "metadata": {
    "collapsed": false
   },
   "outputs": [],
   "source": [
    "q <- 'AT01'\n",
    "d <- quiz_difficulty %>% dplyr::filter(bebras_id == q) %>% select(value, category)\n",
    "a <- quiz_discrimination %>% dplyr::filter(bebras_id == q) %>% select(value, category)\n",
    "g <- quiz_guessing %>% dplyr::filter(bebras_id == q) %>% select(value, category)"
   ]
  },
  {
   "cell_type": "markdown",
   "metadata": {},
   "source": [
    "#### Difficoltà"
   ]
  },
  {
   "cell_type": "code",
   "execution_count": null,
   "metadata": {
    "collapsed": false
   },
   "outputs": [],
   "source": [
    "options(repr.plot.width=10, repr.plot.height=2)\n",
    "p <- ggplot(d, aes(x=value))\n",
    "p <- p + geom_histogram(binwidth=0.1*sd(d$value)) \n",
    "p <- p + aes(y=..density..)\n",
    "p <- p + facet_grid(. ~ category)\n",
    "ggsave(filename = 'd-AT01.png', plot = p, width = 10, height = 2)\n",
    "summary(d$value)"
   ]
  },
  {
   "cell_type": "markdown",
   "metadata": {},
   "source": [
    "![d-AT01](d-AT01.png)"
   ]
  },
  {
   "cell_type": "markdown",
   "metadata": {},
   "source": [
    "#### Differenziazione"
   ]
  },
  {
   "cell_type": "code",
   "execution_count": null,
   "metadata": {
    "collapsed": false
   },
   "outputs": [],
   "source": [
    "options(repr.plot.width=10, repr.plot.height=2)\n",
    "p <- ggplot(a, aes(x=value))\n",
    "p <- p + geom_histogram(binwidth=0.1*sd(a$value)) \n",
    "p <- p + aes(y=..density..)\n",
    "p <- p + facet_grid(. ~ category)\n",
    "ggsave(filename = 'a-AT01.png', plot = p, width = 10, height = 2)\n",
    "summary(a$value)"
   ]
  },
  {
   "cell_type": "markdown",
   "metadata": {},
   "source": [
    "![a-AT01](a-AT01.png)"
   ]
  },
  {
   "cell_type": "markdown",
   "metadata": {},
   "source": [
    "#### Guessing"
   ]
  },
  {
   "cell_type": "code",
   "execution_count": null,
   "metadata": {
    "collapsed": false
   },
   "outputs": [],
   "source": [
    "options(repr.plot.width=10, repr.plot.height=2)\n",
    "p <- ggplot(g, aes(x=value))\n",
    "p <- p + geom_histogram(binwidth=0.1*sd(g$value)) \n",
    "p <- p + aes(y=..density..)\n",
    "p <- p + facet_grid(. ~ category)\n",
    "ggsave(filename = 'g-AT01.png', plot = p, width = 10, height = 2)\n",
    "summary(g$value)"
   ]
  },
  {
   "cell_type": "markdown",
   "metadata": {},
   "source": [
    "![g-AT01](g-AT01.png)"
   ]
  },
  {
   "cell_type": "markdown",
   "metadata": {},
   "source": [
    "#### Curva Item-Response"
   ]
  },
 {
   "cell_type": "code",
   "execution_count": null,
   "metadata": {
    "collapsed": false
   },
   "outputs": [],
   "source": [
    "data <- data.frame(x=seq(-5,5,.1))\n",
    "options(repr.plot.width=6, repr.plot.height=6)\n",
    "p <- ggplot(data, aes(x=x))\n",
    "p <- p + scale_x_continuous()\n",
    "p <- p + geom_hline(yintercept=0.5, linetype=\"dashed\")\n",
    "for (i in 1:length(d$value)) {\n",
    "  p <- p + geom_line(aes(y=logistic(x, a=d$value[i], b=a$value[i], c=g$value[i])))\n",
    "}\n",
    "p"
    "ggsave(filename = 'l-AT01.png', plot = p, width = 6, height = 6)\n",
   ]
  },
  {
   "cell_type": "markdown",
   "metadata": {},
   "source": [
    "![l-AT01](l-AT01.png)"
   ]
  },


  {
   "cell_type": "markdown",
   "metadata": {},
   "source": [
    "###  2015_Tera_F5_UA02_Bibite\n",
    "\n",
    "![Bibite](screenshot/tera15-bibite.png)"
   ]
  },
  {
   "cell_type": "code",
   "execution_count": null,
   "metadata": {
    "collapsed": false
   },
   "outputs": [],
   "source": [
    "q <- 'UA02'\n",
    "d <- quiz_difficulty %>% dplyr::filter(bebras_id == q) %>% select(value, category)\n",
    "a <- quiz_discrimination %>% dplyr::filter(bebras_id == q) %>% select(value, category)\n",
    "g <- quiz_guessing %>% dplyr::filter(bebras_id == q) %>% select(value, category)"
   ]
  },
  {
   "cell_type": "markdown",
   "metadata": {},
   "source": [
    "#### Difficoltà"
   ]
  },
  {
   "cell_type": "code",
   "execution_count": null,
   "metadata": {
    "collapsed": false
   },
   "outputs": [],
   "source": [
    "options(repr.plot.width=10, repr.plot.height=2)\n",
    "p <- ggplot(d, aes(x=value))\n",
    "p <- p + geom_histogram(binwidth=0.1*sd(d$value)) \n",
    "p <- p + aes(y=..density..)\n",
    "p <- p + facet_grid(. ~ category)\n",
    "ggsave(filename = 'd-UA02.png', plot = p, width = 10, height = 2)\n",
    "summary(d$value)"
   ]
  },
  {
   "cell_type": "markdown",
   "metadata": {},
   "source": [
    "![d-UA02](d-UA02.png)"
   ]
  },
  {
   "cell_type": "markdown",
   "metadata": {},
   "source": [
    "#### Differenziazione"
   ]
  },
  {
   "cell_type": "code",
   "execution_count": null,
   "metadata": {
    "collapsed": false
   },
   "outputs": [],
   "source": [
    "options(repr.plot.width=10, repr.plot.height=2)\n",
    "p <- ggplot(a, aes(x=value))\n",
    "p <- p + geom_histogram(binwidth=0.1*sd(a$value)) \n",
    "p <- p + aes(y=..density..)\n",
    "p <- p + facet_grid(. ~ category)\n",
    "ggsave(filename = 'a-UA02.png', plot = p, width = 10, height = 2)\n",
    "summary(a$value)"
   ]
  },
  {
   "cell_type": "markdown",
   "metadata": {},
   "source": [
    "![a-UA02](a-UA02.png)"
   ]
  },
  {
   "cell_type": "markdown",
   "metadata": {},
   "source": [
    "#### Guessing"
   ]
  },
  {
   "cell_type": "code",
   "execution_count": null,
   "metadata": {
    "collapsed": false
   },
   "outputs": [],
   "source": [
    "options(repr.plot.width=10, repr.plot.height=2)\n",
    "p <- ggplot(g, aes(x=value))\n",
    "p <- p + geom_histogram(binwidth=0.1*sd(g$value)) \n",
    "p <- p + aes(y=..density..)\n",
    "p <- p + facet_grid(. ~ category)\n",
    "ggsave(filename = 'g-UA02.png', plot = p, width = 10, height = 2)\n",
    "summary(g$value)"
   ]
  },
  {
   "cell_type": "markdown",
   "metadata": {},
   "source": [
    "![g-UA02](g-UA02.png)"
   ]
  },
  {
   "cell_type": "markdown",
   "metadata": {},
   "source": [
    "#### Curva Item-Response"
   ]
  },
 {
   "cell_type": "code",
   "execution_count": null,
   "metadata": {
    "collapsed": false
   },
   "outputs": [],
   "source": [
    "data <- data.frame(x=seq(-5,5,.1))\n",
    "options(repr.plot.width=6, repr.plot.height=6)\n",
    "p <- ggplot(data, aes(x=x))\n",
    "p <- p + scale_x_continuous()\n",
    "p <- p + geom_hline(yintercept=0.5, linetype=\"dashed\")\n",
    "for (i in 1:length(d$value)) {\n",
    "  p <- p + geom_line(aes(y=logistic(x, a=d$value[i], b=a$value[i], c=g$value[i])))\n",
    "}\n",
    "p"
    "ggsave(filename = 'l-UA02.png', plot = p, width = 6, height = 6)\n",
   ]
  },
  {
   "cell_type": "markdown",
   "metadata": {},
   "source": [
    "![l-UA02](l-UA02.png)"
   ]
  },


  {
   "cell_type": "markdown",
   "metadata": {},
   "source": [
    "###  2015_Peta_G1_CH01_Calcolatrice\n",
    "\n",
    "![Calcolatrice](screenshot/peta11-calcolatrice.png)"
   ]
  },
  {
   "cell_type": "code",
   "execution_count": null,
   "metadata": {
    "collapsed": false
   },
   "outputs": [],
   "source": [
    "q <- 'CH01'\n",
    "d <- quiz_difficulty %>% dplyr::filter(bebras_id == q) %>% select(value, category)\n",
    "a <- quiz_discrimination %>% dplyr::filter(bebras_id == q) %>% select(value, category)\n",
    "g <- quiz_guessing %>% dplyr::filter(bebras_id == q) %>% select(value, category)"
   ]
  },
  {
   "cell_type": "markdown",
   "metadata": {},
   "source": [
    "#### Difficoltà"
   ]
  },
  {
   "cell_type": "code",
   "execution_count": null,
   "metadata": {
    "collapsed": false
   },
   "outputs": [],
   "source": [
    "options(repr.plot.width=10, repr.plot.height=2)\n",
    "p <- ggplot(d, aes(x=value))\n",
    "p <- p + geom_histogram(binwidth=0.1*sd(d$value)) \n",
    "p <- p + aes(y=..density..)\n",
    "p <- p + facet_grid(. ~ category)\n",
    "ggsave(filename = 'd-CH01.png', plot = p, width = 10, height = 2)\n",
    "summary(d$value)"
   ]
  },
  {
   "cell_type": "markdown",
   "metadata": {},
   "source": [
    "![d-CH01](d-CH01.png)"
   ]
  },
  {
   "cell_type": "markdown",
   "metadata": {},
   "source": [
    "#### Differenziazione"
   ]
  },
  {
   "cell_type": "code",
   "execution_count": null,
   "metadata": {
    "collapsed": false
   },
   "outputs": [],
   "source": [
    "options(repr.plot.width=10, repr.plot.height=2)\n",
    "p <- ggplot(a, aes(x=value))\n",
    "p <- p + geom_histogram(binwidth=0.1*sd(a$value)) \n",
    "p <- p + aes(y=..density..)\n",
    "p <- p + facet_grid(. ~ category)\n",
    "ggsave(filename = 'a-CH01.png', plot = p, width = 10, height = 2)\n",
    "summary(a$value)"
   ]
  },
  {
   "cell_type": "markdown",
   "metadata": {},
   "source": [
    "![a-CH01](a-CH01.png)"
   ]
  },
  {
   "cell_type": "markdown",
   "metadata": {},
   "source": [
    "#### Guessing"
   ]
  },
  {
   "cell_type": "code",
   "execution_count": null,
   "metadata": {
    "collapsed": false
   },
   "outputs": [],
   "source": [
    "options(repr.plot.width=10, repr.plot.height=2)\n",
    "p <- ggplot(g, aes(x=value))\n",
    "p <- p + geom_histogram(binwidth=0.1*sd(g$value)) \n",
    "p <- p + aes(y=..density..)\n",
    "p <- p + facet_grid(. ~ category)\n",
    "ggsave(filename = 'g-CH01.png', plot = p, width = 10, height = 2)\n",
    "summary(g$value)"
   ]
  },
  {
   "cell_type": "markdown",
   "metadata": {},
   "source": [
    "![g-CH01](g-CH01.png)"
   ]
  },
  {
   "cell_type": "markdown",
   "metadata": {},
   "source": [
    "#### Curva Item-Response"
   ]
  },
 {
   "cell_type": "code",
   "execution_count": null,
   "metadata": {
    "collapsed": false
   },
   "outputs": [],
   "source": [
    "data <- data.frame(x=seq(-5,5,.1))\n",
    "options(repr.plot.width=6, repr.plot.height=6)\n",
    "p <- ggplot(data, aes(x=x))\n",
    "p <- p + scale_x_continuous()\n",
    "p <- p + geom_hline(yintercept=0.5, linetype=\"dashed\")\n",
    "for (i in 1:length(d$value)) {\n",
    "  p <- p + geom_line(aes(y=logistic(x, a=d$value[i], b=a$value[i], c=g$value[i])))\n",
    "}\n",
    "p"
    "ggsave(filename = 'l-CH01.png', plot = p, width = 6, height = 6)\n",
   ]
  },
  {
   "cell_type": "markdown",
   "metadata": {},
   "source": [
    "![l-CH01](l-CH01.png)"
   ]
  },


  {
   "cell_type": "markdown",
   "metadata": {},
   "source": [
    "###  2015_Peta_G2_DE05_Ciondoli\n",
    "\n",
    "![Ciondoli](screenshot/peta12-ciondoli.png)"
   ]
  },
  {
   "cell_type": "code",
   "execution_count": null,
   "metadata": {
    "collapsed": false
   },
   "outputs": [],
   "source": [
    "q <- 'DE05'\n",
    "d <- quiz_difficulty %>% dplyr::filter(bebras_id == q) %>% select(value, category)\n",
    "a <- quiz_discrimination %>% dplyr::filter(bebras_id == q) %>% select(value, category)\n",
    "g <- quiz_guessing %>% dplyr::filter(bebras_id == q) %>% select(value, category)"
   ]
  },
  {
   "cell_type": "markdown",
   "metadata": {},
   "source": [
    "#### Difficoltà"
   ]
  },
  {
   "cell_type": "code",
   "execution_count": null,
   "metadata": {
    "collapsed": false
   },
   "outputs": [],
   "source": [
    "options(repr.plot.width=10, repr.plot.height=2)\n",
    "p <- ggplot(d, aes(x=value))\n",
    "p <- p + geom_histogram(binwidth=0.1*sd(d$value)) \n",
    "p <- p + aes(y=..density..)\n",
    "p <- p + facet_grid(. ~ category)\n",
    "ggsave(filename = 'd-DE05.png', plot = p, width = 10, height = 2)\n",
    "summary(d$value)"
   ]
  },
  {
   "cell_type": "markdown",
   "metadata": {},
   "source": [
    "![d-DE05](d-DE05.png)"
   ]
  },
  {
   "cell_type": "markdown",
   "metadata": {},
   "source": [
    "#### Differenziazione"
   ]
  },
  {
   "cell_type": "code",
   "execution_count": null,
   "metadata": {
    "collapsed": false
   },
   "outputs": [],
   "source": [
    "options(repr.plot.width=10, repr.plot.height=2)\n",
    "p <- ggplot(a, aes(x=value))\n",
    "p <- p + geom_histogram(binwidth=0.1*sd(a$value)) \n",
    "p <- p + aes(y=..density..)\n",
    "p <- p + facet_grid(. ~ category)\n",
    "ggsave(filename = 'a-DE05.png', plot = p, width = 10, height = 2)\n",
    "summary(a$value)"
   ]
  },
  {
   "cell_type": "markdown",
   "metadata": {},
   "source": [
    "![a-DE05](a-DE05.png)"
   ]
  },
  {
   "cell_type": "markdown",
   "metadata": {},
   "source": [
    "#### Guessing"
   ]
  },
  {
   "cell_type": "code",
   "execution_count": null,
   "metadata": {
    "collapsed": false
   },
   "outputs": [],
   "source": [
    "options(repr.plot.width=10, repr.plot.height=2)\n",
    "p <- ggplot(g, aes(x=value))\n",
    "p <- p + geom_histogram(binwidth=0.1*sd(g$value)) \n",
    "p <- p + aes(y=..density..)\n",
    "p <- p + facet_grid(. ~ category)\n",
    "ggsave(filename = 'g-DE05.png', plot = p, width = 10, height = 2)\n",
    "summary(g$value)"
   ]
  },
  {
   "cell_type": "markdown",
   "metadata": {},
   "source": [
    "![g-DE05](g-DE05.png)"
   ]
  },
  {
   "cell_type": "markdown",
   "metadata": {},
   "source": [
    "#### Curva Item-Response"
   ]
  },
 {
   "cell_type": "code",
   "execution_count": null,
   "metadata": {
    "collapsed": false
   },
   "outputs": [],
   "source": [
    "data <- data.frame(x=seq(-5,5,.1))\n",
    "options(repr.plot.width=6, repr.plot.height=6)\n",
    "p <- ggplot(data, aes(x=x))\n",
    "p <- p + scale_x_continuous()\n",
    "p <- p + geom_hline(yintercept=0.5, linetype=\"dashed\")\n",
    "for (i in 1:length(d$value)) {\n",
    "  p <- p + geom_line(aes(y=logistic(x, a=d$value[i], b=a$value[i], c=g$value[i])))\n",
    "}\n",
    "p"
    "ggsave(filename = 'l-DE05.png', plot = p, width = 6, height = 6)\n",
   ]
  },
  {
   "cell_type": "markdown",
   "metadata": {},
   "source": [
    "![l-DE05](l-DE05.png)"
   ]
  },


  {
   "cell_type": "markdown",
   "metadata": {},
   "source": [
    "###  2015_Peta_G3_IT05_Sassolini\n",
    "\n",
    "![Sassolini](screenshot/peta13-sassolini.png)"
   ]
  },
  {
   "cell_type": "code",
   "execution_count": null,
   "metadata": {
    "collapsed": false
   },
   "outputs": [],
   "source": [
    "q <- 'IT05'\n",
    "d <- quiz_difficulty %>% dplyr::filter(bebras_id == q) %>% select(value, category)\n",
    "a <- quiz_discrimination %>% dplyr::filter(bebras_id == q) %>% select(value, category)\n",
    "g <- quiz_guessing %>% dplyr::filter(bebras_id == q) %>% select(value, category)"
   ]
  },
  {
   "cell_type": "markdown",
   "metadata": {},
   "source": [
    "#### Difficoltà"
   ]
  },
  {
   "cell_type": "code",
   "execution_count": null,
   "metadata": {
    "collapsed": false
   },
   "outputs": [],
   "source": [
    "options(repr.plot.width=10, repr.plot.height=2)\n",
    "p <- ggplot(d, aes(x=value))\n",
    "p <- p + geom_histogram(binwidth=0.1*sd(d$value)) \n",
    "p <- p + aes(y=..density..)\n",
    "p <- p + facet_grid(. ~ category)\n",
    "ggsave(filename = 'd-IT05.png', plot = p, width = 10, height = 2)\n",
    "summary(d$value)"
   ]
  },
  {
   "cell_type": "markdown",
   "metadata": {},
   "source": [
    "![d-IT05](d-IT05.png)"
   ]
  },
  {
   "cell_type": "markdown",
   "metadata": {},
   "source": [
    "#### Differenziazione"
   ]
  },
  {
   "cell_type": "code",
   "execution_count": null,
   "metadata": {
    "collapsed": false
   },
   "outputs": [],
   "source": [
    "options(repr.plot.width=10, repr.plot.height=2)\n",
    "p <- ggplot(a, aes(x=value))\n",
    "p <- p + geom_histogram(binwidth=0.1*sd(a$value)) \n",
    "p <- p + aes(y=..density..)\n",
    "p <- p + facet_grid(. ~ category)\n",
    "ggsave(filename = 'a-IT05.png', plot = p, width = 10, height = 2)\n",
    "summary(a$value)"
   ]
  },
  {
   "cell_type": "markdown",
   "metadata": {},
   "source": [
    "![a-IT05](a-IT05.png)"
   ]
  },
  {
   "cell_type": "markdown",
   "metadata": {},
   "source": [
    "#### Guessing"
   ]
  },
  {
   "cell_type": "code",
   "execution_count": null,
   "metadata": {
    "collapsed": false
   },
   "outputs": [],
   "source": [
    "options(repr.plot.width=10, repr.plot.height=2)\n",
    "p <- ggplot(g, aes(x=value))\n",
    "p <- p + geom_histogram(binwidth=0.1*sd(g$value)) \n",
    "p <- p + aes(y=..density..)\n",
    "p <- p + facet_grid(. ~ category)\n",
    "ggsave(filename = 'g-IT05.png', plot = p, width = 10, height = 2)\n",
    "summary(g$value)"
   ]
  },
  {
   "cell_type": "markdown",
   "metadata": {},
   "source": [
    "![g-IT05](g-IT05.png)"
   ]
  },
  {
   "cell_type": "markdown",
   "metadata": {},
   "source": [
    "#### Curva Item-Response"
   ]
  },
 {
   "cell_type": "code",
   "execution_count": null,
   "metadata": {
    "collapsed": false
   },
   "outputs": [],
   "source": [
    "data <- data.frame(x=seq(-5,5,.1))\n",
    "options(repr.plot.width=6, repr.plot.height=6)\n",
    "p <- ggplot(data, aes(x=x))\n",
    "p <- p + scale_x_continuous()\n",
    "p <- p + geom_hline(yintercept=0.5, linetype=\"dashed\")\n",
    "for (i in 1:length(d$value)) {\n",
    "  p <- p + geom_line(aes(y=logistic(x, a=d$value[i], b=a$value[i], c=g$value[i])))\n",
    "}\n",
    "p"
    "ggsave(filename = 'l-IT05.png', plot = p, width = 6, height = 6)\n",
   ]
  },
  {
   "cell_type": "markdown",
   "metadata": {},
   "source": [
    "![l-IT05](l-IT05.png)"
   ]
  },


  {
   "cell_type": "markdown",
   "metadata": {},
   "source": [
    "###  2015_Peta_G4_JP05_Agenzia\n",
    "\n",
    "![Agenzia](screenshot/peta14-agenzia.png)"
   ]
  },
  {
   "cell_type": "code",
   "execution_count": null,
   "metadata": {
    "collapsed": false
   },
   "outputs": [],
   "source": [
    "q <- 'JP05'\n",
    "d <- quiz_difficulty %>% dplyr::filter(bebras_id == q) %>% select(value, category)\n",
    "a <- quiz_discrimination %>% dplyr::filter(bebras_id == q) %>% select(value, category)\n",
    "g <- quiz_guessing %>% dplyr::filter(bebras_id == q) %>% select(value, category)"
   ]
  },
  {
   "cell_type": "markdown",
   "metadata": {},
   "source": [
    "#### Difficoltà"
   ]
  },
  {
   "cell_type": "code",
   "execution_count": null,
   "metadata": {
    "collapsed": false
   },
   "outputs": [],
   "source": [
    "options(repr.plot.width=10, repr.plot.height=2)\n",
    "p <- ggplot(d, aes(x=value))\n",
    "p <- p + geom_histogram(binwidth=0.1*sd(d$value)) \n",
    "p <- p + aes(y=..density..)\n",
    "p <- p + facet_grid(. ~ category)\n",
    "ggsave(filename = 'd-JP05.png', plot = p, width = 10, height = 2)\n",
    "summary(d$value)"
   ]
  },
  {
   "cell_type": "markdown",
   "metadata": {},
   "source": [
    "![d-JP05](d-JP05.png)"
   ]
  },
  {
   "cell_type": "markdown",
   "metadata": {},
   "source": [
    "#### Differenziazione"
   ]
  },
  {
   "cell_type": "code",
   "execution_count": null,
   "metadata": {
    "collapsed": false
   },
   "outputs": [],
   "source": [
    "options(repr.plot.width=10, repr.plot.height=2)\n",
    "p <- ggplot(a, aes(x=value))\n",
    "p <- p + geom_histogram(binwidth=0.1*sd(a$value)) \n",
    "p <- p + aes(y=..density..)\n",
    "p <- p + facet_grid(. ~ category)\n",
    "ggsave(filename = 'a-JP05.png', plot = p, width = 10, height = 2)\n",
    "summary(a$value)"
   ]
  },
  {
   "cell_type": "markdown",
   "metadata": {},
   "source": [
    "![a-JP05](a-JP05.png)"
   ]
  },
  {
   "cell_type": "markdown",
   "metadata": {},
   "source": [
    "#### Guessing"
   ]
  },
  {
   "cell_type": "code",
   "execution_count": null,
   "metadata": {
    "collapsed": false
   },
   "outputs": [],
   "source": [
    "options(repr.plot.width=10, repr.plot.height=2)\n",
    "p <- ggplot(g, aes(x=value))\n",
    "p <- p + geom_histogram(binwidth=0.1*sd(g$value)) \n",
    "p <- p + aes(y=..density..)\n",
    "p <- p + facet_grid(. ~ category)\n",
    "ggsave(filename = 'g-JP05.png', plot = p, width = 10, height = 2)\n",
    "summary(g$value)"
   ]
  },
  {
   "cell_type": "markdown",
   "metadata": {},
   "source": [
    "![g-JP05](g-JP05.png)"
   ]
  },
  {
   "cell_type": "markdown",
   "metadata": {},
   "source": [
    "#### Curva Item-Response"
   ]
  },
 {
   "cell_type": "code",
   "execution_count": null,
   "metadata": {
    "collapsed": false
   },
   "outputs": [],
   "source": [
    "data <- data.frame(x=seq(-5,5,.1))\n",
    "options(repr.plot.width=6, repr.plot.height=6)\n",
    "p <- ggplot(data, aes(x=x))\n",
    "p <- p + scale_x_continuous()\n",
    "p <- p + geom_hline(yintercept=0.5, linetype=\"dashed\")\n",
    "for (i in 1:length(d$value)) {\n",
    "  p <- p + geom_line(aes(y=logistic(x, a=d$value[i], b=a$value[i], c=g$value[i])))\n",
    "}\n",
    "p"
    "ggsave(filename = 'l-JP05.png', plot = p, width = 6, height = 6)\n",
   ]
  },
  {
   "cell_type": "markdown",
   "metadata": {},
   "source": [
    "![l-JP05](l-JP05.png)"
   ]
  },


  {
   "cell_type": "markdown",
   "metadata": {},
   "source": [
    "###  2015_Peta_G5_CA06_Carte\n",
    "\n",
    "![Carte](screenshot/peta15-carte.png)"
   ]
  },
  {
   "cell_type": "code",
   "execution_count": null,
   "metadata": {
    "collapsed": false
   },
   "outputs": [],
   "source": [
    "q <- 'CA06'\n",
    "d <- quiz_difficulty %>% dplyr::filter(bebras_id == q) %>% select(value, category)\n",
    "a <- quiz_discrimination %>% dplyr::filter(bebras_id == q) %>% select(value, category)\n",
    "g <- quiz_guessing %>% dplyr::filter(bebras_id == q) %>% select(value, category)"
   ]
  },
  {
   "cell_type": "markdown",
   "metadata": {},
   "source": [
    "#### Difficoltà"
   ]
  },
  {
   "cell_type": "code",
   "execution_count": null,
   "metadata": {
    "collapsed": false
   },
   "outputs": [],
   "source": [
    "options(repr.plot.width=10, repr.plot.height=2)\n",
    "p <- ggplot(d, aes(x=value))\n",
    "p <- p + geom_histogram(binwidth=0.1*sd(d$value)) \n",
    "p <- p + aes(y=..density..)\n",
    "p <- p + facet_grid(. ~ category)\n",
    "ggsave(filename = 'd-CA06.png', plot = p, width = 10, height = 2)\n",
    "summary(d$value)"
   ]
  },
  {
   "cell_type": "markdown",
   "metadata": {},
   "source": [
    "![d-CA06](d-CA06.png)"
   ]
  },
  {
   "cell_type": "markdown",
   "metadata": {},
   "source": [
    "#### Differenziazione"
   ]
  },
  {
   "cell_type": "code",
   "execution_count": null,
   "metadata": {
    "collapsed": false
   },
   "outputs": [],
   "source": [
    "options(repr.plot.width=10, repr.plot.height=2)\n",
    "p <- ggplot(a, aes(x=value))\n",
    "p <- p + geom_histogram(binwidth=0.1*sd(a$value)) \n",
    "p <- p + aes(y=..density..)\n",
    "p <- p + facet_grid(. ~ category)\n",
    "ggsave(filename = 'a-CA06.png', plot = p, width = 10, height = 2)\n",
    "summary(a$value)"
   ]
  },
  {
   "cell_type": "markdown",
   "metadata": {},
   "source": [
    "![a-CA06](a-CA06.png)"
   ]
  },
  {
   "cell_type": "markdown",
   "metadata": {},
   "source": [
    "#### Guessing"
   ]
  },
  {
   "cell_type": "code",
   "execution_count": null,
   "metadata": {
    "collapsed": false
   },
   "outputs": [],
   "source": [
    "options(repr.plot.width=10, repr.plot.height=2)\n",
    "p <- ggplot(g, aes(x=value))\n",
    "p <- p + geom_histogram(binwidth=0.1*sd(g$value)) \n",
    "p <- p + aes(y=..density..)\n",
    "p <- p + facet_grid(. ~ category)\n",
    "ggsave(filename = 'g-CA06.png', plot = p, width = 10, height = 2)\n",
    "summary(g$value)"
   ]
  },
  {
   "cell_type": "markdown",
   "metadata": {},
   "source": [
    "![g-CA06](g-CA06.png)"
   ]
  },
  {
   "cell_type": "markdown",
   "metadata": {},
   "source": [
    "#### Curva Item-Response"
   ]
  },
 {
   "cell_type": "code",
   "execution_count": null,
   "metadata": {
    "collapsed": false
   },
   "outputs": [],
   "source": [
    "data <- data.frame(x=seq(-5,5,.1))\n",
    "options(repr.plot.width=6, repr.plot.height=6)\n",
    "p <- ggplot(data, aes(x=x))\n",
    "p <- p + scale_x_continuous()\n",
    "p <- p + geom_hline(yintercept=0.5, linetype=\"dashed\")\n",
    "for (i in 1:length(d$value)) {\n",
    "  p <- p + geom_line(aes(y=logistic(x, a=d$value[i], b=a$value[i], c=g$value[i])))\n",
    "}\n",
    "p"
    "ggsave(filename = 'l-CA06.png', plot = p, width = 6, height = 6)\n",
   ]
  },
  {
   "cell_type": "markdown",
   "metadata": {},
   "source": [
    "![l-CA06](l-CA06.png)"
   ]
  },


 {
   "cell_type": "code",
   "execution_count": null,
   "metadata": {
    "collapsed": true
   },
   "outputs": [],
   "source": []
  }
 ],
 "metadata": {
  "kernelspec": {
   "display_name": "R",
   "language": "R",
   "name": "ir"
  },
  "language_info": {
   "codemirror_mode": "r",
   "file_extension": ".r",
   "mimetype": "text/x-r-source",
   "name": "R",
   "pygments_lexer": "r",
   "version": "3.2.2"
  }
 },
 "nbformat": 4,
 "nbformat_minor": 0
}
